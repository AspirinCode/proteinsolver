{
 "cells": [
  {
   "cell_type": "markdown",
   "metadata": {},
   "source": [
    "# Imports"
   ]
  },
  {
   "cell_type": "code",
   "execution_count": 1,
   "metadata": {},
   "outputs": [],
   "source": [
    "import concurrent.futures\n",
    "import io\n",
    "import os\n",
    "import re\n",
    "import shlex\n",
    "import socket\n",
    "import subprocess\n",
    "from pathlib import Path\n",
    "\n",
    "import numpy as np\n",
    "from tqdm.notebook import tqdm\n",
    "\n",
    "import pandas as pd\n",
    "import psutil"
   ]
  },
  {
   "cell_type": "markdown",
   "metadata": {},
   "source": [
    "# Parameters"
   ]
  },
  {
   "cell_type": "code",
   "execution_count": 2,
   "metadata": {},
   "outputs": [],
   "source": [
    "NOTEBOOK_NAME = \"generate_difficult_sudokus\""
   ]
  },
  {
   "cell_type": "code",
   "execution_count": 3,
   "metadata": {},
   "outputs": [
    {
     "data": {
      "text/plain": [
       "PosixPath('/home/kimlab1/strokach/workspace/proteinsolver/notebooks/generate_difficult_sudokus')"
      ]
     },
     "execution_count": 3,
     "metadata": {},
     "output_type": "execute_result"
    }
   ],
   "source": [
    "NOTEBOOK_PATH = Path(NOTEBOOK_NAME).resolve()\n",
    "NOTEBOOK_PATH.mkdir(exist_ok=True)\n",
    "NOTEBOOK_PATH"
   ]
  },
  {
   "cell_type": "code",
   "execution_count": 4,
   "metadata": {},
   "outputs": [
    {
     "data": {
      "text/plain": [
       "6"
      ]
     },
     "execution_count": 4,
     "metadata": {},
     "output_type": "execute_result"
    }
   ],
   "source": [
    "hostname = socket.gethostname()\n",
    "\n",
    "if hostname == \"strokach-cloudtop\":\n",
    "    NPROC = 16\n",
    "if \"SLURM_JOB_CPUS_PER_NODE\" in os.environ:\n",
    "    NRPOC = int(os.environ[\"SLURM_JOB_CPUS_PER_NODE\"])\n",
    "else:\n",
    "    NPROC = psutil.cpu_count(logical=False)\n",
    "    \n",
    "NPROC"
   ]
  },
  {
   "cell_type": "code",
   "execution_count": 5,
   "metadata": {},
   "outputs": [
    {
     "data": {
      "text/plain": [
       "0"
      ]
     },
     "execution_count": 5,
     "metadata": {},
     "output_type": "execute_result"
    }
   ],
   "source": [
    "START_BATCH_IDX = 0\n",
    "offset = int(os.getenv(\"SLURM_ARRAY_TASK_ID\", 0)) * 1000\n",
    "START_BATCH_IDX += offset\n",
    "START_BATCH_IDX"
   ]
  },
  {
   "cell_type": "markdown",
   "metadata": {},
   "source": [
    "# Functions"
   ]
  },
  {
   "cell_type": "code",
   "execution_count": 6,
   "metadata": {},
   "outputs": [],
   "source": [
    "def sudoku_is_solved(values) -> bool:\n",
    "    ref = np.arange(1, 10)\n",
    "    mat = values.reshape(9, 9)\n",
    "    for i in range(3):\n",
    "        for j in range(3):\n",
    "            v = np.sort(mat[i * 3 : (i + 1) * 3, j * 3 : (j + 1) * 3], axis=None)\n",
    "            if not (v == ref).all():\n",
    "                return False\n",
    "    for i in range(9):\n",
    "        v = np.sort(mat[i, :])\n",
    "        if not (v == ref).all():\n",
    "            return False\n",
    "    for j in range(9):\n",
    "        v = np.sort(mat[:, j])\n",
    "        if not (v == ref).all():\n",
    "            return False\n",
    "    return True\n",
    "\n",
    "\n",
    "def decode_sugen_output(output):\n",
    "    grid = np.empty((9, 9), dtype=np.int)\n",
    "    for i, row in enumerate(output.split(\"\\n\")[:9]):\n",
    "        for j, value in enumerate(row.split(\" \")):\n",
    "            if value == \"_\":\n",
    "                grid[i, j] = 0\n",
    "            else:\n",
    "                grid[i, j] = int(value)\n",
    "\n",
    "    info_string = output.strip().split(\"\\n\")[-1]\n",
    "    try:\n",
    "        difficulty = int(\n",
    "            re.findall(\"Difficulty: (\\d+)\", info_string)[0]\n",
    "        )\n",
    "    except IndexError:\n",
    "        difficulty = None\n",
    "    return grid, difficulty\n",
    "\n",
    "\n",
    "def generate_sudoku():\n",
    "    sc = \"sugen -i 5000 -t 10000 generate\"\n",
    "    ps = subprocess.run(shlex.split(sc), stdout=subprocess.PIPE)\n",
    "\n",
    "    sc2 = \"sugen solve\"\n",
    "    ps2 = subprocess.run(shlex.split(sc2), input=ps.stdout, stdout=subprocess.PIPE)\n",
    "\n",
    "    puzzle, _ = decode_sugen_output(ps.stdout.decode())\n",
    "    solution, difficulty = decode_sugen_output(ps2.stdout.decode())\n",
    "\n",
    "    assert sudoku_is_solved(solution)\n",
    "    return puzzle, solution, difficulty"
   ]
  },
  {
   "cell_type": "code",
   "execution_count": 7,
   "metadata": {},
   "outputs": [
    {
     "data": {
      "text/plain": [
       "(array([[2, 0, 0, 5, 0, 1, 0, 0, 0],\n",
       "        [0, 0, 0, 0, 3, 8, 0, 0, 0],\n",
       "        [0, 1, 5, 0, 0, 0, 8, 0, 2],\n",
       "        [4, 0, 0, 0, 0, 9, 1, 6, 0],\n",
       "        [0, 0, 3, 0, 0, 0, 2, 0, 0],\n",
       "        [0, 7, 6, 1, 0, 0, 0, 0, 4],\n",
       "        [5, 0, 7, 0, 0, 0, 6, 8, 0],\n",
       "        [0, 0, 0, 8, 7, 0, 0, 0, 0],\n",
       "        [0, 0, 0, 9, 0, 6, 0, 0, 1]]), array([[2, 3, 8, 5, 6, 1, 4, 9, 7],\n",
       "        [7, 4, 9, 2, 3, 8, 5, 1, 6],\n",
       "        [6, 1, 5, 4, 9, 7, 8, 3, 2],\n",
       "        [4, 5, 2, 7, 8, 9, 1, 6, 3],\n",
       "        [1, 9, 3, 6, 4, 5, 2, 7, 8],\n",
       "        [8, 7, 6, 1, 2, 3, 9, 5, 4],\n",
       "        [5, 2, 7, 3, 1, 4, 6, 8, 9],\n",
       "        [9, 6, 1, 8, 7, 2, 3, 4, 5],\n",
       "        [3, 8, 4, 9, 5, 6, 7, 2, 1]]), 653)"
      ]
     },
     "execution_count": 7,
     "metadata": {},
     "output_type": "execute_result"
    }
   ],
   "source": [
    "generate_sudoku()"
   ]
  },
  {
   "cell_type": "markdown",
   "metadata": {},
   "source": [
    "# Generate sudokus"
   ]
  },
  {
   "cell_type": "code",
   "execution_count": 8,
   "metadata": {},
   "outputs": [],
   "source": [
    "def get_output_file(file_index):\n",
    "    return NOTEBOOK_PATH.joinpath(f\"sudoku_{file_index}.csv\")"
   ]
  },
  {
   "cell_type": "code",
   "execution_count": 9,
   "metadata": {},
   "outputs": [
    {
     "data": {
      "text/plain": [
       "0"
      ]
     },
     "execution_count": 9,
     "metadata": {},
     "output_type": "execute_result"
    }
   ],
   "source": [
    "file_index = START_BATCH_IDX\n",
    "\n",
    "while get_output_file(file_index).is_file():\n",
    "    file_index += 1\n",
    "    \n",
    "file_index"
   ]
  },
  {
   "cell_type": "code",
   "execution_count": 10,
   "metadata": {
    "tags": [
     "parameters"
    ]
   },
   "outputs": [
    {
     "data": {
      "text/plain": [
       "6000"
      ]
     },
     "execution_count": 10,
     "metadata": {},
     "output_type": "execute_result"
    }
   ],
   "source": [
    "batch_size = 1_000 * NPROC\n",
    "\n",
    "batch_size"
   ]
  },
  {
   "cell_type": "code",
   "execution_count": null,
   "metadata": {
    "tags": [
     "parameters"
    ]
   },
   "outputs": [],
   "source": [
    "while True:\n",
    "    results = []\n",
    "    with concurrent.futures.ThreadPoolExecutor(NPROC) as pool:\n",
    "        futures = [pool.submit(generate_sudoku) for _ in range(batch_size)]\n",
    "        for future in tqdm(concurrent.futures.as_completed(futures), total=len(futures)):\n",
    "            puzzle, solution, difficulty = future.result()\n",
    "            puzzle_str = \"\".join([str(v) for v in puzzle.reshape(-1)])\n",
    "            solution_str = \"\".join([str(v) for v in solution.reshape(-1)])\n",
    "            results.append((puzzle_str, solution_str, difficulty))\n",
    "    df = pd.DataFrame(results, columns=[\"puzzle\", \"solution\", \"difficulty\"])\n",
    "    output_file = get_output_file(file_index)\n",
    "    print(f\"Writing results to file: '{output_file}'.\")\n",
    "    df.to_csv(output_file, sep=\",\", index=False)\n",
    "    file_index += 1\n",
    "    while get_output_file(file_index).is_file():\n",
    "        file_index += 1"
   ]
  },
  {
   "cell_type": "code",
   "execution_count": null,
   "metadata": {},
   "outputs": [],
   "source": []
  }
 ],
 "metadata": {
  "kernelspec": {
   "display_name": "Python 3",
   "language": "python",
   "name": "python3"
  },
  "language_info": {
   "codemirror_mode": {
    "name": "ipython",
    "version": 3
   },
   "file_extension": ".py",
   "mimetype": "text/x-python",
   "name": "python",
   "nbconvert_exporter": "python",
   "pygments_lexer": "ipython3",
   "version": "3.7.3"
  }
 },
 "nbformat": 4,
 "nbformat_minor": 4
}
