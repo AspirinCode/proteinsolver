{
 "cells": [
  {
   "cell_type": "markdown",
   "metadata": {},
   "source": [
    "# Imports"
   ]
  },
  {
   "cell_type": "code",
   "execution_count": 1,
   "metadata": {},
   "outputs": [],
   "source": [
    "import concurrent.futures\n",
    "import io\n",
    "import os\n",
    "import re\n",
    "import shlex\n",
    "import socket\n",
    "import subprocess\n",
    "from pathlib import Path\n",
    "\n",
    "import numpy as np\n",
    "import tqdm\n",
    "\n",
    "import pandas as pd\n",
    "import psutil"
   ]
  },
  {
   "cell_type": "markdown",
   "metadata": {},
   "source": [
    "# Parameters"
   ]
  },
  {
   "cell_type": "code",
   "execution_count": 3,
   "metadata": {},
   "outputs": [],
   "source": [
    "NOTEBOOK_NAME = \"generate_difficult_sudokus\""
   ]
  },
  {
   "cell_type": "code",
   "execution_count": 4,
   "metadata": {},
   "outputs": [
    {
     "data": {
      "text/plain": [
       "PosixPath('/data/workspace/proteinsolver/notebooks/generate_difficult_sudokus')"
      ]
     },
     "execution_count": 4,
     "metadata": {},
     "output_type": "execute_result"
    }
   ],
   "source": [
    "NOTEBOOK_PATH = Path(NOTEBOOK_NAME).resolve()\n",
    "NOTEBOOK_PATH.mkdir(exist_ok=True)\n",
    "NOTEBOOK_PATH"
   ]
  },
  {
   "cell_type": "code",
   "execution_count": 5,
   "metadata": {},
   "outputs": [],
   "source": [
    "hostname = socket.gethostname()\n",
    "\n",
    "if hostname == \"strokach-cloudtop\":\n",
    "    NPROC = 16\n",
    "elif hostname.startswith(\"nia\") or hostname.startswith(\"beluga\"):\n",
    "    NPROC = 40\n",
    "else:\n",
    "    NPROC = psutil.cpu_count(logical=True)  # For some reason we see only 20 cpus on beluga "
   ]
  },
  {
   "cell_type": "code",
   "execution_count": null,
   "metadata": {},
   "outputs": [],
   "source": [
    "START_BATCH_IDX = int(os.getenv(\"START_BATCH_IDX\", 10_000))\n",
    "offset = int(os.getenv(\"SLURM_ARRAY_TASK_ID\"), 0) * 10 + 5\n",
    "START_BATCH_IDX += offset\n",
    "START_BATCH_IDX"
   ]
  },
  {
   "cell_type": "markdown",
   "metadata": {},
   "source": [
    "# Functions"
   ]
  },
  {
   "cell_type": "code",
   "execution_count": 6,
   "metadata": {},
   "outputs": [],
   "source": [
    "def sudoku_is_solved(values) -> bool:\n",
    "    ref = np.arange(1, 10)\n",
    "    mat = values.reshape(9, 9)\n",
    "    for i in range(3):\n",
    "        for j in range(3):\n",
    "            v = np.sort(mat[i * 3 : (i + 1) * 3, j * 3 : (j + 1) * 3], axis=None)\n",
    "            if not (v == ref).all():\n",
    "                return False\n",
    "    for i in range(9):\n",
    "        v = np.sort(mat[i, :])\n",
    "        if not (v == ref).all():\n",
    "            return False\n",
    "    for j in range(9):\n",
    "        v = np.sort(mat[:, j])\n",
    "        if not (v == ref).all():\n",
    "            return False\n",
    "    return True\n",
    "\n",
    "\n",
    "def decode_sugen_output(output):\n",
    "    grid = np.empty((9, 9), dtype=np.int)\n",
    "    for i, row in enumerate(output.split(\"\\n\")[:9]):\n",
    "        for j, value in enumerate(row.split(\" \")):\n",
    "            if value == \"_\":\n",
    "                grid[i, j] = 0\n",
    "            else:\n",
    "                grid[i, j] = int(value)\n",
    "\n",
    "    info_string = output.strip().split(\"\\n\")[-1]\n",
    "    try:\n",
    "        difficulty = int(\n",
    "            re.findall(\"Difficulty: (\\d+)\", info_string)[0]\n",
    "        )\n",
    "    except IndexError:\n",
    "        difficulty = None\n",
    "    return grid, difficulty\n",
    "\n",
    "\n",
    "def generate_sudoku():\n",
    "    sc = \"sugen -i 5000 -t 10000 generate\"\n",
    "    ps = subprocess.run(shlex.split(sc), stdout=subprocess.PIPE)\n",
    "\n",
    "    sc2 = \"sugen solve\"\n",
    "    ps2 = subprocess.run(shlex.split(sc2), input=ps.stdout, stdout=subprocess.PIPE)\n",
    "\n",
    "    puzzle, _ = decode_sugen_output(ps.stdout.decode())\n",
    "    solution, difficulty = decode_sugen_output(ps2.stdout.decode())\n",
    "\n",
    "    assert sudoku_is_solved(solution)\n",
    "    return puzzle, solution, difficulty"
   ]
  },
  {
   "cell_type": "code",
   "execution_count": 7,
   "metadata": {},
   "outputs": [
    {
     "data": {
      "text/plain": [
       "(array([[0, 0, 1, 0, 4, 0, 2, 0, 0],\n",
       "        [0, 2, 0, 0, 0, 3, 0, 8, 0],\n",
       "        [4, 0, 3, 0, 0, 0, 0, 0, 0],\n",
       "        [0, 7, 6, 8, 0, 5, 0, 4, 0],\n",
       "        [3, 0, 0, 4, 0, 1, 0, 0, 7],\n",
       "        [0, 4, 0, 7, 0, 2, 6, 3, 0],\n",
       "        [0, 0, 0, 0, 0, 0, 7, 0, 5],\n",
       "        [0, 6, 0, 3, 0, 0, 0, 9, 0],\n",
       "        [0, 0, 8, 0, 2, 0, 3, 0, 0]]), array([[8, 5, 1, 9, 4, 6, 2, 7, 3],\n",
       "        [6, 2, 7, 1, 5, 3, 4, 8, 9],\n",
       "        [4, 9, 3, 2, 7, 8, 1, 5, 6],\n",
       "        [2, 7, 6, 8, 3, 5, 9, 4, 1],\n",
       "        [3, 8, 9, 4, 6, 1, 5, 2, 7],\n",
       "        [1, 4, 5, 7, 9, 2, 6, 3, 8],\n",
       "        [9, 3, 2, 6, 8, 4, 7, 1, 5],\n",
       "        [5, 6, 4, 3, 1, 7, 8, 9, 2],\n",
       "        [7, 1, 8, 5, 2, 9, 3, 6, 4]]), 951)"
      ]
     },
     "execution_count": 7,
     "metadata": {},
     "output_type": "execute_result"
    }
   ],
   "source": [
    "generate_sudoku()"
   ]
  },
  {
   "cell_type": "markdown",
   "metadata": {},
   "source": [
    "# Generate sudokus"
   ]
  },
  {
   "cell_type": "code",
   "execution_count": null,
   "metadata": {},
   "outputs": [
    {
     "name": "stdout",
     "output_type": "stream",
     "text": [
      "Generating batch 0...\n"
     ]
    },
    {
     "data": {
      "application/vnd.jupyter.widget-view+json": {
       "model_id": "e2181c19b5f74855911be9f53a697fb3",
       "version_major": 2,
       "version_minor": 0
      },
      "text/plain": [
       "HBox(children=(IntProgress(value=0, max=100000), HTML(value='')))"
      ]
     },
     "metadata": {},
     "output_type": "display_data"
    },
    {
     "name": "stdout",
     "output_type": "stream",
     "text": [
      "\n",
      "Generating batch 1...\n"
     ]
    },
    {
     "data": {
      "application/vnd.jupyter.widget-view+json": {
       "model_id": "51c0988ae5584a5099a6269b24ef43c9",
       "version_major": 2,
       "version_minor": 0
      },
      "text/plain": [
       "HBox(children=(IntProgress(value=0, max=100000), HTML(value='')))"
      ]
     },
     "metadata": {},
     "output_type": "display_data"
    }
   ],
   "source": [
    "for batch_idx in range(START_BATCH_IDX, START_BATCH_IDX + 1_000_000):\n",
    "    print(f\"Generating batch {batch_idx}...\")\n",
    "    results = []\n",
    "    with concurrent.futures.ThreadPoolExecutor(NPROC) as pool:\n",
    "        futures = [pool.submit(generate_sudoku) for _ in range(100_000)]\n",
    "        for future in tqdm.tqdm_notebook(\n",
    "            concurrent.futures.as_completed(futures), total=len(futures)\n",
    "        ):\n",
    "            puzzle, solution, difficulty = future.result()\n",
    "            puzzle_str = \"\".join([str(v) for v in puzzle.reshape(-1)])\n",
    "            solution_str = \"\".join([str(v) for v in solution.reshape(-1)])\n",
    "            results.append((puzzle_str, solution_str, difficulty))\n",
    "    df = pd.DataFrame(results, columns=[\"puzzle\", \"solution\", \"difficulty\"])\n",
    "    df.to_csv(NOTEBOOK_PATH.joinpath(f\"sodoku_{batch_idx}.csv\"), sep=\",\", index=False)"
   ]
  },
  {
   "cell_type": "code",
   "execution_count": null,
   "metadata": {},
   "outputs": [],
   "source": []
  }
 ],
 "metadata": {
  "kernelspec": {
   "display_name": "Python [conda env:defaults-v1]",
   "language": "python",
   "name": "conda-env-defaults-v1-py"
  },
  "language_info": {
   "codemirror_mode": {
    "name": "ipython",
    "version": 3
   },
   "file_extension": ".py",
   "mimetype": "text/x-python",
   "name": "python",
   "nbconvert_exporter": "python",
   "pygments_lexer": "ipython3",
   "version": "3.7.3"
  }
 },
 "nbformat": 4,
 "nbformat_minor": 4
}
