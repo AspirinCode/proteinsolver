{
 "cells": [
  {
   "cell_type": "markdown",
   "metadata": {},
   "source": [
    "# Imports"
   ]
  },
  {
   "cell_type": "code",
   "execution_count": null,
   "metadata": {},
   "outputs": [],
   "source": [
    "import concurrent.futures\n",
    "import io\n",
    "import os\n",
    "import shlex\n",
    "import subprocess\n",
    "from pathlib import Path\n",
    "\n",
    "import numpy as np\n",
    "import pandas as pd\n",
    "import psutil"
   ]
  },
  {
   "cell_type": "markdown",
   "metadata": {},
   "source": [
    "# Parameters"
   ]
  },
  {
   "cell_type": "code",
   "execution_count": null,
   "metadata": {},
   "outputs": [],
   "source": [
    "NOTEBOOK_NAME = \"generate_difficult_sudokus\""
   ]
  },
  {
   "cell_type": "code",
   "execution_count": null,
   "metadata": {},
   "outputs": [],
   "source": [
    "NOTEBOOK_PATH = Path(NOTEBOOK_NAME).resolve()\n",
    "NOTEBOOK_PATH.mkdir(exist_ok=True)\n",
    "NOTEBOOK_PATH"
   ]
  },
  {
   "cell_type": "markdown",
   "metadata": {},
   "source": [
    "# Functions"
   ]
  },
  {
   "cell_type": "code",
   "execution_count": null,
   "metadata": {},
   "outputs": [],
   "source": [
    "def sudoku_is_solved(values) -> bool:\n",
    "    ref = np.arange(1, 10)\n",
    "    mat = values.reshape(9, 9)\n",
    "    for i in range(3):\n",
    "        for j in range(3):\n",
    "            v = np.sort(mat[i * 3 : (i + 1) * 3, j * 3 : (j + 1) * 3], axis=None)\n",
    "            if not (v == ref).all():\n",
    "                return False\n",
    "    for i in range(9):\n",
    "        v = np.sort(mat[i, :])\n",
    "        if not (v == ref).all():\n",
    "            return False\n",
    "    for j in range(9):\n",
    "        v = np.sort(mat[:, j])\n",
    "        if not (v == ref).all():\n",
    "            return False\n",
    "    return True\n",
    "\n",
    "\n",
    "def decode_sugen_output(output):\n",
    "    grid = np.empty((9, 9), dtype=np.int)\n",
    "    for i, row in enumerate(output.split(\"\\n\")[:9]):\n",
    "        for j, value in enumerate(row.split(\" \")):\n",
    "            if value == \"_\":\n",
    "                grid[i, j] = 0\n",
    "            else:\n",
    "                grid[i, j] = int(value)\n",
    "    return grid\n",
    "\n",
    "\n",
    "def generate_sudoku():\n",
    "    sc = \"sugen -i 5000 -t 10000 generate\"\n",
    "    ps = subprocess.run(shlex.split(sc), stdout=subprocess.PIPE)\n",
    "\n",
    "    sc2 = \"sugen solve\"\n",
    "    ps2 = subprocess.run(shlex.split(sc2), input=ps.stdout, stdout=subprocess.PIPE)\n",
    "\n",
    "    puzzle = decode_sugen_output(ps.stdout.decode())\n",
    "    solution = decode_sugen_output(ps2.stdout.decode())\n",
    "\n",
    "    assert sudoku_is_solved(solution)\n",
    "    return puzzle, solution"
   ]
  },
  {
   "cell_type": "code",
   "execution_count": null,
   "metadata": {},
   "outputs": [],
   "source": [
    "generate_sudoku()"
   ]
  },
  {
   "cell_type": "markdown",
   "metadata": {},
   "source": [
    "# Generate sudokus"
   ]
  },
  {
   "cell_type": "code",
   "execution_count": null,
   "metadata": {},
   "outputs": [],
   "source": [
    "batch_idx = -1\n",
    "while True:\n",
    "    batch_idx += 1\n",
    "    print(f\"Generating batch {batch_idx}...\")\n",
    "    results = []\n",
    "    with concurrent.futures.ProcessPoolExecutor(psutil.cpu_count(logical=False)) as pool:\n",
    "        futures = [pool.submit(generate_sudoku) for _ in range(100_000)]\n",
    "        for future in concurrent.futures.as_completed(futures):\n",
    "            puzzle, solution = future.result()\n",
    "            puzzle_str = \"\".join([str(v) for v in puzzle.reshape(-1)])\n",
    "            solution_str = \"\".join([str(v) for v in solution.reshape(-1)])\n",
    "            results.append((puzzle_str, solution_str))\n",
    "    df = pd.DataFrame(results, columns=[\"quizzes\", \"solutions\"])\n",
    "    df.to_csv(NOTEBOOK_PATH.joinpath(f\"sodoku_{batch_idx}.csv\"), sep=\",\", index=False)"
   ]
  }
 ],
 "metadata": {
  "kernelspec": {
   "display_name": "Python 3",
   "language": "python",
   "name": "python3"
  },
  "language_info": {
   "codemirror_mode": {
    "name": "ipython",
    "version": 3
   },
   "file_extension": ".py",
   "mimetype": "text/x-python",
   "name": "python",
   "nbconvert_exporter": "python",
   "pygments_lexer": "ipython3",
   "version": "3.7.3"
  }
 },
 "nbformat": 4,
 "nbformat_minor": 2
}
