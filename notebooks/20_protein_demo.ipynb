{
 "cells": [
  {
   "cell_type": "markdown",
   "metadata": {
    "colab": {
     "base_uri": "https://localhost:8080/",
     "height": 220
    },
    "colab_type": "code",
    "id": "HCWw1IgNHvhm",
    "outputId": "fcb1a352-1ca8-4708-c3af-11bb0f9a3c57"
   },
   "source": [
    "## Summary\n",
    "\n",
    "In this notebook we load a network trained to reconstruct protein sequences and use this network to design sequences that fit the geometry of CATH domain [1n5uA03](http://www.cathdb.info/version/latest/domain/1n5uA03).\n",
    "\n",
    "----"
   ]
  },
  {
   "cell_type": "markdown",
   "metadata": {
    "colab_type": "text",
    "id": "eoBMUoW2Hvhp",
    "toc-hr-collapsed": true
   },
   "source": [
    "## Imports"
   ]
  },
  {
   "cell_type": "code",
   "execution_count": 1,
   "metadata": {},
   "outputs": [
    {
     "name": "stderr",
     "output_type": "stream",
     "text": [
      "/tmp/strokach/env/lib/python3.7/site-packages/Bio/KDTree/__init__.py:25: BiopythonDeprecationWarning: Bio.KDTree has been deprecated, and we intend to remove it in a future release of Biopython. Please use Bio.PDB.kdtrees instead, which is functionally very similar.\n",
      "  BiopythonDeprecationWarning)\n"
     ]
    }
   ],
   "source": [
    "import os\n",
    "from pathlib import Path\n",
    "\n",
    "from IPython.display import HTML\n",
    "from IPython.display import display\n",
    "\n",
    "import matplotlib.pyplot as plt\n",
    "import pandas as pd\n",
    "import proteinsolver\n",
    "import torch\n",
    "import torch_geometric\n",
    "from kmbio import PDB\n",
    "from kmtools import sci_tools"
   ]
  },
  {
   "cell_type": "markdown",
   "metadata": {},
   "source": [
    "## Properties"
   ]
  },
  {
   "cell_type": "code",
   "execution_count": 2,
   "metadata": {},
   "outputs": [],
   "source": [
    "NOTEBOOK_NAME = \"protein_demo\""
   ]
  },
  {
   "cell_type": "code",
   "execution_count": 3,
   "metadata": {},
   "outputs": [
    {
     "data": {
      "text/plain": [
       "PosixPath('/home/kimlab1/strokach/workspace/proteinsolver/notebooks/protein_demo')"
      ]
     },
     "execution_count": 3,
     "metadata": {},
     "output_type": "execute_result"
    }
   ],
   "source": [
    "NOTEBOOK_PATH = Path(NOTEBOOK_NAME).resolve()\n",
    "NOTEBOOK_PATH.mkdir(exist_ok=True)\n",
    "NOTEBOOK_PATH"
   ]
  },
  {
   "cell_type": "code",
   "execution_count": 4,
   "metadata": {},
   "outputs": [],
   "source": [
    "UNIQUE_ID = \"191f05de\""
   ]
  },
  {
   "cell_type": "code",
   "execution_count": 5,
   "metadata": {},
   "outputs": [],
   "source": [
    "BEST_STATE_FILES = {\n",
    "    #\n",
    "    \"191f05de\": \"protein_train/191f05de/e53-s1952148-d93703104.state\"\n",
    "}"
   ]
  },
  {
   "cell_type": "code",
   "execution_count": 6,
   "metadata": {},
   "outputs": [
    {
     "data": {
      "text/plain": [
       "PosixPath('/home/kimlab1/strokach/workspace/proteinsolver/notebooks/protein_demo/inputs/1n5uA03.pdb')"
      ]
     },
     "execution_count": 6,
     "metadata": {},
     "output_type": "execute_result"
    }
   ],
   "source": [
    "STRUCTURE_FILE = Path(os.getenv(\"STRUCTURE_FILE\", NOTEBOOK_PATH / \"inputs\" / \"1n5uA03.pdb\")).resolve()\n",
    "STRUCTURE_FILE"
   ]
  },
  {
   "cell_type": "code",
   "execution_count": 7,
   "metadata": {},
   "outputs": [
    {
     "data": {
      "text/plain": [
       "device(type='cuda', index=1)"
      ]
     },
     "execution_count": 7,
     "metadata": {},
     "output_type": "execute_result"
    }
   ],
   "source": [
    "device = torch.device(\"cuda:1\" if torch.cuda.is_available() else \"cpu\")\n",
    "device"
   ]
  },
  {
   "cell_type": "code",
   "execution_count": 8,
   "metadata": {},
   "outputs": [
    {
     "data": {
      "text/plain": [
       "True"
      ]
     },
     "execution_count": 8,
     "metadata": {},
     "output_type": "execute_result"
    }
   ],
   "source": [
    "torch.cuda.is_available()"
   ]
  },
  {
   "cell_type": "markdown",
   "metadata": {},
   "source": [
    "## Load structure"
   ]
  },
  {
   "cell_type": "code",
   "execution_count": 9,
   "metadata": {},
   "outputs": [],
   "source": [
    "structure_all = PDB.load(STRUCTURE_FILE)\n",
    "structure = PDB.Structure(STRUCTURE_FILE.name + \"A\", structure_all[0].extract('A'))\n",
    "assert len(list(structure.chains)) == 1"
   ]
  },
  {
   "cell_type": "code",
   "execution_count": 10,
   "metadata": {},
   "outputs": [
    {
     "data": {
      "application/vnd.jupyter.widget-view+json": {
       "model_id": "26c9ed083151429b9baaf89824d5f900",
       "version_major": 2,
       "version_minor": 0
      },
      "text/plain": [
       "_ColormakerRegistry()"
      ]
     },
     "metadata": {},
     "output_type": "display_data"
    },
    {
     "data": {
      "application/vnd.jupyter.widget-view+json": {
       "model_id": "2bc5ca257aeb46d59d5bd27c0f8e130c",
       "version_major": 2,
       "version_minor": 0
      },
      "text/plain": [
       "NGLWidget()"
      ]
     },
     "metadata": {},
     "output_type": "display_data"
    }
   ],
   "source": [
    "PDB.view_structure(structure)"
   ]
  },
  {
   "cell_type": "markdown",
   "metadata": {
    "colab_type": "text",
    "id": "e3kWuRaxr89h"
   },
   "source": [
    "## Load model"
   ]
  },
  {
   "cell_type": "code",
   "execution_count": 11,
   "metadata": {},
   "outputs": [],
   "source": [
    "%run protein_train/{UNIQUE_ID}/model.py"
   ]
  },
  {
   "cell_type": "code",
   "execution_count": 12,
   "metadata": {},
   "outputs": [],
   "source": [
    "batch_size = 1\n",
    "num_features = 20\n",
    "adj_input_size = 2\n",
    "hidden_size = 128\n",
    "frac_present = 0.5\n",
    "frac_present_valid = frac_present\n",
    "info_size= 1024"
   ]
  },
  {
   "cell_type": "code",
   "execution_count": 13,
   "metadata": {},
   "outputs": [
    {
     "data": {
      "text/plain": [
       "'protein_train/191f05de/e53-s1952148-d93703104.state'"
      ]
     },
     "execution_count": 13,
     "metadata": {},
     "output_type": "execute_result"
    }
   ],
   "source": [
    "state_file = BEST_STATE_FILES[UNIQUE_ID]\n",
    "state_file"
   ]
  },
  {
   "cell_type": "code",
   "execution_count": 14,
   "metadata": {},
   "outputs": [],
   "source": [
    "net = Net(\n",
    "    x_input_size=num_features + 1, adj_input_size=adj_input_size, hidden_size=hidden_size, output_size=num_features\n",
    ")\n",
    "net.load_state_dict(torch.load(state_file, map_location=device))\n",
    "net.eval()\n",
    "net = net.to(device)"
   ]
  },
  {
   "cell_type": "markdown",
   "metadata": {},
   "source": [
    "## Helper functions"
   ]
  },
  {
   "cell_type": "code",
   "execution_count": 15,
   "metadata": {},
   "outputs": [],
   "source": [
    "import io\n",
    "import logging\n",
    "from typing import List\n",
    "from unittest.mock import patch\n",
    "\n",
    "import weblogo._cli\n",
    "from PIL import Image\n",
    "\n",
    "logger = logging.getLogger(__name__)\n",
    "\n",
    "\n",
    "class _BytesIO(io.BytesIO):\n",
    "    def __init__(self):\n",
    "        super().__init__()\n",
    "        self.buffer = self\n",
    "\n",
    "\n",
    "def make_weblogo(\n",
    "    seqs: List[str],\n",
    "    units: str = \"bits\",\n",
    "    color_scheme: str = \"charge\",\n",
    "    stacks_per_line: int = 60,\n",
    "    format_=\"png\",\n",
    "    output_file=None,\n",
    "):\n",
    "    assert format_ in [\"eps\", \"png\", \"png_print\", \"pdf\", \"jpeg\", \"svg\", \"logodata\"]\n",
    "\n",
    "    weblogo_args = [\n",
    "        \"weblogo\",\n",
    "        f\"--format={format_}\",\n",
    "        f\"--units={units}\",\n",
    "        \"--sequence-type=protein\",\n",
    "        f\"--stacks-per-line={stacks_per_line}\",\n",
    "        f\"--color-scheme={color_scheme}\",\n",
    "        \"--scale-width=no\",\n",
    "        '--fineprint=\"\"',\n",
    "        \"--composition=none\",\n",
    "    ]\n",
    "    fin = io.StringIO()\n",
    "    _write_sequences(seqs, fin)\n",
    "    fin.seek(0)\n",
    "\n",
    "    with patch(\"sys.stdin\", fin), patch(\"weblogo._cli.sys.argv\", weblogo_args), patch(\n",
    "        \"sys.stdout\", new_callable=_BytesIO\n",
    "    ) as patch_out:\n",
    "        try:\n",
    "            weblogo._cli.main()\n",
    "        except RuntimeError as e:\n",
    "            logger.error(\"Failed to create WebLogo image because of error: '%s'.\", str(e))\n",
    "            return None\n",
    "        finally:\n",
    "            patch_out.seek(0)\n",
    "            img_data = patch_out.read()\n",
    "\n",
    "    if output_file:\n",
    "        with output_file.open(\"wb\") as fout:\n",
    "            fout.write(img_data)\n",
    "\n",
    "    if format_ in [\"eps\", \"png\", \"png_print\", \"jpeg\"]:\n",
    "        img = Image.open(io.BytesIO(img_data))\n",
    "    else:\n",
    "        img = None\n",
    "\n",
    "    return img\n",
    "\n",
    "\n",
    "def _write_sequences(seqs, fh):\n",
    "    for i in range(len(seqs)):\n",
    "        fh.write(f\"> seq_{i}\\n\")\n",
    "        fh.write(seqs[i] + \"\\n\")"
   ]
  },
  {
   "cell_type": "markdown",
   "metadata": {},
   "source": [
    "## Design pipeline"
   ]
  },
  {
   "cell_type": "markdown",
   "metadata": {},
   "source": [
    "### Load protein sequence and geometry"
   ]
  },
  {
   "cell_type": "code",
   "execution_count": 16,
   "metadata": {},
   "outputs": [
    {
     "name": "stdout",
     "output_type": "stream",
     "text": [
      "ProteinData(sequence='KFGERAFKAWAVARLSQRFPKAEFAEVSKLVTDLTKVHTECCHGDLLECADDRADLAKYICENQDSISSKLKECCEKPLLEKSHCIAEVEND', row_index=array([ 0,  0,  0, ..., 89, 89, 90]), col_index=array([ 1,  2,  3, ..., 90, 91, 91]), distances=array([1.32833195, 3.55097341, 7.17878066, ..., 1.32782137, 3.4453153 ,\n",
      "       1.32591417]))\n",
      "Protein sequence: 'KFGERAFKAWAVARLSQRFPKAEFAEVSKLVTDLTKVHTECCHGDLLECADDRADLAKYICENQDSISSKLKECCEKPLLEKSHCIAEVEND'\n",
      "Number of amino acids: 92\n"
     ]
    }
   ],
   "source": [
    "pdata = proteinsolver.utils.extract_seq_and_adj(STRUCTURE_FILE, 'A')\n",
    "print(pdata)\n",
    "print(f\"Protein sequence: '{pdata.sequence}'\")\n",
    "print(f\"Number of amino acids: {len(pdata.sequence)}\")"
   ]
  },
  {
   "cell_type": "markdown",
   "metadata": {},
   "source": [
    "### Convert data to suitable format"
   ]
  },
  {
   "cell_type": "code",
   "execution_count": 17,
   "metadata": {},
   "outputs": [
    {
     "data": {
      "text/plain": [
       "-170.00302124023438"
      ]
     },
     "execution_count": 17,
     "metadata": {},
     "output_type": "execute_result"
    }
   ],
   "source": [
    "data = proteinsolver.datasets.protein.row_to_data(pdata)\n",
    "data = proteinsolver.datasets.protein.transform_edge_attr(data)\n",
    "data.to(device)\n",
    "\n",
    "proteinsolver.utils.get_node_proba(net, data.x, data.edge_index, data.edge_attr).sum().item()"
   ]
  },
  {
   "cell_type": "markdown",
   "metadata": {},
   "source": [
    "### Run protein design using A* search\n",
    "\n",
    "<span style=\"color: red\">Feel free to interrupt after several minutes by pressing <code style=\"color: red\">I, I</code> or going to <code style=\"color: red\">Kernel -> Interrupt Kernel</code>.</span>"
   ]
  },
  {
   "cell_type": "code",
   "execution_count": 18,
   "metadata": {},
   "outputs": [
    {
     "name": "stdout",
     "output_type": "stream",
     "text": [
      "i: 0; p: 0.0000; num missing: 92; heap size:       0; results size: 0\n",
      "i: 1000; p: 93.9976; num missing: 1; heap size:    8960; results size: 502\n",
      "i: 2000; p: 93.8183; num missing: 0; heap size:   16200; results size: 1090\n",
      "i: 3000; p: 94.4254; num missing: 0; heap size:   23460; results size: 1677\n",
      "i: 4000; p: 93.8990; num missing: 0; heap size:   30620; results size: 2269\n",
      "i: 5000; p: 94.0697; num missing: 0; heap size:   37260; results size: 2887\n",
      "i: 6000; p: 93.7542; num missing: 1; heap size:   44140; results size: 3493\n",
      "i: 7000; p: 94.1770; num missing: 1; heap size:   51480; results size: 4076\n",
      "i: 8000; p: 94.2372; num missing: 0; heap size:   58080; results size: 4696\n",
      "i: 9000; p: 94.2935; num missing: 0; heap size:   63820; results size: 5359\n",
      "i: 10000; p: 94.2903; num missing: 0; heap size:   69660; results size: 6017\n",
      "i: 11000; p: 94.3703; num missing: 0; heap size:   76060; results size: 6647\n",
      "i: 12000; p: 94.4075; num missing: 0; heap size:   81720; results size: 7314\n",
      "i: 13000; p: 94.4084; num missing: 0; heap size:   87760; results size: 7962\n",
      "i: 14000; p: 94.4211; num missing: 1; heap size:   93580; results size: 8621\n",
      "i: 15000; p: 94.4836; num missing: 0; heap size:   98480; results size: 9326\n",
      "i: 16000; p: 94.5019; num missing: 0; heap size:  105020; results size: 9949\n",
      "i: 17000; p: 94.5185; num missing: 1; heap size:  111180; results size: 10591\n",
      "i: 18000; p: 94.5190; num missing: 1; heap size:  116760; results size: 11262\n",
      "i: 19000; p: 94.4997; num missing: 2; heap size:  122760; results size: 11912\n",
      "i: 20000; p: 94.5653; num missing: 0; heap size:  128180; results size: 12591\n",
      "i: 21000; p: 94.2345; num missing: 0; heap size:  133680; results size: 13266\n",
      "i: 22000; p: 94.4709; num missing: 2; heap size:  141040; results size: 13848\n",
      "i: 23000; p: 94.5331; num missing: 0; heap size:  147360; results size: 14482\n",
      "i: 24000; p: 94.5926; num missing: 0; heap size:  152660; results size: 15167\n",
      "i: 25000; p: 94.6022; num missing: 1; heap size:  158920; results size: 15804\n",
      "i: 26000; p: 94.6118; num missing: 0; heap size:  164900; results size: 16455\n",
      "i: 27000; p: 94.6224; num missing: 0; heap size:  170740; results size: 17113\n",
      "i: 28000; p: 94.3085; num missing: 0; heap size:  177260; results size: 17737\n",
      "i: 29000; p: 94.6378; num missing: 0; heap size:  183100; results size: 18395\n",
      "i: 30000; p: 94.6477; num missing: 0; heap size:  188760; results size: 19062\n",
      "i: 31000; p: 94.6560; num missing: 2; heap size:  195220; results size: 19689\n",
      "i: 32000; p: 94.4031; num missing: 3; heap size:  201960; results size: 20302\n",
      "i: 33000; p: 94.6656; num missing: 0; heap size:  208500; results size: 20925\n",
      "i: 34000; p: 94.6738; num missing: 0; heap size:  215060; results size: 21547\n",
      "i: 35000; p: 94.6821; num missing: 0; heap size:  220920; results size: 22204\n",
      "i: 36000; p: 94.6571; num missing: 0; heap size:  226740; results size: 22863\n",
      "i: 37000; p: 94.5921; num missing: 0; heap size:  233260; results size: 23487\n",
      "i: 38000; p: 94.7007; num missing: 1; heap size:  240440; results size: 24078\n",
      "i: 39000; p: 94.7082; num missing: 0; heap size:  245740; results size: 24763\n",
      "i: 40000; p: 94.5218; num missing: 1; heap size:  251240; results size: 25438\n",
      "i: 41000; p: 94.7236; num missing: 1; heap size:  256600; results size: 26120\n",
      "i: 42000; p: 94.7302; num missing: 0; heap size:  262140; results size: 26793\n"
     ]
    }
   ],
   "source": [
    "data = proteinsolver.datasets.protein.row_to_data(pdata)\n",
    "data = proteinsolver.datasets.protein.transform_edge_attr(data)\n",
    "data.to(device)\n",
    "\n",
    "data.y = data.x\n",
    "x_in = torch.ones_like(data.x) * 20\n",
    "results = []\n",
    "try:\n",
    "    proteinsolver.utils.design_protein(net, x_in, data.edge_index, data.edge_attr, results=results, cutoff=np.log(0.15))\n",
    "except KeyboardInterrupt:\n",
    "    pass"
   ]
  },
  {
   "cell_type": "markdown",
   "metadata": {},
   "source": [
    "### Convert designs into a DataFrame"
   ]
  },
  {
   "cell_type": "code",
   "execution_count": 19,
   "metadata": {},
   "outputs": [],
   "source": [
    "designs = [(r.x.data.cpu().numpy(), r.x_proba.data.cpu().numpy()) for r in results]"
   ]
  },
  {
   "cell_type": "code",
   "execution_count": 20,
   "metadata": {},
   "outputs": [],
   "source": [
    "data = proteinsolver.datasets.protein.row_to_data(pdata)\n",
    "# data = proteinsolver.datasets.protein.transform_edge_attr(data)\n",
    "\n",
    "sequence_ref = \"\".join(proteinsolver.utils.AMINO_ACIDS[i] for i in data.x)"
   ]
  },
  {
   "cell_type": "code",
   "execution_count": 21,
   "metadata": {},
   "outputs": [],
   "source": [
    "df = pd.DataFrame(designs, columns=[\"seq_array\", \"seq_proba_array\"])"
   ]
  },
  {
   "cell_type": "code",
   "execution_count": 22,
   "metadata": {},
   "outputs": [],
   "source": [
    "df[\"sequence\"] = [\"\".join(proteinsolver.utils.AMINO_ACIDS[i] for i in seq_array) for seq_array in df[\"seq_array\"]]"
   ]
  },
  {
   "cell_type": "code",
   "execution_count": 23,
   "metadata": {},
   "outputs": [],
   "source": [
    "df[\"sum_log_prob\"] = [seq_proba_array.sum() for seq_proba_array in df[\"seq_proba_array\"]]"
   ]
  },
  {
   "cell_type": "code",
   "execution_count": 24,
   "metadata": {},
   "outputs": [],
   "source": [
    "df[\"avg_log_prob\"] = df[\"sum_log_prob\"] / df[\"sequence\"].str.len()"
   ]
  },
  {
   "cell_type": "code",
   "execution_count": 25,
   "metadata": {},
   "outputs": [],
   "source": [
    "df[\"seq_identity\"] = [\n",
    "    float((seq_array == data.x.data.numpy()).sum().item()) / data.x.size(0)\n",
    "    for seq_array in df[\"seq_array\"]\n",
    "]"
   ]
  },
  {
   "cell_type": "code",
   "execution_count": 26,
   "metadata": {},
   "outputs": [],
   "source": [
    "df[\"index\"] = df.index"
   ]
  },
  {
   "cell_type": "code",
   "execution_count": 27,
   "metadata": {},
   "outputs": [],
   "source": [
    "df = df.sort_values(\"avg_log_prob\", ascending=False).iloc[:200_000]"
   ]
  },
  {
   "cell_type": "code",
   "execution_count": 28,
   "metadata": {},
   "outputs": [
    {
     "data": {
      "text/html": [
       "<div>\n",
       "<style scoped>\n",
       "    .dataframe tbody tr th:only-of-type {\n",
       "        vertical-align: middle;\n",
       "    }\n",
       "\n",
       "    .dataframe tbody tr th {\n",
       "        vertical-align: top;\n",
       "    }\n",
       "\n",
       "    .dataframe thead th {\n",
       "        text-align: right;\n",
       "    }\n",
       "</style>\n",
       "<table border=\"1\" class=\"dataframe\">\n",
       "  <thead>\n",
       "    <tr style=\"text-align: right;\">\n",
       "      <th></th>\n",
       "      <th>seq_array</th>\n",
       "      <th>seq_proba_array</th>\n",
       "      <th>sequence</th>\n",
       "      <th>sum_log_prob</th>\n",
       "      <th>avg_log_prob</th>\n",
       "      <th>seq_identity</th>\n",
       "      <th>index</th>\n",
       "    </tr>\n",
       "  </thead>\n",
       "  <tbody>\n",
       "    <tr>\n",
       "      <th>1909</th>\n",
       "      <td>[6, 2, 0, 3, 10, 2, 7, 3, 2, 11, 2, 18, 2, 18,...</td>\n",
       "      <td>[-1.9313916, -1.773941, -0.1892674, -1.2172632...</td>\n",
       "      <td>MAGLDAFLAEARARLSARFPGASEAELARLTALETLTRLCCAAGDA...</td>\n",
       "      <td>-92.996071</td>\n",
       "      <td>-1.010827</td>\n",
       "      <td>0.402174</td>\n",
       "      <td>1909</td>\n",
       "    </tr>\n",
       "    <tr>\n",
       "      <th>1912</th>\n",
       "      <td>[6, 2, 0, 3, 10, 2, 7, 3, 2, 11, 2, 18, 2, 18,...</td>\n",
       "      <td>[-1.8347934, -1.773941, -0.1892674, -1.2172632...</td>\n",
       "      <td>MAGLDAFLAEARARLSARFPGASEAELARLTALETLTLLCCAAGDA...</td>\n",
       "      <td>-93.116684</td>\n",
       "      <td>-1.012138</td>\n",
       "      <td>0.402174</td>\n",
       "      <td>1912</td>\n",
       "    </tr>\n",
       "  </tbody>\n",
       "</table>\n",
       "</div>"
      ],
      "text/plain": [
       "                                              seq_array  \\\n",
       "1909  [6, 2, 0, 3, 10, 2, 7, 3, 2, 11, 2, 18, 2, 18,...   \n",
       "1912  [6, 2, 0, 3, 10, 2, 7, 3, 2, 11, 2, 18, 2, 18,...   \n",
       "\n",
       "                                        seq_proba_array  \\\n",
       "1909  [-1.9313916, -1.773941, -0.1892674, -1.2172632...   \n",
       "1912  [-1.8347934, -1.773941, -0.1892674, -1.2172632...   \n",
       "\n",
       "                                               sequence  sum_log_prob  \\\n",
       "1909  MAGLDAFLAEARARLSARFPGASEAELARLTALETLTRLCCAAGDA...    -92.996071   \n",
       "1912  MAGLDAFLAEARARLSARFPGASEAELARLTALETLTLLCCAAGDA...    -93.116684   \n",
       "\n",
       "      avg_log_prob  seq_identity  index  \n",
       "1909     -1.010827      0.402174   1909  \n",
       "1912     -1.012138      0.402174   1912  "
      ]
     },
     "execution_count": 28,
     "metadata": {},
     "output_type": "execute_result"
    }
   ],
   "source": [
    "df.head(2)"
   ]
  },
  {
   "cell_type": "code",
   "execution_count": 29,
   "metadata": {},
   "outputs": [],
   "source": [
    "columns_to_keep = [\"index\", \"sequence\", \"sum_log_prob\", \"avg_log_prob\", \"seq_identity\"]\n",
    "df[columns_to_keep].to_csv(NOTEBOOK_PATH.joinpath(STRUCTURE_FILE.stem + \".csv\"), sep=\"\\t\", index=False)"
   ]
  },
  {
   "cell_type": "markdown",
   "metadata": {},
   "source": [
    "## Make plots"
   ]
  },
  {
   "cell_type": "markdown",
   "metadata": {},
   "source": [
    "### Adjacency matrix"
   ]
  },
  {
   "cell_type": "code",
   "execution_count": 30,
   "metadata": {},
   "outputs": [
    {
     "data": {
      "image/png": "[encoded data removed]",
      "text/plain": [
       "<Figure size 518.4x388.8 with 2 Axes>"
      ]
     },
     "metadata": {
      "needs_background": "light"
     },
     "output_type": "display_data"
    }
   ],
   "source": [
    "adj = torch_geometric.utils.to_dense_adj(edge_index=data.edge_index, edge_attr=1 / data.edge_attr[:, 0]).squeeze()\n",
    "\n",
    "with plt.rc_context(rc={\"font.size\": 18}):\n",
    "    fg, ax = plt.subplots(figsize=(8 * 0.9, 6 * 0.9))\n",
    "    out = ax.imshow(adj, cmap=\"Greys\")\n",
    "    ax.set_ylabel(\"Amino acid position\")\n",
    "    ax.set_xlabel(\"Amino acid position\")\n",
    "    ax.tick_params(\"both\", labelsize=16)\n",
    "    cb = fg.colorbar(out, ax=ax)\n",
    "    cb.set_label(\"1 / distance (Å$^{-1}$)\")\n",
    "\n",
    "fg.tight_layout()\n",
    "fg.savefig(NOTEBOOK_PATH.joinpath(STRUCTURE_FILE.stem + \"-adjacency.svg\"))"
   ]
  },
  {
   "cell_type": "markdown",
   "metadata": {},
   "source": [
    "### Score distributions"
   ]
  },
  {
   "cell_type": "code",
   "execution_count": 31,
   "metadata": {},
   "outputs": [
    {
     "data": {
      "image/png": "[encoded data removed]",
      "text/plain": [
       "<Figure size 518.4x388.8 with 2 Axes>"
      ]
     },
     "metadata": {
      "needs_background": "light"
     },
     "output_type": "display_data"
    }
   ],
   "source": [
    "with plt.rc_context(rc={\"font.size\": 18}):\n",
    "    fg, ax = plt.subplots(figsize=(8 * 0.9, 6 * 0.9))\n",
    "    x = np.exp(df[\"avg_log_prob\"])\n",
    "    y = df[\"seq_identity\"].values + 0.005 * np.random.randn(len(df))\n",
    "    out = ax.hexbin(x, y, gridsize=50, bins=\"log\", cmap=\"Greys\")\n",
    "    ax.set_xlim(x.min(), x.max())\n",
    "    ax.set_ylim(y.min(), y.max())\n",
    "    ax.set_ylabel(\"Sequence identity to reference\")\n",
    "    ax.set_xlabel(\"Normalized sequence probability\")\n",
    "    ax.tick_params(\"both\", labelsize=16)\n",
    "    cb = fg.colorbar(out, ax=ax)\n",
    "    cb.set_label(\"Number of sequences\")\n",
    "\n",
    "fg.tight_layout()\n",
    "fg.savefig(NOTEBOOK_PATH.joinpath(STRUCTURE_FILE.stem + \"-hexbin.svg\"))"
   ]
  },
  {
   "cell_type": "markdown",
   "metadata": {},
   "source": [
    "### Sequence logo"
   ]
  },
  {
   "cell_type": "code",
   "execution_count": 32,
   "metadata": {},
   "outputs": [],
   "source": [
    "make_weblogo(\n",
    "    df[\"sequence\"].values,\n",
    "    units=\"probability\",\n",
    "    color_scheme=\"hydrophobicity\",\n",
    "    stacks_per_line=110,\n",
    "    format_=\"svg\",\n",
    "    output_file=NOTEBOOK_PATH.joinpath(STRUCTURE_FILE.stem + \"-weblogo-gen.svg\"),\n",
    ")"
   ]
  },
  {
   "cell_type": "code",
   "execution_count": 33,
   "metadata": {},
   "outputs": [],
   "source": [
    "make_weblogo(\n",
    "    [sequence_ref],\n",
    "    units=\"probability\",\n",
    "    color_scheme=\"hydrophobicity\",\n",
    "    stacks_per_line=110,\n",
    "    format_=\"svg\",\n",
    "    output_file=NOTEBOOK_PATH.joinpath(STRUCTURE_FILE.stem + \"-weblogo-wt.svg\"),\n",
    ")"
   ]
  },
  {
   "cell_type": "code",
   "execution_count": 34,
   "metadata": {},
   "outputs": [
    {
     "data": {
      "text/plain": [
       "PosixPath('/home/kimlab1/strokach/workspace/proteinsolver/notebooks/protein_demo/1n5uA03-weblogo-wt.svg')"
      ]
     },
     "execution_count": 34,
     "metadata": {},
     "output_type": "execute_result"
    }
   ],
   "source": [
    "NOTEBOOK_PATH.joinpath(STRUCTURE_FILE.stem + \"-weblogo-wt.svg\")"
   ]
  },
  {
   "cell_type": "code",
   "execution_count": 35,
   "metadata": {},
   "outputs": [
    {
     "data": {
      "text/html": [
       "<div style=\"overflow: scroll; width: 100%\">\n",
       "<p style=\"text-align: center; margin-bottom: 0px\"><b>Wild-type</b></p>\n",
       "<img src=\"./protein_demo/1n5uA03-weblogo-wt.svg\" style=\"width: 100%\"/>\n",
       "\n",
       "<p style=\"text-align: center; margin-bottom: 0px\"><b>Designs</b></p>\n",
       "<img src=\"./protein_demo/1n5uA03-weblogo-gen.svg\" style=\"width: 100%\"/>\n",
       "</div>\n"
      ],
      "text/plain": [
       "<IPython.core.display.HTML object>"
      ]
     },
     "metadata": {},
     "output_type": "display_data"
    }
   ],
   "source": [
    "display(HTML(\"\"\"\\\n",
    "<div style=\"overflow: scroll; width: 100%\">\n",
    "<p style=\"text-align: center; margin-bottom: 0px\"><b>Wild-type</b></p>\n",
    "<img src=\"./protein_demo/1n5uA03-weblogo-wt.svg\" style=\"width: 100%\"/>\n",
    "\n",
    "<p style=\"text-align: center; margin-bottom: 0px\"><b>Designs</b></p>\n",
    "<img src=\"./protein_demo/1n5uA03-weblogo-gen.svg\" style=\"width: 100%\"/>\n",
    "</div>\n",
    "\"\"\"))"
   ]
  },
  {
   "cell_type": "code",
   "execution_count": null,
   "metadata": {},
   "outputs": [],
   "source": []
  }
 ],
 "metadata": {
  "accelerator": "GPU",
  "colab": {
   "collapsed_sections": [
    "1fXJz1l9HvhW",
    "u9q4iTifHvhl"
   ],
   "name": "Copy of 2019-03-30-sudoku-4xEdgeConv-09862+.ipynb",
   "provenance": [],
   "toc_visible": true,
   "version": "0.3.2"
  },
  "kernelspec": {
   "display_name": "Python 3",
   "language": "python",
   "name": "python3"
  },
  "language_info": {
   "codemirror_mode": {
    "name": "ipython",
    "version": 3
   },
   "file_extension": ".py",
   "mimetype": "text/x-python",
   "name": "python",
   "nbconvert_exporter": "python",
   "pygments_lexer": "ipython3",
   "version": "3.7.3"
  },
  "toc": {
   "base_numbering": 1,
   "nav_menu": {},
   "number_sections": false,
   "sideBar": false,
   "skip_h1_title": false,
   "title_cell": "Table of Contents",
   "title_sidebar": "Contents",
   "toc_cell": false,
   "toc_position": {},
   "toc_section_display": true,
   "toc_window_display": false
  }
 },
 "nbformat": 4,
 "nbformat_minor": 4
}
