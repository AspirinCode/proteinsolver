{
 "cells": [
  {
   "cell_type": "markdown",
   "metadata": {
    "colab": {
     "base_uri": "https://localhost:8080/",
     "height": 220
    },
    "colab_type": "code",
    "id": "HCWw1IgNHvhm",
    "outputId": "fcb1a352-1ca8-4708-c3af-11bb0f9a3c57"
   },
   "source": [
    "## Summary\n",
    "\n",
    "In this notebook we load a network trained to reconstruct protein sequences and use this network to design sequences that fit the geometry of CATH domain [1n5uA03](http://www.cathdb.info/version/latest/domain/1n5uA03).\n",
    "\n",
    "----"
   ]
  },
  {
   "cell_type": "markdown",
   "metadata": {
    "colab_type": "text",
    "id": "eoBMUoW2Hvhp",
    "toc-hr-collapsed": true
   },
   "source": [
    "## Imports"
   ]
  },
  {
   "cell_type": "code",
   "execution_count": null,
   "metadata": {},
   "outputs": [],
   "source": [
    "import os\n",
    "from pathlib import Path\n",
    "\n",
    "from IPython.display import HTML\n",
    "from IPython.display import display\n",
    "\n",
    "import matplotlib.pyplot as plt\n",
    "import pandas as pd\n",
    "import proteinsolver\n",
    "import torch\n",
    "import torch_geometric\n",
    "from kmbio import PDB\n",
    "from kmtools import sci_tools"
   ]
  },
  {
   "cell_type": "markdown",
   "metadata": {},
   "source": [
    "## Properties"
   ]
  },
  {
   "cell_type": "code",
   "execution_count": null,
   "metadata": {},
   "outputs": [],
   "source": [
    "NOTEBOOK_NAME = \"protein_demo\""
   ]
  },
  {
   "cell_type": "code",
   "execution_count": null,
   "metadata": {},
   "outputs": [],
   "source": [
    "NOTEBOOK_PATH = Path(NOTEBOOK_NAME).resolve()\n",
    "NOTEBOOK_PATH.mkdir(exist_ok=True)\n",
    "NOTEBOOK_PATH"
   ]
  },
  {
   "cell_type": "code",
   "execution_count": null,
   "metadata": {},
   "outputs": [],
   "source": [
    "UNIQUE_ID = \"191f05de\""
   ]
  },
  {
   "cell_type": "code",
   "execution_count": null,
   "metadata": {},
   "outputs": [],
   "source": [
    "BEST_STATE_FILES = {\n",
    "    #\n",
    "    \"191f05de\": \"protein_train/191f05de/e53-s1952148-d93703104.state\"\n",
    "}"
   ]
  },
  {
   "cell_type": "code",
   "execution_count": null,
   "metadata": {},
   "outputs": [],
   "source": [
    "STRUCTURE_FILE = Path(os.getenv(\"STRUCTURE_FILE\", NOTEBOOK_PATH / \"inputs\" / \"1n5uA03.pdb\")).resolve()\n",
    "STRUCTURE_FILE"
   ]
  },
  {
   "cell_type": "code",
   "execution_count": null,
   "metadata": {},
   "outputs": [],
   "source": [
    "device = torch.device(\"cuda:1\" if torch.cuda.is_available() else \"cpu\")\n",
    "device"
   ]
  },
  {
   "cell_type": "code",
   "execution_count": null,
   "metadata": {},
   "outputs": [],
   "source": [
    "torch.cuda.is_available()"
   ]
  },
  {
   "cell_type": "markdown",
   "metadata": {},
   "source": [
    "## Load structure"
   ]
  },
  {
   "cell_type": "code",
   "execution_count": null,
   "metadata": {},
   "outputs": [],
   "source": [
    "structure_all = PDB.load(STRUCTURE_FILE)\n",
    "structure = PDB.Structure(STRUCTURE_FILE.name + \"A\", structure_all[0].extract('A'))\n",
    "assert len(list(structure.chains)) == 1"
   ]
  },
  {
   "cell_type": "code",
   "execution_count": null,
   "metadata": {},
   "outputs": [],
   "source": [
    "PDB.view_structure(structure)"
   ]
  },
  {
   "cell_type": "markdown",
   "metadata": {
    "colab_type": "text",
    "id": "e3kWuRaxr89h"
   },
   "source": [
    "## Load model"
   ]
  },
  {
   "cell_type": "code",
   "execution_count": null,
   "metadata": {},
   "outputs": [],
   "source": [
    "%run protein_train/{UNIQUE_ID}/model.py"
   ]
  },
  {
   "cell_type": "code",
   "execution_count": null,
   "metadata": {},
   "outputs": [],
   "source": [
    "batch_size = 1\n",
    "num_features = 20\n",
    "adj_input_size = 2\n",
    "hidden_size = 128\n",
    "frac_present = 0.5\n",
    "frac_present_valid = frac_present\n",
    "info_size= 1024"
   ]
  },
  {
   "cell_type": "code",
   "execution_count": null,
   "metadata": {},
   "outputs": [],
   "source": [
    "state_file = BEST_STATE_FILES[UNIQUE_ID]\n",
    "state_file"
   ]
  },
  {
   "cell_type": "code",
   "execution_count": null,
   "metadata": {},
   "outputs": [],
   "source": [
    "net = Net(\n",
    "    x_input_size=num_features + 1, adj_input_size=adj_input_size, hidden_size=hidden_size, output_size=num_features\n",
    ")\n",
    "net.load_state_dict(torch.load(state_file, map_location=device))\n",
    "net.eval()\n",
    "net = net.to(device)"
   ]
  },
  {
   "cell_type": "markdown",
   "metadata": {},
   "source": [
    "## Helper functions"
   ]
  },
  {
   "cell_type": "code",
   "execution_count": null,
   "metadata": {},
   "outputs": [],
   "source": [
    "import io\n",
    "import logging\n",
    "from typing import List\n",
    "from unittest.mock import patch\n",
    "\n",
    "import weblogo._cli\n",
    "from PIL import Image\n",
    "\n",
    "logger = logging.getLogger(__name__)\n",
    "\n",
    "\n",
    "class _BytesIO(io.BytesIO):\n",
    "    def __init__(self):\n",
    "        super().__init__()\n",
    "        self.buffer = self\n",
    "\n",
    "\n",
    "def make_weblogo(\n",
    "    seqs: List[str],\n",
    "    units: str = \"bits\",\n",
    "    color_scheme: str = \"charge\",\n",
    "    stacks_per_line: int = 60,\n",
    "    format_=\"png\",\n",
    "    output_file=None,\n",
    "):\n",
    "    assert format_ in [\"eps\", \"png\", \"png_print\", \"pdf\", \"jpeg\", \"svg\", \"logodata\"]\n",
    "\n",
    "    weblogo_args = [\n",
    "        \"weblogo\",\n",
    "        f\"--format={format_}\",\n",
    "        f\"--units={units}\",\n",
    "        \"--sequence-type=protein\",\n",
    "        f\"--stacks-per-line={stacks_per_line}\",\n",
    "        f\"--color-scheme={color_scheme}\",\n",
    "        \"--scale-width=no\",\n",
    "        '--fineprint=\"\"',\n",
    "        \"--composition=none\",\n",
    "    ]\n",
    "    fin = io.StringIO()\n",
    "    _write_sequences(seqs, fin)\n",
    "    fin.seek(0)\n",
    "\n",
    "    with patch(\"sys.stdin\", fin), patch(\"weblogo._cli.sys.argv\", weblogo_args), patch(\n",
    "        \"sys.stdout\", new_callable=_BytesIO\n",
    "    ) as patch_out:\n",
    "        try:\n",
    "            weblogo._cli.main()\n",
    "        except RuntimeError as e:\n",
    "            logger.error(\"Failed to create WebLogo image because of error: '%s'.\", str(e))\n",
    "            return None\n",
    "        finally:\n",
    "            patch_out.seek(0)\n",
    "            img_data = patch_out.read()\n",
    "\n",
    "    if output_file:\n",
    "        with output_file.open(\"wb\") as fout:\n",
    "            fout.write(img_data)\n",
    "\n",
    "    if format_ in [\"eps\", \"png\", \"png_print\", \"jpeg\"]:\n",
    "        img = Image.open(io.BytesIO(img_data))\n",
    "    else:\n",
    "        img = None\n",
    "\n",
    "    return img\n",
    "\n",
    "\n",
    "def _write_sequences(seqs, fh):\n",
    "    for i in range(len(seqs)):\n",
    "        fh.write(f\"> seq_{i}\\n\")\n",
    "        fh.write(seqs[i] + \"\\n\")"
   ]
  },
  {
   "cell_type": "markdown",
   "metadata": {},
   "source": [
    "## Design pipeline"
   ]
  },
  {
   "cell_type": "markdown",
   "metadata": {},
   "source": [
    "### Load protein sequence and geometry"
   ]
  },
  {
   "cell_type": "code",
   "execution_count": null,
   "metadata": {},
   "outputs": [],
   "source": [
    "structure = PDB.load(STRUCTURE_FILE)\n",
    "pdata = proteinsolver.utils.extract_seq_and_adj(structure, 'A')\n",
    "print(pdata)\n",
    "print(f\"Protein sequence: '{pdata.sequence}'\")\n",
    "print(f\"Number of amino acids: {len(pdata.sequence)}\")"
   ]
  },
  {
   "cell_type": "markdown",
   "metadata": {},
   "source": [
    "### Convert data to suitable format"
   ]
  },
  {
   "cell_type": "code",
   "execution_count": null,
   "metadata": {},
   "outputs": [],
   "source": [
    "data = proteinsolver.datasets.protein.row_to_data(pdata)\n",
    "data = proteinsolver.datasets.protein.transform_edge_attr(data)\n",
    "data.to(device)\n",
    "\n",
    "proteinsolver.utils.get_node_outputs(net, data.x, data.edge_index, data.edge_attr).sum().item()"
   ]
  },
  {
   "cell_type": "markdown",
   "metadata": {},
   "source": [
    "### Run protein design using A* search\n",
    "\n",
    "<span style=\"color: red\">Feel free to interrupt after several minutes by pressing <code style=\"color: red\">I, I</code> or going to <code style=\"color: red\">Kernel -> Interrupt Kernel</code>.</span>"
   ]
  },
  {
   "cell_type": "code",
   "execution_count": null,
   "metadata": {},
   "outputs": [],
   "source": [
    "data = proteinsolver.datasets.protein.row_to_data(pdata)\n",
    "data = proteinsolver.datasets.protein.transform_edge_attr(data)\n",
    "data.to(device)\n",
    "\n",
    "data.y = data.x\n",
    "x_in = torch.ones_like(data.x) * 20\n",
    "results = []\n",
    "try:\n",
    "    proteinsolver.utils.design_protein(net, x_in, data.edge_index, data.edge_attr, results=results, cutoff=np.log(0.15))\n",
    "except KeyboardInterrupt:\n",
    "    pass"
   ]
  },
  {
   "cell_type": "markdown",
   "metadata": {},
   "source": [
    "### Convert designs into a DataFrame"
   ]
  },
  {
   "cell_type": "code",
   "execution_count": null,
   "metadata": {},
   "outputs": [],
   "source": [
    "designs = [(r.x.data.cpu().numpy(), r.x_proba.data.cpu().numpy()) for r in results]"
   ]
  },
  {
   "cell_type": "code",
   "execution_count": null,
   "metadata": {},
   "outputs": [],
   "source": [
    "data = proteinsolver.datasets.protein.row_to_data(pdata)\n",
    "# data = proteinsolver.datasets.protein.transform_edge_attr(data)\n",
    "\n",
    "sequence_ref = \"\".join(proteinsolver.utils.AMINO_ACIDS[i] for i in data.x)"
   ]
  },
  {
   "cell_type": "code",
   "execution_count": null,
   "metadata": {},
   "outputs": [],
   "source": [
    "df = pd.DataFrame(designs, columns=[\"seq_array\", \"seq_proba_array\"])"
   ]
  },
  {
   "cell_type": "code",
   "execution_count": null,
   "metadata": {},
   "outputs": [],
   "source": [
    "df[\"sequence\"] = [\"\".join(proteinsolver.utils.AMINO_ACIDS[i] for i in seq_array) for seq_array in df[\"seq_array\"]]"
   ]
  },
  {
   "cell_type": "code",
   "execution_count": null,
   "metadata": {},
   "outputs": [],
   "source": [
    "df[\"sum_log_prob\"] = [seq_proba_array.sum() for seq_proba_array in df[\"seq_proba_array\"]]"
   ]
  },
  {
   "cell_type": "code",
   "execution_count": null,
   "metadata": {},
   "outputs": [],
   "source": [
    "df[\"avg_log_prob\"] = df[\"sum_log_prob\"] / df[\"sequence\"].str.len()"
   ]
  },
  {
   "cell_type": "code",
   "execution_count": null,
   "metadata": {},
   "outputs": [],
   "source": [
    "df[\"seq_identity\"] = [\n",
    "    float((seq_array == data.x.data.numpy()).sum().item()) / data.x.size(0)\n",
    "    for seq_array in df[\"seq_array\"]\n",
    "]"
   ]
  },
  {
   "cell_type": "code",
   "execution_count": null,
   "metadata": {},
   "outputs": [],
   "source": [
    "df[\"index\"] = df.index"
   ]
  },
  {
   "cell_type": "code",
   "execution_count": null,
   "metadata": {},
   "outputs": [],
   "source": [
    "df = df.sort_values(\"avg_log_prob\", ascending=False).iloc[:200_000]"
   ]
  },
  {
   "cell_type": "code",
   "execution_count": null,
   "metadata": {},
   "outputs": [],
   "source": [
    "df.head(2)"
   ]
  },
  {
   "cell_type": "code",
   "execution_count": null,
   "metadata": {},
   "outputs": [],
   "source": [
    "columns_to_keep = [\"index\", \"sequence\", \"sum_log_prob\", \"avg_log_prob\", \"seq_identity\"]\n",
    "df[columns_to_keep].to_csv(NOTEBOOK_PATH.joinpath(STRUCTURE_FILE.stem + \".csv\"), sep=\"\\t\", index=False)"
   ]
  },
  {
   "cell_type": "markdown",
   "metadata": {},
   "source": [
    "## Make plots"
   ]
  },
  {
   "cell_type": "markdown",
   "metadata": {},
   "source": [
    "### Adjacency matrix"
   ]
  },
  {
   "cell_type": "code",
   "execution_count": null,
   "metadata": {},
   "outputs": [],
   "source": [
    "adj = torch_geometric.utils.to_dense_adj(edge_index=data.edge_index, edge_attr=1 / data.edge_attr[:, 0]).squeeze()\n",
    "\n",
    "with plt.rc_context(rc={\"font.size\": 18}):\n",
    "    fg, ax = plt.subplots(figsize=(8 * 0.9, 6 * 0.9))\n",
    "    out = ax.imshow(adj, cmap=\"Greys\")\n",
    "    ax.set_ylabel(\"Amino acid position\")\n",
    "    ax.set_xlabel(\"Amino acid position\")\n",
    "    ax.tick_params(\"both\", labelsize=16)\n",
    "    cb = fg.colorbar(out, ax=ax)\n",
    "    cb.set_label(\"1 / distance (Å$^{-1}$)\")\n",
    "\n",
    "fg.tight_layout()\n",
    "fg.savefig(NOTEBOOK_PATH.joinpath(STRUCTURE_FILE.stem + \"-adjacency.svg\"))"
   ]
  },
  {
   "cell_type": "markdown",
   "metadata": {},
   "source": [
    "### Score distributions"
   ]
  },
  {
   "cell_type": "code",
   "execution_count": null,
   "metadata": {},
   "outputs": [],
   "source": [
    "with plt.rc_context(rc={\"font.size\": 18}):\n",
    "    fg, ax = plt.subplots(figsize=(8 * 0.9, 6 * 0.9))\n",
    "    x = np.exp(df[\"avg_log_prob\"])\n",
    "    y = df[\"seq_identity\"].values + 0.005 * np.random.randn(len(df))\n",
    "    out = ax.hexbin(x, y, gridsize=50, bins=\"log\", cmap=\"Greys\")\n",
    "    ax.set_xlim(x.min(), x.max())\n",
    "    ax.set_ylim(y.min(), y.max())\n",
    "    ax.set_ylabel(\"Sequence identity to reference\")\n",
    "    ax.set_xlabel(\"Normalized sequence probability\")\n",
    "    ax.tick_params(\"both\", labelsize=16)\n",
    "    cb = fg.colorbar(out, ax=ax)\n",
    "    cb.set_label(\"Number of sequences\")\n",
    "\n",
    "fg.tight_layout()\n",
    "fg.savefig(NOTEBOOK_PATH.joinpath(STRUCTURE_FILE.stem + \"-hexbin.svg\"))"
   ]
  },
  {
   "cell_type": "markdown",
   "metadata": {},
   "source": [
    "### Sequence logo"
   ]
  },
  {
   "cell_type": "code",
   "execution_count": null,
   "metadata": {},
   "outputs": [],
   "source": [
    "make_weblogo(\n",
    "    df[\"sequence\"].values,\n",
    "    units=\"probability\",\n",
    "    color_scheme=\"hydrophobicity\",\n",
    "    stacks_per_line=110,\n",
    "    format_=\"svg\",\n",
    "    output_file=NOTEBOOK_PATH.joinpath(STRUCTURE_FILE.stem + \"-weblogo-gen.svg\"),\n",
    ")"
   ]
  },
  {
   "cell_type": "code",
   "execution_count": null,
   "metadata": {},
   "outputs": [],
   "source": [
    "make_weblogo(\n",
    "    [sequence_ref],\n",
    "    units=\"probability\",\n",
    "    color_scheme=\"hydrophobicity\",\n",
    "    stacks_per_line=110,\n",
    "    format_=\"svg\",\n",
    "    output_file=NOTEBOOK_PATH.joinpath(STRUCTURE_FILE.stem + \"-weblogo-wt.svg\"),\n",
    ")"
   ]
  },
  {
   "cell_type": "code",
   "execution_count": null,
   "metadata": {},
   "outputs": [],
   "source": [
    "NOTEBOOK_PATH.joinpath(STRUCTURE_FILE.stem + \"-weblogo-wt.svg\")"
   ]
  },
  {
   "cell_type": "code",
   "execution_count": null,
   "metadata": {},
   "outputs": [],
   "source": [
    "display(HTML(\"\"\"\\\n",
    "<div style=\"overflow: scroll; width: 100%\">\n",
    "<p style=\"text-align: center; margin-bottom: 0px\"><b>Wild-type</b></p>\n",
    "<img src=\"./protein_demo/1n5uA03-weblogo-wt.svg\" style=\"width: 100%\"/>\n",
    "\n",
    "<p style=\"text-align: center; margin-bottom: 0px\"><b>Designs</b></p>\n",
    "<img src=\"./protein_demo/1n5uA03-weblogo-gen.svg\" style=\"width: 100%\"/>\n",
    "</div>\n",
    "\"\"\"))"
   ]
  },
  {
   "cell_type": "code",
   "execution_count": null,
   "metadata": {},
   "outputs": [],
   "source": []
  }
 ],
 "metadata": {
  "accelerator": "GPU",
  "colab": {
   "collapsed_sections": [
    "1fXJz1l9HvhW",
    "u9q4iTifHvhl"
   ],
   "name": "Copy of 2019-03-30-sudoku-4xEdgeConv-09862+.ipynb",
   "provenance": [],
   "toc_visible": true,
   "version": "0.3.2"
  },
  "kernelspec": {
   "display_name": "Python 3",
   "language": "python",
   "name": "python3"
  },
  "language_info": {
   "codemirror_mode": {
    "name": "ipython",
    "version": 3
   },
   "file_extension": ".py",
   "mimetype": "text/x-python",
   "name": "python",
   "nbconvert_exporter": "python",
   "pygments_lexer": "ipython3",
   "version": "3.7.6"
  },
  "toc": {
   "base_numbering": 1,
   "nav_menu": {},
   "number_sections": false,
   "sideBar": false,
   "skip_h1_title": false,
   "title_cell": "Table of Contents",
   "title_sidebar": "Contents",
   "toc_cell": false,
   "toc_position": {},
   "toc_section_display": true,
   "toc_window_display": false
  }
 },
 "nbformat": 4,
 "nbformat_minor": 4
}
