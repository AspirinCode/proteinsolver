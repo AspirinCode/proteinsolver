{
 "cells": [
  {
   "cell_type": "markdown",
   "metadata": {},
   "source": [
    "## Summary\n",
    "\n",
    "----"
   ]
  },
  {
   "cell_type": "markdown",
   "metadata": {},
   "source": [
    "## Imports"
   ]
  },
  {
   "cell_type": "code",
   "execution_count": null,
   "metadata": {},
   "outputs": [],
   "source": [
    "import concurrent.futures\n",
    "import itertools\n",
    "import os\n",
    "from pathlib import Path\n",
    "\n",
    "import matplotlib as mpl\n",
    "import matplotlib.pyplot as plt\n",
    "import numpy as np\n",
    "import pandas as pd\n",
    "import proteinsolver\n",
    "import psutil\n",
    "import pyarrow as pa\n",
    "import pyarrow.parquet as pq\n",
    "import torch\n",
    "from kmbio import PDB\n",
    "from scipy import stats\n",
    "from tqdm.notebook import tqdm"
   ]
  },
  {
   "cell_type": "code",
   "execution_count": null,
   "metadata": {},
   "outputs": [],
   "source": [
    "DEBUG = \"CI\" not in os.environ"
   ]
  },
  {
   "cell_type": "code",
   "execution_count": null,
   "metadata": {},
   "outputs": [],
   "source": [
    "if DEBUG:\n",
    "    %load_ext autoreload\n",
    "    %autoreload 2"
   ]
  },
  {
   "cell_type": "code",
   "execution_count": null,
   "metadata": {},
   "outputs": [],
   "source": [
    "%matplotlib inline\n",
    "\n",
    "try:\n",
    "    inline_rc\n",
    "except NameError:\n",
    "    inline_rc = mpl.rcParams.copy()\n",
    "    \n",
    "mpl.rcParams.update({\"font.size\": 12})"
   ]
  },
  {
   "cell_type": "markdown",
   "metadata": {},
   "source": [
    "## Parameters"
   ]
  },
  {
   "cell_type": "code",
   "execution_count": null,
   "metadata": {},
   "outputs": [],
   "source": [
    "UNIQUE_ID = \"191f05de\"  # No attention\n",
    "# UNIQUE_ID = \"0007604c\"  # 5-layer graph-conv with attention, batch_size=1\n",
    "# UNIQUE_ID = \"91fc9ab9\"  # 4-layer graph-conv with attention, batch_size=4"
   ]
  },
  {
   "cell_type": "code",
   "execution_count": null,
   "metadata": {},
   "outputs": [],
   "source": [
    "BEST_STATE_FILES = {\n",
    "    #\n",
    "    \"191f05de\": \"protein_train/191f05de/e53-s1952148-d93703104.state\"\n",
    "}"
   ]
  },
  {
   "cell_type": "code",
   "execution_count": null,
   "metadata": {},
   "outputs": [],
   "source": [
    "NOTEBOOK_NAME = \"06_global_analysis_of_protein_folding\"\n",
    "NOTEBOOK_PATH = Path(NOTEBOOK_NAME).resolve()\n",
    "NOTEBOOK_PATH.mkdir(exist_ok=True)\n",
    "NOTEBOOK_PATH"
   ]
  },
  {
   "cell_type": "code",
   "execution_count": null,
   "metadata": {},
   "outputs": [],
   "source": [
    "INPUT_PATH = Path(os.getenv(\"DATAPKG_INPUT_DIR\"))\n",
    "INPUT_PATH"
   ]
  },
  {
   "cell_type": "code",
   "execution_count": null,
   "metadata": {},
   "outputs": [],
   "source": [
    "DATAPKG_DATA_DIR = Path(f\"~/datapkg_data_dir\").expanduser().resolve()\n",
    "DATAPKG_DATA_DIR"
   ]
  },
  {
   "cell_type": "code",
   "execution_count": null,
   "metadata": {},
   "outputs": [],
   "source": [
    "device = torch.device(\"cuda:0\" if torch.cuda.is_available() else \"cpu\")\n",
    "device"
   ]
  },
  {
   "cell_type": "code",
   "execution_count": null,
   "metadata": {},
   "outputs": [],
   "source": [
    "proteinsolver.settings.data_url = DATAPKG_DATA_DIR.as_posix()\n",
    "proteinsolver.settings.data_url"
   ]
  },
  {
   "cell_type": "markdown",
   "metadata": {
    "toc-hr-collapsed": false
   },
   "source": [
    "## Load data"
   ]
  },
  {
   "cell_type": "code",
   "execution_count": null,
   "metadata": {},
   "outputs": [],
   "source": [
    "!ls {INPUT_PATH}/global_analysis_of_protein_folding"
   ]
  },
  {
   "cell_type": "code",
   "execution_count": null,
   "metadata": {},
   "outputs": [],
   "source": [
    "!ls {INPUT_PATH}/global_analysis_of_protein_folding/aan0693_designed-PDB-files"
   ]
  },
  {
   "cell_type": "code",
   "execution_count": null,
   "metadata": {},
   "outputs": [],
   "source": [
    "!ls {INPUT_PATH}/global_analysis_of_protein_folding/aan0693_SI_datasets"
   ]
  },
  {
   "cell_type": "markdown",
   "metadata": {},
   "source": [
    "### aan0693_SI_datasets"
   ]
  },
  {
   "cell_type": "code",
   "execution_count": null,
   "metadata": {},
   "outputs": [],
   "source": [
    "!ls {INPUT_PATH}/global_analysis_of_protein_folding/aan0693_SI_datasets/stability_scores"
   ]
  },
  {
   "cell_type": "code",
   "execution_count": null,
   "metadata": {},
   "outputs": [],
   "source": [
    "def remove_controls(df):\n",
    "    df = df[\n",
    "        (~df[\"name\"].str.endswith(\"_hp\")) & (~df[\"name\"].str.endswith(\"_random\")) & (~df[\"name\"].str.endswith(\"_buryD\"))\n",
    "    ]\n",
    "    return df"
   ]
  },
  {
   "cell_type": "code",
   "execution_count": null,
   "metadata": {},
   "outputs": [],
   "source": [
    "def load_stability_scores(key):\n",
    "    stability_scores = pd.read_csv(\n",
    "        INPUT_PATH\n",
    "        / \"global_analysis_of_protein_folding\"\n",
    "        / \"aan0693_SI_datasets\"\n",
    "        / \"stability_scores\"\n",
    "        / f\"{key}_stability_scores\",\n",
    "        sep=\"\\t\",\n",
    "    )\n",
    "    stability_scores = remove_controls(stability_scores)\n",
    "\n",
    "    for energy_function in [\"talaris2013\", \"betanov15\"]:\n",
    "        rosetta_energies_file = (\n",
    "            INPUT_PATH\n",
    "            / \"global_analysis_of_protein_folding\"\n",
    "            / \"aan0693_SI_datasets\"\n",
    "            / \"design_structural_metrics\"\n",
    "            / f\"{key}_relax_scored_{'filtered_' if energy_function == 'betanov15' else ''}{energy_function}.sc\"\n",
    "        )\n",
    "        if not rosetta_energies_file.is_file():\n",
    "            print(f\"Not loading Rosetta energies for {energy_function}!\")\n",
    "            continue\n",
    "\n",
    "        before_ = len(stability_scores)\n",
    "        relax_scored_filtered = pd.read_csv(\n",
    "            rosetta_energies_file, sep=\"\\t\" if energy_function == \"betanov15\" else \" +\", engine=\"python\"\n",
    "        ).rename(columns={\"description\": \"name\", \"total_score\": f\"{energy_function}_score\"})\n",
    "        stability_scores = stability_scores.merge(\n",
    "            relax_scored_filtered[[\"name\", f\"{energy_function}_score\"]], on=\"name\", how=\"outer\"\n",
    "        )\n",
    "#         assert len(stability_scores) == before_, (len(stability_scores), before_)\n",
    "\n",
    "    stability_scores[\"library_name\"] = key\n",
    "    return stability_scores"
   ]
  },
  {
   "cell_type": "markdown",
   "metadata": {},
   "source": [
    "### stability_scores"
   ]
  },
  {
   "cell_type": "code",
   "execution_count": null,
   "metadata": {},
   "outputs": [],
   "source": [
    "# stability_scores = {}"
   ]
  },
  {
   "cell_type": "code",
   "execution_count": null,
   "metadata": {},
   "outputs": [],
   "source": [
    "# for key in [\"rd1\", \"rd2\", \"rd3\", \"rd4\", \"ssm2\"]:\n",
    "#     stability_scores[key] = load_stability_scores(key)"
   ]
  },
  {
   "cell_type": "code",
   "execution_count": null,
   "metadata": {},
   "outputs": [],
   "source": [
    "# stability_scores[\"fig1\"] = pd.read_csv(\n",
    "#     INPUT_PATH / \"global_analysis_of_protein_folding\" / \"aan0693_SI_datasets\" / \"fig1_thermodynamic_data.csv\"\n",
    "# ).assign(library_name=\"fig1\")"
   ]
  },
  {
   "cell_type": "code",
   "execution_count": null,
   "metadata": {},
   "outputs": [],
   "source": [
    "stability_scores = torch.load(NOTEBOOK_PATH.joinpath(\"stability_scores.torch\"))"
   ]
  },
  {
   "cell_type": "markdown",
   "metadata": {},
   "source": [
    "## Load model"
   ]
  },
  {
   "cell_type": "code",
   "execution_count": null,
   "metadata": {},
   "outputs": [],
   "source": [
    "%run protein_train/{UNIQUE_ID}/model.py"
   ]
  },
  {
   "cell_type": "code",
   "execution_count": null,
   "metadata": {},
   "outputs": [],
   "source": [
    "batch_size = 1\n",
    "num_features = 20\n",
    "adj_input_size = 2\n",
    "hidden_size = 128\n",
    "frac_present = 0.5\n",
    "frac_present_valid = frac_present\n",
    "info_size= 1024"
   ]
  },
  {
   "cell_type": "code",
   "execution_count": null,
   "metadata": {},
   "outputs": [],
   "source": [
    "state_file = BEST_STATE_FILES[UNIQUE_ID]\n",
    "state_file"
   ]
  },
  {
   "cell_type": "code",
   "execution_count": null,
   "metadata": {},
   "outputs": [],
   "source": [
    "net = Net(\n",
    "    x_input_size=num_features + 1, adj_input_size=adj_input_size, hidden_size=hidden_size, output_size=num_features\n",
    ")\n",
    "net.load_state_dict(torch.load(state_file, map_location=device))\n",
    "net.eval()\n",
    "net = net.to(device)"
   ]
  },
  {
   "cell_type": "markdown",
   "metadata": {},
   "source": [
    "## Mutation probabilities"
   ]
  },
  {
   "cell_type": "markdown",
   "metadata": {},
   "source": [
    "### Test network"
   ]
  },
  {
   "cell_type": "code",
   "execution_count": null,
   "metadata": {},
   "outputs": [],
   "source": [
    "NOTEBOOK_PATH.parents[2]"
   ]
  },
  {
   "cell_type": "code",
   "execution_count": null,
   "metadata": {},
   "outputs": [],
   "source": [
    "dataset = []\n",
    "for structure_id in [\"5vli02\", \"1n5uA03\", \"4z8jA00\", \"4unuA00\", \"4beuA02\"]:\n",
    "    structure_file = Path(\n",
    "        os.getenv(\n",
    "            \"STRUCTURE_FILE\",\n",
    "            NOTEBOOK_PATH.parent.parent\n",
    "            / \"proteinsolver\"\n",
    "            / \"data\"\n",
    "            / \"inputs\"\n",
    "            / f\"{structure_id}.pdb\",\n",
    "        )\n",
    "    ).resolve()\n",
    "    structure = PDB.load(structure_file)\n",
    "    pdata = proteinsolver.utils.extract_seq_and_adj(structure, list(structure[0])[0].id)\n",
    "    data = proteinsolver.datasets.protein.row_to_data(pdata)\n",
    "    data = proteinsolver.datasets.protein.transform_edge_attr(data)\n",
    "    dataset.append(data)"
   ]
  },
  {
   "cell_type": "code",
   "execution_count": null,
   "metadata": {},
   "outputs": [],
   "source": [
    "start_time = time.perf_counter()\n",
    "for data in tqdm(dataset):\n",
    "    data = data.to(device)\n",
    "    out = net(data.x, data.edge_index, data.edge_attr)\n",
    "    data.x[0] = 0\n",
    "    out = net(data.x, data.edge_index, data.edge_attr)\n",
    "print(f\"Elapsed time: {time.perf_counter() - start_time}.\")"
   ]
  },
  {
   "cell_type": "code",
   "execution_count": null,
   "metadata": {},
   "outputs": [],
   "source": [
    "start_time = time.perf_counter()\n",
    "for data in tqdm(dataset):\n",
    "    data = data.to(device)\n",
    "    proteinsolver.utils.scan_with_mask(net, data.x, data.edge_index, data.edge_attr, 20)\n",
    "print(f\"Elapsed time: {time.perf_counter() - start_time}.\")"
   ]
  },
  {
   "cell_type": "code",
   "execution_count": null,
   "metadata": {},
   "outputs": [],
   "source": []
  }
 ],
 "metadata": {
  "kernelspec": {
   "display_name": "Python 3",
   "language": "python",
   "name": "python3"
  },
  "language_info": {
   "codemirror_mode": {
    "name": "ipython",
    "version": 3
   },
   "file_extension": ".py",
   "mimetype": "text/x-python",
   "name": "python",
   "nbconvert_exporter": "python",
   "pygments_lexer": "ipython3",
   "version": "3.7.6"
  }
 },
 "nbformat": 4,
 "nbformat_minor": 4
}
