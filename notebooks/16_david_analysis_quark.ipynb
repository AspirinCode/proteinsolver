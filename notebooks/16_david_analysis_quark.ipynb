{
 "cells": [
  {
   "cell_type": "markdown",
   "metadata": {},
   "source": [
    "## Summary\n",
    "\n",
    "----"
   ]
  },
  {
   "cell_type": "markdown",
   "metadata": {},
   "source": [
    "## Imports"
   ]
  },
  {
   "cell_type": "code",
   "execution_count": 1,
   "metadata": {},
   "outputs": [
    {
     "data": {
      "application/vnd.jupyter.widget-view+json": {
       "model_id": "d8ec823671174bdf80797072cc37a09f",
       "version_major": 2,
       "version_minor": 0
      },
      "text/plain": [
       "_ColormakerRegistry()"
      ]
     },
     "metadata": {},
     "output_type": "display_data"
    },
    {
     "name": "stderr",
     "output_type": "stream",
     "text": [
      "/home/strokach/env/lib/python3.7/site-packages/Bio/KDTree/__init__.py:27: BiopythonDeprecationWarning: Bio.KDTree has been deprecated, and we intend to remove it in a future release of Biopython. Please use Bio.PDB.kdtrees instead, which is functionally very similar.\n",
      "  BiopythonDeprecationWarning,\n"
     ]
    }
   ],
   "source": [
    "import copy\n",
    "import os\n",
    "import time\n",
    "from pathlib import Path\n",
    "\n",
    "import nglview\n",
    "import numpy as np\n",
    "import pandas as pd\n",
    "from IPython.display import Image\n",
    "\n",
    "import matplotlib.pyplot as plt\n",
    "import proteinsolver\n",
    "from kmbio import PDB"
   ]
  },
  {
   "cell_type": "code",
   "execution_count": 2,
   "metadata": {},
   "outputs": [],
   "source": [
    "pd.set_option(\"max_row\", 1000)\n",
    "pd.set_option(\"max_column\", 1000)"
   ]
  },
  {
   "cell_type": "markdown",
   "metadata": {},
   "source": [
    "## Parameters"
   ]
  },
  {
   "cell_type": "code",
   "execution_count": 3,
   "metadata": {},
   "outputs": [
    {
     "data": {
      "text/plain": [
       "PosixPath('/home/kimlab1/strokach/workspace/proteinsolver/notebooks/16_david_analysis_quark')"
      ]
     },
     "execution_count": 3,
     "metadata": {},
     "output_type": "execute_result"
    }
   ],
   "source": [
    "NOTEBOOK_NAME = \"16_david_analysis_quark\"\n",
    "NOTEBOOK_PATH = Path(NOTEBOOK_NAME).resolve()\n",
    "NOTEBOOK_PATH.mkdir(exist_ok=True)\n",
    "NOTEBOOK_PATH"
   ]
  },
  {
   "cell_type": "code",
   "execution_count": 4,
   "metadata": {},
   "outputs": [
    {
     "data": {
      "text/plain": [
       "'4unu'"
      ]
     },
     "execution_count": 4,
     "metadata": {},
     "output_type": "execute_result"
    }
   ],
   "source": [
    "# STRUCTURE_ID = \"1n5u\"  # poster\n",
    "# STRUCTURE_ID = \"4z8j\"\n",
    "STRUCTURE_ID = \"4unu\"\n",
    "# STRUCTURE_ID = \"4beu\"  # poster\n",
    "\n",
    "STRUCTURE_ID"
   ]
  },
  {
   "cell_type": "code",
   "execution_count": 5,
   "metadata": {},
   "outputs": [],
   "source": [
    "STRUCTURE_NAMES = {\n",
    "    #\n",
    "    \"1n5u\": \"1n5uA03\",\n",
    "    \"4beu\": \"4beuA02\",\n",
    "    \"4z8j\": \"4z8jA00\",\n",
    "    \"4unu\": \"4unuA00\",\n",
    "}\n",
    "\n",
    "STRUCTURE_FILE = Path(proteinsolver.__path__[0]).joinpath(\"data\", \"inputs\", f\"{STRUCTURE_NAMES[STRUCTURE_ID]}.pdb\")\n",
    "assert STRUCTURE_FILE.is_file()"
   ]
  },
  {
   "cell_type": "code",
   "execution_count": 6,
   "metadata": {},
   "outputs": [],
   "source": [
    "MODEL_SUBFOLDERS = {\n",
    "    #\n",
    "    \"1n5u\": \"QA4879\",\n",
    "    \"4beu\": \"QA4880\",\n",
    "    \"4z8j\": \"QA4902\",\n",
    "    \"4unu\": \"QA4893\",\n",
    "}\n",
    "\n",
    "MODEL_FILE = NOTEBOOK_PATH.joinpath(\"Quark\", STRUCTURE_ID, MODEL_SUBFOLDERS[STRUCTURE_ID], \"model1.pdb\")"
   ]
  },
  {
   "cell_type": "code",
   "execution_count": 7,
   "metadata": {},
   "outputs": [],
   "source": [
    "ORIENTATIONS = {\n",
    "    \"1n5u\": [\n",
    "        43.000235831433194,\n",
    "        -5.550381294767174,\n",
    "        -32.49843992783927,\n",
    "        0,\n",
    "        25.444615585674025,\n",
    "        39.5510614767004,\n",
    "        26.91209180987381,\n",
    "        0,\n",
    "        20.96489608745896,\n",
    "        -36.61806132728099,\n",
    "        33.99362187959817,\n",
    "        0,\n",
    "        -35.0819034576416,\n",
    "        -9.174790382385254,\n",
    "        -4.088220119476318,\n",
    "        1,\n",
    "    ],\n",
    "    \"4z8j\": [\n",
    "        6727725260488,\n",
    "        13.053016191055,\n",
    "        0,\n",
    "        -31.621760287315702,\n",
    "        15.795202008820427,\n",
    "        59.95156556753002,\n",
    "        0,\n",
    "        38.35759631472927,\n",
    "        -47.88805958313651,\n",
    "        32.84878838684845,\n",
    "        0,\n",
    "        3.4756088256835938,\n",
    "        -5.889947414398193,\n",
    "        6.526662826538086,\n",
    "        1,\n",
    "    ],\n",
    "    \"4z8j\": [\n",
    "        38.56395789892707,\n",
    "        -2.475623293770176,\n",
    "        52.77879474940134,\n",
    "        0,\n",
    "        27.519522419952263,\n",
    "        56.72017890850758,\n",
    "        -17.447232591065386,\n",
    "        0,\n",
    "        -45.10438749910903,\n",
    "        32.49001890760264,\n",
    "        34.48045293258368,\n",
    "        0,\n",
    "        -8.420963764190674,\n",
    "        -3.637119770050049,\n",
    "        -16.13066938519478,\n",
    "        1,\n",
    "    ],\n",
    "    \"4beu\": [\n",
    "        56.1060851095829,\n",
    "        31.380589143088347,\n",
    "        60.173765033863994,\n",
    "        0,\n",
    "        9.705000472391331,\n",
    "        73.5625642506499,\n",
    "        -47.41179459102586,\n",
    "        0,\n",
    "        -67.1672266745388,\n",
    "        36.84187733467765,\n",
    "        43.413775405387696,\n",
    "        0,\n",
    "        -15.809061646461487,\n",
    "        -23.35176646709442,\n",
    "        -18.411685943603516,\n",
    "        1,\n",
    "    ],\n",
    "}"
   ]
  },
  {
   "cell_type": "markdown",
   "metadata": {},
   "source": [
    "## View structures"
   ]
  },
  {
   "cell_type": "code",
   "execution_count": 8,
   "metadata": {},
   "outputs": [],
   "source": [
    "structure_all = PDB.load(STRUCTURE_FILE)\n",
    "structure = PDB.Structure(STRUCTURE_FILE.name + \"A\", structure_all[0].extract('A'))\n",
    "assert len(list(structure.chains)) == 1"
   ]
  },
  {
   "cell_type": "code",
   "execution_count": 9,
   "metadata": {},
   "outputs": [],
   "source": [
    "model = PDB.load(MODEL_FILE)\n",
    "assert len(list(model.chains)) == 1"
   ]
  },
  {
   "cell_type": "code",
   "execution_count": 10,
   "metadata": {},
   "outputs": [
    {
     "data": {
      "application/vnd.jupyter.widget-view+json": {
       "model_id": "fd3a04d31f634b639551cd878b6bb20b",
       "version_major": 2,
       "version_minor": 0
      },
      "text/plain": [
       "NGLWidget()"
      ]
     },
     "metadata": {},
     "output_type": "display_data"
    }
   ],
   "source": [
    "view = PDB.view_structure(structure)\n",
    "view.add_component(PDB.structure_to_ngl(model))\n",
    "\n",
    "view"
   ]
  },
  {
   "cell_type": "code",
   "execution_count": 11,
   "metadata": {},
   "outputs": [
    {
     "name": "stdout",
     "output_type": "stream",
     "text": [
      "34.52254929272022\n"
     ]
    }
   ],
   "source": [
    "model_aligned = copy.deepcopy(model)\n",
    "\n",
    "if STRUCTURE_ID == \"4beu\":\n",
    "    i = 0\n",
    "    structure_slice = slice(i, -17 + i)\n",
    "else:\n",
    "    structure_slice = slice(None, None)\n",
    "\n",
    "fixed = [a for r in list(structure[0][\"A\"])[structure_slice] for a in r if a.id in [\"N\", \"CA\", \"C\", \"O\"]]\n",
    "moving = [a for r in model[0][\" \"] for a in r if a.id in [\"N\", \"CA\", \"C\", \"O\"]]\n",
    "\n",
    "sup = PDB.Superimposer()\n",
    "sup.set_atoms(fixed, moving)\n",
    "sup.apply(list(model_aligned.atoms))\n",
    "\n",
    "distance = np.linalg.norm(\n",
    "    np.array([a.coord for r in list(structure.residues)[structure_slice] for a in r if a.id in [\"N\", \"CA\", \"C\", \"O\"]])\n",
    "    - np.array([a.coord for a in model_aligned.atoms if a.id in [\"N\", \"CA\", \"C\", \"O\"]])\n",
    ")\n",
    "print(distance)"
   ]
  },
  {
   "cell_type": "code",
   "execution_count": 12,
   "metadata": {},
   "outputs": [
    {
     "data": {
      "application/vnd.jupyter.widget-view+json": {
       "model_id": "7965a3a66705498e893bc7c69ccddd89",
       "version_major": 2,
       "version_minor": 0
      },
      "text/plain": [
       "NGLWidget()"
      ]
     },
     "metadata": {},
     "output_type": "display_data"
    }
   ],
   "source": [
    "view = PDB.view_structure(model_aligned)\n",
    "view.add_component(PDB.structure_to_ngl(structure))\n",
    "\n",
    "view.component_0.clear_representations()\n",
    "view.component_0.add_representation(\"cartoon\", color=\"white\")\n",
    "\n",
    "view.component_1.clear_representations()\n",
    "view.component_1.add_representation(\"cartoon\")\n",
    "\n",
    "if STRUCTURE_ID in ORIENTATIONS:\n",
    "    view._remote_call(\"orient\", target=\"viewerControls\", args=(ORIENTATIONS[STRUCTURE_ID],))\n",
    "\n",
    "view"
   ]
  },
  {
   "cell_type": "code",
   "execution_count": 13,
   "metadata": {},
   "outputs": [],
   "source": [
    "time.sleep(2)\n",
    "img = view.render_image(factor=5, antialias=True, trim=True, transparent=True)\n",
    "time.sleep(2)"
   ]
  },
  {
   "cell_type": "code",
   "execution_count": 14,
   "metadata": {},
   "outputs": [
    {
     "name": "stdout",
     "output_type": "stream",
     "text": [
      "/home/kimlab1/strokach/workspace/proteinsolver/notebooks/16_david_analysis_quark/quark-aligned-4unu.png\n"
     ]
    }
   ],
   "source": [
    "screenshot_file = NOTEBOOK_PATH.joinpath(f\"quark-aligned-{STRUCTURE_ID}.png\")\n",
    "print(screenshot_file)\n",
    "\n",
    "with screenshot_file.open(\"wb\") as fout:\n",
    "    fout.write(img.value)"
   ]
  },
  {
   "cell_type": "code",
   "execution_count": 16,
   "metadata": {},
   "outputs": [
    {
     "data": {
      "text/plain": [
       "[38.56395789892707,\n",
       " -2.475623293770176,\n",
       " 52.77879474940134,\n",
       " 0,\n",
       " 27.519522419952263,\n",
       " 56.72017890850758,\n",
       " -17.447232591065386,\n",
       " 0,\n",
       " -45.10438749910903,\n",
       " 32.49001890760264,\n",
       " 34.48045293258368,\n",
       " 0,\n",
       " -8.420963764190674,\n",
       " -3.637119770050049,\n",
       " -16.13066938519478,\n",
       " 1]"
      ]
     },
     "execution_count": 16,
     "metadata": {},
     "output_type": "execute_result"
    }
   ],
   "source": [
    "view.get_state()[\"_camera_orientation\"]"
   ]
  },
  {
   "cell_type": "code",
   "execution_count": null,
   "metadata": {},
   "outputs": [],
   "source": []
  }
 ],
 "metadata": {
  "kernelspec": {
   "display_name": "Python 3",
   "language": "python",
   "name": "python3"
  },
  "language_info": {
   "codemirror_mode": {
    "name": "ipython",
    "version": 3
   },
   "file_extension": ".py",
   "mimetype": "text/x-python",
   "name": "python",
   "nbconvert_exporter": "python",
   "pygments_lexer": "ipython3",
   "version": "3.7.6"
  }
 },
 "nbformat": 4,
 "nbformat_minor": 4
}
