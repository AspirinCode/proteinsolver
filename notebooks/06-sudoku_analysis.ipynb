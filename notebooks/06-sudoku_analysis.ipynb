{
 "cells": [
  {
   "cell_type": "markdown",
   "metadata": {
    "colab_type": "text",
    "id": "eoBMUoW2Hvhp",
    "toc-hr-collapsed": true
   },
   "source": [
    "# Imports"
   ]
  },
  {
   "cell_type": "code",
   "execution_count": 91,
   "metadata": {
    "colab": {},
    "colab_type": "code",
    "id": "TbKxMUZWHvhq"
   },
   "outputs": [],
   "source": [
    "import os\n",
    "import sys\n",
    "import tempfile\n",
    "import time\n",
    "from collections import deque\n",
    "from pathlib import Path\n",
    "\n",
    "import matplotlib as mpl\n",
    "import matplotlib.pyplot as plt\n",
    "import numpy as np\n",
    "import pandas as pd\n",
    "import pyarrow\n",
    "import torch\n",
    "import torch.nn as nn\n",
    "from matplotlib import cm\n",
    "from torch.utils.data import DataLoader"
   ]
  },
  {
   "cell_type": "code",
   "execution_count": 7,
   "metadata": {},
   "outputs": [],
   "source": [
    "DEBUG = \"CI\" in os.environ"
   ]
  },
  {
   "cell_type": "code",
   "execution_count": 8,
   "metadata": {
    "colab": {},
    "colab_type": "code",
    "id": "4fFnAyUOHvhv"
   },
   "outputs": [],
   "source": [
    "if DEBUG:\n",
    "    %load_ext autoreload\n",
    "    %autoreload 2"
   ]
  },
  {
   "cell_type": "code",
   "execution_count": 9,
   "metadata": {
    "colab": {
     "base_uri": "https://localhost:8080/",
     "height": 334
    },
    "colab_type": "code",
    "id": "rczy7pPiHvhs",
    "outputId": "8e4673d7-4cc7-4f8e-ffc4-de94302e5fab"
   },
   "outputs": [],
   "source": [
    "import proteinsolver\n",
    "import proteinsolver.datasets"
   ]
  },
  {
   "cell_type": "code",
   "execution_count": 216,
   "metadata": {},
   "outputs": [],
   "source": [
    "%matplotlib inline\n",
    "\n",
    "try:\n",
    "    inline_rc\n",
    "except NameError:\n",
    "    inline_rc = mpl.rcParams.copy()\n",
    "    \n",
    "mpl.rcParams.update({\"font.size\": 12})"
   ]
  },
  {
   "cell_type": "markdown",
   "metadata": {
    "colab_type": "text",
    "id": "dsEY3dtLHvhy",
    "toc-hr-collapsed": true
   },
   "source": [
    "# Datasets"
   ]
  },
  {
   "cell_type": "code",
   "execution_count": 11,
   "metadata": {},
   "outputs": [
    {
     "data": {
      "text/plain": [
       "PosixPath('/home/strokach/ml_data')"
      ]
     },
     "execution_count": 11,
     "metadata": {},
     "output_type": "execute_result"
    }
   ],
   "source": [
    "DATA_ROOT = Path(tempfile.gettempdir())\n",
    "DATA_ROOT = Path(\"/home/strokach/ml_data\")\n",
    "DATA_ROOT.mkdir(exist_ok=True)\n",
    "DATA_ROOT"
   ]
  },
  {
   "cell_type": "code",
   "execution_count": 12,
   "metadata": {},
   "outputs": [
    {
     "data": {
      "text/plain": [
       "PosixPath('sudoku_analysis')"
      ]
     },
     "execution_count": 12,
     "metadata": {},
     "output_type": "execute_result"
    }
   ],
   "source": [
    "NOTEBOOK_NAME = \"sudoku_analysis\"\n",
    "NOTEBOOK_PATH = Path(NOTEBOOK_NAME)\n",
    "NOTEBOOK_PATH.mkdir(exist_ok=True)\n",
    "NOTEBOOK_PATH"
   ]
  },
  {
   "cell_type": "markdown",
   "metadata": {},
   "source": [
    "## Sudoku"
   ]
  },
  {
   "cell_type": "code",
   "execution_count": 13,
   "metadata": {
    "colab": {},
    "colab_type": "code",
    "id": "ZP3bLDO9PgT9"
   },
   "outputs": [],
   "source": [
    "sudoku_dataset_train = proteinsolver.datasets.SudokuDataset3(root=DATA_ROOT.joinpath(\"sudoku_train\"))"
   ]
  },
  {
   "cell_type": "code",
   "execution_count": 14,
   "metadata": {},
   "outputs": [],
   "source": [
    "sudoku_dataset_valid = proteinsolver.datasets.SudokuDataset2(root=DATA_ROOT.joinpath(\"sudoku_valid\"), subset=\"sudoku_valid\")"
   ]
  },
  {
   "cell_type": "code",
   "execution_count": 15,
   "metadata": {},
   "outputs": [],
   "source": [
    "sudoku_dataset_test = proteinsolver.datasets.SudokuDataset2(root=DATA_ROOT.joinpath(\"sudoku_test\"), subset=\"sudoku_test\")"
   ]
  },
  {
   "cell_type": "markdown",
   "metadata": {},
   "source": [
    "# Training plots"
   ]
  },
  {
   "cell_type": "code",
   "execution_count": 16,
   "metadata": {},
   "outputs": [],
   "source": [
    "training_logs = {}"
   ]
  },
  {
   "cell_type": "code",
   "execution_count": 17,
   "metadata": {},
   "outputs": [],
   "source": [
    "df = pd.read_csv(\"sudoku_4xEdgeConv.bak/training.log\", sep=' +', engine='python')\n",
    "df = df[df[\"datapoint\"] != \"datapoint\"]\n",
    "\n",
    "for c in [\"step\", \"datapoint\"]:\n",
    "    df[c] = df[c].astype(np.int)\n",
    "\n",
    "for c in [\"avg_loss\", \"accuracy\", \"accuracy_m\", \"accuracy_mv\", \"time_elapsed\"]:\n",
    "    df[c] = df[c].astype(np.float)\n",
    "\n",
    "training_logs[\"sudoku_4xEdgeConv_bs4\"] = df\n",
    "training_logs[\"sudoku_4xEdgeConv_bs4\"].head(2)\n",
    "\n",
    "#\n",
    "datapoint_offsets = np.zeros(len(training_logs[\"sudoku_4xEdgeConv_bs4\"]))\n",
    "\n",
    "prev_datapoint = 0\n",
    "cur_offset = 0\n",
    "for i, datapoint in enumerate(training_logs[\"sudoku_4xEdgeConv_bs4\"][\"datapoint\"]):\n",
    "    if datapoint <= prev_datapoint:\n",
    "        cur_offset += prev_datapoint\n",
    "    prev_datapoint = datapoint\n",
    "    datapoint_offsets[i] = cur_offset\n",
    "\n",
    "training_logs[\"sudoku_4xEdgeConv_bs4\"][\"datapoint\"] += datapoint_offsets\n",
    "\n",
    "assert (training_logs[\"sudoku_4xEdgeConv_bs4\"][\"datapoint\"].value_counts() == 1).all()"
   ]
  },
  {
   "cell_type": "code",
   "execution_count": 18,
   "metadata": {},
   "outputs": [],
   "source": [
    "training_logs[\"sudoku_4xEdgeConv\"] = pd.read_csv(\"sudoku_4xEdgeConv/training.log\", skiprows=1)\n",
    "training_logs[\"sudoku_5xEdgeConv_uniform\"] = pd.read_csv(\"sudoku_5xEdgeConv_uniform/training.log\", skiprows=1)\n",
    "training_logs[\"sudoku_4xEdgeConv_stretch\"] = pd.read_csv(\"sudoku_4xEdgeConv_stretch/training.log\", skiprows=1)\n",
    "training_logs[\"sudoku_4xEdgeConv_p05\"] = pd.read_csv(\"sudoku_4xEdgeConv_p05/training.log\", skiprows=1)"
   ]
  },
  {
   "cell_type": "code",
   "execution_count": 58,
   "metadata": {},
   "outputs": [
    {
     "data": {
      "image/png": "[encoded data removed]",
      "text/plain": [
       "<Figure size 396x288 with 1 Axes>"
      ]
     },
     "metadata": {
      "needs_background": "light"
     },
     "output_type": "display_data"
    }
   ],
   "source": [
    "#### window = 30\n",
    "df = training_logs[\"sudoku_4xEdgeConv_stretch\"]\n",
    "\n",
    "cmap = cm.get_cmap(\"tab10\")\n",
    "\n",
    "fg, ax = plt.subplots(figsize=(5.5, 4))\n",
    "x = df[\"datapoint\"]\n",
    "accuracy_m_mean, accuracy_m_std = df[\"accuracy_m\"].rolling(window=4, min_periods=0).agg(['mean', 'std']).values.T\n",
    "accuracy_mv_mean, accuracy_mv_std = df[\"accuracy_mv\"].rolling(window=4, min_periods=0).agg(['mean', 'std']).values.T\n",
    "#     accuracy_m_mean = df[\"accuracy_m\"]\n",
    "#     accuracy_mv_mean = df[\"accuracy_mv\"]\n",
    "ax.plot(x, accuracy_m_mean, label=\"training\", color=cmap(0))\n",
    "ax.fill_between(x, accuracy_m_mean - accuracy_m_std, accuracy_m_mean + accuracy_m_std, alpha=0.25, color=cmap(0))\n",
    "ax.plot(x, accuracy_mv_mean, label=\"validation\", color=cmap(1))\n",
    "ax.fill_between(x, accuracy_mv_mean - accuracy_mv_std, accuracy_mv_mean + accuracy_mv_std, alpha=0.25, color=cmap(1))\n",
    "#     ax.set_ylim(0.5, 1.005)\n",
    "ax.hlines(1, min(x), max(x), linestyle='--', linewidth=0.5)\n",
    "ax.set_xlabel(\"Number of training examples processed\")\n",
    "ax.set_ylabel(\"Reconstruction accuracy\")\n",
    "ax.ticklabel_format(axis=\"x\", style=\"scientific\", scilimits=(0, 0))\n",
    "ax.legend(framealpha=0.3, loc=\"lower right\")\n",
    "fg.tight_layout()\n",
    "fg.savefig(NOTEBOOK_PATH / \"training_curve.svg\")\n",
    "fg.savefig(NOTEBOOK_PATH / \"training_curve.pdf\")\n",
    "fg.savefig(NOTEBOOK_PATH / \"training_curve.png\", dpi=300)"
   ]
  },
  {
   "cell_type": "markdown",
   "metadata": {},
   "source": [
    "# Validation plots"
   ]
  },
  {
   "cell_type": "markdown",
   "metadata": {
    "colab_type": "text",
    "id": "e3kWuRaxr89h"
   },
   "source": [
    "# Models"
   ]
  },
  {
   "cell_type": "code",
   "execution_count": 37,
   "metadata": {
    "colab": {},
    "colab_type": "code",
    "id": "xGLXgqYlr89j"
   },
   "outputs": [],
   "source": [
    "import torch\n",
    "import torch.nn.functional as F\n",
    "from torch import optim\n",
    "from torch_geometric.data import DataLoader\n",
    "from torch_geometric.nn import ChebConv, EdgeConv, GATConv, GCNConv\n",
    "from torch_geometric.nn.inits import reset\n",
    "from torch_geometric.utils import add_self_loops, remove_self_loops, scatter_"
   ]
  },
  {
   "cell_type": "code",
   "execution_count": 38,
   "metadata": {
    "colab": {},
    "colab_type": "code",
    "id": "72WWaQOXJDdr"
   },
   "outputs": [],
   "source": [
    "class EdgeConvMod(torch.nn.Module):\n",
    "    def __init__(self, nn, aggr=\"max\"):\n",
    "        super().__init__()\n",
    "        self.nn = nn\n",
    "        self.aggr = aggr\n",
    "        self.reset_parameters()\n",
    "\n",
    "    def reset_parameters(self):\n",
    "        reset(self.nn)\n",
    "\n",
    "    def forward(self, x, edge_index, edge_attr=None):\n",
    "        \"\"\"\"\"\"\n",
    "        row, col = edge_index\n",
    "        x = x.unsqueeze(-1) if x.dim() == 1 else x\n",
    "\n",
    "        # TODO: Try -x[col] instead of x[col] - x[row]\n",
    "        if edge_attr is None:\n",
    "            out = torch.cat([x[row], x[col] - x[row]], dim=-1)\n",
    "        else:\n",
    "            out = torch.cat([x[row], x[col] - x[row], edge_attr], dim=-1)\n",
    "        out = self.nn(out)\n",
    "        x = scatter_(self.aggr, out, row, dim_size=x.size(0))\n",
    "\n",
    "        return x, out\n",
    "\n",
    "    def __repr__(self):\n",
    "        return \"{}(nn={})\".format(self.__class__.__name__, self.nn)"
   ]
  },
  {
   "cell_type": "code",
   "execution_count": 39,
   "metadata": {
    "colab": {},
    "colab_type": "code",
    "id": "VDrlxheizsKg"
   },
   "outputs": [],
   "source": [
    "class EdgeConvBatch(nn.Module):\n",
    "    def __init__(self, gnn, hidden_size, batch_norm=True, dropout=0.2):\n",
    "        super().__init__()\n",
    "\n",
    "        self.gnn = gnn\n",
    "\n",
    "        x_post_modules = []\n",
    "        edge_attr_post_modules = []\n",
    "\n",
    "        if batch_norm is not None:\n",
    "            x_post_modules.append(nn.BatchNorm1d(hidden_size))\n",
    "            edge_attr_post_modules.append(nn.BatchNorm1d(hidden_size))\n",
    "\n",
    "        if dropout:\n",
    "            x_post_modules.append(nn.Dropout(dropout))\n",
    "            edge_attr_post_modules.append(nn.Dropout(dropout))\n",
    "\n",
    "        self.x_postprocess = nn.Sequential(*x_post_modules)\n",
    "        self.edge_attr_postprocess = nn.Sequential(*edge_attr_post_modules)\n",
    "\n",
    "    def forward(self, x, edge_index, edge_attr=None):\n",
    "        x, edge_attr = self.gnn(x, edge_index, edge_attr)\n",
    "        x = self.x_postprocess(x)\n",
    "        edge_attr = self.edge_attr_postprocess(edge_attr)\n",
    "        return x, edge_attr"
   ]
  },
  {
   "cell_type": "code",
   "execution_count": 40,
   "metadata": {
    "colab": {},
    "colab_type": "code",
    "id": "tNCaSlrFDGA6"
   },
   "outputs": [],
   "source": [
    "def get_graph_conv_layer(input_size, hidden_size, output_size):\n",
    "    mlp = nn.Sequential(\n",
    "        #\n",
    "        nn.Linear(input_size, hidden_size),\n",
    "        nn.ReLU(),\n",
    "        nn.Linear(hidden_size, output_size),\n",
    "    )\n",
    "    gnn = EdgeConvMod(nn=mlp, aggr=\"add\")\n",
    "    graph_conv = EdgeConvBatch(gnn, output_size, batch_norm=True, dropout=0.2)\n",
    "    return graph_conv"
   ]
  },
  {
   "cell_type": "code",
   "execution_count": 41,
   "metadata": {
    "colab": {},
    "colab_type": "code",
    "id": "tNCaSlrFDGA6"
   },
   "outputs": [],
   "source": [
    "class Net(nn.Module):\n",
    "    def __init__(self, x_input_size, adj_input_size, hidden_size, output_size):\n",
    "        super().__init__()\n",
    "\n",
    "        self.embed_x = nn.Sequential(\n",
    "            nn.Embedding(x_input_size, hidden_size),\n",
    "            nn.ReLU(),\n",
    "            nn.Linear(hidden_size, hidden_size),\n",
    "            nn.BatchNorm1d(hidden_size),\n",
    "            nn.ReLU(),\n",
    "        )\n",
    "\n",
    "        if adj_input_size:\n",
    "            self.embed_adj = nn.Sequential(\n",
    "                nn.BatchNorm1d(adj_input_size),\n",
    "                nn.Linear(adj_input_size, hidden_size),\n",
    "                nn.ReLU(),\n",
    "                nn.Linear(hidden_size, hidden_size),\n",
    "                nn.BatchNorm1d(hidden_size),\n",
    "                nn.ReLU(),\n",
    "            )\n",
    "        else:\n",
    "            self.embed_adj = None\n",
    "\n",
    "        self.graph_conv_1 = get_graph_conv_layer((2 + bool(adj_input_size)) * hidden_size, 2 * hidden_size, hidden_size)\n",
    "        self.graph_conv_2 = get_graph_conv_layer(3 * hidden_size, 2 * hidden_size, hidden_size)\n",
    "        self.graph_conv_3 = get_graph_conv_layer(3 * hidden_size, 2 * hidden_size, hidden_size)\n",
    "        self.graph_conv_4 = get_graph_conv_layer(3 * hidden_size, 2 * hidden_size, hidden_size)\n",
    "#         self.graph_conv_5 = get_graph_conv_layer(3 * hidden_size, 2 * hidden_size, hidden_size)\n",
    "        self.linear_out = nn.Linear(hidden_size, output_size)\n",
    "\n",
    "    def forward(self, x, edge_index, edge_attr=None):\n",
    "\n",
    "        x = self.embed_x(x)\n",
    "        edge_index, _ = remove_self_loops(edge_index)  # We should remove self loops in this case!\n",
    "        edge_attr = self.embed_adj(edge_attr) if edge_attr is not None else None\n",
    "\n",
    "        x_out, edge_attr_out = self.graph_conv_1(x, edge_index, edge_attr)\n",
    "        x += x_out\n",
    "        edge_attr = (edge_attr + edge_attr_out) if edge_attr is not None else edge_attr_out\n",
    "\n",
    "        x = F.relu(x)\n",
    "        edge_attr = F.relu(edge_attr)\n",
    "        x_out, edge_attr_out = self.graph_conv_2(x, edge_index, edge_attr)\n",
    "        x += x_out\n",
    "        edge_attr += edge_attr_out\n",
    "\n",
    "        x = F.relu(x)\n",
    "        edge_attr = F.relu(edge_attr)\n",
    "        x_out, edge_attr_out = self.graph_conv_3(x, edge_index, edge_attr)\n",
    "        x += x_out\n",
    "        edge_attr += edge_attr_out\n",
    "\n",
    "        x = F.relu(x)\n",
    "        edge_attr = F.relu(edge_attr)\n",
    "        x_out, edge_attr_out = self.graph_conv_4(x, edge_index, edge_attr)\n",
    "        x += x_out\n",
    "        edge_attr += edge_attr_out\n",
    "\n",
    "#         x = F.relu(x)\n",
    "#         edge_attr = F.relu(edge_attr)\n",
    "#         x_out, edge_attr_out = self.graph_conv_5(x, edge_index, edge_attr)\n",
    "#         x += x_out\n",
    "#         edge_attr += edge_attr_out\n",
    "\n",
    "        x = self.linear_out(x)\n",
    "        return x"
   ]
  },
  {
   "cell_type": "markdown",
   "metadata": {
    "toc-hr-collapsed": false
   },
   "source": [
    "## Validation"
   ]
  },
  {
   "cell_type": "code",
   "execution_count": 42,
   "metadata": {},
   "outputs": [
    {
     "data": {
      "text/plain": [
       "device(type='cuda', index=2)"
      ]
     },
     "execution_count": 42,
     "metadata": {},
     "output_type": "execute_result"
    }
   ],
   "source": [
    "device = torch.device(\"cuda:2\" if torch.cuda.is_available() else \"cpu\")\n",
    "# device = \"cpu\"\n",
    "device"
   ]
  },
  {
   "cell_type": "code",
   "execution_count": 43,
   "metadata": {},
   "outputs": [],
   "source": [
    "net = Net(x_input_size=10, adj_input_size=None, hidden_size=128, output_size=9)\n",
    "net.load_state_dict(torch.load(\"sudoku_4xEdgeConv_stretch/e27-s210924-d26998272-amv09968.state\"))\n",
    "net.eval()\n",
    "net = net.to(device)"
   ]
  },
  {
   "cell_type": "markdown",
   "metadata": {},
   "source": [
    "### Oneshot"
   ]
  },
  {
   "cell_type": "code",
   "execution_count": 221,
   "metadata": {},
   "outputs": [
    {
     "name": "stdout",
     "output_type": "stream",
     "text": [
      "1000\n",
      "2000\n",
      "3000\n",
      "4000\n",
      "5000\n",
      "6000\n",
      "7000\n",
      "8000\n",
      "9000\n",
      "10000\n"
     ]
    }
   ],
   "source": [
    "results = []\n",
    "for i, data in enumerate(\n",
    "    DataLoader(sudoku_dataset_valid[:10_000], shuffle=False, num_workers=4, batch_size=1, drop_last=False)\n",
    "):\n",
    "    if (i + 1) % 1000 == 0:\n",
    "        print(i + 1)\n",
    "    data = data.to(device)\n",
    "    is_missing = data.x == 9\n",
    "    output = net(data.x, data.edge_index)\n",
    "    output = torch.softmax(output, dim=1)\n",
    "    _, predicted = output.max(dim=1)\n",
    "    num_correct = float((predicted[is_missing] == data.y[is_missing]).sum())\n",
    "    num_total = float(is_missing.sum())\n",
    "    results.append({\"fraction_correct\": num_correct / num_total, \"num_correct\": num_correct, \"num_total\": num_total})\n",
    "results_df = pd.DataFrame(results)"
   ]
  },
  {
   "cell_type": "code",
   "execution_count": 223,
   "metadata": {},
   "outputs": [
    {
     "data": {
      "image/png": "[encoded data removed]",
      "text/plain": [
       "<Figure size 432x288 with 1 Axes>"
      ]
     },
     "metadata": {
      "needs_background": "light"
     },
     "output_type": "display_data"
    }
   ],
   "source": [
    "xlim = (0.35, 1.03)\n",
    "textstr = \"\"\"\\\n",
    "Fraction correct overall: {:.4f}\n",
    "\"\"\".format(\n",
    "    results_df[\"num_correct\"].sum() / results_df[\"num_total\"].sum()\n",
    ").strip()\n",
    "props = dict(facecolor=\"white\", alpha=0.3)\n",
    "\n",
    "with plt.rc_context(rc={\"font.size\": 12}):\n",
    "    fg, ax = plt.subplots(figsize=(6, 4))\n",
    "    data = results_df[\"fraction_correct\"]\n",
    "    assert data.min() >= xlim[0] and data.max() <= xlim[1]\n",
    "    ax.hist(data)\n",
    "    ax.set_ylabel(\"Number of puzzles\")\n",
    "    ax.set_xlabel(\"Fraction of missing values filled correctly\")\n",
    "    ax.set_xlim(*xlim)\n",
    "    #     ax.set_ylim(0, 5)\n",
    "    ax.set_title(\"Validation - Oneshot\")\n",
    "    ax.text(0.04, 0.95, textstr, transform=ax.transAxes, fontsize=\"medium\", verticalalignment=\"top\", bbox=props)\n",
    "fg.savefig(NOTEBOOK_PATH / \"validation-oneshot.svg\")\n",
    "fg.savefig(NOTEBOOK_PATH / \"validation-oneshot.pdf\")\n",
    "fg.savefig(NOTEBOOK_PATH / \"validation-oneshot.png\", dpi=300)"
   ]
  },
  {
   "cell_type": "markdown",
   "metadata": {},
   "source": [
    "### Incremental"
   ]
  },
  {
   "cell_type": "code",
   "execution_count": 224,
   "metadata": {},
   "outputs": [],
   "source": [
    "@torch.no_grad()\n",
    "def design_sudoku(net, x, edge_index):\n",
    "    mask = (x == 9)\n",
    "    if not mask.any():\n",
    "        return x\n",
    "    output = net(x, edge_index)\n",
    "    output = torch.softmax(output, dim=1)\n",
    "    max_pred, max_index = output.max(dim=1)\n",
    "    max_pred[~mask] = -1\n",
    "    _, max_residue = max_pred.max(dim=0)\n",
    "    x[max_residue] = max_index[max_residue]\n",
    "    return design_sudoku(net, x, edge_index)"
   ]
  },
  {
   "cell_type": "code",
   "execution_count": 225,
   "metadata": {},
   "outputs": [
    {
     "name": "stdout",
     "output_type": "stream",
     "text": [
      "1000\n",
      "2000\n",
      "3000\n",
      "4000\n",
      "5000\n",
      "6000\n",
      "7000\n",
      "8000\n",
      "9000\n",
      "10000\n"
     ]
    }
   ],
   "source": [
    "results = []\n",
    "for i, data in enumerate(\n",
    "    DataLoader(sudoku_dataset_valid[:10_000], shuffle=False, num_workers=4, batch_size=1, drop_last=False)\n",
    "):\n",
    "    if (i + 1) % 1000 == 0:\n",
    "        print(i + 1)\n",
    "    data = data.to(device)\n",
    "    x_in = data.x.clone()\n",
    "    is_missing = x_in == 9\n",
    "    predicted = design_sudoku(net, x_in, data.edge_index)\n",
    "    num_correct = float((predicted[is_missing] == data.y[is_missing]).sum())\n",
    "    num_total = float(is_missing.sum())\n",
    "    results.append({\"fraction_correct\": num_correct / num_total, \"num_correct\": num_correct, \"num_total\": num_total})\n",
    "results_df = pd.DataFrame(results)"
   ]
  },
  {
   "cell_type": "code",
   "execution_count": 227,
   "metadata": {},
   "outputs": [
    {
     "data": {
      "image/png": "[encoded data removed]",
      "text/plain": [
       "<Figure size 432x288 with 1 Axes>"
      ]
     },
     "metadata": {
      "needs_background": "light"
     },
     "output_type": "display_data"
    }
   ],
   "source": [
    "xlim = (0.35, 1.03)\n",
    "textstr = \"\"\"\\\n",
    "Fraction correct overall: {:.4f}\n",
    "\"\"\".format(\n",
    "    results_df[\"num_correct\"].sum() / results_df[\"num_total\"].sum()\n",
    ").strip()\n",
    "props = dict(facecolor=\"white\", alpha=0.3)\n",
    "\n",
    "with plt.rc_context(rc={\"font.size\": 12}):\n",
    "    fg, ax = plt.subplots(figsize=(6, 4))\n",
    "    data = results_df[\"fraction_correct\"]\n",
    "    assert data.min() >= xlim[0] and data.max() <= xlim[1]\n",
    "    ax.hist(data, bins=20)\n",
    "    ax.set_ylabel(\"Number of puzzles\")\n",
    "    ax.set_xlabel(\"Fraction of missing values filled correctly\")\n",
    "    ax.set_xlim(*xlim)\n",
    "#     ax.set_ylim(0, 5)\n",
    "    ax.set_title(\"Validation - Incremental\")\n",
    "    ax.text(0.04, 0.95, textstr, transform=ax.transAxes, fontsize=\"medium\", verticalalignment=\"top\", bbox=props)\n",
    "fg.savefig(NOTEBOOK_PATH / \"validation-incremental.svg\")\n",
    "fg.savefig(NOTEBOOK_PATH / \"validation-incremental.pdf\")\n",
    "fg.savefig(NOTEBOOK_PATH / \"validation-incremental.png\", dpi=300)"
   ]
  },
  {
   "cell_type": "markdown",
   "metadata": {},
   "source": [
    "## Test dataset"
   ]
  },
  {
   "cell_type": "code",
   "execution_count": 226,
   "metadata": {},
   "outputs": [
    {
     "data": {
      "text/plain": [
       "device(type='cuda', index=2)"
      ]
     },
     "execution_count": 226,
     "metadata": {},
     "output_type": "execute_result"
    }
   ],
   "source": [
    "device = torch.device(\"cuda:2\" if torch.cuda.is_available() else \"cpu\")\n",
    "# device = \"cpu\"\n",
    "device"
   ]
  },
  {
   "cell_type": "code",
   "execution_count": 227,
   "metadata": {},
   "outputs": [],
   "source": [
    "net = Net(x_input_size=10, adj_input_size=None, hidden_size=128, output_size=9)\n",
    "# net.load_state_dict(torch.load(\"sudoku_4xEdgeConv_stretch/e0-s7812-d999936-amv09791666666666666.state\"))\n",
    "net.load_state_dict(torch.load(\"sudoku_4xEdgeConv_stretch/e27-s210924-d26998272-amv09968.state\"))\n",
    "\n",
    "net.eval()\n",
    "net = net.to(device)"
   ]
  },
  {
   "cell_type": "markdown",
   "metadata": {},
   "source": [
    "### Oneshot"
   ]
  },
  {
   "cell_type": "code",
   "execution_count": 251,
   "metadata": {},
   "outputs": [],
   "source": [
    "results = []\n",
    "for data in sudoku_dataset_test:\n",
    "    data = data.to(device)\n",
    "    is_missing = data.x == 9\n",
    "    output = net(data.x, data.edge_index)\n",
    "    output = torch.softmax(output, dim=1)\n",
    "    _, predicted = output.max(dim=1)\n",
    "    num_correct = float((predicted[is_missing] == data.y[is_missing]).sum())\n",
    "    num_total = float(is_missing.sum())\n",
    "    results.append({\"fraction_correct\": num_correct / num_total, \"num_correct\": num_correct, \"num_total\": num_total})\n",
    "oneshot_results_df = pd.DataFrame(results)"
   ]
  },
  {
   "cell_type": "code",
   "execution_count": 255,
   "metadata": {},
   "outputs": [
    {
     "data": {
      "image/png": "[encoded data removed]",
      "text/plain": [
       "<Figure size 360x288 with 1 Axes>"
      ]
     },
     "metadata": {
      "needs_background": "light"
     },
     "output_type": "display_data"
    }
   ],
   "source": [
    "xlim = (0, 1.03)\n",
    "textstr = \"\"\"\\\n",
    "Fraction correct overall: {:.4f}\n",
    "\"\"\".format(\n",
    "    oneshot_results_df[\"num_correct\"].sum() / oneshot_results_df[\"num_total\"].sum()\n",
    ").strip()\n",
    "props = dict(facecolor=\"white\", alpha=0.3)\n",
    "\n",
    "fg, ax = plt.subplots(figsize=(5, 4))\n",
    "data = oneshot_results_df[\"fraction_correct\"]\n",
    "assert data.min() >= xlim[0] and data.max() <= xlim[1]\n",
    "ax.hist(data, bins=20)\n",
    "ax.set_ylabel(\"Number of puzzles\")\n",
    "ax.set_xlabel(\"Fraction of missing values filled correctly\")\n",
    "ax.set_xlim(*xlim)\n",
    "#     ax.set_ylim(0, 5)\n",
    "# ax.set_title(\"Test - Oneshot\")\n",
    "ax.text(0.04, 0.95, textstr, transform=ax.transAxes, fontsize=\"medium\", verticalalignment=\"top\", bbox=props)\n",
    "fg.tight_layout()\n",
    "fg.savefig(NOTEBOOK_PATH / \"test-oneshot.svg\")\n",
    "fg.savefig(NOTEBOOK_PATH / \"test-oneshot.pdf\")\n",
    "fg.savefig(NOTEBOOK_PATH / \"test-oneshot.png\", dpi=300)"
   ]
  },
  {
   "cell_type": "markdown",
   "metadata": {},
   "source": [
    "### Incremental"
   ]
  },
  {
   "cell_type": "code",
   "execution_count": 256,
   "metadata": {},
   "outputs": [],
   "source": [
    "@torch.no_grad()\n",
    "def design_sudoku(net, x, edge_index, log_conf_lst=None):\n",
    "    mask = (x == 9)\n",
    "    if not mask.any():\n",
    "        return x\n",
    "    \n",
    "    index_array = torch.arange(x.size(0))\n",
    "    \n",
    "    output = net(x, edge_index)\n",
    "    output = output[mask]\n",
    "    index_array = index_array[mask]\n",
    "\n",
    "    max_pred, max_index = torch.softmax(output, dim=1).max(dim=1)\n",
    "\n",
    "    _, max_residue = max_pred.max(dim=0)\n",
    "    if log_conf_lst is not None:\n",
    "        log_conf_lst.append(torch.log(max_pred[max_residue]).data.cpu())\n",
    "\n",
    "    assert x[index_array[max_residue]] == 9\n",
    "    x[index_array[max_residue]] = max_index[max_residue]\n",
    "    return design_sudoku(net, x, edge_index, log_conf_lst)"
   ]
  },
  {
   "cell_type": "code",
   "execution_count": 257,
   "metadata": {},
   "outputs": [
    {
     "name": "stdout",
     "output_type": "stream",
     "text": [
      "0.9400510204081632\n"
     ]
    }
   ],
   "source": [
    "net = Net(x_input_size=10, adj_input_size=None, hidden_size=128, output_size=9)\n",
    "# net.load_state_dict(torch.load(\"sudoku_4xEdgeConv_stretch/e0-s7812-d999936-amv09791666666666666.state\"))\n",
    "net.load_state_dict(torch.load(\"sudoku_4xEdgeConv_stretch/e27-s210924-d26998272-amv09968.state\"))\n",
    "\n",
    "net.eval()\n",
    "net = net.to(device)\n",
    "\n",
    "wrong_preds = []\n",
    "results = []\n",
    "for data in sudoku_dataset_test:\n",
    "    data = data.to(device)\n",
    "    x_in = data.x.clone()\n",
    "    is_missing = x_in == 9\n",
    "    log_conf_lst = []\n",
    "    predicted = design_sudoku(net, x_in, data.edge_index, log_conf_lst)\n",
    "    num_correct = float((predicted[is_missing] == data.y[is_missing]).sum())\n",
    "    num_total = float(is_missing.sum())\n",
    "    results.append(\n",
    "        {\n",
    "            \"fraction_correct\": num_correct / num_total,\n",
    "            \"num_correct\": num_correct,\n",
    "            \"num_total\": num_total,\n",
    "            \"sum_log_prob\": np.sum(log_conf_lst),\n",
    "        }\n",
    "    )\n",
    "    if num_correct < num_total:\n",
    "        wrong_preds.append(\n",
    "            (\n",
    "                data.x.data.cpu().numpy(),\n",
    "                data.edge_index.data.cpu().numpy(),\n",
    "                data.y.data.cpu().numpy(),\n",
    "                predicted.data.cpu().numpy(),\n",
    "            )\n",
    "        )\n",
    "results_df = pd.DataFrame(results)\n",
    "print(results_df[\"num_correct\"].sum() / results_df[\"num_total\"].sum())"
   ]
  },
  {
   "cell_type": "code",
   "execution_count": 260,
   "metadata": {},
   "outputs": [
    {
     "data": {
      "image/png": "[encoded data removed]",
      "text/plain": [
       "<Figure size 360x288 with 1 Axes>"
      ]
     },
     "metadata": {
      "needs_background": "light"
     },
     "output_type": "display_data"
    }
   ],
   "source": [
    "xlim = (0, 1.03)\n",
    "textstr = \"\"\"\\\n",
    "Fraction correct overall: {:.4f}\n",
    "\"\"\".format(\n",
    "    results_df[\"num_correct\"].sum() / results_df[\"num_total\"].sum()\n",
    ").strip()\n",
    "props = dict(facecolor=\"white\", alpha=0.3)\n",
    "\n",
    "fg, ax = plt.subplots(figsize=(5, 4))\n",
    "data = results_df[\"fraction_correct\"]\n",
    "assert data.min() >= xlim[0] and data.max() <= xlim[1]\n",
    "ax.hist(data, bins=20)\n",
    "ax.set_ylabel(\"Number of puzzles\")\n",
    "ax.set_xlabel(\"Fraction of missing values filled correctly\")\n",
    "ax.set_xlim(*xlim)\n",
    "#     ax.set_ylim(0, 5)\n",
    "# ax.set_title(\"Test - Incremental\")\n",
    "ax.text(0.04, 0.95, textstr, transform=ax.transAxes, fontsize=\"medium\", verticalalignment=\"top\", bbox=props)\n",
    "fg.tight_layout()\n",
    "fg.savefig(NOTEBOOK_PATH / \"test-incremental.svg\", bbox_inches=\"tight\")\n",
    "fg.savefig(NOTEBOOK_PATH / \"test-incremental.pdf\", bbox_inches=\"tight\")\n",
    "fg.savefig(NOTEBOOK_PATH / \"test-incremental.png\", dpi=300, bbox_inches=\"tight\")"
   ]
  },
  {
   "cell_type": "code",
   "execution_count": 271,
   "metadata": {},
   "outputs": [
    {
     "data": {
      "image/png": "[encoded data removed]",
      "text/plain": [
       "<Figure size 360x288 with 1 Axes>"
      ]
     },
     "metadata": {
      "needs_background": "light"
     },
     "output_type": "display_data"
    }
   ],
   "source": [
    "xlim = (0, 1.03)\n",
    "textstr = \"\"\"\\\n",
    "Fraction correct overall: {:.4f}\n",
    "\"\"\".format(\n",
    "    results_df[\"num_correct\"].sum() / results_df[\"num_total\"].sum()\n",
    ").strip()\n",
    "props = dict(facecolor=\"white\", alpha=0.3)\n",
    "\n",
    "\n",
    "fg, ax = plt.subplots(figsize=(5, 4))\n",
    "\n",
    "data = oneshot_results_df[\"fraction_correct\"]\n",
    "assert data.min() >= xlim[0] and data.max() <= xlim[1]\n",
    "ax.hist(data, bins=30, range=xlim, alpha=0.8, label=\"oneshot\", color=cm.get_cmap(\"Set1\")(1))\n",
    "\n",
    "data = results_df[\"fraction_correct\"]\n",
    "assert data.min() >= xlim[0] and data.max() <= xlim[1]\n",
    "ax.hist(data, bins=30, range=xlim, alpha=0.8, label=\"incremental\", color=cm.get_cmap(\"Set1\")(0))\n",
    "\n",
    "ax.set_ylabel(\"Number of puzzles\")\n",
    "ax.set_xlabel(\"Fraction of missing values filled correctly\")\n",
    "ax.set_xlim(*xlim)\n",
    "#     ax.set_ylim(0, 5)\n",
    "# ax.set_title(\"Test - Incremental\")\n",
    "ax.text(0.04, 0.95, textstr, transform=ax.transAxes, fontsize=\"medium\", verticalalignment=\"top\", bbox=props)\n",
    "fg.tight_layout()\n",
    "fg.savefig(NOTEBOOK_PATH / \"test-oneshot_incremental.svg\", bbox_inches=\"tight\")\n",
    "fg.savefig(NOTEBOOK_PATH / \"test-oneshot_incremental.pdf\", bbox_inches=\"tight\")\n",
    "fg.savefig(NOTEBOOK_PATH / \"test-oneshot_incremental.png\", dpi=300, bbox_inches=\"tight\")"
   ]
  },
  {
   "cell_type": "code",
   "execution_count": null,
   "metadata": {},
   "outputs": [],
   "source": []
  },
  {
   "cell_type": "code",
   "execution_count": null,
   "metadata": {},
   "outputs": [],
   "source": []
  },
  {
   "cell_type": "code",
   "execution_count": 242,
   "metadata": {},
   "outputs": [
    {
     "data": {
      "text/plain": [
       "tensor([[1., 1., 1.,  ..., 0., 0., 0.],\n",
       "        [1., 1., 1.,  ..., 0., 0., 0.],\n",
       "        [1., 1., 1.,  ..., 0., 0., 0.],\n",
       "        ...,\n",
       "        [0., 0., 0.,  ..., 1., 1., 1.],\n",
       "        [0., 0., 0.,  ..., 1., 1., 1.],\n",
       "        [0., 0., 0.,  ..., 1., 1., 1.]])"
      ]
     },
     "execution_count": 242,
     "metadata": {},
     "output_type": "execute_result"
    }
   ],
   "source": [
    "import torch_geometric\n",
    "torch_geometric.utils.sparse_to_dense(torch.tensor(wrong_preds[0][1]))"
   ]
  },
  {
   "cell_type": "code",
   "execution_count": 235,
   "metadata": {},
   "outputs": [
    {
     "data": {
      "image/png": "[encoded data removed]",
      "text/plain": [
       "<Figure size 396x288 with 1 Axes>"
      ]
     },
     "metadata": {
      "needs_background": "light"
     },
     "output_type": "display_data"
    }
   ],
   "source": [
    "mpl.rcParams.update({\"font.size\": 12})\n",
    "\n",
    "fg, ax = plt.subplots(figsize=(5.5, 4))\n",
    "ax.imshow(torch_geometric.utils.sparse_to_dense(torch.tensor(wrong_preds[0][1])), cmap=\"Greys\")\n",
    "# ax.colorbar()\n",
    "ax.set_xlabel(\"Number position\")\n",
    "ax.set_ylabel(\"Number position\")\n",
    "fg.tight_layout()\n",
    "fg.savefig(NOTEBOOK_PATH.joinpath(\"sudoku_adjacency.svg\"), bbox_inches=\"tight\")\n",
    "fg.savefig(NOTEBOOK_PATH.joinpath(\"sudoku_adjacency.pdf\"), bbox_inches=\"tight\")\n",
    "fg.savefig(NOTEBOOK_PATH.joinpath(\"sudoku_adjacency.png\"), bbox_inches=\"tight\", dpi=300)"
   ]
  },
  {
   "cell_type": "code",
   "execution_count": 219,
   "metadata": {},
   "outputs": [],
   "source": [
    "def plot_sudoku(puzzle, solved=None, pred=None, ax=None):\n",
    "    # Simple plotting statement that ingests a 9x9 array (n), and plots a sudoku-style grid around it.\n",
    "    if ax is None:\n",
    "        _, ax = plt.subplots()\n",
    "\n",
    "    for y in range(10):\n",
    "        ax.plot([-0.05, 9.05], [y, y], color=\"black\", linewidth=1)\n",
    "\n",
    "    for y in range(0, 10, 3):\n",
    "        ax.plot([-0.05, 9.05], [y, y], color=\"black\", linewidth=3)\n",
    "\n",
    "    for x in range(10):\n",
    "        ax.plot([x, x], [-0.05, 9.05], color=\"black\", linewidth=1)\n",
    "\n",
    "    for x in range(0, 10, 3):\n",
    "        ax.plot([x, x], [-0.05, 9.05], color=\"black\", linewidth=3)\n",
    "\n",
    "    ax.axis(\"image\")\n",
    "    ax.axis(\"off\")  # drop the axes, they're not important here\n",
    "\n",
    "    for x in range(9):\n",
    "        for y in range(9):\n",
    "            puzzle_element = puzzle[8 - y][x]  # need to reverse the y-direction for plotting\n",
    "            if puzzle_element > 0:  # ignore the zeros\n",
    "                T = f\"{puzzle_element}\"\n",
    "                ax.text(x + 0.3, y + 0.2, T, fontsize=20)\n",
    "            elif solved is not None and pred is not None:\n",
    "                solved_element = solved[8 - y][x]\n",
    "                pred_element = pred[8 - y][x]\n",
    "                if solved_element == pred_element:\n",
    "                    T = f\"{solved_element}\"\n",
    "                    ax.text(x + 0.3, y + 0.2, T, fontsize=20, color=\"b\")\n",
    "                else:\n",
    "                    ax.text(x + 0.1, y + 0.3, f\"{pred_element}\", fontsize=13, color=\"r\")\n",
    "                    ax.text(x + 0.55, y + 0.3, f\"{solved_element}\", fontsize=13, color=\"g\")"
   ]
  },
  {
   "cell_type": "code",
   "execution_count": 233,
   "metadata": {},
   "outputs": [
    {
     "data": {
      "image/png": "[encoded data removed]",
      "text/plain": [
       "<Figure size 396x288 with 1 Axes>"
      ]
     },
     "metadata": {
      "needs_background": "light"
     },
     "output_type": "display_data"
    }
   ],
   "source": [
    "error_index = 0\n",
    "\n",
    "mpl.rcParams.update({\"font.size\": 12})\n",
    "\n",
    "fg, ax = plt.subplots(figsize=(5.5, 4))\n",
    "row = wrong_preds[error_index]\n",
    "puzzle = np.where(row[0] < 9, row[0] + 1, 0).reshape(9, 9)\n",
    "solution = np.where(row[2] < 9, row[2] + 1, 0).reshape(9, 9)\n",
    "pred = np.where(row[3] < 9, row[3] + 1, 0).reshape(9, 9)\n",
    "plot_sudoku(puzzle, solution, pred, ax=ax)\n",
    "fg.tight_layout()\n",
    "fg.savefig(NOTEBOOK_PATH.joinpath(f\"sudoku_error_{error_index}.svg\"), bbox_inches=\"tight\")\n",
    "fg.savefig(NOTEBOOK_PATH.joinpath(f\"sudoku_error_{error_index}.svg\"), bbox_inches=\"tight\")\n",
    "fg.savefig(NOTEBOOK_PATH.joinpath(f\"sudoku_error_{error_index}.png\"), bbox_inches=\"tight\", dpi=300)"
   ]
  },
  {
   "cell_type": "code",
   "execution_count": null,
   "metadata": {},
   "outputs": [],
   "source": []
  },
  {
   "cell_type": "code",
   "execution_count": 55,
   "metadata": {},
   "outputs": [
    {
     "data": {
      "image/png": "[encoded data removed]",
      "text/plain": [
       "<Figure size 432x288 with 1 Axes>"
      ]
     },
     "metadata": {
      "needs_background": "light"
     },
     "output_type": "display_data"
    }
   ],
   "source": [
    "xlim = (0, 1.03)\n",
    "\n",
    "fg, ax = plt.subplots(figsize=(6, 4))\n",
    "ax.plot(results_df[\"fraction_correct\"], results_df[\"sum_log_prob\"], 'r.')\n",
    "ax.set_xlabel(\"Fraction of residues correct\")\n",
    "ax.set_ylabel(\"Sum of log-probabilities\")\n",
    "ax.set_xlim(*xlim)\n",
    "fg.savefig(NOTEBOOK_PATH / \"test-incremental-probas.svg\")\n",
    "fg.savefig(NOTEBOOK_PATH / \"test-incremental-probas.pdf\")\n",
    "fg.savefig(NOTEBOOK_PATH / \"test-incremental-probas.png\", dpi=300)"
   ]
  },
  {
   "cell_type": "code",
   "execution_count": 199,
   "metadata": {},
   "outputs": [
    {
     "name": "stdout",
     "output_type": "stream",
     "text": [
      "sudoku_4xEdgeConv_stretch/e0-s7812-d999936-amv09791666666666666.state\n",
      "0.8367346938775511\n",
      "sudoku_4xEdgeConv_stretch/e1-s15624-d1999872-amv09879943502824858.state\n",
      "0.8463010204081632\n",
      "sudoku_4xEdgeConv_stretch/e10-s85932-d10999296-amv09956214689265537.state\n",
      "0.9272959183673469\n",
      "sudoku_4xEdgeConv_stretch/e11-s93744-d11999232-amv0996045197740113.state\n",
      "0.8928571428571429\n",
      "sudoku_4xEdgeConv_stretch/e12-s101556-d12999168-amv09961158192090396.state\n",
      "0.8839285714285714\n",
      "sudoku_4xEdgeConv_stretch/e13-s109368-d13999104-amv09962570621468927.state\n",
      "0.8641581632653061\n",
      "sudoku_4xEdgeConv_stretch/e14-s117180-d14999040-amv09959745762711865.state\n",
      "0.875\n",
      "sudoku_4xEdgeConv_stretch/e15-s124992-d15998976-amv09961158192090396.state\n",
      "0.9113520408163265\n",
      "sudoku_4xEdgeConv_stretch/e16-s132804-d16998912-amv09963276836158192.state\n",
      "0.8954081632653061\n",
      "sudoku_4xEdgeConv_stretch/e17-s140616-d17998848-amv09962570621468927.state\n",
      "0.8730867346938775\n",
      "sudoku_4xEdgeConv_stretch/e18-s148428-d18998784-amv09961158192090396.state\n",
      "0.9100765306122449\n",
      "sudoku_4xEdgeConv_stretch/e19-s156240-d19998720-amv09963276836158192.state\n",
      "0.8450255102040817\n",
      "sudoku_4xEdgeConv_stretch/e2-s23436-d2999808-amv09911016949152542.state\n",
      "0.8552295918367347\n",
      "sudoku_4xEdgeConv_stretch/e20-s164052-d20998656-amv09961864406779661.state\n",
      "0.9088010204081632\n",
      "sudoku_4xEdgeConv_stretch/e21-s171864-d21998592-amv09962570621468927.state\n",
      "0.9241071428571429\n",
      "sudoku_4xEdgeConv_stretch/e22-s179676-d22998528-amv09964689265536724.state\n",
      "0.9215561224489796\n",
      "sudoku_4xEdgeConv_stretch/e23-s187488-d23998464-amv09964689265536724.state\n",
      "0.9068877551020408\n",
      "sudoku_4xEdgeConv_stretch/e25-s195300-d24998400-amv09961.state\n",
      "0.9183673469387755\n",
      "sudoku_4xEdgeConv_stretch/e26-s203112-d25998336-amv09968.state\n",
      "0.9139030612244898\n",
      "sudoku_4xEdgeConv_stretch/e27-s210924-d26998272-amv09968.state\n",
      "0.9400510204081632\n",
      "sudoku_4xEdgeConv_stretch/e28-s218736-d27998208-amv09968.state\n",
      "0.8801020408163265\n",
      "sudoku_4xEdgeConv_stretch/e29-s226548-d28998144-amv09971.state\n",
      "0.8960459183673469\n",
      "sudoku_4xEdgeConv_stretch/e3-s31248-d3999744-amv09927259887005649.state\n",
      "0.8590561224489796\n",
      "sudoku_4xEdgeConv_stretch/e4-s39060-d4999680-amv0993361581920904.state\n",
      "0.8411989795918368\n",
      "sudoku_4xEdgeConv_stretch/e5-s46872-d5999616-amv09936440677966102.state\n",
      "0.8871173469387755\n",
      "sudoku_4xEdgeConv_stretch/e6-s54684-d6999552-amv09949152542372881.state\n",
      "0.8698979591836735\n",
      "sudoku_4xEdgeConv_stretch/e7-s62496-d7999488-amv0995409604519774.state\n",
      "0.875\n",
      "sudoku_4xEdgeConv_stretch/e8-s70308-d8999424-amv09956920903954802.state\n",
      "0.8718112244897959\n",
      "sudoku_4xEdgeConv_stretch/e9-s78120-d9999360-amv09957627118644068.state\n",
      "0.9030612244897959\n"
     ]
    }
   ],
   "source": [
    "for file in sorted(Path(\"sudoku_4xEdgeConv_stretch\").glob(\"*.state\")):\n",
    "    print(file)\n",
    "    net = Net(x_input_size=10, adj_input_size=None, hidden_size=128, output_size=9)\n",
    "    # net.load_state_dict(torch.load(\"sudoku_4xEdgeConv_stretch/e0-s7812-d999936-amv09791666666666666.state\"))\n",
    "    net.load_state_dict(torch.load(file))\n",
    "\n",
    "    net.eval()\n",
    "    net = net.to(device)\n",
    "\n",
    "    results = []\n",
    "    for data in sudoku_dataset_test:\n",
    "        data = data.to(device)\n",
    "        x_in = data.x.clone()\n",
    "        is_missing = x_in == 9\n",
    "        log_conf_lst = []\n",
    "        predicted = design_sudoku(net, x_in, data.edge_index, log_conf_lst)\n",
    "        num_correct = float((predicted[is_missing] == data.y[is_missing]).sum())\n",
    "        num_total = float(is_missing.sum())\n",
    "        results.append(\n",
    "            {\n",
    "                \"fraction_correct\": num_correct / num_total,\n",
    "                \"num_correct\": num_correct,\n",
    "                \"num_total\": num_total,\n",
    "                \"sum_log_prob\": np.sum(log_conf_lst),\n",
    "            }\n",
    "        )\n",
    "    results_df = pd.DataFrame(results)\n",
    "    print(results_df[\"num_correct\"].sum() / results_df[\"num_total\"].sum())"
   ]
  },
  {
   "cell_type": "code",
   "execution_count": 175,
   "metadata": {},
   "outputs": [
    {
     "ename": "Exception",
     "evalue": "",
     "output_type": "error",
     "traceback": [
      "\u001b[0;31m---------------------------------------------------------------------------\u001b[0m",
      "\u001b[0;31mException\u001b[0m                                 Traceback (most recent call last)",
      "\u001b[0;32m<ipython-input-175-2aee0157c87b>\u001b[0m in \u001b[0;36m<module>\u001b[0;34m\u001b[0m\n\u001b[0;32m----> 1\u001b[0;31m \u001b[0;32mraise\u001b[0m \u001b[0mException\u001b[0m\u001b[0;34m\u001b[0m\u001b[0;34m\u001b[0m\u001b[0m\n\u001b[0m",
      "\u001b[0;31mException\u001b[0m: "
     ]
    }
   ],
   "source": [
    "raise Exception"
   ]
  },
  {
   "cell_type": "code",
   "execution_count": null,
   "metadata": {},
   "outputs": [],
   "source": [
    "@torch.no_grad()\n",
    "def design_sudoku_2(net, x, x_proba, edge_index, cutoff=-1):\n",
    "    if x_proba is None:\n",
    "        x_proba = torch.zeros_like(x).to(torch.float)\n",
    "\n",
    "    mask = (x == 9)\n",
    "    if not mask.any():\n",
    "        return [(x, x_proba)]\n",
    "\n",
    "    index_array = torch.arange(x.size(0))\n",
    "    \n",
    "    output = net(x, edge_index)\n",
    "    output = torch.softmax(output, dim=1)\n",
    "    output = output[mask]\n",
    "    index_array = index_array[mask]\n",
    "\n",
    "    max_index = output.max(dim=1)[0].max(dim=0)[1]\n",
    "    max_pred_row = output[max_index]\n",
    "\n",
    "    sum_log_prob = x_proba.sum()\n",
    "    assert sum_log_prob.item() <= 0, x_proba\n",
    "\n",
    "    p_cutoff = min(torch.exp(cutoff - sum_log_prob), max_pred_row.max()).item()\n",
    "    results = []\n",
    "    for i, p in enumerate(max_pred_row):\n",
    "        if p < p_cutoff:\n",
    "            continue\n",
    "        x_clone = x.clone()\n",
    "        x_proba_clone = x_proba.clone()\n",
    "        assert x_clone[index_array[max_index]] == 9\n",
    "        x_clone[index_array[max_index]] = i\n",
    "        x_proba_clone[index_array[max_index]] = torch.log(p)\n",
    "        result = design_sudoku_2(net, x_clone, x_proba_clone, edge_index)\n",
    "        results.extend(result)\n",
    "    return results"
   ]
  },
  {
   "cell_type": "code",
   "execution_count": null,
   "metadata": {},
   "outputs": [],
   "source": [
    "data = sudoku_dataset_test[0].to(device)"
   ]
  },
  {
   "cell_type": "code",
   "execution_count": null,
   "metadata": {},
   "outputs": [],
   "source": [
    "results = design_sudoku_2(net, data.x.clone(), None, data.edge_index)"
   ]
  },
  {
   "cell_type": "code",
   "execution_count": null,
   "metadata": {},
   "outputs": [],
   "source": [
    "results = sorted(((a.data.cpu(), b.data.cpu()) for a, b in results), reverse=True)"
   ]
  },
  {
   "cell_type": "code",
   "execution_count": null,
   "metadata": {},
   "outputs": [],
   "source": [
    "results = []\n",
    "for data in sudoku_dataset_test:\n",
    "    data = data.to(device)\n",
    "    is_missing = data.x == 9\n",
    "    outputs = design_sudoku_2(net, data.x.clone(), None, data.edge_index, -20)\n",
    "    outputs = sorted((t for t in outputs), key=lambda t: t[1].sum().item(), reverse=True)\n",
    "#     results = sorted(((a.data.cpu(), b.data.cpu()) for a, b in results), reverse=True)\n",
    "    y, y_proba = outputs[0]\n",
    "    num_correct = float((y[is_missing] == data.y[is_missing]).sum())\n",
    "    num_total = float(is_missing.sum())\n",
    "    results.append(\n",
    "        {\n",
    "            \"fraction_correct\": num_correct / num_total,\n",
    "            \"num_correct\": num_correct,\n",
    "            \"num_total\": num_total,\n",
    "            \"sum_log_prob\": torch.sum(y_proba).cpu().item(),\n",
    "        }\n",
    "    )\n",
    "results_df = pd.DataFrame(results)"
   ]
  },
  {
   "cell_type": "code",
   "execution_count": null,
   "metadata": {},
   "outputs": [],
   "source": [
    "xlim = (0, 1.03)\n",
    "\n",
    "with plt.rc_context(rc={\"font.size\": 12}):\n",
    "    fg, ax = plt.subplots(figsize=(6, 4))\n",
    "    ax.plot(results_df[\"fraction_correct\"], results_df[\"sum_log_prob\"], 'r.')\n",
    "    ax.set_xlabel(\"Fraction of residues correct\")\n",
    "    ax.set_ylabel(\"Sum of log-probabilities\")\n",
    "    ax.set_xlim(*xlim)"
   ]
  },
  {
   "cell_type": "code",
   "execution_count": null,
   "metadata": {},
   "outputs": [],
   "source": [
    "xlim = (0, 1.03)\n",
    "textstr = \"\"\"\\\n",
    "Fraction correct overall: {:.4f}\n",
    "\"\"\".format(\n",
    "    results_df[\"num_correct\"].sum() / results_df[\"num_total\"].sum()\n",
    ").strip()\n",
    "props = dict(facecolor=\"white\", alpha=0.3)\n",
    "\n",
    "with plt.rc_context(rc={\"font.size\": 12}):\n",
    "    fg, ax = plt.subplots(figsize=(6, 4))\n",
    "    data = results_df[\"fraction_correct\"]\n",
    "    assert data.min() >= xlim[0] and data.max() <= xlim[1]\n",
    "    ax.hist(data, bins=20)\n",
    "    ax.set_ylabel(\"Number of puzzles\")\n",
    "    ax.set_xlabel(\"Fraction of missing values filled correctly\")\n",
    "    ax.set_xlim(*xlim)\n",
    "#     ax.set_ylim(0, 5)\n",
    "    ax.set_title(\"Test - Incremental\")\n",
    "    ax.text(0.04, 0.95, textstr, transform=ax.transAxes, fontsize=\"medium\", verticalalignment=\"top\", bbox=props)"
   ]
  },
  {
   "cell_type": "code",
   "execution_count": null,
   "metadata": {},
   "outputs": [],
   "source": []
  },
  {
   "cell_type": "code",
   "execution_count": null,
   "metadata": {},
   "outputs": [],
   "source": []
  },
  {
   "cell_type": "code",
   "execution_count": null,
   "metadata": {},
   "outputs": [],
   "source": []
  },
  {
   "cell_type": "code",
   "execution_count": null,
   "metadata": {},
   "outputs": [],
   "source": []
  },
  {
   "cell_type": "code",
   "execution_count": null,
   "metadata": {},
   "outputs": [],
   "source": []
  },
  {
   "cell_type": "code",
   "execution_count": null,
   "metadata": {},
   "outputs": [],
   "source": []
  },
  {
   "cell_type": "code",
   "execution_count": null,
   "metadata": {},
   "outputs": [],
   "source": [
    "@torch.no_grad()\n",
    "def design_sudoku_3(net, x, x_proba, edge_index, cutoff=-1):\n",
    "    if x_proba is None:\n",
    "        x_proba = torch.zeros_like(x).to(torch.float)\n",
    "    sum_log_prob = x_proba.sum()\n",
    "\n",
    "    mask = (x == 9)\n",
    "    if not mask.any():\n",
    "        return [(x, x_proba)]\n",
    "\n",
    "    index_array = torch.arange(x.size(0))\n",
    "    \n",
    "    output = net(x, edge_index)\n",
    "    output = output[mask]\n",
    "    index_array = index_array[mask]\n",
    "\n",
    "    # Select rows to examine\n",
    "    output_sum = output.sum(dim=1)\n",
    "    row_probas = torch.softmax(output_sum, dim=0)\n",
    "    row_proba_cutoff = min(0.1, row_probas.max())\n",
    "    index_array_2 = torch.arange(len(row_probas))[row_probas >= row_proba_cutoff][:3]\n",
    "    \n",
    "    output = output[index_array_2]\n",
    "    index_array = index_array[index_array_2]\n",
    "    \n",
    "    # Select columns to examine\n",
    "    output = torch.softmax(output, dim=1)\n",
    "    \n",
    "    results = []\n",
    "    for i, row in enumerate(output):\n",
    "        p_cutoff = min(torch.exp(cutoff - sum_log_prob), row.max()).item()\n",
    "        for j, p in enumerate(row):\n",
    "            if p < p_cutoff:\n",
    "                continue\n",
    "            x_clone = x.clone()\n",
    "            x_proba_clone = x_proba.clone()\n",
    "            assert x_clone[index_array[i]] == 9\n",
    "            x_clone[index_array[i]] = i\n",
    "            x_proba_clone[index_array[i]] = torch.log(p)\n",
    "            result = design_sudoku_3(net, x_clone, x_proba_clone, edge_index)\n",
    "            results.extend(result)\n",
    "    return results"
   ]
  },
  {
   "cell_type": "code",
   "execution_count": null,
   "metadata": {},
   "outputs": [],
   "source": [
    "data = sudoku_dataset_test[0].to(device)"
   ]
  },
  {
   "cell_type": "code",
   "execution_count": null,
   "metadata": {},
   "outputs": [],
   "source": [
    "# results = design_sudoku_3(net, data.x.clone(), None, data.edge_index, -5)"
   ]
  },
  {
   "cell_type": "code",
   "execution_count": null,
   "metadata": {},
   "outputs": [],
   "source": [
    "# results = sorted(((a.data.cpu(), b.data.cpu()) for a, b in results), reverse=True)"
   ]
  },
  {
   "cell_type": "code",
   "execution_count": null,
   "metadata": {},
   "outputs": [],
   "source": [
    "x = torch.arange(4)\n",
    "x[torch.tensor([0, 0, 0, 1], dtype=torch.uint8)] = 10\n",
    "x"
   ]
  },
  {
   "cell_type": "code",
   "execution_count": null,
   "metadata": {},
   "outputs": [],
   "source": [
    "torch.tensor([1,2,3], dtype=torch)"
   ]
  }
 ],
 "metadata": {
  "accelerator": "GPU",
  "colab": {
   "collapsed_sections": [
    "1fXJz1l9HvhW",
    "u9q4iTifHvhl"
   ],
   "name": "Copy of 2019-03-30-sudoku-4xEdgeConv-09862+.ipynb",
   "provenance": [],
   "toc_visible": true,
   "version": "0.3.2"
  },
  "kernelspec": {
   "display_name": "Python 3",
   "language": "python",
   "name": "python3"
  },
  "language_info": {
   "codemirror_mode": {
    "name": "ipython",
    "version": 3
   },
   "file_extension": ".py",
   "mimetype": "text/x-python",
   "name": "python",
   "nbconvert_exporter": "python",
   "pygments_lexer": "ipython3",
   "version": "3.7.3"
  }
 },
 "nbformat": 4,
 "nbformat_minor": 2
}
