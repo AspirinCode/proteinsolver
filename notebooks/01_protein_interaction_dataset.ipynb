{
 "cells": [
  {
   "cell_type": "markdown",
   "metadata": {},
   "source": [
    "## Imports"
   ]
  },
  {
   "cell_type": "code",
   "execution_count": 1,
   "metadata": {},
   "outputs": [
    {
     "name": "stderr",
     "output_type": "stream",
     "text": [
      "/home/strokach/env/lib/python3.7/site-packages/Bio/KDTree/__init__.py:27: BiopythonDeprecationWarning: Bio.KDTree has been deprecated, and we intend to remove it in a future release of Biopython. Please use Bio.PDB.kdtrees instead, which is functionally very similar.\n",
      "  BiopythonDeprecationWarning,\n"
     ]
    }
   ],
   "source": [
    "import os\n",
    "from pathlib import Path\n",
    "\n",
    "import proteinsolver\n",
    "import torch"
   ]
  },
  {
   "cell_type": "code",
   "execution_count": 2,
   "metadata": {},
   "outputs": [],
   "source": [
    "%load_ext autoreload\n",
    "%autoreload 2"
   ]
  },
  {
   "cell_type": "markdown",
   "metadata": {},
   "source": [
    "## Parameters"
   ]
  },
  {
   "cell_type": "code",
   "execution_count": 3,
   "metadata": {},
   "outputs": [],
   "source": [
    "if \"DATAPKG_DATA_DIR\" in os.environ:\n",
    "    DATAPKG_DATA_DIR = Path(os[\"DATAPKG_DATA_DIR\"]).resolve(strict=True)\n",
    "else:\n",
    "    DATAPKG_DATA_DIR = Path(\"/home/kimlab4/strokach/datapkg_output_dir\")"
   ]
  },
  {
   "cell_type": "markdown",
   "metadata": {},
   "source": [
    "## Workspace"
   ]
  },
  {
   "cell_type": "code",
   "execution_count": 4,
   "metadata": {},
   "outputs": [
    {
     "name": "stdout",
     "output_type": "stream",
     "text": [
      "[PosixPath('/home/kimlab4/strokach/datapkg_output_dir/adjacency-net-v2/v0.3-subset/pdb-interface/pdb-interface-1-300.arrow')]\n"
     ]
    }
   ],
   "source": [
    "pdb_interaction_files = [\n",
    "    file\n",
    "    for file in DATAPKG_DATA_DIR.joinpath(\"adjacency-net-v2\", \"v0.3-subset\", \"pdb-interface/\").glob(\"*.arrow\")\n",
    "    if file.with_suffix(\".SUCCESS\").is_file()\n",
    "]\n",
    "print(pdb_interaction_files)"
   ]
  },
  {
   "cell_type": "code",
   "execution_count": 5,
   "metadata": {},
   "outputs": [],
   "source": [
    "protein_interaction_dataset = proteinsolver.datasets.ProteinInteractionDataset(pdb_interaction_files)"
   ]
  },
  {
   "cell_type": "code",
   "execution_count": 6,
   "metadata": {},
   "outputs": [],
   "source": [
    "data = protein_interaction_dataset[0]"
   ]
  },
  {
   "cell_type": "code",
   "execution_count": 7,
   "metadata": {},
   "outputs": [
    {
     "name": "stdout",
     "output_type": "stream",
     "text": [
      "Data(edge_attr=[172640, 2], edge_index=[2, 172640], sequence_1_length=[1], x=[416])\n"
     ]
    }
   ],
   "source": [
    "print(data)"
   ]
  },
  {
   "cell_type": "code",
   "execution_count": 8,
   "metadata": {},
   "outputs": [
    {
     "name": "stdout",
     "output_type": "stream",
     "text": [
      "tensor([[-0.3890,  0.0147],\n",
      "        [-0.1377,  0.0294],\n",
      "        [ 0.1468,  0.0440],\n",
      "        ...,\n",
      "        [-0.0330, -0.0440],\n",
      "        [-0.1527, -0.0294],\n",
      "        [-0.3891, -0.0147]])\n"
     ]
    }
   ],
   "source": [
    "print(data.edge_attr)"
   ]
  },
  {
   "cell_type": "code",
   "execution_count": null,
   "metadata": {},
   "outputs": [],
   "source": []
  }
 ],
 "metadata": {
  "kernelspec": {
   "display_name": "Python 3",
   "language": "python",
   "name": "python3"
  },
  "language_info": {
   "codemirror_mode": {
    "name": "ipython",
    "version": 3
   },
   "file_extension": ".py",
   "mimetype": "text/x-python",
   "name": "python",
   "nbconvert_exporter": "python",
   "pygments_lexer": "ipython3",
   "version": "3.7.6"
  }
 },
 "nbformat": 4,
 "nbformat_minor": 4
}
