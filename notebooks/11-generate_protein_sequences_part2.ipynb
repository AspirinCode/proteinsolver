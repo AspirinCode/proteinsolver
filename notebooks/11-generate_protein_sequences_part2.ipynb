{
 "cells": [
  {
   "cell_type": "markdown",
   "metadata": {
    "colab_type": "text",
    "id": "eoBMUoW2Hvhp",
    "toc-hr-collapsed": true
   },
   "source": [
    "# Imports"
   ]
  },
  {
   "cell_type": "code",
   "execution_count": null,
   "metadata": {
    "colab": {
     "base_uri": "https://localhost:8080/",
     "height": 323
    },
    "colab_type": "code",
    "id": "EmCKag-5MCiB",
    "outputId": "40059204-55bf-4285-eb0a-34098e980c40"
   },
   "outputs": [],
   "source": [
    "!nvidia-smi"
   ]
  },
  {
   "cell_type": "code",
   "execution_count": null,
   "metadata": {
    "colab": {},
    "colab_type": "code",
    "id": "TbKxMUZWHvhq"
   },
   "outputs": [],
   "source": [
    "import atexit\n",
    "import csv\n",
    "import os\n",
    "import tempfile\n",
    "import time\n",
    "import warnings\n",
    "from collections import deque\n",
    "from contextlib import contextmanager\n",
    "from pathlib import Path\n",
    "from typing import NamedTuple\n",
    "\n",
    "import matplotlib.pyplot as plt\n",
    "import numpy as np\n",
    "import pandas as pd\n",
    "import pyarrow\n",
    "import pyarrow.parquet as pq\n",
    "import torch\n",
    "import torch.nn as nn\n",
    "import torch.nn.functional as F\n",
    "import torch_geometric\n",
    "from scipy import stats\n",
    "from torch import optim\n",
    "from torch.utils.data import DataLoader\n",
    "from torch_geometric.data import DataLoader\n",
    "from torch_geometric.nn import ChebConv, EdgeConv, GATConv, GCNConv\n",
    "from torch_geometric.nn.inits import reset\n",
    "from torch_geometric.utils import add_self_loops, remove_self_loops, scatter_\n",
    "\n",
    "# from google.colab import files"
   ]
  },
  {
   "cell_type": "code",
   "execution_count": null,
   "metadata": {
    "colab": {},
    "colab_type": "code",
    "id": "4fFnAyUOHvhv"
   },
   "outputs": [],
   "source": [
    "%load_ext autoreload\n",
    "%autoreload 2"
   ]
  },
  {
   "cell_type": "code",
   "execution_count": null,
   "metadata": {
    "colab": {
     "base_uri": "https://localhost:8080/",
     "height": 334
    },
    "colab_type": "code",
    "id": "rczy7pPiHvhs",
    "outputId": "8e4673d7-4cc7-4f8e-ffc4-de94302e5fab"
   },
   "outputs": [],
   "source": [
    "import kmbio\n",
    "import kmtools.sci_tools\n",
    "from kmbio import PDB\n",
    "from kmtools import structure_tools\n",
    "\n",
    "import proteinsolver\n",
    "import proteinsolver.datasets\n",
    "from proteinsolver.utils.protein import AMINO_ACIDS"
   ]
  },
  {
   "cell_type": "markdown",
   "metadata": {},
   "source": [
    "# Properties"
   ]
  },
  {
   "cell_type": "code",
   "execution_count": null,
   "metadata": {},
   "outputs": [],
   "source": [
    "torch.cuda.is_available()"
   ]
  },
  {
   "cell_type": "code",
   "execution_count": null,
   "metadata": {},
   "outputs": [],
   "source": [
    "NOTEBOOK_NAME = \"generate_protein_sequences\""
   ]
  },
  {
   "cell_type": "code",
   "execution_count": null,
   "metadata": {},
   "outputs": [],
   "source": [
    "NOTEBOOK_PATH = Path(NOTEBOOK_NAME).resolve()\n",
    "NOTEBOOK_PATH.mkdir(exist_ok=True)\n",
    "NOTEBOOK_PATH"
   ]
  },
  {
   "cell_type": "code",
   "execution_count": null,
   "metadata": {},
   "outputs": [],
   "source": [
    "# STRUCTURE_FILE = Path(os.getenv(\"STRUCTURE_FILE\", NOTEBOOK_PATH / \"inputs\" / \"1n5uA03.pdb\")).resolve()\n",
    "# STRUCTURE_FILE = Path(os.getenv(\"STRUCTURE_FILE\", NOTEBOOK_PATH / \"inputs\" / \"4z8jA00.pdb\")).resolve()\n",
    "STRUCTURE_FILE = Path(os.getenv(\"STRUCTURE_FILE\", NOTEBOOK_PATH / \"inputs\" / \"4unuA00.pdb\")).resolve()\n",
    "# STRUCTURE_FILE = Path(os.getenv(\"STRUCTURE_FILE\", NOTEBOOK_PATH / \"inputs\" / \"4beuA02.pdb\")).resolve()\n",
    "STRUCTURE_FILE"
   ]
  },
  {
   "cell_type": "code",
   "execution_count": null,
   "metadata": {},
   "outputs": [],
   "source": [
    "structure_all = PDB.load(STRUCTURE_FILE)\n",
    "structure = PDB.Structure(STRUCTURE_FILE.name + \"A\", structure_all[0].extract('A'))\n",
    "assert len(list(structure.chains)) == 1"
   ]
  },
  {
   "cell_type": "code",
   "execution_count": null,
   "metadata": {},
   "outputs": [],
   "source": [
    "PDB.view_structure(structure)"
   ]
  },
  {
   "cell_type": "markdown",
   "metadata": {},
   "source": [
    "# Pipeline"
   ]
  },
  {
   "cell_type": "markdown",
   "metadata": {},
   "source": [
    "## Load protein data"
   ]
  },
  {
   "cell_type": "code",
   "execution_count": 1,
   "metadata": {},
   "outputs": [
    {
     "ename": "NameError",
     "evalue": "name 'NamedTuple' is not defined",
     "output_type": "error",
     "traceback": [
      "\u001b[0;31m---------------------------------------------------------------------------\u001b[0m",
      "\u001b[0;31mNameError\u001b[0m                                 Traceback (most recent call last)",
      "\u001b[0;32m<ipython-input-1-82385e4f32f6>\u001b[0m in \u001b[0;36m<module>\u001b[0;34m\u001b[0m\n\u001b[0;32m----> 1\u001b[0;31m \u001b[0;32mclass\u001b[0m \u001b[0mProteinData\u001b[0m\u001b[0;34m(\u001b[0m\u001b[0mNamedTuple\u001b[0m\u001b[0;34m)\u001b[0m\u001b[0;34m:\u001b[0m\u001b[0;34m\u001b[0m\u001b[0;34m\u001b[0m\u001b[0m\n\u001b[0m\u001b[1;32m      2\u001b[0m     \u001b[0msequence\u001b[0m\u001b[0;34m:\u001b[0m \u001b[0mstr\u001b[0m\u001b[0;34m\u001b[0m\u001b[0;34m\u001b[0m\u001b[0m\n\u001b[1;32m      3\u001b[0m     \u001b[0mrow_index\u001b[0m\u001b[0;34m:\u001b[0m \u001b[0mtorch\u001b[0m\u001b[0;34m.\u001b[0m\u001b[0mLongTensor\u001b[0m\u001b[0;34m\u001b[0m\u001b[0;34m\u001b[0m\u001b[0m\n\u001b[1;32m      4\u001b[0m     \u001b[0mcol_index\u001b[0m\u001b[0;34m:\u001b[0m \u001b[0mtorch\u001b[0m\u001b[0;34m.\u001b[0m\u001b[0mLongTensor\u001b[0m\u001b[0;34m\u001b[0m\u001b[0;34m\u001b[0m\u001b[0m\n\u001b[1;32m      5\u001b[0m     \u001b[0mdistances\u001b[0m\u001b[0;34m:\u001b[0m \u001b[0mtorch\u001b[0m\u001b[0;34m.\u001b[0m\u001b[0mFloatTensor\u001b[0m\u001b[0;34m\u001b[0m\u001b[0;34m\u001b[0m\u001b[0m\n",
      "\u001b[0;31mNameError\u001b[0m: name 'NamedTuple' is not defined"
     ]
    }
   ],
   "source": [
    "class ProteinData(NamedTuple):\n",
    "    sequence: str\n",
    "    row_index: torch.LongTensor\n",
    "    col_index: torch.LongTensor\n",
    "    distances: torch.FloatTensor"
   ]
  },
  {
   "cell_type": "code",
   "execution_count": null,
   "metadata": {},
   "outputs": [],
   "source": [
    "def get_interaction_dataset_wdistances(structure_file, model_id, chain_id, r_cutoff=12):\n",
    "    structure = PDB.load(structure_file)\n",
    "    chain = structure[0][chain_id]\n",
    "    num_residues = len(list(chain.residues))\n",
    "    dd = structure_tools.DomainDef(model_id, chain_id, 1, num_residues)\n",
    "    domain = structure_tools.extract_domain(structure, [dd])\n",
    "    distances_core = structure_tools.get_distances(domain, r_cutoff, 0, groupby=\"residue\")\n",
    "    assert (distances_core[\"residue_idx_1\"] <= distances_core[\"residue_idx_2\"]).all()\n",
    "    return domain, distances_core"
   ]
  },
  {
   "cell_type": "code",
   "execution_count": null,
   "metadata": {},
   "outputs": [],
   "source": [
    "def extract_seq_and_adj(structure_file, chain_id):\n",
    "    domain, result_df = get_interaction_dataset_wdistances(structure_file, 0, chain_id, r_cutoff=12)\n",
    "    domain_sequence = structure_tools.get_chain_sequence(domain)\n",
    "    assert max(result_df[\"residue_idx_1\"].values) < len(domain_sequence)\n",
    "    assert max(result_df[\"residue_idx_2\"].values) < len(domain_sequence)\n",
    "    data = ProteinData(\n",
    "        domain_sequence,\n",
    "        result_df[\"residue_idx_1\"].values,\n",
    "        result_df[\"residue_idx_2\"].values,\n",
    "        result_df[\"distance\"].values,\n",
    "    )\n",
    "    return data"
   ]
  },
  {
   "cell_type": "code",
   "execution_count": null,
   "metadata": {},
   "outputs": [],
   "source": [
    "pdata = extract_seq_and_adj(STRUCTURE_FILE, 'A')\n",
    "print(pdata)\n",
    "print(len(pdata.sequence))"
   ]
  },
  {
   "cell_type": "markdown",
   "metadata": {},
   "source": [
    "## Load predicted sequences"
   ]
  },
  {
   "cell_type": "code",
   "execution_count": null,
   "metadata": {},
   "outputs": [],
   "source": [
    "from dataclasses import dataclass, field\n",
    "from typing import Any\n",
    "\n",
    "\n",
    "@dataclass(order=True)\n",
    "class PrioritizedItem:\n",
    "    p: float\n",
    "    x: Any = field(compare=False)\n",
    "    x_proba: Any = field(compare=False)"
   ]
  },
  {
   "cell_type": "code",
   "execution_count": null,
   "metadata": {},
   "outputs": [],
   "source": [
    "results = torch.load(NOTEBOOK_PATH / (STRUCTURE_FILE.stem + \".torch\"))"
   ]
  },
  {
   "cell_type": "code",
   "execution_count": null,
   "metadata": {},
   "outputs": [],
   "source": [
    "results = [(r.x.data.cpu().numpy(), r.x_proba.data.cpu().numpy()) for r in results]"
   ]
  },
  {
   "cell_type": "markdown",
   "metadata": {},
   "source": [
    "## Create dataframe"
   ]
  },
  {
   "cell_type": "code",
   "execution_count": null,
   "metadata": {},
   "outputs": [],
   "source": [
    "data = proteinsolver.datasets.protein.row_to_data(pdata)\n",
    "# data = proteinsolver.datasets.protein.transform_edge_attr(data)\n",
    "\n",
    "sequence_ref = \"\".join(AMINO_ACIDS[i] for i in data.x)"
   ]
  },
  {
   "cell_type": "code",
   "execution_count": null,
   "metadata": {},
   "outputs": [],
   "source": [
    "df = pd.DataFrame(results, columns=[\"seq_array\", \"seq_proba_array\"])"
   ]
  },
  {
   "cell_type": "code",
   "execution_count": null,
   "metadata": {},
   "outputs": [],
   "source": [
    "df[\"sequence\"] = [\"\".join(AMINO_ACIDS[i] for i in seq_array) for seq_array in df[\"seq_array\"]]"
   ]
  },
  {
   "cell_type": "code",
   "execution_count": null,
   "metadata": {},
   "outputs": [],
   "source": [
    "df[\"sum_log_prob\"] = [seq_proba_array.sum() for seq_proba_array in df[\"seq_proba_array\"]]"
   ]
  },
  {
   "cell_type": "code",
   "execution_count": null,
   "metadata": {},
   "outputs": [],
   "source": [
    "df[\"avg_log_prob\"] = df[\"sum_log_prob\"] / df[\"sequence\"].str.len()"
   ]
  },
  {
   "cell_type": "code",
   "execution_count": null,
   "metadata": {},
   "outputs": [],
   "source": [
    "df[\"seq_identity\"] = [\n",
    "    float((seq_array == data.x.data.numpy()).sum().item()) / data.x.size(0)\n",
    "    for seq_array in df[\"seq_array\"]\n",
    "]"
   ]
  },
  {
   "cell_type": "code",
   "execution_count": null,
   "metadata": {},
   "outputs": [],
   "source": [
    "df[\"index\"] = df.index"
   ]
  },
  {
   "cell_type": "code",
   "execution_count": null,
   "metadata": {},
   "outputs": [],
   "source": [
    "df = df.sort_values(\"avg_log_prob\", ascending=False).iloc[:200_000]"
   ]
  },
  {
   "cell_type": "code",
   "execution_count": null,
   "metadata": {},
   "outputs": [],
   "source": [
    "df.head(2)"
   ]
  },
  {
   "cell_type": "code",
   "execution_count": null,
   "metadata": {},
   "outputs": [],
   "source": [
    "columns_to_keep = [\"index\", \"sequence\", \"sum_log_prob\", \"avg_log_prob\", \"seq_identity\"]\n",
    "df[columns_to_keep].to_csv(NOTEBOOK_PATH.joinpath(STRUCTURE_FILE.stem + \".csv\"), sep=\"\\t\", index=False)"
   ]
  },
  {
   "cell_type": "markdown",
   "metadata": {},
   "source": [
    "## Make plots"
   ]
  },
  {
   "cell_type": "code",
   "execution_count": null,
   "metadata": {},
   "outputs": [],
   "source": [
    "adj = torch_geometric.utils.sparse_to_dense(data.edge_index, 1 / data.edge_attr[:, 0])\n",
    "\n",
    "with plt.rc_context(rc={\"font.size\": 18}):\n",
    "    fg, ax = plt.subplots(figsize=(8 * 0.9, 6 * 0.9))\n",
    "    out = ax.imshow(adj, cmap=\"Greys\")\n",
    "    ax.set_ylabel(\"Amino acid position\")\n",
    "    ax.set_xlabel(\"Amino acid position\")\n",
    "    ax.tick_params(\"both\", labelsize=16)\n",
    "    cb = fg.colorbar(out, ax=ax)\n",
    "    cb.set_label(\"1 / distance (Å$^{-1}$)\")\n",
    "    \n",
    "fg.tight_layout()\n",
    "fg.savefig(NOTEBOOK_PATH.joinpath(STRUCTURE_FILE.stem + \"-adjacency.svg\"))"
   ]
  },
  {
   "cell_type": "code",
   "execution_count": null,
   "metadata": {},
   "outputs": [],
   "source": [
    "with plt.rc_context(rc={\"font.size\": 18}):\n",
    "    fg, ax = plt.subplots(figsize=(8 * 0.9, 6 * 0.9))\n",
    "    x = np.exp(df[\"avg_log_prob\"])\n",
    "    y = df[\"seq_identity\"].values + 0.005 * np.random.randn(len(df))\n",
    "    out = ax.hexbin(x, y, gridsize=50, bins=\"log\", cmap=\"Greys\")\n",
    "    ax.set_xlim(x.min(), x.max())\n",
    "    ax.set_ylim(y.min(), y.max())\n",
    "    ax.set_ylabel(\"Sequence identity to reference\")\n",
    "    ax.set_xlabel(\"Normalized sequence probability\")\n",
    "    ax.tick_params(\"both\", labelsize=16)\n",
    "    cb = fg.colorbar(out, ax=ax)\n",
    "    cb.set_label(\"Number of sequences\")\n",
    "fg.tight_layout()\n",
    "fg.savefig(NOTEBOOK_PATH.joinpath(STRUCTURE_FILE.stem + \"-hexbin.svg\"))"
   ]
  },
  {
   "cell_type": "code",
   "execution_count": null,
   "metadata": {},
   "outputs": [],
   "source": [
    "kmtools.sci_tools.make_weblogo(\n",
    "    df[\"sequence\"].values,\n",
    "    units=\"probability\",\n",
    "    color_scheme=\"hydrophobicity\",\n",
    "    stacks_per_line=110,\n",
    "    format_=\"svg\",\n",
    "    output_file=NOTEBOOK_PATH.joinpath(STRUCTURE_FILE.stem + \"-weblogo-gen.svg\"),\n",
    ")"
   ]
  },
  {
   "cell_type": "code",
   "execution_count": null,
   "metadata": {},
   "outputs": [],
   "source": [
    "kmtools.sci_tools.make_weblogo(\n",
    "    [sequence_ref],\n",
    "    units=\"probability\",\n",
    "    color_scheme=\"hydrophobicity\",\n",
    "    stacks_per_line=110,\n",
    "    format_=\"svg\",\n",
    "    output_file=NOTEBOOK_PATH.joinpath(STRUCTURE_FILE.stem + \"-weblogo-wt.svg\"),\n",
    ")"
   ]
  },
  {
   "cell_type": "code",
   "execution_count": null,
   "metadata": {},
   "outputs": [],
   "source": []
  }
 ],
 "metadata": {
  "accelerator": "GPU",
  "colab": {
   "collapsed_sections": [
    "1fXJz1l9HvhW",
    "u9q4iTifHvhl"
   ],
   "name": "Copy of 2019-03-30-sudoku-4xEdgeConv-09862+.ipynb",
   "provenance": [],
   "toc_visible": true,
   "version": "0.3.2"
  },
  "kernelspec": {
   "display_name": "Python 3",
   "language": "python",
   "name": "python3"
  },
  "language_info": {
   "codemirror_mode": {
    "name": "ipython",
    "version": 3
   },
   "file_extension": ".py",
   "mimetype": "text/x-python",
   "name": "python",
   "nbconvert_exporter": "python",
   "pygments_lexer": "ipython3",
   "version": "3.7.3"
  },
  "toc": {
   "base_numbering": 1,
   "nav_menu": {},
   "number_sections": false,
   "sideBar": false,
   "skip_h1_title": false,
   "title_cell": "Table of Contents",
   "title_sidebar": "Contents",
   "toc_cell": false,
   "toc_position": {},
   "toc_section_display": true,
   "toc_window_display": false
  }
 },
 "nbformat": 4,
 "nbformat_minor": 2
}
