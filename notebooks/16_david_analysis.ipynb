{
 "cells": [
  {
   "cell_type": "markdown",
   "metadata": {},
   "source": [
    "## Summary\n",
    "\n",
    "----"
   ]
  },
  {
   "cell_type": "markdown",
   "metadata": {},
   "source": [
    "## Imports"
   ]
  },
  {
   "cell_type": "code",
   "execution_count": 1,
   "metadata": {},
   "outputs": [],
   "source": [
    "import os\n",
    "from pathlib import Path\n",
    "\n",
    "import numpy as np\n",
    "\n",
    "import matplotlib.pyplot as plt\n",
    "import pandas as pd"
   ]
  },
  {
   "cell_type": "code",
   "execution_count": 2,
   "metadata": {},
   "outputs": [],
   "source": [
    "pd.set_option(\"max_row\", 1000)\n",
    "pd.set_option(\"max_column\", 1000)"
   ]
  },
  {
   "cell_type": "markdown",
   "metadata": {},
   "source": [
    "## Parameters"
   ]
  },
  {
   "cell_type": "code",
   "execution_count": 3,
   "metadata": {},
   "outputs": [
    {
     "data": {
      "text/plain": [
       "PosixPath('/home/kimlab1/strokach/workspace/proteinsolver/notebooks/16_david_analysis')"
      ]
     },
     "execution_count": 3,
     "metadata": {},
     "output_type": "execute_result"
    }
   ],
   "source": [
    "NOTEBOOK_NAME = \"16_david_analysis\"\n",
    "NOTEBOOK_PATH = Path(NOTEBOOK_NAME).resolve()\n",
    "NOTEBOOK_PATH.mkdir(exist_ok=True)\n",
    "NOTEBOOK_PATH"
   ]
  },
  {
   "cell_type": "markdown",
   "metadata": {},
   "source": [
    "## Helper functions"
   ]
  },
  {
   "cell_type": "code",
   "execution_count": 4,
   "metadata": {},
   "outputs": [],
   "source": [
    "def read_scores_total(file):\n",
    "    columns = [\n",
    "        \"protein_name\",\n",
    "        \"pdb_name\",\n",
    "        \"molpdf\",\n",
    "        *[f\"ga341_score_{i}\" for i in range(8)],\n",
    "        \"dope_score\",\n",
    "        \"dope_score_norm\",\n",
    "        \"nope_hr_score\",\n",
    "    ]\n",
    "    results = []\n",
    "    with file.open(\"rt\") as fin:\n",
    "        for line in fin:\n",
    "            protein_name, pdb_name, molpdf, ga341_score, dope_score, dope_score_norm, nope_hr_score = line.strip().split(\n",
    "                \":\"\n",
    "            )\n",
    "            results.append(\n",
    "                (\n",
    "                    protein_name,\n",
    "                    pdb_name,\n",
    "                    float(molpdf),\n",
    "                    *eval(ga341_score),\n",
    "                    float(dope_score),\n",
    "                    float(dope_score_norm),\n",
    "                    float(nope_hr_score),\n",
    "                )\n",
    "            )\n",
    "    return pd.DataFrame(results, columns=columns)"
   ]
  },
  {
   "cell_type": "markdown",
   "metadata": {},
   "source": [
    "## Workflow\n",
    "\n",
    "Note from David:\n",
    "\n",
    "> The way to read the file (i.e., scoresTotal) is:\n",
    "> \n",
    "> protein_name + ':' + pdb_name + ':' + molpdf + ':' + 'GA341 score' + ':' + 'DOPE score' + ':' + 'Normalized DOPE score' + ':' + 'DOPE-HR score + '\\n'\n",
    "> \n",
    "> The measure that we used in the plots was molpdf, then you should read the third column."
   ]
  },
  {
   "cell_type": "code",
   "execution_count": 5,
   "metadata": {},
   "outputs": [
    {
     "name": "stdout",
     "output_type": "stream",
     "text": [
      "molpdb-scores-1n5u.svg\tmolpdb-scores-4z8j.svg\t   quark-aligned-4beuA02.png\n",
      "molpdb-scores-4beu.svg\tQuark\t\t\t   Scores\n",
      "molpdb-scores-4unu.svg\tquark-aligned-1n5uA03.png  screenshot.png\n"
     ]
    }
   ],
   "source": [
    "!ls {NOTEBOOK_PATH}"
   ]
  },
  {
   "cell_type": "code",
   "execution_count": 6,
   "metadata": {},
   "outputs": [
    {
     "name": "stdout",
     "output_type": "stream",
     "text": [
      "1n5u\t4beu\t4unu\t      4unuWT  4z8jFiltered  5vid    5vli    5vmr\n",
      "1n5uWT\t4beuWT\t4unuFiltered  4z8j    4z8jWT\t    5vidWT  5vliWT  5vmrWT\n"
     ]
    }
   ],
   "source": [
    "!ls {NOTEBOOK_PATH}/Scores"
   ]
  },
  {
   "cell_type": "markdown",
   "metadata": {},
   "source": [
    "### Load model scores"
   ]
  },
  {
   "cell_type": "code",
   "execution_count": 7,
   "metadata": {},
   "outputs": [],
   "source": [
    "SCORES = {}\n",
    "\n",
    "PDB_IDS = [\"1n5u\", \"4beu\", \"4unu\", \"4z8j\", \"5vid\", \"5vli\", \"5vmr\"]"
   ]
  },
  {
   "cell_type": "code",
   "execution_count": 8,
   "metadata": {},
   "outputs": [
    {
     "name": "stdout",
     "output_type": "stream",
     "text": [
      "1n5u\n",
      "4beu\n",
      "4unu\n",
      "4z8j\n",
      "5vid\n",
      "5vli\n",
      "5vmr\n"
     ]
    }
   ],
   "source": [
    "for pdb_id in PDB_IDS:\n",
    "    print(pdb_id)\n",
    "\n",
    "    SCORES[f\"{pdb_id}_wt\"] = read_scores_total(NOTEBOOK_PATH.joinpath(\"Scores\", f\"{pdb_id}WT\", \"scoresTotal\"))\n",
    "    assert len(SCORES[f\"{pdb_id}_wt\"]) == 1\n",
    "\n",
    "    SCORES[f\"{pdb_id}\"] = read_scores_total(NOTEBOOK_PATH.joinpath(\"Scores\", f\"{pdb_id}\", \"scoresTotal\"))"
   ]
  },
  {
   "cell_type": "markdown",
   "metadata": {},
   "source": [
    "### Generate plots"
   ]
  },
  {
   "cell_type": "code",
   "execution_count": 9,
   "metadata": {},
   "outputs": [
    {
     "data": {
      "text/html": [
       "<div>\n",
       "<style scoped>\n",
       "    .dataframe tbody tr th:only-of-type {\n",
       "        vertical-align: middle;\n",
       "    }\n",
       "\n",
       "    .dataframe tbody tr th {\n",
       "        vertical-align: top;\n",
       "    }\n",
       "\n",
       "    .dataframe thead th {\n",
       "        text-align: right;\n",
       "    }\n",
       "</style>\n",
       "<table border=\"1\" class=\"dataframe\">\n",
       "  <thead>\n",
       "    <tr style=\"text-align: right;\">\n",
       "      <th></th>\n",
       "      <th>protein_name</th>\n",
       "      <th>pdb_name</th>\n",
       "      <th>molpdf</th>\n",
       "      <th>ga341_score_0</th>\n",
       "      <th>ga341_score_1</th>\n",
       "      <th>ga341_score_2</th>\n",
       "      <th>ga341_score_3</th>\n",
       "      <th>ga341_score_4</th>\n",
       "      <th>ga341_score_5</th>\n",
       "      <th>ga341_score_6</th>\n",
       "      <th>ga341_score_7</th>\n",
       "      <th>dope_score</th>\n",
       "      <th>dope_score_norm</th>\n",
       "      <th>nope_hr_score</th>\n",
       "    </tr>\n",
       "  </thead>\n",
       "  <tbody>\n",
       "    <tr>\n",
       "      <th>0</th>\n",
       "      <td>1n5u_11115</td>\n",
       "      <td>1n5u_11115.B99990001.pdb</td>\n",
       "      <td>331.188141</td>\n",
       "      <td>1.0</td>\n",
       "      <td>0.333770</td>\n",
       "      <td>-199.935623</td>\n",
       "      <td>-11.192048</td>\n",
       "      <td>-14.278540</td>\n",
       "      <td>-6.215987</td>\n",
       "      <td>-6.553811</td>\n",
       "      <td>-9.149229</td>\n",
       "      <td>-8536.583984</td>\n",
       "      <td>-2.325544</td>\n",
       "      <td>-7893.746094</td>\n",
       "    </tr>\n",
       "    <tr>\n",
       "      <th>1</th>\n",
       "      <td>1n5u_10104</td>\n",
       "      <td>1n5u_10104.B99990001.pdb</td>\n",
       "      <td>291.176971</td>\n",
       "      <td>1.0</td>\n",
       "      <td>0.335036</td>\n",
       "      <td>-216.271133</td>\n",
       "      <td>-11.589787</td>\n",
       "      <td>-14.527915</td>\n",
       "      <td>-7.145832</td>\n",
       "      <td>-6.461433</td>\n",
       "      <td>-8.887251</td>\n",
       "      <td>-8651.523438</td>\n",
       "      <td>-2.291999</td>\n",
       "      <td>-8350.359375</td>\n",
       "    </tr>\n",
       "    <tr>\n",
       "      <th>2</th>\n",
       "      <td>1n5u_11709</td>\n",
       "      <td>1n5u_11709.B99990001.pdb</td>\n",
       "      <td>321.634644</td>\n",
       "      <td>1.0</td>\n",
       "      <td>0.343180</td>\n",
       "      <td>-220.915268</td>\n",
       "      <td>-11.113292</td>\n",
       "      <td>-14.798443</td>\n",
       "      <td>-7.288752</td>\n",
       "      <td>-6.346551</td>\n",
       "      <td>-9.109745</td>\n",
       "      <td>-8701.623047</td>\n",
       "      <td>-2.355440</td>\n",
       "      <td>-8406.374023</td>\n",
       "    </tr>\n",
       "    <tr>\n",
       "      <th>3</th>\n",
       "      <td>1n5u_11569</td>\n",
       "      <td>1n5u_11569.B99990001.pdb</td>\n",
       "      <td>358.094788</td>\n",
       "      <td>1.0</td>\n",
       "      <td>0.331383</td>\n",
       "      <td>-193.088791</td>\n",
       "      <td>-11.931268</td>\n",
       "      <td>-14.321241</td>\n",
       "      <td>-6.849178</td>\n",
       "      <td>-6.600010</td>\n",
       "      <td>-8.736956</td>\n",
       "      <td>-8500.715820</td>\n",
       "      <td>-2.295815</td>\n",
       "      <td>-7982.669434</td>\n",
       "    </tr>\n",
       "    <tr>\n",
       "      <th>4</th>\n",
       "      <td>1n5u_10496</td>\n",
       "      <td>1n5u_10496.B99990001.pdb</td>\n",
       "      <td>320.189484</td>\n",
       "      <td>1.0</td>\n",
       "      <td>0.344019</td>\n",
       "      <td>-200.976791</td>\n",
       "      <td>-11.313426</td>\n",
       "      <td>-14.269778</td>\n",
       "      <td>-6.716456</td>\n",
       "      <td>-6.372287</td>\n",
       "      <td>-8.620751</td>\n",
       "      <td>-8604.061523</td>\n",
       "      <td>-2.389728</td>\n",
       "      <td>-8127.271973</td>\n",
       "    </tr>\n",
       "  </tbody>\n",
       "</table>\n",
       "</div>"
      ],
      "text/plain": [
       "  protein_name                  pdb_name      molpdf  ga341_score_0  \\\n",
       "0   1n5u_11115  1n5u_11115.B99990001.pdb  331.188141            1.0   \n",
       "1   1n5u_10104  1n5u_10104.B99990001.pdb  291.176971            1.0   \n",
       "2   1n5u_11709  1n5u_11709.B99990001.pdb  321.634644            1.0   \n",
       "3   1n5u_11569  1n5u_11569.B99990001.pdb  358.094788            1.0   \n",
       "4   1n5u_10496  1n5u_10496.B99990001.pdb  320.189484            1.0   \n",
       "\n",
       "   ga341_score_1  ga341_score_2  ga341_score_3  ga341_score_4  ga341_score_5  \\\n",
       "0       0.333770    -199.935623     -11.192048     -14.278540      -6.215987   \n",
       "1       0.335036    -216.271133     -11.589787     -14.527915      -7.145832   \n",
       "2       0.343180    -220.915268     -11.113292     -14.798443      -7.288752   \n",
       "3       0.331383    -193.088791     -11.931268     -14.321241      -6.849178   \n",
       "4       0.344019    -200.976791     -11.313426     -14.269778      -6.716456   \n",
       "\n",
       "   ga341_score_6  ga341_score_7   dope_score  dope_score_norm  nope_hr_score  \n",
       "0      -6.553811      -9.149229 -8536.583984        -2.325544   -7893.746094  \n",
       "1      -6.461433      -8.887251 -8651.523438        -2.291999   -8350.359375  \n",
       "2      -6.346551      -9.109745 -8701.623047        -2.355440   -8406.374023  \n",
       "3      -6.600010      -8.736956 -8500.715820        -2.295815   -7982.669434  \n",
       "4      -6.372287      -8.620751 -8604.061523        -2.389728   -8127.271973  "
      ]
     },
     "execution_count": 9,
     "metadata": {},
     "output_type": "execute_result"
    }
   ],
   "source": [
    "SCORES[\"1n5u\"].head()"
   ]
  },
  {
   "cell_type": "code",
   "execution_count": 11,
   "metadata": {},
   "outputs": [],
   "source": [
    "cmap = plt.cm.get_cmap(\"Set1\")"
   ]
  },
  {
   "cell_type": "code",
   "execution_count": 12,
   "metadata": {},
   "outputs": [
    {
     "data": {
      "image/png": "[encoded data removed]",
      "text/plain": [
       "<Figure size 518.4x388.8 with 1 Axes>"
      ]
     },
     "metadata": {
      "needs_background": "light"
     },
     "output_type": "display_data"
    },
    {
     "data": {
      "image/png": "[encoded data removed]",
      "text/plain": [
       "<Figure size 518.4x388.8 with 1 Axes>"
      ]
     },
     "metadata": {
      "needs_background": "light"
     },
     "output_type": "display_data"
    },
    {
     "data": {
      "image/png": "[encoded data removed]",
      "text/plain": [
       "<Figure size 518.4x388.8 with 1 Axes>"
      ]
     },
     "metadata": {
      "needs_background": "light"
     },
     "output_type": "display_data"
    },
    {
     "data": {
      "image/png": "[encoded data removed]",
      "text/plain": [
       "<Figure size 518.4x388.8 with 1 Axes>"
      ]
     },
     "metadata": {
      "needs_background": "light"
     },
     "output_type": "display_data"
    }
   ],
   "source": [
    "for pdb_id, *xlim in [\n",
    "    #\n",
    "    (\"1n5u\", 250, 490),\n",
    "    (\"4beu\", 850, 1350),\n",
    "    (\"4unu\", 450, 950),\n",
    "    (\"4z8j\", 250, 850),\n",
    "    #     (\"5vid\", 250, 1450),\n",
    "    #     (\"5vli\", 250, 1450),\n",
    "    #     (\"5vmr\", 250, 1450),\n",
    "]:\n",
    "    with plt.rc_context(rc={\"font.size\": 18}):\n",
    "        fg, ax = plt.subplots(figsize=(8 * 0.9, 6 * 0.9))\n",
    "        ax.hist(np.clip(SCORES[f\"{pdb_id}\"][\"molpdf\"].values, *xlim), bins=80, range=xlim, color=cmap(8))\n",
    "        ylim = ax.get_ylim()\n",
    "        ax.vlines(SCORES[f\"{pdb_id}_wt\"].iloc[0][\"molpdf\"], *ylim, colors=\"k\", linestyle=\"--\", color=cmap(0))\n",
    "        ax.set_ylim(ylim)\n",
    "        ax.set_xlim(xlim)\n",
    "        ax.set_xlabel(\"MolPDF score\")\n",
    "        ax.set_ylabel(\"Number of sequences\")\n",
    "    fg.tight_layout()\n",
    "    fg.savefig(NOTEBOOK_PATH.joinpath(f\"molpdb-scores-{pdb_id}.svg\"), bbox_inches=\"tight\")"
   ]
  },
  {
   "cell_type": "code",
   "execution_count": null,
   "metadata": {},
   "outputs": [],
   "source": []
  }
 ],
 "metadata": {
  "kernelspec": {
   "display_name": "Python 3",
   "language": "python",
   "name": "python3"
  },
  "language_info": {
   "codemirror_mode": {
    "name": "ipython",
    "version": 3
   },
   "file_extension": ".py",
   "mimetype": "text/x-python",
   "name": "python",
   "nbconvert_exporter": "python",
   "pygments_lexer": "ipython3",
   "version": "3.7.6"
  }
 },
 "nbformat": 4,
 "nbformat_minor": 4
}
