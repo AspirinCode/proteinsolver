{
 "cells": [
  {
   "cell_type": "markdown",
   "metadata": {},
   "source": [
    "## Summary\n",
    "\n",
    "----"
   ]
  },
  {
   "cell_type": "markdown",
   "metadata": {},
   "source": [
    "## Imports"
   ]
  },
  {
   "cell_type": "code",
   "execution_count": 1,
   "metadata": {},
   "outputs": [],
   "source": [
    "import concurrent.futures\n",
    "import gzip\n",
    "import os\n",
    "import shutil\n",
    "import subprocess\n",
    "from collections import Counter\n",
    "from pathlib import Path\n",
    "\n",
    "import logomaker\n",
    "import matplotlib.pyplot as plt\n",
    "import numpy as np\n",
    "import pandas as pd\n",
    "import proteinsolver\n",
    "import pyarrow as pa\n",
    "import pyarrow.parquet as pq\n",
    "from IPython.display import set_matplotlib_formats\n",
    "from kmbio import PDB\n",
    "from tqdm.notebook import tqdm"
   ]
  },
  {
   "cell_type": "code",
   "execution_count": 2,
   "metadata": {},
   "outputs": [],
   "source": [
    "pd.set_option(\"max_columns\", 1000)\n",
    "pd.set_option(\"max_rows\", 1000)"
   ]
  },
  {
   "cell_type": "code",
   "execution_count": 3,
   "metadata": {},
   "outputs": [],
   "source": [
    "set_matplotlib_formats(\"png\")"
   ]
  },
  {
   "cell_type": "markdown",
   "metadata": {},
   "source": [
    "## Parameters"
   ]
  },
  {
   "cell_type": "code",
   "execution_count": 4,
   "metadata": {},
   "outputs": [
    {
     "data": {
      "text/plain": [
       "PosixPath('/home/kimlab1/strokach/workspace/proteinsolver/notebooks/12_profile_recovery')"
      ]
     },
     "execution_count": 4,
     "metadata": {},
     "output_type": "execute_result"
    }
   ],
   "source": [
    "NOTEBOOK_DIR = Path(\"12_profile_recovery\").resolve()\n",
    "NOTEBOOK_DIR.mkdir(exist_ok =True)\n",
    "\n",
    "NOTEBOOK_DIR"
   ]
  },
  {
   "cell_type": "code",
   "execution_count": 5,
   "metadata": {},
   "outputs": [],
   "source": [
    "UNIQUE_ID = \"191f05de\"\n",
    "\n",
    "SEQUENCE_GENERATION_METHOD = \"expectimax\""
   ]
  },
  {
   "cell_type": "code",
   "execution_count": 6,
   "metadata": {},
   "outputs": [
    {
     "data": {
      "text/plain": [
       "PosixPath('/home/kimlab1/strokach/workspace/proteinsolver/notebooks/generate_protein_sequences')"
      ]
     },
     "execution_count": 6,
     "metadata": {},
     "output_type": "execute_result"
    }
   ],
   "source": [
    "DESIGNS_PATH = NOTEBOOK_DIR.parent.joinpath(\"generate_protein_sequences\")\n",
    "assert DESIGNS_PATH.is_dir()\n",
    "\n",
    "DESIGNS_PATH"
   ]
  },
  {
   "cell_type": "code",
   "execution_count": 7,
   "metadata": {
    "tags": [
     "parameters"
    ]
   },
   "outputs": [],
   "source": [
    "# 1n5uA03 4z8jA00 4unuA00 4beuA02\n",
    "STRUCTURE_ID = \"4beuA02\""
   ]
  },
  {
   "cell_type": "code",
   "execution_count": 8,
   "metadata": {},
   "outputs": [
    {
     "name": "stdout",
     "output_type": "stream",
     "text": [
      "2228368\n"
     ]
    }
   ],
   "source": [
    "from papermill import execute_notebook\n",
    "\n",
    "\n",
    "def worker(params):\n",
    "    input_path = NOTEBOOK_DIR.with_suffix(\".ipynb\").as_posix()\n",
    "    output_path = NOTEBOOK_DIR.parent.joinpath(\n",
    "        NOTEBOOK_DIR.name + f\"-{params['STRUCTURE_ID']}.ipynb\"\n",
    "    ).as_posix()\n",
    "    out = execute_notebook(input_path, output_path, params)\n",
    "    return out\n",
    "\n",
    "\n",
    "print(os.getpid())\n",
    "if os.getpid() == None:\n",
    "    params_list = [\n",
    "        {\"STRUCTURE_ID\": structure_id}\n",
    "        for structure_id in [\"1n5uA03\", \"4z8jA00\", \"4unuA00\", \"4beuA02\"]\n",
    "    ]\n",
    "    with concurrent.futures.ThreadPoolExecutor(4) as pool:\n",
    "        futures = pool.map(worker, params_list)\n",
    "        results = list(futures)"
   ]
  },
  {
   "cell_type": "code",
   "execution_count": 9,
   "metadata": {},
   "outputs": [
    {
     "data": {
      "text/plain": [
       "{'map_sequence_identity': 0.41013824884792627,\n",
       " 'map_proba': 0.5304911136627197,\n",
       " 'map_logproba': -0.6995142102241516,\n",
       " 'ref_sequence_identity': 1.0,\n",
       " 'ref_proba': 0.3164460062980652,\n",
       " 'ref_logproba': -1.7113533020019531,\n",
       " 'sequence': 'LGQFQSNIEQFKSHMNANTKICAIMKADAYGNGIRGLMPTIIAQGIPCVGVASNAEARAVRESGFKGELIRVRSASLSEMSSALDLNIEELIGTHQQALDLAELAKQSGKTLKVHIALNDGGMGRNGIDMTTEAGKKEAVSIATQPSLSVVGIMTHFPNYNADEVRAKLAQFKESSTWLMQQANLKREEITLHVANSYTALNVPEAQLDMVRPGGVL'}"
      ]
     },
     "execution_count": 9,
     "metadata": {},
     "output_type": "execute_result"
    }
   ],
   "source": [
    "proteinsolver_stat_dict = {\n",
    "    \"1n5uA03\": {\n",
    "        \"map_sequence_identity\": 0.41304347826086957,\n",
    "        \"map_proba\": 0.42337074875831604,\n",
    "        \"map_logproba\": -1.015546441078186,\n",
    "        \"ref_sequence_identity\": 1.0,\n",
    "        \"ref_proba\": 0.28906363248825073,\n",
    "        \"ref_logproba\": -1.9106740951538086,\n",
    "        \"sequence\": \"KFGERAFKAWAVARLSQRFPKAEFAEVSKLVTDLTKVHTECCHGDLLECADDRADLAKYICENQDSISSKLKECCEKPLLEKSHCIAEVEND\",\n",
    "    },\n",
    "    \"4z8jA00\": {\n",
    "        \"map_sequence_identity\": 0.4166666666666667,\n",
    "        \"map_proba\": 0.48954343795776367,\n",
    "        \"map_logproba\": -0.7965440154075623,\n",
    "        \"ref_sequence_identity\": 1.0,\n",
    "        \"ref_proba\": 0.325325071811676,\n",
    "        \"ref_logproba\": -1.840335726737976,\n",
    "        \"sequence\": \"SPRVVRIVKSESGYGFNVRGQVSEGGQLRSINGELYAPLQHVSAVLPGGAADRAGVRKGDRILEVNGVNVEGATHKQVVDLIRAGEKELILTVLSV\",\n",
    "    },\n",
    "    \"4unuA00\": {\n",
    "        \"map_sequence_identity\": 0.43119266055045874,\n",
    "        \"map_proba\": 0.46164458990097046,\n",
    "        \"map_logproba\": -0.8745880126953125,\n",
    "        \"ref_sequence_identity\": 1.0,\n",
    "        \"ref_proba\": 0.3054293692111969,\n",
    "        \"ref_logproba\": -1.7174205780029297,\n",
    "        \"sequence\": \"SALTQPPSASGSLGQSVTISCTGTSSDVGGYNYVSWYQQHAGKAPKVIIYEVNKRPSGVPDRFSGSKSGNTASLTVSGLQAEDEADYYCSSYEGSDNFVFGTGTKVTVL\",\n",
    "    },\n",
    "    \"4beuA02\": {\n",
    "        \"map_sequence_identity\": 0.41013824884792627,\n",
    "        \"map_proba\": 0.5304911136627197,\n",
    "        \"map_logproba\": -0.6995142102241516,\n",
    "        \"ref_sequence_identity\": 1.0,\n",
    "        \"ref_proba\": 0.3164460062980652,\n",
    "        \"ref_logproba\": -1.7113533020019531,\n",
    "        \"sequence\": \"LGQFQSNIEQFKSHMNANTKICAIMKADAYGNGIRGLMPTIIAQGIPCVGVASNAEARAVRESGFKGELIRVRSASLSEMSSALDLNIEELIGTHQQALDLAELAKQSGKTLKVHIALNDGGMGRNGIDMTTEAGKKEAVSIATQPSLSVVGIMTHFPNYNADEVRAKLAQFKESSTWLMQQANLKREEITLHVANSYTALNVPEAQLDMVRPGGVL\",\n",
    "    },\n",
    "}\n",
    "\n",
    "proteinsolver_stats = proteinsolver_stat_dict[STRUCTURE_ID]\n",
    "\n",
    "proteinsolver_stats"
   ]
  },
  {
   "cell_type": "markdown",
   "metadata": {},
   "source": [
    "## Common functions"
   ]
  },
  {
   "cell_type": "code",
   "execution_count": 10,
   "metadata": {},
   "outputs": [],
   "source": [
    "columns = list(\"GVALICMFWPDESTYQNKRH\")\n",
    "assert len(columns) == 20\n",
    "assert len(set(columns)) == 20\n",
    "\n",
    "\n",
    "def get_sequence_logo_score(sequence, aa_proba_adj):\n",
    "    return np.mean(\n",
    "        np.log(aa_proba_adj.values[np.arange(len(sequence)), [columns.index(aa) for aa in sequence]])\n",
    "    )\n",
    "\n",
    "\n",
    "def get_sequence_identity(seq1, seq2):\n",
    "    assert len(seq1) == len(seq2)\n",
    "    return sum((aa1 == aa2) for aa1, aa2 in zip(seq1, seq2)) / len(seq1)"
   ]
  },
  {
   "cell_type": "markdown",
   "metadata": {},
   "source": [
    "## Load reference LOGOs"
   ]
  },
  {
   "cell_type": "code",
   "execution_count": 11,
   "metadata": {},
   "outputs": [],
   "source": [
    "AA_PROBA_ADJ = {}\n",
    "for rl in [100, 95, 60, 35]:\n",
    "    AA_PROBA_ADJ[rl] = pq.read_table(\n",
    "        NOTEBOOK_DIR.parents[2].joinpath(\n",
    "            \"proteinsolver\",\n",
    "            \"notebooks\",\n",
    "            \"11_profile_recovery\",\n",
    "            f\"{STRUCTURE_ID}-rl{rl}-aa-proba-adj.parquet\",\n",
    "        )\n",
    "    ).to_pandas()"
   ]
  },
  {
   "cell_type": "markdown",
   "metadata": {},
   "source": [
    "## Load reference structure"
   ]
  },
  {
   "cell_type": "code",
   "execution_count": 12,
   "metadata": {},
   "outputs": [
    {
     "data": {
      "text/plain": [
       "PosixPath('/home/kimlab1/strokach/workspace/proteinsolver/proteinsolver/data/inputs/4beuA02.pdb')"
      ]
     },
     "execution_count": 12,
     "metadata": {},
     "output_type": "execute_result"
    }
   ],
   "source": [
    "STRUCTURE_FILE = Path(proteinsolver.__path__[0]).joinpath(\"data\", \"inputs\", f\"{STRUCTURE_ID}.pdb\")\n",
    "assert STRUCTURE_FILE.is_file()\n",
    "\n",
    "STRUCTURE_FILE"
   ]
  },
  {
   "cell_type": "code",
   "execution_count": 13,
   "metadata": {},
   "outputs": [],
   "source": [
    "structure = PDB.load(STRUCTURE_FILE)"
   ]
  },
  {
   "cell_type": "code",
   "execution_count": 14,
   "metadata": {},
   "outputs": [],
   "source": [
    "structure_df = structure.to_dataframe()"
   ]
  },
  {
   "cell_type": "markdown",
   "metadata": {},
   "source": [
    "## Ingraham"
   ]
  },
  {
   "cell_type": "code",
   "execution_count": 15,
   "metadata": {},
   "outputs": [
    {
     "name": "stdout",
     "output_type": "stream",
     "text": [
      "coarse\tdist  full  hbonds\n"
     ]
    }
   ],
   "source": [
    "ingraham_data_dir = NOTEBOOK_DIR.parents[2].joinpath(\n",
    "    \"neurips19-graph-protein-design\", \"notebooks\", \"03_generate_designs\", STRUCTURE_ID\n",
    ")\n",
    "\n",
    "!ls {ingraham_data_dir}"
   ]
  },
  {
   "cell_type": "markdown",
   "metadata": {},
   "source": [
    "### Load data"
   ]
  },
  {
   "cell_type": "code",
   "execution_count": 16,
   "metadata": {},
   "outputs": [],
   "source": [
    "def parse_fasta_file(fin):\n",
    "    results = []\n",
    "    row = None\n",
    "    for line in fin:\n",
    "        if line.startswith(\">\"):\n",
    "            if row is not None:\n",
    "                results.append(row)\n",
    "                row = None\n",
    "            header = [l.strip(\"> \") for l in line.strip().split(\",\")]\n",
    "            if header[0] == \"Native\":\n",
    "                row = {\n",
    "                    \"T\": None,\n",
    "                    \"sample\": -1,\n",
    "                    \"score\": float(header[1].replace(\"score=\", \"\")),\n",
    "                    \"sequence\": \"\",\n",
    "                }\n",
    "            else:\n",
    "                row = {\n",
    "                    \"T\": header[0].replace(\"T=\", \"\"),\n",
    "                    \"sample\": header[1].replace(\"sample=\", \"\"),\n",
    "                    \"score\": float(header[2].replace(\"score=\", \"\")),\n",
    "                    \"sequence\": \"\",\n",
    "                }\n",
    "        else:\n",
    "            row[\"sequence\"] += line.strip()\n",
    "    if row is not None:\n",
    "        results.append(row)\n",
    "    return results"
   ]
  },
  {
   "cell_type": "code",
   "execution_count": 17,
   "metadata": {},
   "outputs": [],
   "source": [
    "result_dfs = {}\n",
    "for model_features in [\"full\", \"dist\", \"coarse\", \"hbonds\"]:\n",
    "    with gzip.open(\n",
    "        ingraham_data_dir.joinpath(model_features, \"alignments\", f\"{STRUCTURE_ID}.fa.gz\"), \"rt\"\n",
    "    ) as fin:\n",
    "        results = parse_fasta_file(fin)\n",
    "        results_df = pd.DataFrame(results)\n",
    "        result_dfs[model_features] = results_df"
   ]
  },
  {
   "cell_type": "code",
   "execution_count": 18,
   "metadata": {},
   "outputs": [
    {
     "data": {
      "text/html": [
       "<div>\n",
       "<style scoped>\n",
       "    .dataframe tbody tr th:only-of-type {\n",
       "        vertical-align: middle;\n",
       "    }\n",
       "\n",
       "    .dataframe tbody tr th {\n",
       "        vertical-align: top;\n",
       "    }\n",
       "\n",
       "    .dataframe thead th {\n",
       "        text-align: right;\n",
       "    }\n",
       "</style>\n",
       "<table border=\"1\" class=\"dataframe\">\n",
       "  <thead>\n",
       "    <tr style=\"text-align: right;\">\n",
       "      <th></th>\n",
       "      <th>T</th>\n",
       "      <th>sample</th>\n",
       "      <th>score</th>\n",
       "      <th>sequence</th>\n",
       "    </tr>\n",
       "  </thead>\n",
       "  <tbody>\n",
       "    <tr>\n",
       "      <th>0</th>\n",
       "      <td>None</td>\n",
       "      <td>-1</td>\n",
       "      <td>1.409763</td>\n",
       "      <td>LGQFQSNIEQFKSHMNANTKICAIMKADAYGNGIRGLMPTIIAQGI...</td>\n",
       "    </tr>\n",
       "    <tr>\n",
       "      <th>1</th>\n",
       "      <td>1.0</td>\n",
       "      <td>0</td>\n",
       "      <td>1.825835</td>\n",
       "      <td>ASLLKIRLQNMSSELRMDTRYLIMYKADAKGKGVESLLPSIKCLKW...</td>\n",
       "    </tr>\n",
       "    <tr>\n",
       "      <th>2</th>\n",
       "      <td>1.0</td>\n",
       "      <td>1</td>\n",
       "      <td>1.762215</td>\n",
       "      <td>MDGIESALGAFHSKLPDNTQILAVLRATANGRGVASIMPIFAKMNV...</td>\n",
       "    </tr>\n",
       "    <tr>\n",
       "      <th>3</th>\n",
       "      <td>1.0</td>\n",
       "      <td>2</td>\n",
       "      <td>1.603048</td>\n",
       "      <td>LGNIRQQLQDFQSQLEEETSISLALKANAHGYGVEKLMPVFIEQNV...</td>\n",
       "    </tr>\n",
       "    <tr>\n",
       "      <th>4</th>\n",
       "      <td>1.0</td>\n",
       "      <td>3</td>\n",
       "      <td>2.078782</td>\n",
       "      <td>SEKTRERLETLSRHLADNAFICPQVTPDAFGTGVTGCLPLLQEEKI...</td>\n",
       "    </tr>\n",
       "  </tbody>\n",
       "</table>\n",
       "</div>"
      ],
      "text/plain": [
       "      T sample     score                                           sequence\n",
       "0  None     -1  1.409763  LGQFQSNIEQFKSHMNANTKICAIMKADAYGNGIRGLMPTIIAQGI...\n",
       "1   1.0      0  1.825835  ASLLKIRLQNMSSELRMDTRYLIMYKADAKGKGVESLLPSIKCLKW...\n",
       "2   1.0      1  1.762215  MDGIESALGAFHSKLPDNTQILAVLRATANGRGVASIMPIFAKMNV...\n",
       "3   1.0      2  1.603048  LGNIRQQLQDFQSQLEEETSISLALKANAHGYGVEKLMPVFIEQNV...\n",
       "4   1.0      3  2.078782  SEKTRERLETLSRHLADNAFICPQVTPDAFGTGVTGCLPLLQEEKI..."
      ]
     },
     "execution_count": 18,
     "metadata": {},
     "output_type": "execute_result"
    }
   ],
   "source": [
    "result_dfs[\"full\"].head()"
   ]
  },
  {
   "cell_type": "markdown",
   "metadata": {},
   "source": [
    "### Calculate scores"
   ]
  },
  {
   "cell_type": "code",
   "execution_count": 19,
   "metadata": {},
   "outputs": [],
   "source": [
    "# for feature_set in result_dfs:\n",
    "#     result_dfs[feature_set][\"seq_identity\"] = list(\n",
    "#         tqdm(\n",
    "#             (\n",
    "#                 get_sequence_identity(sequence, proteinsolver_stats[\"sequence\"])\n",
    "#                 for sequence in result_dfs[feature_set][\"sequence\"].values\n",
    "#             ),\n",
    "#             total=len(result_dfs[feature_set]),\n",
    "#         )\n",
    "#     )"
   ]
  },
  {
   "cell_type": "code",
   "execution_count": 20,
   "metadata": {},
   "outputs": [],
   "source": [
    "# for feature_set in result_dfs:\n",
    "#     for rl in AA_PROBA_ADJ:\n",
    "#         result_dfs[feature_set][f\"avg_logprob_{rl}\"] = list(\n",
    "#             tqdm(\n",
    "#                 (\n",
    "#                     get_sequence_logo_score(sequence, AA_PROBA_ADJ[rl])\n",
    "#                     for sequence in result_dfs[feature_set][\"sequence\"].values\n",
    "#                 ),\n",
    "#                 total=len(result_dfs[feature_set]),\n",
    "#             )\n",
    "#         )"
   ]
  },
  {
   "cell_type": "markdown",
   "metadata": {},
   "source": [
    "### Accuracy plot"
   ]
  },
  {
   "cell_type": "code",
   "execution_count": 21,
   "metadata": {},
   "outputs": [],
   "source": [
    "summary_dfs = {}\n",
    "for model_features in [\"full\", \"dist\", \"coarse\", \"hbonds\"]:\n",
    "    df = pd.read_csv(ingraham_data_dir.joinpath(model_features, \"results.csv\"))\n",
    "    df[\"model_features\"] = model_features\n",
    "    summary_dfs[model_features] = df"
   ]
  },
  {
   "cell_type": "code",
   "execution_count": 22,
   "metadata": {},
   "outputs": [
    {
     "data": {
      "image/png": "[encoded data removed]",
      "text/plain": [
       "<Figure size 432x288 with 1 Axes>"
      ]
     },
     "metadata": {
      "needs_background": "light"
     },
     "output_type": "display_data"
    }
   ],
   "source": [
    "fg, ax = plt.subplots()\n",
    "for model_features, df in summary_dfs.items():\n",
    "    x = np.arange(len(df))\n",
    "    ax.plot(x, df[\"similarity\"], \"o-\", label=model_features)\n",
    "    ax.set_xticks(x)\n",
    "    ax.set_xticklabels(df[\"T\"])\n",
    "    ax.grid(True, linestyle=\"--\")\n",
    "    ax.set_ylim(0.1, 0.65)\n",
    "ax.hlines(proteinsolver_stats[\"map_sequence_identity\"], *ax.set_xlim(), linestyle='--')\n",
    "ax.legend()\n",
    "ax.set_title(STRUCTURE_ID)\n",
    "fg.savefig(NOTEBOOK_DIR.joinpath(f\"{STRUCTURE_ID}-ingraham-seq-identity.svg\"))\n",
    "fg.savefig(NOTEBOOK_DIR.joinpath(f\"{STRUCTURE_ID}-ingraham-seq-identity.pdf\"))\n",
    "fg.savefig(NOTEBOOK_DIR.joinpath(f\"{STRUCTURE_ID}-ingraham-seq-identity.png\"), dpi=300)"
   ]
  },
  {
   "cell_type": "markdown",
   "metadata": {},
   "source": [
    "## Proteinsolver"
   ]
  },
  {
   "cell_type": "markdown",
   "metadata": {},
   "source": [
    "### Load data"
   ]
  },
  {
   "cell_type": "code",
   "execution_count": 24,
   "metadata": {},
   "outputs": [
    {
     "data": {
      "text/plain": [
       "[PosixPath('/home/kimlab1/strokach/workspace/proteinsolver/notebooks/generate_protein_sequences/designs-191f05de-expectimax-1n5uA03-2044-c02.parquet'),\n",
       " PosixPath('/home/kimlab1/strokach/workspace/proteinsolver/notebooks/generate_protein_sequences/designs-191f05de-expectimax-1n5uA03-2012-c02.parquet'),\n",
       " PosixPath('/home/kimlab1/strokach/workspace/proteinsolver/notebooks/generate_protein_sequences/designs-191f05de-expectimax-1n5uA03-3028-c02.parquet'),\n",
       " PosixPath('/home/kimlab1/strokach/workspace/proteinsolver/notebooks/generate_protein_sequences/designs-191f05de-expectimax-1n5uA03-3099-c02.parquet'),\n",
       " PosixPath('/home/kimlab1/strokach/workspace/proteinsolver/notebooks/generate_protein_sequences/designs-191f05de-expectimax-1n5uA03-1037-c02.parquet')]"
      ]
     },
     "execution_count": 24,
     "metadata": {},
     "output_type": "execute_result"
    }
   ],
   "source": [
    "design_files = list(DESIGNS_PATH.glob(f\"designs-{UNIQUE_ID}-{SEQUENCE_GENERATION_METHOD}-{STRUCTURE_FILE.stem}-*.parquet\"))\n",
    "design_files[-5:]"
   ]
  },
  {
   "cell_type": "code",
   "execution_count": 25,
   "metadata": {},
   "outputs": [
    {
     "data": {
      "application/vnd.jupyter.widget-view+json": {
       "model_id": "2e945b19ed444047af45fabe79225a67",
       "version_major": 2,
       "version_minor": 0
      },
      "text/plain": [
       "HBox(children=(FloatProgress(value=0.0, max=376.0), HTML(value='')))"
      ]
     },
     "metadata": {},
     "output_type": "display_data"
    },
    {
     "name": "stdout",
     "output_type": "stream",
     "text": [
      "\n"
     ]
    }
   ],
   "source": [
    "dfs = []\n",
    "for design_file in tqdm(design_files):\n",
    "    df = pq.read_table(design_file).to_pandas(integer_object_nulls=True)\n",
    "    dfs.append(df)\n",
    "proteinsolver_df = pd.concat(dfs, sort=False)"
   ]
  },
  {
   "cell_type": "code",
   "execution_count": 26,
   "metadata": {},
   "outputs": [
    {
     "name": "stdout",
     "output_type": "stream",
     "text": [
      "5472\n",
      "5472\n"
     ]
    }
   ],
   "source": [
    "print(len(df))\n",
    "proteinsolver_df = proteinsolver_df.drop_duplicates(subset=[\"sequence\"])\n",
    "print(len(df))"
   ]
  },
  {
   "cell_type": "markdown",
   "metadata": {},
   "source": [
    "### Calculate scores"
   ]
  },
  {
   "cell_type": "code",
   "execution_count": 27,
   "metadata": {},
   "outputs": [
    {
     "data": {
      "application/vnd.jupyter.widget-view+json": {
       "model_id": "82e763f296a54c65b3ae4190060c313f",
       "version_major": 2,
       "version_minor": 0
      },
      "text/plain": [
       "HBox(children=(FloatProgress(value=0.0, max=2057472.0), HTML(value='')))"
      ]
     },
     "metadata": {},
     "output_type": "display_data"
    },
    {
     "name": "stdout",
     "output_type": "stream",
     "text": [
      "\n"
     ]
    }
   ],
   "source": [
    "proteinsolver_df[\"seq_identity\"] = list(\n",
    "    tqdm(\n",
    "        (\n",
    "            get_sequence_identity(sequence, proteinsolver_stats[\"sequence\"])\n",
    "            for sequence in proteinsolver_df[\"sequence\"].values\n",
    "        ),\n",
    "        total=len(proteinsolver_df),\n",
    "    )\n",
    ")"
   ]
  },
  {
   "cell_type": "code",
   "execution_count": 29,
   "metadata": {},
   "outputs": [
    {
     "data": {
      "application/vnd.jupyter.widget-view+json": {
       "model_id": "e09a966b76804b9585ed567406bb76ca",
       "version_major": 2,
       "version_minor": 0
      },
      "text/plain": [
       "HBox(children=(FloatProgress(value=0.0, max=2057472.0), HTML(value='')))"
      ]
     },
     "metadata": {},
     "output_type": "display_data"
    },
    {
     "name": "stdout",
     "output_type": "stream",
     "text": [
      "\n"
     ]
    },
    {
     "data": {
      "application/vnd.jupyter.widget-view+json": {
       "model_id": "034ddb80925e463fba8adb154270e845",
       "version_major": 2,
       "version_minor": 0
      },
      "text/plain": [
       "HBox(children=(FloatProgress(value=0.0, max=2057472.0), HTML(value='')))"
      ]
     },
     "metadata": {},
     "output_type": "display_data"
    },
    {
     "name": "stdout",
     "output_type": "stream",
     "text": [
      "\n"
     ]
    },
    {
     "data": {
      "application/vnd.jupyter.widget-view+json": {
       "model_id": "4483c33521b0429792f369be4272baf7",
       "version_major": 2,
       "version_minor": 0
      },
      "text/plain": [
       "HBox(children=(FloatProgress(value=0.0, max=2057472.0), HTML(value='')))"
      ]
     },
     "metadata": {},
     "output_type": "display_data"
    },
    {
     "name": "stdout",
     "output_type": "stream",
     "text": [
      "\n"
     ]
    },
    {
     "data": {
      "application/vnd.jupyter.widget-view+json": {
       "model_id": "6e0e6c521e944f9b809942465059c796",
       "version_major": 2,
       "version_minor": 0
      },
      "text/plain": [
       "HBox(children=(FloatProgress(value=0.0, max=2057472.0), HTML(value='')))"
      ]
     },
     "metadata": {},
     "output_type": "display_data"
    },
    {
     "name": "stdout",
     "output_type": "stream",
     "text": [
      "\n"
     ]
    }
   ],
   "source": [
    "for rl in AA_PROBA_ADJ:\n",
    "    proteinsolver_df[f\"avg_logprob_{rl}\"] = list(\n",
    "        tqdm(\n",
    "            (\n",
    "                get_sequence_logo_score(sequence, AA_PROBA_ADJ[rl])\n",
    "                for sequence in proteinsolver_df[\"sequence\"].values\n",
    "            ),\n",
    "            total=len(proteinsolver_df),\n",
    "        )\n",
    "    )"
   ]
  },
  {
   "cell_type": "markdown",
   "metadata": {},
   "source": [
    "## Make plots"
   ]
  },
  {
   "cell_type": "code",
   "execution_count": 34,
   "metadata": {},
   "outputs": [],
   "source": [
    "result_dfs[\"proteinsolver\"] = proteinsolver_df"
   ]
  },
  {
   "cell_type": "code",
   "execution_count": 57,
   "metadata": {},
   "outputs": [
    {
     "data": {
      "image/png": "[encoded data removed]",
      "text/plain": [
       "<Figure size 648x288 with 5 Axes>"
      ]
     },
     "metadata": {
      "needs_background": "light"
     },
     "output_type": "display_data"
    }
   ],
   "source": [
    "fg, axs = plt.subplots(1, 5, figsize=(9, 4))\n",
    "\n",
    "ylim = [None, None]\n",
    "ps_median = None\n",
    "for i, (featureset, df) in enumerate(result_dfs.items()):\n",
    "    data = {}\n",
    "    if featureset in [\"proteinsolver\"]:\n",
    "        data[\"all\\ndesigns\"] = df[\"seq_identity\"]\n",
    "    else:\n",
    "        for temp, gp in df.groupby(\"T\"):\n",
    "            data[temp] = gp[\"seq_identity\"].values\n",
    "\n",
    "    ax = axs[i]\n",
    "    box_values = list(data.values())\n",
    "    positions = np.linspace(-0.5, 0.5, len(data) + 2)\n",
    "    width = 0.1\n",
    "    _ = ax.boxplot(box_values, positions=positions[1:-1], sym=\".\", widths=width)\n",
    "    if featureset in [\"proteinsolver\"]:\n",
    "        ax.set_xticklabels([f\" T=1.00\" for key in data.keys()], rotation=\"vertical\")\n",
    "        ax.set_xlabel(f\"ProteinSolver\", fontsize=\"large\")\n",
    "    else:\n",
    "        ax.set_xticklabels([f\" T={float(key):.2f}\" for key in data.keys()], rotation=\"vertical\")\n",
    "        ax.set_xlabel(f\"ST {featureset}\", fontsize=\"large\")\n",
    "\n",
    "    ax.set_xlim(positions[0], positions[-1])\n",
    "\n",
    "    y_min_ = min([v.min() for v in box_values])\n",
    "    if ylim[0] is None or ylim[0] > y_min_:\n",
    "        ylim[0] = y_min_\n",
    "    y_max_ = max([v.max() for v in box_values])\n",
    "    if ylim[1] is None or ylim[1] < y_max_:\n",
    "        ylim[1] = y_max_\n",
    "    if featureset in [\"proteinsolver\"]:\n",
    "        ps_median = np.median(box_values[0])\n",
    "\n",
    "    if i == 0:\n",
    "        ax.set_ylabel(\"Average sequence identity\")\n",
    "\n",
    "    if i > 0:\n",
    "        ax.set_yticklabels(\"\")\n",
    "\n",
    "    for tic in ax.yaxis.get_major_ticks():\n",
    "        tic.tick1line.set_visible(False)\n",
    "        tic.tick2line.set_visible(False)\n",
    "\n",
    "    ax.spines[\"top\"].set_visible(False)\n",
    "    ax.spines[\"right\"].set_visible(False)\n",
    "    ax.spines[\"left\"].set_visible(False)\n",
    "    ax.grid(axis=\"y\", linestyle=\":\")\n",
    "\n",
    "ylim = [ylim[0] * 10 // 1 / 10, np.ceil(ylim[1] * 10) / 10]\n",
    "for ax in axs:\n",
    "    ax.set_ylim(ylim)\n",
    "    ax.hlines(\n",
    "        proteinsolver_stats[\"map_sequence_identity\"],\n",
    "        *ax.set_xlim(),\n",
    "        linestyle=\"--\",\n",
    "        linewidth=1,\n",
    "        color=plt.get_cmap(\"Set2\")(2),\n",
    "    )\n",
    "    ax.hlines(\n",
    "        ps_median, *ax.set_xlim(), linestyle=\"--\", linewidth=1, color=plt.get_cmap(\"Set2\")(3),\n",
    "    )\n",
    "\n",
    "fg.subplots_adjust(left=0.08, bottom=0.23, top=0.97, right=0.99)\n",
    "fg.savefig(NOTEBOOK_DIR.joinpath(f\"{STRUCTURE_ID}-seq-identity.svg\"))\n",
    "fg.savefig(NOTEBOOK_DIR.joinpath(f\"{STRUCTURE_ID}-seq-identity.pdf\"))\n",
    "fg.savefig(NOTEBOOK_DIR.joinpath(f\"{STRUCTURE_ID}-seq-identity.png\"), dpi=300)"
   ]
  },
  {
   "cell_type": "code",
   "execution_count": 58,
   "metadata": {},
   "outputs": [
    {
     "data": {
      "image/png": "[encoded data removed]",
      "text/plain": [
       "<Figure size 648x288 with 5 Axes>"
      ]
     },
     "metadata": {
      "needs_background": "light"
     },
     "output_type": "display_data"
    },
    {
     "data": {
      "image/png": "[encoded data removed]",
      "text/plain": [
       "<Figure size 648x288 with 5 Axes>"
      ]
     },
     "metadata": {
      "needs_background": "light"
     },
     "output_type": "display_data"
    },
    {
     "data": {
      "image/png": "[encoded data removed]",
      "text/plain": [
       "<Figure size 648x288 with 5 Axes>"
      ]
     },
     "metadata": {
      "needs_background": "light"
     },
     "output_type": "display_data"
    },
    {
     "data": {
      "image/png": "[encoded data removed]",
      "text/plain": [
       "<Figure size 648x288 with 5 Axes>"
      ]
     },
     "metadata": {
      "needs_background": "light"
     },
     "output_type": "display_data"
    }
   ],
   "source": [
    "for rl in AA_PROBA_ADJ:\n",
    "    fg, axs = plt.subplots(1, 5, figsize=(9, 4), constrained_layout=False)\n",
    "\n",
    "    ylim = [None, None]\n",
    "    ps_median = None\n",
    "\n",
    "    for i, (featureset, df) in enumerate(result_dfs.items()):\n",
    "        data = {}\n",
    "        if featureset in [\"proteinsolver\"]:\n",
    "            data[\"all\\ndesigns\"] = np.exp(df[f\"avg_logprob_{rl}\"].values)\n",
    "        else:\n",
    "            for temp, gp in df.groupby(\"T\"):\n",
    "                data[temp] = np.exp(gp[f\"avg_logprob_{rl}\"].values)\n",
    "\n",
    "        ax = axs[i]\n",
    "        box_values = list(data.values())\n",
    "        positions = np.linspace(-0.5, 0.5, len(data) + 2)\n",
    "        width = 0.1\n",
    "        _ = ax.boxplot(box_values, positions=positions[1:-1], sym=\".\", widths=width)\n",
    "        if featureset in [\"proteinsolver\"]:\n",
    "            ax.set_xticklabels([f\" T=1.00\" for key in data.keys()], rotation=\"vertical\")\n",
    "            ax.set_xlabel(f\"ProteinSolver\", fontsize=\"large\")\n",
    "        else:\n",
    "            ax.set_xticklabels([f\" T={float(key):.2f}\" for key in data.keys()], rotation=\"vertical\")\n",
    "            ax.set_xlabel(f\"ST {featureset}\", fontsize=\"large\")\n",
    "\n",
    "        ax.set_xlim(positions[0], positions[-1])\n",
    "\n",
    "        y_min_ = min([v.min() for v in box_values])\n",
    "        if ylim[0] is None or ylim[0] > y_min_:\n",
    "            ylim[0] = y_min_\n",
    "        y_max_ = max([v.max() for v in box_values])\n",
    "        if ylim[1] is None or ylim[1] < y_max_:\n",
    "            ylim[1] = y_max_\n",
    "        if featureset in [\"proteinsolver\"]:\n",
    "            ps_median = np.median(box_values[0])\n",
    "\n",
    "        if i == 0:\n",
    "            ax.set_ylabel(\"Average residue probability\")\n",
    "\n",
    "        if i > 0:\n",
    "            ax.set_yticklabels(\"\")\n",
    "\n",
    "        for tic in ax.yaxis.get_major_ticks():\n",
    "            tic.tick1line.set_visible(False)\n",
    "            tic.tick2line.set_visible(False)\n",
    "\n",
    "        ax.spines[\"top\"].set_visible(False)\n",
    "        ax.spines[\"right\"].set_visible(False)\n",
    "        ax.spines[\"left\"].set_visible(False)\n",
    "        ax.grid(axis=\"y\", linestyle=\":\")\n",
    "\n",
    "    ylim = [ylim[0] * 100 // 1 / 100, np.ceil(ylim[1] * 100) / 100]\n",
    "    for ax in axs:\n",
    "        ax.set_ylim(ylim)\n",
    "        ax.hlines(\n",
    "            np.exp(get_sequence_logo_score(proteinsolver_stats[\"sequence\"], AA_PROBA_ADJ[rl])),\n",
    "            *ax.set_xlim(),\n",
    "            linestyle=\"--\",\n",
    "            linewidth=1,\n",
    "            color=plt.get_cmap(\"Set2\")(2),\n",
    "        )\n",
    "        ax.hlines(\n",
    "            ps_median, *ax.set_xlim(), linestyle=\"--\", linewidth=1, color=plt.get_cmap(\"Set2\")(3),\n",
    "        )\n",
    "\n",
    "    fg.subplots_adjust(left=0.08, bottom=0.23, top=0.97, right=0.99)\n",
    "    fg.savefig(NOTEBOOK_DIR.joinpath(f\"{STRUCTURE_ID}-avg-logprog-rl{rl}.svg\"))\n",
    "    fg.savefig(NOTEBOOK_DIR.joinpath(f\"{STRUCTURE_ID}-avg-logprog-rl{rl}.pdf\"))\n",
    "    fg.savefig(NOTEBOOK_DIR.joinpath(f\"{STRUCTURE_ID}-avg-logprog-rl{rl}.png\"), dpi=300)"
   ]
  },
  {
   "cell_type": "code",
   "execution_count": null,
   "metadata": {},
   "outputs": [],
   "source": []
  }
 ],
 "metadata": {
  "kernelspec": {
   "display_name": "Python 3",
   "language": "python",
   "name": "python3"
  },
  "language_info": {
   "codemirror_mode": {
    "name": "ipython",
    "version": 3
   },
   "file_extension": ".py",
   "mimetype": "text/x-python",
   "name": "python",
   "nbconvert_exporter": "python",
   "pygments_lexer": "ipython3",
   "version": "3.7.6"
  }
 },
 "nbformat": 4,
 "nbformat_minor": 4
}
