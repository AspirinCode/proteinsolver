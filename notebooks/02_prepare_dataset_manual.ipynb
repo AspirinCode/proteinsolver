{
 "cells": [
  {
   "cell_type": "markdown",
   "metadata": {},
   "source": [
    "## Summary\n",
    "\n",
    "----"
   ]
  },
  {
   "cell_type": "markdown",
   "metadata": {},
   "source": [
    "## Imports"
   ]
  },
  {
   "cell_type": "code",
   "execution_count": 1,
   "metadata": {},
   "outputs": [],
   "source": [
    "import os\n",
    "import time\n",
    "from pathlib import Path\n",
    "\n",
    "import tqdm\n",
    "\n",
    "import numpy as np\n",
    "import pandas as pd\n",
    "import pyarrow as pa\n",
    "import pyarrow.parquet as pq"
   ]
  },
  {
   "cell_type": "markdown",
   "metadata": {},
   "source": [
    "## Parameters"
   ]
  },
  {
   "cell_type": "code",
   "execution_count": 2,
   "metadata": {},
   "outputs": [],
   "source": [
    "SUBSET = \"training\"\n",
    "RANDOM_SEED = 0"
   ]
  },
  {
   "cell_type": "code",
   "execution_count": 3,
   "metadata": {},
   "outputs": [
    {
     "data": {
      "text/plain": [
       "PosixPath('/home/kimlab_sysmaster/datapkg_output_dir')"
      ]
     },
     "execution_count": 3,
     "metadata": {},
     "output_type": "execute_result"
    }
   ],
   "source": [
    "DATAPKG_OUTPUT_DIR = Path(\"~/datapkg_output_dir\").expanduser().resolve()\n",
    "DATAPKG_OUTPUT_DIR"
   ]
  },
  {
   "cell_type": "code",
   "execution_count": 4,
   "metadata": {},
   "outputs": [
    {
     "data": {
      "text/plain": [
       "PosixPath('/home/kimlab_sysmaster/datapkg_output_dir/deep-protein-gen')"
      ]
     },
     "execution_count": 4,
     "metadata": {},
     "output_type": "execute_result"
    }
   ],
   "source": [
    "DEEP_PROTEIN_GEN_DIR = DATAPKG_OUTPUT_DIR / \"deep-protein-gen\"\n",
    "DEEP_PROTEIN_GEN_DIR"
   ]
  },
  {
   "cell_type": "markdown",
   "metadata": {},
   "source": [
    "## Workflow"
   ]
  },
  {
   "cell_type": "code",
   "execution_count": 5,
   "metadata": {},
   "outputs": [
    {
     "data": {
      "text/plain": [
       "PosixPath('/home/kimlab_sysmaster/datapkg_output_dir/deep-protein-gen/training_data')"
      ]
     },
     "execution_count": 5,
     "metadata": {},
     "output_type": "execute_result"
    }
   ],
   "source": [
    "DATA_DIR = DEEP_PROTEIN_GEN_DIR / f\"{SUBSET}_data\"\n",
    "DATA_DIR"
   ]
  },
  {
   "cell_type": "code",
   "execution_count": 6,
   "metadata": {},
   "outputs": [
    {
     "data": {
      "text/plain": [
       "PosixPath('/home/kimlab_sysmaster/datapkg_output_dir/deep-protein-gen/training_data_rs0')"
      ]
     },
     "execution_count": 6,
     "metadata": {},
     "output_type": "execute_result"
    }
   ],
   "source": [
    "OUTPUT_DATA_DIR = DEEP_PROTEIN_GEN_DIR / f\"{SUBSET}_data_rs{RANDOM_SEED}\"\n",
    "OUTPUT_DATA_DIR"
   ]
  },
  {
   "cell_type": "code",
   "execution_count": 7,
   "metadata": {},
   "outputs": [
    {
     "data": {
      "text/plain": [
       "['database_id=G3DSA%3A1.10.10.180',\n",
       " 'database_id=G3DSA%3A1.10.10.190',\n",
       " 'database_id=G3DSA%3A1.10.10.520']"
      ]
     },
     "execution_count": 7,
     "metadata": {},
     "output_type": "execute_result"
    }
   ],
   "source": [
    "folder_list = os.listdir(DATA_DIR)\n",
    "folder_list[:3]"
   ]
  },
  {
   "cell_type": "code",
   "execution_count": 8,
   "metadata": {},
   "outputs": [
    {
     "data": {
      "text/plain": [
       "['uniparc_id',\n",
       " 'structure_id',\n",
       " 'sequence',\n",
       " 'residue_idx_1_corrected',\n",
       " 'residue_idx_2_corrected',\n",
       " 'distances']"
      ]
     },
     "execution_count": 8,
     "metadata": {},
     "output_type": "execute_result"
    }
   ],
   "source": [
    "columns = [\n",
    "    \"uniparc_id\",\n",
    "    \"structure_id\",\n",
    "    \"sequence\",\n",
    "    \"residue_idx_1_corrected\",\n",
    "    \"residue_idx_2_corrected\",\n",
    "    \"distances\",\n",
    "]\n",
    "columns"
   ]
  },
  {
   "cell_type": "code",
   "execution_count": null,
   "metadata": {},
   "outputs": [
    {
     "data": {
      "application/vnd.jupyter.widget-view+json": {
       "model_id": "ba495d0c99cd4608aabd1315b51ec90e",
       "version_major": 2,
       "version_minor": 0
      },
      "text/plain": [
       "HBox(children=(IntProgress(value=0, max=998), HTML(value='')))"
      ]
     },
     "metadata": {},
     "output_type": "display_data"
    },
    {
     "name": "stdout",
     "output_type": "stream",
     "text": [
      "<class 'AssertionError'> \n",
      "1.10.10.190 11 11 11\n",
      "<class 'AssertionError'> \n",
      "1.10.287.120 9 9 9\n",
      "1.10.3080.10 46125 3157 3157\n",
      "<class 'AssertionError'> \n",
      "1.10.3200.10 29 29 29\n",
      "<class 'AssertionError'> \n",
      "1.10.3400.10 19 19 19\n",
      "<class 'AssertionError'> \n",
      "1.10.3960.10 37 37 37\n",
      "<class 'AssertionError'> \n",
      "1.20.10.10 16 16 16\n",
      "<class 'AssertionError'> \n",
      "1.20.120.590 32 32 32\n",
      "<class 'AssertionError'> \n",
      "1.20.120.630 93 93 93\n",
      "<class 'AssertionError'> \n",
      "1.20.1280.10 57 57 57\n",
      "<class 'AssertionError'> \n",
      "1.20.1400.10 8 8 8\n",
      "<class 'AssertionError'> \n",
      "1.20.1480.10 28 28 28\n",
      "<class 'AssertionError'> \n",
      "1.20.200.20 77 77 77\n",
      "1.20.210.10 867948 13126 13126\n",
      "1.20.225.10 348 265 265\n",
      "1.20.5.100 40429 2811 2811\n",
      "1.20.5.1010 707 373 373\n",
      "1.20.5.1130 150 150 150\n",
      "1.20.5.120 1189 492 492\n",
      "1.20.5.130 233 222 222\n",
      "1.20.5.210 1585 597 597\n",
      "1.20.5.220 1894 597 597\n",
      "1.20.5.260 1157 524 524\n",
      "1.20.5.270 1497 548 548\n",
      "1.20.5.550 2724 715 715\n",
      "1.20.5.560 1461 546 546\n",
      "1.20.5.600 137 137 137\n",
      "1.20.5.620 23607 2166 2166\n",
      "1.20.5.630 1172 474 474\n",
      "1.20.5.790 757 390 390\n",
      "1.20.5.830 165 165 165\n",
      "1.20.5.860 1125 502 502\n",
      "1.20.5.880 1584 542 542\n",
      "1.20.58.110 16910 1853 1853\n",
      "1.20.58.120 5020 1029 1029\n",
      "1.20.58.150 3573 805 805\n",
      "1.20.58.190 3644 876 876\n",
      "1.20.58.250 1790 604 604\n",
      "1.20.58.300 9189 1366 1366\n",
      "1.20.58.310 10766 1514 1514\n",
      "1.20.58.430 7066 1177 1177\n"
     ]
    }
   ],
   "source": [
    "random_state = np.random.RandomState(RANDOM_SEED)\n",
    "\n",
    "num_rows_per_group = 200\n",
    "\n",
    "for folder in tqdm.tqdm_notebook(folder_list, total=len(folder_list)):\n",
    "    file_list = list((DATA_DIR / folder).glob(\"*.parquet\"))\n",
    "    assert len(file_list) == 1\n",
    "\n",
    "    database_id = folder.replace(\"database_id=G3DSA%3A\", \"\")\n",
    "\n",
    "    output_file = OUTPUT_DATA_DIR / f\"{database_id}.parquet\"\n",
    "    if output_file.is_file():\n",
    "        try:\n",
    "            df = pq.read_table(output_file, use_threads=False).to_pandas(\n",
    "                integer_object_nulls=True\n",
    "            )\n",
    "            assert len(df) > (num_rows_per_group // 2)\n",
    "            continue\n",
    "        except Exception as e:\n",
    "            print(type(e), e)\n",
    "\n",
    "    pqfile = pq.ParquetFile(file_list[0])\n",
    "    num_rows = pqfile.metadata.num_rows\n",
    "    mask = random_state.rand(num_rows) < (\n",
    "        num_rows_per_group / num_rows * max(1, num_rows / num_rows_per_group) ** 0.5\n",
    "    )\n",
    "\n",
    "    dfs = []\n",
    "    start = 0\n",
    "    for row_group in range(pqfile.num_row_groups):\n",
    "        df = pqfile.read_row_group(\n",
    "            row_group, use_threads=False, columns=columns\n",
    "        ).to_pandas(integer_object_nulls=True)\n",
    "        end = start + len(df)\n",
    "        df = df.loc[mask[start:end], :]\n",
    "        assert len(df.index) == len(df.index.drop_duplicates())\n",
    "        dfs.append(df)\n",
    "        start = end\n",
    "    assert start == num_rows\n",
    "    df = pd.concat(dfs, ignore_index=True, sort=False)\n",
    "    df[\"database_id\"] = database_id\n",
    "\n",
    "    print(database_id, num_rows, mask.sum(), len(df))\n",
    "    table = pa.Table.from_pandas(df, preserve_index=False)\n",
    "    \n",
    "    n_tries = 0\n",
    "    while n_tries < 5:\n",
    "        n_tries += 1\n",
    "        try:\n",
    "            pq.write_table(table, output_file)\n",
    "            break\n",
    "        except OSError:\n",
    "            time.sleep(5)"
   ]
  },
  {
   "cell_type": "code",
   "execution_count": null,
   "metadata": {},
   "outputs": [],
   "source": []
  }
 ],
 "metadata": {
  "kernelspec": {
   "display_name": "defaults-v2",
   "language": "python",
   "name": "defaults-v2"
  },
  "language_info": {
   "codemirror_mode": {
    "name": "ipython",
    "version": 3
   },
   "file_extension": ".py",
   "mimetype": "text/x-python",
   "name": "python",
   "nbconvert_exporter": "python",
   "pygments_lexer": "ipython3",
   "version": "3.7.3"
  }
 },
 "nbformat": 4,
 "nbformat_minor": 4
}
