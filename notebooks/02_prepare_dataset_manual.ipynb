{
 "cells": [
  {
   "cell_type": "markdown",
   "metadata": {},
   "source": [
    "## Summary\n",
    "\n",
    "----"
   ]
  },
  {
   "cell_type": "markdown",
   "metadata": {},
   "source": [
    "## Imports"
   ]
  },
  {
   "cell_type": "code",
   "execution_count": 1,
   "metadata": {},
   "outputs": [],
   "source": [
    "import os\n",
    "from pathlib import Path\n",
    "\n",
    "import tqdm\n",
    "\n",
    "import numpy as np\n",
    "import pandas as pd\n",
    "import pyarrow as pa\n",
    "import pyarrow.parquet as pq"
   ]
  },
  {
   "cell_type": "markdown",
   "metadata": {},
   "source": [
    "## Parameters"
   ]
  },
  {
   "cell_type": "code",
   "execution_count": 2,
   "metadata": {},
   "outputs": [],
   "source": [
    "SUBSET = \"training\"\n",
    "RANDOM_SEED = 0"
   ]
  },
  {
   "cell_type": "code",
   "execution_count": 3,
   "metadata": {},
   "outputs": [
    {
     "data": {
      "text/plain": [
       "PosixPath('/home/kimlab_sysmaster/datapkg_output_dir')"
      ]
     },
     "execution_count": 3,
     "metadata": {},
     "output_type": "execute_result"
    }
   ],
   "source": [
    "DATAPKG_OUTPUT_DIR = Path(\"~/datapkg_output_dir\").expanduser().resolve()\n",
    "DATAPKG_OUTPUT_DIR"
   ]
  },
  {
   "cell_type": "code",
   "execution_count": 4,
   "metadata": {},
   "outputs": [
    {
     "data": {
      "text/plain": [
       "PosixPath('/home/kimlab_sysmaster/datapkg_output_dir/deep-protein-gen')"
      ]
     },
     "execution_count": 4,
     "metadata": {},
     "output_type": "execute_result"
    }
   ],
   "source": [
    "DEEP_PROTEIN_GEN_DIR = DATAPKG_OUTPUT_DIR / \"deep-protein-gen\"\n",
    "DEEP_PROTEIN_GEN_DIR"
   ]
  },
  {
   "cell_type": "markdown",
   "metadata": {},
   "source": [
    "## Workflow"
   ]
  },
  {
   "cell_type": "code",
   "execution_count": 5,
   "metadata": {},
   "outputs": [
    {
     "data": {
      "text/plain": [
       "PosixPath('/home/kimlab_sysmaster/datapkg_output_dir/deep-protein-gen/training_data')"
      ]
     },
     "execution_count": 5,
     "metadata": {},
     "output_type": "execute_result"
    }
   ],
   "source": [
    "DATA_DIR = DEEP_PROTEIN_GEN_DIR / f\"{SUBSET}_data\"\n",
    "DATA_DIR"
   ]
  },
  {
   "cell_type": "code",
   "execution_count": 6,
   "metadata": {},
   "outputs": [
    {
     "data": {
      "text/plain": [
       "PosixPath('/home/kimlab_sysmaster/datapkg_output_dir/deep-protein-gen/training_data_rs0')"
      ]
     },
     "execution_count": 6,
     "metadata": {},
     "output_type": "execute_result"
    }
   ],
   "source": [
    "OUTPUT_DATA_DIR = DEEP_PROTEIN_GEN_DIR / f\"{SUBSET}_data_rs{RANDOM_SEED}\"\n",
    "OUTPUT_DATA_DIR"
   ]
  },
  {
   "cell_type": "code",
   "execution_count": 7,
   "metadata": {},
   "outputs": [
    {
     "data": {
      "text/plain": [
       "['database_id=G3DSA%3A1.10.10.180',\n",
       " 'database_id=G3DSA%3A1.10.10.190',\n",
       " 'database_id=G3DSA%3A1.10.10.520']"
      ]
     },
     "execution_count": 7,
     "metadata": {},
     "output_type": "execute_result"
    }
   ],
   "source": [
    "folder_list = os.listdir(DATA_DIR)\n",
    "folder_list[:3]"
   ]
  },
  {
   "cell_type": "code",
   "execution_count": 8,
   "metadata": {},
   "outputs": [
    {
     "data": {
      "text/plain": [
       "['uniparc_id',\n",
       " 'structure_id',\n",
       " 'sequence',\n",
       " 'residue_idx_1_corrected',\n",
       " 'residue_idx_2_corrected',\n",
       " 'distances']"
      ]
     },
     "execution_count": 8,
     "metadata": {},
     "output_type": "execute_result"
    }
   ],
   "source": [
    "columns = [\n",
    "    \"uniparc_id\",\n",
    "    \"structure_id\",\n",
    "    \"sequence\",\n",
    "    \"residue_idx_1_corrected\",\n",
    "    \"residue_idx_2_corrected\",\n",
    "    \"distances\",\n",
    "]\n",
    "columns"
   ]
  },
  {
   "cell_type": "code",
   "execution_count": null,
   "metadata": {},
   "outputs": [
    {
     "data": {
      "application/vnd.jupyter.widget-view+json": {
       "model_id": "4951b6f3368844bc9773c231aa1b12d1",
       "version_major": 2,
       "version_minor": 0
      },
      "text/plain": [
       "HBox(children=(IntProgress(value=0, max=998), HTML(value='')))"
      ]
     },
     "metadata": {},
     "output_type": "display_data"
    },
    {
     "name": "stdout",
     "output_type": "stream",
     "text": [
      "1.10.10.180 1311 522 522\n",
      "1.10.10.190 11 11 11\n",
      "1.10.10.520 1138 475 475\n",
      "1.10.10.570 1517 567 567\n",
      "1.10.10.610 1913 639 639\n",
      "1.10.10.630 9050 1424 1424\n",
      "1.10.10.650 14292 1768 1768\n",
      "1.10.10.690 3995 885 885\n",
      "1.10.100.10 4609 1009 1009\n",
      "1.10.1000.11 8532 1330 1330\n",
      "1.10.101.10 68856 3641 3641\n",
      "1.10.1020.10 6375 1119 1119\n",
      "1.10.1030.10 33286 2595 2595\n",
      "1.10.1040.20 5674 1051 1051\n",
      "1.10.1060.10 91169 4198 4198\n",
      "1.10.1070.11 14548 1781 1781\n",
      "1.10.1080.10 3654 853 853\n",
      "1.10.1090.10 1965 634 634\n",
      "1.10.1100.10 418 281 281\n",
      "1.10.1140.10 32444 2518 2518\n",
      "1.10.1160.10 32080 2606 2606\n",
      "1.10.12.10 75697 3916 3916\n",
      "1.10.1200.10 245548 7020 7020\n",
      "1.10.1200.20 2647 715 715\n",
      "1.10.1200.60 2168 662 662\n",
      "1.10.1200.70 9788 1345 1345\n",
      "1.10.1200.80 15158 1702 1702\n",
      "1.10.1220.10 90561 4145 4145\n",
      "1.10.1240.10 16330 1829 1829\n",
      "1.10.1240.20 3546 764 764\n",
      "1.10.1240.30 1500 528 528\n",
      "1.10.1290.10 108 108 108\n",
      "1.10.1300.10 16450 1790 1790\n",
      "1.10.1320.10 3007 786 786\n",
      "1.10.135.10 3979 921 921\n",
      "1.10.1390.10 10155 1415 1415\n",
      "1.10.140.10 854 400 400\n",
      "1.10.1450.10 14411 1676 1676\n",
      "1.10.1470.10 15666 1791 1791\n",
      "1.10.15.30 692 362 362\n",
      "1.10.150.110 11134 1510 1510\n",
      "1.10.150.170 19572 1971 1971\n",
      "1.10.150.180 1254 459 459\n",
      "1.10.150.190 2227 688 688\n",
      "1.10.150.210 10297 1401 1401\n",
      "1.10.150.220 1340 518 518\n",
      "1.10.150.240 79332 3964 3964\n",
      "1.10.150.250 8304 1270 1270\n",
      "1.10.150.260 2297 675 675\n",
      "1.10.150.290 4853 966 966\n",
      "1.10.150.300 19633 1985 1985\n",
      "1.10.150.40 898 423 423\n",
      "1.10.150.60 8320 1266 1266\n"
     ]
    }
   ],
   "source": [
    "random_state = np.random.RandomState(RANDOM_SEED)\n",
    "\n",
    "num_rows_per_group = 200\n",
    "\n",
    "for folder in tqdm.tqdm_notebook(folder_list, total=len(folder_list)):\n",
    "    file_list = list((DATA_DIR / folder).glob(\"*.parquet\"))\n",
    "    assert len(file_list) == 1\n",
    "\n",
    "    database_id = folder.replace(\"database_id=G3DSA%3A\", \"\")\n",
    "\n",
    "    pqfile = pq.ParquetFile(file_list[0])\n",
    "    num_rows = pqfile.metadata.num_rows\n",
    "    mask = random_state.rand(num_rows) < (\n",
    "        num_rows_per_group / num_rows * max(1, num_rows / num_rows_per_group) ** 0.5\n",
    "    )\n",
    "\n",
    "    dfs = []\n",
    "    start = 0\n",
    "    for row_group in range(pqfile.num_row_groups):\n",
    "        df = pqfile.read_row_group(\n",
    "            row_group, use_threads=False, columns=columns\n",
    "        ).to_pandas(integer_object_nulls=True)\n",
    "        end = start + len(df)\n",
    "        df = df.loc[mask[start:end], :]\n",
    "        assert len(df.index) == len(df.index.drop_duplicates())\n",
    "        dfs.append(df)\n",
    "        start = end\n",
    "    assert start == num_rows\n",
    "    df = pd.concat(dfs, ignore_index=True, sort=False)\n",
    "    df[\"database_id\"] = database_id \n",
    "\n",
    "    print(database_id, num_rows, mask.sum(), len(df))\n",
    "    table = pa.Table.from_pandas(df, preserve_index=False)\n",
    "    pq.write_table(table, OUTPUT_DATA_DIR / f\"{database_id}.parquet\")"
   ]
  },
  {
   "cell_type": "code",
   "execution_count": null,
   "metadata": {},
   "outputs": [],
   "source": []
  }
 ],
 "metadata": {
  "kernelspec": {
   "display_name": "defaults-v2",
   "language": "python",
   "name": "defaults-v2"
  },
  "language_info": {
   "codemirror_mode": {
    "name": "ipython",
    "version": 3
   },
   "file_extension": ".py",
   "mimetype": "text/x-python",
   "name": "python",
   "nbconvert_exporter": "python",
   "pygments_lexer": "ipython3",
   "version": "3.7.3"
  }
 },
 "nbformat": 4,
 "nbformat_minor": 4
}
