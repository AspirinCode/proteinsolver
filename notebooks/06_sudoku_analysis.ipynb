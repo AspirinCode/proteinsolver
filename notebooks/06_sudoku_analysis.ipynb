{
 "cells": [
  {
   "cell_type": "markdown",
   "metadata": {},
   "source": [
    "## Summary\n",
    "\n",
    "In this notebook, we test the accuracy of a network trained to solve Sudoku puzzles on the *validation dataset*, comprised of puzzles generated using the same `sugen` progam that was used to generate the training dataset, and on the *test dataset*, comprised of 30 Sudoku puzzles collected from http://1sudoku.com.\n",
    "\n",
    "----"
   ]
  },
  {
   "cell_type": "markdown",
   "metadata": {
    "colab_type": "text",
    "id": "eoBMUoW2Hvhp",
    "toc-hr-collapsed": true
   },
   "source": [
    "## Imports"
   ]
  },
  {
   "cell_type": "code",
   "execution_count": 1,
   "metadata": {
    "colab": {},
    "colab_type": "code",
    "id": "TbKxMUZWHvhq"
   },
   "outputs": [],
   "source": [
    "import os\n",
    "import sys\n",
    "import tempfile\n",
    "import time\n",
    "from collections import deque\n",
    "from pathlib import Path\n",
    "\n",
    "import tqdm\n",
    "from torch_geometric.data import DataLoader\n",
    "\n",
    "import matplotlib as mpl\n",
    "import matplotlib.pyplot as plt\n",
    "import numpy as np\n",
    "import pandas as pd\n",
    "import pyarrow\n",
    "import torch\n",
    "import torch.nn as nn\n",
    "from matplotlib import cm\n",
    "from tensorflow.python.summary.summary_iterator import summary_iterator"
   ]
  },
  {
   "cell_type": "code",
   "execution_count": 2,
   "metadata": {
    "colab": {
     "base_uri": "https://localhost:8080/",
     "height": 334
    },
    "colab_type": "code",
    "id": "rczy7pPiHvhs",
    "outputId": "8e4673d7-4cc7-4f8e-ffc4-de94302e5fab"
   },
   "outputs": [
    {
     "name": "stderr",
     "output_type": "stream",
     "text": [
      "/home/ubuntu/anaconda3/envs/defaults-v009/lib/python3.7/site-packages/Bio/KDTree/__init__.py:25: BiopythonDeprecationWarning: Bio.KDTree has been deprecated, and we intend to remove it in a future release of Biopython. Please use Bio.PDB.kdtrees instead, which is functionally very similar.\n",
      "  BiopythonDeprecationWarning)\n"
     ]
    }
   ],
   "source": [
    "import proteinsolver\n",
    "import proteinsolver.datasets"
   ]
  },
  {
   "cell_type": "code",
   "execution_count": 3,
   "metadata": {},
   "outputs": [],
   "source": [
    "%matplotlib inline\n",
    "\n",
    "try:\n",
    "    inline_rc\n",
    "except NameError:\n",
    "    inline_rc = mpl.rcParams.copy()\n",
    "    \n",
    "mpl.rcParams.update({\"font.size\": 12})"
   ]
  },
  {
   "cell_type": "markdown",
   "metadata": {
    "colab_type": "text",
    "id": "dsEY3dtLHvhy",
    "toc-hr-collapsed": true
   },
   "source": [
    "## Parameters"
   ]
  },
  {
   "cell_type": "code",
   "execution_count": 4,
   "metadata": {},
   "outputs": [],
   "source": [
    "UNIQUE_ID = \"c8de7e56\""
   ]
  },
  {
   "cell_type": "code",
   "execution_count": 5,
   "metadata": {},
   "outputs": [
    {
     "data": {
      "text/plain": [
       "PosixPath('/tmp')"
      ]
     },
     "execution_count": 5,
     "metadata": {},
     "output_type": "execute_result"
    }
   ],
   "source": [
    "DATA_ROOT = Path(tempfile.gettempdir())\n",
    "DATA_ROOT.mkdir(exist_ok=True)\n",
    "DATA_ROOT"
   ]
  },
  {
   "cell_type": "code",
   "execution_count": 6,
   "metadata": {},
   "outputs": [
    {
     "data": {
      "text/plain": [
       "PosixPath('sudoku_analysis')"
      ]
     },
     "execution_count": 6,
     "metadata": {},
     "output_type": "execute_result"
    }
   ],
   "source": [
    "NOTEBOOK_NAME = \"sudoku_analysis\"\n",
    "NOTEBOOK_PATH = Path(NOTEBOOK_NAME)\n",
    "NOTEBOOK_PATH.mkdir(exist_ok=True)\n",
    "NOTEBOOK_PATH"
   ]
  },
  {
   "cell_type": "code",
   "execution_count": 7,
   "metadata": {},
   "outputs": [
    {
     "data": {
      "text/plain": [
       "PosixPath('/data/datapkg_data_dir')"
      ]
     },
     "execution_count": 7,
     "metadata": {},
     "output_type": "execute_result"
    }
   ],
   "source": [
    "DATAPKG_DATA_DIR = Path(f\"~/datapkg_data_dir\").expanduser().resolve()\n",
    "DATAPKG_DATA_DIR"
   ]
  },
  {
   "cell_type": "code",
   "execution_count": 8,
   "metadata": {},
   "outputs": [
    {
     "data": {
      "text/plain": [
       "'/data/datapkg_data_dir'"
      ]
     },
     "execution_count": 8,
     "metadata": {},
     "output_type": "execute_result"
    }
   ],
   "source": [
    "proteinsolver.settings.data_url = DATAPKG_DATA_DIR.as_posix()\n",
    "proteinsolver.settings.data_url"
   ]
  },
  {
   "cell_type": "markdown",
   "metadata": {},
   "source": [
    "## Load data"
   ]
  },
  {
   "cell_type": "code",
   "execution_count": 9,
   "metadata": {},
   "outputs": [],
   "source": [
    "datasets = {}"
   ]
  },
  {
   "cell_type": "code",
   "execution_count": 11,
   "metadata": {},
   "outputs": [],
   "source": [
    "datasets[\"sudoku_valid_0\"] = proteinsolver.datasets.SudokuDataset4(\n",
    "    root=DATA_ROOT.joinpath(\"sudoku_valid_0\"), subset=f\"valid_0\"\n",
    ")"
   ]
  },
  {
   "cell_type": "code",
   "execution_count": 13,
   "metadata": {},
   "outputs": [],
   "source": [
    "datasets[\"sudoku_test\"] = proteinsolver.datasets.SudokuDataset2(\n",
    "    root=DATA_ROOT.joinpath(\"sudoku_test\"),\n",
    "    data_url=DATAPKG_DATA_DIR.joinpath(\n",
    "        \"deep-protein-gen\", \"sudoku\", \"sudoku_test.csv.gz\"\n",
    "    ).as_posix(),\n",
    ")"
   ]
  },
  {
   "cell_type": "markdown",
   "metadata": {},
   "source": [
    "## Training plots"
   ]
  },
  {
   "cell_type": "code",
   "execution_count": 14,
   "metadata": {},
   "outputs": [
    {
     "name": "stdout",
     "output_type": "stream",
     "text": [
      "WARNING:tensorflow:From /home/ubuntu/anaconda3/envs/defaults-v009/lib/python3.7/site-packages/tensorflow_core/python/summary/summary_iterator.py:68: tf_record_iterator (from tensorflow.python.lib.io.tf_record) is deprecated and will be removed in a future version.\n",
      "Instructions for updating:\n",
      "Use eager execution and: \n",
      "`tf.data.TFRecordDataset(path)`\n"
     ]
    }
   ],
   "source": [
    "dfs = []\n",
    "\n",
    "for tb_file in Path(f\"sudoku_train/runs/{UNIQUE_ID}.xxx/\").glob(\"*\"):\n",
    "    data = []\n",
    "    for e in summary_iterator(tb_file.as_posix()):\n",
    "        for v in e.summary.value:\n",
    "            row = (e.step, v.tag, v.simple_value)\n",
    "            data.append(row)\n",
    "            if v.tag == \"accuracy_mv\":\n",
    "                row = (e.step, \"wall_time\", e.wall_time)\n",
    "                data.append(row)\n",
    "    df = (\n",
    "        pd.DataFrame(data, columns=[\"datapoint\", \"tag\", \"simple_value\"])\n",
    "        .pivot(index=\"datapoint\", columns=\"tag\", values=\"simple_value\")\n",
    "        .reset_index()\n",
    "    )\n",
    "    dfs.append(df)"
   ]
  },
  {
   "cell_type": "code",
   "execution_count": 15,
   "metadata": {},
   "outputs": [
    {
     "name": "stdout",
     "output_type": "stream",
     "text": [
      "95281\n"
     ]
    }
   ],
   "source": [
    "df = pd.concat(dfs, sort=False)\n",
    "print(len(df))"
   ]
  },
  {
   "cell_type": "code",
   "execution_count": 16,
   "metadata": {},
   "outputs": [
    {
     "name": "stdout",
     "output_type": "stream",
     "text": [
      "92813\n"
     ]
    }
   ],
   "source": [
    "df = df.sort_values(\"wall_time\", ascending=False).drop_duplicates(subset=[\"datapoint\"], keep=\"first\").sort_values(\"wall_time\", ascending=True)\n",
    "print(len(df))"
   ]
  },
  {
   "cell_type": "code",
   "execution_count": 17,
   "metadata": {},
   "outputs": [],
   "source": [
    "assert len(df) == len(df[\"datapoint\"].drop_duplicates())"
   ]
  },
  {
   "cell_type": "code",
   "execution_count": 18,
   "metadata": {},
   "outputs": [
    {
     "data": {
      "image/png": "[encoded data removed]",
      "text/plain": [
       "<Figure size 360x288 with 1 Axes>"
      ]
     },
     "metadata": {
      "needs_background": "light"
     },
     "output_type": "display_data"
    }
   ],
   "source": [
    "fg, ax = plt.subplots(figsize=(5, 4))\n",
    "ax.plot(df[\"datapoint\"], df[\"accuracy_m\"], color=cm.get_cmap(\"tab10\")(0), alpha=1, label=\"training\")\n",
    "ax.plot(df[\"datapoint\"], df[\"accuracy_mv\"], color=cm.get_cmap(\"tab10\")(1), alpha=0.8, label=\"validation\")\n",
    "# ax.hlines(0.7, 0, df[\"datapoint\"].max(), linestyle='--')\n",
    "ax.legend(loc=\"lower right\")\n",
    "ax.set_xlabel(\"Number of training data points\")\n",
    "ax.set_ylabel(\"Accuracy on missing numbers\")\n",
    "ax.ticklabel_format(axis=\"x\", style=\"sci\", scilimits=(0, 0))\n",
    "# ax.set_ylim(0, 0.82)\n",
    "fg.savefig(NOTEBOOK_PATH / f\"{UNIQUE_ID}-training-curve.svg\")"
   ]
  },
  {
   "cell_type": "markdown",
   "metadata": {},
   "source": [
    "## Load model"
   ]
  },
  {
   "cell_type": "code",
   "execution_count": 19,
   "metadata": {},
   "outputs": [
    {
     "data": {
      "text/plain": [
       "<Figure size 432x288 with 0 Axes>"
      ]
     },
     "metadata": {},
     "output_type": "display_data"
    }
   ],
   "source": [
    "%run sudoku_train/{UNIQUE_ID}/model.py"
   ]
  },
  {
   "cell_type": "code",
   "execution_count": 20,
   "metadata": {},
   "outputs": [
    {
     "data": {
      "text/plain": [
       "device(type='cpu')"
      ]
     },
     "execution_count": 20,
     "metadata": {},
     "output_type": "execute_result"
    }
   ],
   "source": [
    "device = torch.device(\"cuda:0\" if torch.cuda.is_available() else \"cpu\")\n",
    "device"
   ]
  },
  {
   "cell_type": "code",
   "execution_count": 21,
   "metadata": {},
   "outputs": [
    {
     "data": {
      "text/plain": [
       "[PosixPath('sudoku_train/c8de7e56/e1-s400000-d2400000-amv07269.state'),\n",
       " PosixPath('sudoku_train/c8de7e56/e1-s600000-d3600000-amv07396.state')]"
      ]
     },
     "execution_count": 21,
     "metadata": {},
     "output_type": "execute_result"
    }
   ],
   "source": [
    "state_files = sorted(\n",
    "    Path(\"sudoku_train\").joinpath(UNIQUE_ID).glob(\"*.state\"),\n",
    "    key=lambda s: (int(s.stem.split(\"-\")[3].strip(\"amv\")), int(s.stem.split(\"-\")[2].strip(\"d\"))),\n",
    ")\n",
    "\n",
    "state_files[-5:]"
   ]
  },
  {
   "cell_type": "code",
   "execution_count": 22,
   "metadata": {},
   "outputs": [
    {
     "data": {
      "text/plain": [
       "PosixPath('sudoku_train/c8de7e56/e1-s400000-d2400000-amv07269.state')"
      ]
     },
     "execution_count": 22,
     "metadata": {},
     "output_type": "execute_result"
    }
   ],
   "source": [
    "state_file = state_files[-1]\n",
    "state_file"
   ]
  },
  {
   "cell_type": "code",
   "execution_count": 23,
   "metadata": {},
   "outputs": [],
   "source": [
    "net = Net(\n",
    "    x_input_size=13, adj_input_size=3, hidden_size=162, output_size=9, batch_size=8\n",
    ").to(device)\n",
    "\n",
    "net.load_state_dict(torch.load(state_file, map_location=device))\n",
    "net.eval()\n",
    "net = net.to(device)"
   ]
  },
  {
   "cell_type": "markdown",
   "metadata": {},
   "source": [
    "## Test plots"
   ]
  },
  {
   "cell_type": "markdown",
   "metadata": {},
   "source": [
    "### Oneshot"
   ]
  },
  {
   "cell_type": "code",
   "execution_count": 24,
   "metadata": {},
   "outputs": [],
   "source": [
    "edge_attr = next(iter(datasets[\"sudoku_valid_0\"])).edge_attr.to(device)"
   ]
  },
  {
   "cell_type": "code",
   "execution_count": 25,
   "metadata": {},
   "outputs": [],
   "source": [
    "results = []\n",
    "for data in datasets[\"sudoku_test\"]:\n",
    "    data = data.to(device)\n",
    "    is_missing = data.x == 9\n",
    "    output = net(data.x, data.edge_index, edge_attr)\n",
    "    output = torch.softmax(output, dim=1)\n",
    "    _, predicted = output.max(dim=1)\n",
    "    num_correct = float((predicted[is_missing] == data.y[is_missing]).sum())\n",
    "    num_total = float(is_missing.sum())\n",
    "    results.append({\"fraction_correct\": num_correct / num_total, \"num_correct\": num_correct, \"num_total\": num_total})\n",
    "oneshot_results_df = pd.DataFrame(results)"
   ]
  },
  {
   "cell_type": "code",
   "execution_count": 26,
   "metadata": {},
   "outputs": [
    {
     "data": {
      "image/png": "[encoded data removed]",
      "text/plain": [
       "<Figure size 360x288 with 1 Axes>"
      ]
     },
     "metadata": {
      "needs_background": "light"
     },
     "output_type": "display_data"
    }
   ],
   "source": [
    "xlim = (0, 1.03)\n",
    "textstr = \"\"\"\\\n",
    "Average fraction correct: {:.4f}\n",
    "\"\"\".format(\n",
    "    (oneshot_results_df[\"num_correct\"] / oneshot_results_df[\"num_total\"]).mean()\n",
    ").strip()\n",
    "props = dict(facecolor=\"white\", alpha=0.3)\n",
    "\n",
    "fg, ax = plt.subplots(figsize=(5, 4))\n",
    "data = oneshot_results_df[\"fraction_correct\"]\n",
    "assert data.min() >= xlim[0] and data.max() <= xlim[1]\n",
    "ax.hist(data, bins=20)\n",
    "ax.set_ylabel(\"Number of puzzles\")\n",
    "ax.set_xlabel(\"Fraction of missing values filled correctly\")\n",
    "ax.set_xlim(*xlim)\n",
    "#     ax.set_ylim(0, 5)\n",
    "# ax.set_title(\"Test - Oneshot\")\n",
    "ax.text(0.04, 0.95, textstr, transform=ax.transAxes, fontsize=\"medium\", verticalalignment=\"top\", bbox=props)\n",
    "fg.tight_layout()\n",
    "fg.savefig(NOTEBOOK_PATH / f\"{UNIQUE_ID}-test-oneshot.svg\")"
   ]
  },
  {
   "cell_type": "markdown",
   "metadata": {},
   "source": [
    "### Incremental"
   ]
  },
  {
   "cell_type": "code",
   "execution_count": 27,
   "metadata": {},
   "outputs": [],
   "source": [
    "@torch.no_grad()\n",
    "def design_sudoku(net, x, edge_index, edge_attr, log_conf_lst=None):\n",
    "    mask = (x == 9)\n",
    "    if not mask.any():\n",
    "        return x\n",
    "    \n",
    "    index_array = torch.arange(x.size(0))\n",
    "    \n",
    "    output = net(x, edge_index, edge_attr)\n",
    "    output = output[mask]\n",
    "    index_array = index_array[mask]\n",
    "\n",
    "    max_pred, max_index = torch.softmax(output, dim=1).max(dim=1)\n",
    "\n",
    "    _, max_residue = max_pred.max(dim=0)\n",
    "    if log_conf_lst is not None:\n",
    "        log_conf_lst.append(torch.log(max_pred[max_residue]).data.cpu())\n",
    "\n",
    "    assert x[index_array[max_residue]] == 9\n",
    "    x[index_array[max_residue]] = max_index[max_residue]\n",
    "    return design_sudoku(net, x, edge_index, edge_attr, log_conf_lst)"
   ]
  },
  {
   "cell_type": "code",
   "execution_count": 28,
   "metadata": {},
   "outputs": [
    {
     "name": "stderr",
     "output_type": "stream",
     "text": [
      "/home/ubuntu/anaconda3/envs/defaults-v009/lib/python3.7/site-packages/ipykernel_launcher.py:3: TqdmDeprecationWarning: This function will be removed in tqdm==5.0.0\n",
      "Please use `tqdm.notebook.tqdm` instead of `tqdm.tqdm_notebook`\n",
      "  This is separate from the ipykernel package so we can avoid doing imports until\n"
     ]
    },
    {
     "data": {
      "application/vnd.jupyter.widget-view+json": {
       "model_id": "610c381ffdef450fb1f383dbcafd9faf",
       "version_major": 2,
       "version_minor": 0
      },
      "text/plain": [
       "HBox(children=(IntProgress(value=0, max=30), HTML(value='')))"
      ]
     },
     "metadata": {},
     "output_type": "display_data"
    },
    {
     "name": "stdout",
     "output_type": "stream",
     "text": [
      "\n",
      "0.9744897959183674\n"
     ]
    }
   ],
   "source": [
    "wrong_preds = []\n",
    "results = []\n",
    "for data in tqdm.tqdm_notebook(datasets[\"sudoku_test\"], total=len(datasets[\"sudoku_test\"])):\n",
    "    data = data.to(device)\n",
    "    x_in = data.x.clone()\n",
    "    is_missing = x_in == 9\n",
    "    log_conf_lst = []\n",
    "    predicted = design_sudoku(net, x_in, data.edge_index, edge_attr, log_conf_lst)\n",
    "    num_correct = float((predicted[is_missing] == data.y[is_missing]).sum())\n",
    "    num_total = float(is_missing.sum())\n",
    "    results.append(\n",
    "        {\n",
    "            \"fraction_correct\": num_correct / num_total,\n",
    "            \"num_correct\": num_correct,\n",
    "            \"num_total\": num_total,\n",
    "            \"sum_log_prob\": np.sum(log_conf_lst),\n",
    "        }\n",
    "    )\n",
    "    if num_correct < num_total:\n",
    "        wrong_preds.append(\n",
    "            (\n",
    "                data.x.data.cpu().numpy(),\n",
    "                data.edge_index.data.cpu().numpy(),\n",
    "                data.y.data.cpu().numpy(),\n",
    "                predicted.data.cpu().numpy(),\n",
    "            )\n",
    "        )\n",
    "results_df = pd.DataFrame(results)\n",
    "print(results_df[\"num_correct\"].sum() / results_df[\"num_total\"].sum())"
   ]
  },
  {
   "cell_type": "code",
   "execution_count": 29,
   "metadata": {},
   "outputs": [
    {
     "data": {
      "image/png": "[encoded data removed]",
      "text/plain": [
       "<Figure size 360x288 with 1 Axes>"
      ]
     },
     "metadata": {
      "needs_background": "light"
     },
     "output_type": "display_data"
    }
   ],
   "source": [
    "xlim = (0, 1.03)\n",
    "textstr = \"\"\"\\\n",
    "Average fraction correct: {:.4f}\n",
    "\"\"\".format(\n",
    "    (results_df[\"num_correct\"] / results_df[\"num_total\"]).mean()\n",
    ").strip()\n",
    "props = dict(facecolor=\"white\", alpha=0.3)\n",
    "\n",
    "fg, ax = plt.subplots(figsize=(5, 4))\n",
    "data = results_df[\"fraction_correct\"]\n",
    "assert data.min() >= xlim[0] and data.max() <= xlim[1]\n",
    "ax.hist(data, bins=20)\n",
    "ax.set_ylabel(\"Number of puzzles\")\n",
    "ax.set_xlabel(\"Fraction of missing values filled correctly\")\n",
    "ax.set_xlim(*xlim)\n",
    "#     ax.set_ylim(0, 5)\n",
    "# ax.set_title(\"Test - Incremental\")\n",
    "ax.text(\n",
    "    0.04,\n",
    "    0.95,\n",
    "    textstr,\n",
    "    transform=ax.transAxes,\n",
    "    fontsize=\"medium\",\n",
    "    verticalalignment=\"top\",\n",
    "    bbox=props,\n",
    ")\n",
    "fg.tight_layout()\n",
    "fg.savefig(NOTEBOOK_PATH / f\"{UNIQUE_ID}-test-incremental.svg\", bbox_inches=\"tight\")"
   ]
  },
  {
   "cell_type": "code",
   "execution_count": 30,
   "metadata": {},
   "outputs": [
    {
     "data": {
      "image/png": "[encoded data removed]",
      "text/plain": [
       "<Figure size 360x288 with 1 Axes>"
      ]
     },
     "metadata": {
      "needs_background": "light"
     },
     "output_type": "display_data"
    }
   ],
   "source": [
    "fraction_correct_oneshot = (oneshot_results_df[\"num_correct\"] / oneshot_results_df[\"num_total\"]).mean()\n",
    "fraction_correct_incremental = (results_df[\"num_correct\"] / results_df[\"num_total\"]).mean()\n",
    "\n",
    "fg, ax = plt.subplots(figsize=(5, 4))\n",
    "\n",
    "data = oneshot_results_df[\"fraction_correct\"]\n",
    "assert data.min() >= xlim[0] and data.max() <= xlim[1]\n",
    "ax.hist(data, bins=30, range=xlim, alpha=1, label=f\"oneshot (accuracy: {fraction_correct_oneshot:.2%})\", color=cm.get_cmap(\"Set1\")(1))\n",
    "\n",
    "data = results_df[\"fraction_correct\"]\n",
    "assert data.min() >= xlim[0] and data.max() <= xlim[1]\n",
    "ax.hist(data, bins=30, range=xlim, alpha=0.6, label=f\"incremental (accuracy: {fraction_correct_incremental:.2%})\", color=cm.get_cmap(\"Set1\")(0))\n",
    "\n",
    "ax.set_ylabel(\"Number of puzzles\")\n",
    "ax.set_xlabel(\"Fraction of missing values filled correctly\")\n",
    "ax.set_xlim(*xlim)\n",
    "ax.legend(loc=\"upper left\")\n",
    "fg.tight_layout()\n",
    "fg.savefig(NOTEBOOK_PATH / f\"{UNIQUE_ID}-test-oneshot-incremental.svg\", bbox_inches=\"tight\")"
   ]
  },
  {
   "cell_type": "markdown",
   "metadata": {},
   "source": [
    "## Validation plots"
   ]
  },
  {
   "cell_type": "markdown",
   "metadata": {},
   "source": [
    "### Oneshot"
   ]
  },
  {
   "cell_type": "code",
   "execution_count": 31,
   "metadata": {},
   "outputs": [
    {
     "name": "stderr",
     "output_type": "stream",
     "text": [
      "/home/ubuntu/anaconda3/envs/defaults-v009/lib/python3.7/site-packages/ipykernel_launcher.py:13: TqdmDeprecationWarning: This function will be removed in tqdm==5.0.0\n",
      "Please use `tqdm.notebook.tqdm` instead of `tqdm.tqdm_notebook`\n",
      "  del sys.path[0]\n"
     ]
    },
    {
     "data": {
      "application/vnd.jupyter.widget-view+json": {
       "model_id": "a584a9631ba34a34b0f8624815339f0d",
       "version_major": 2,
       "version_minor": 0
      },
      "text/plain": [
       "HBox(children=(IntProgress(value=0, max=1000), HTML(value='')))"
      ]
     },
     "metadata": {},
     "output_type": "display_data"
    },
    {
     "name": "stdout",
     "output_type": "stream",
     "text": [
      "\n"
     ]
    }
   ],
   "source": [
    "results = []\n",
    "\n",
    "for i, data in tqdm.tqdm_notebook(\n",
    "    enumerate(\n",
    "        DataLoader(\n",
    "            datasets[\"sudoku_valid_0\"],\n",
    "            shuffle=False,\n",
    "            num_workers=1,\n",
    "            batch_size=1,\n",
    "            drop_last=False,\n",
    "        )\n",
    "    ),\n",
    "    total=1000,\n",
    "):\n",
    "    if i >= 1000:\n",
    "        break\n",
    "    data = data.to(device)\n",
    "    is_missing = data.x == 9\n",
    "    output = net(data.x, data.edge_index, data.edge_attr)\n",
    "    output = torch.softmax(output, dim=1)\n",
    "    _, predicted = output.max(dim=1)\n",
    "    num_correct = float((predicted[is_missing] == data.y[is_missing]).sum())\n",
    "    num_total = float(is_missing.sum())\n",
    "    results.append(\n",
    "        {\n",
    "            \"fraction_correct\": num_correct / num_total,\n",
    "            \"num_correct\": num_correct,\n",
    "            \"num_total\": num_total,\n",
    "        }\n",
    "    )\n",
    "val_oneshot_results_df = pd.DataFrame(results)"
   ]
  },
  {
   "cell_type": "code",
   "execution_count": 32,
   "metadata": {},
   "outputs": [
    {
     "data": {
      "image/png": "[encoded data removed]",
      "text/plain": [
       "<Figure size 432x288 with 1 Axes>"
      ]
     },
     "metadata": {
      "needs_background": "light"
     },
     "output_type": "display_data"
    }
   ],
   "source": [
    "xlim = (0.0, 1.03)\n",
    "textstr = \"\"\"\\\n",
    "Fraction correct overall: {:.4f}\n",
    "\"\"\".format(\n",
    "    (val_oneshot_results_df[\"num_correct\"] / val_oneshot_results_df[\"num_total\"]).mean()\n",
    ").strip()\n",
    "props = dict(facecolor=\"white\", alpha=0.3)\n",
    "\n",
    "with plt.rc_context(rc={\"font.size\": 12}):\n",
    "    fg, ax = plt.subplots(figsize=(6, 4))\n",
    "    data = val_oneshot_results_df[\"fraction_correct\"]\n",
    "    assert data.min() >= xlim[0] and data.max() <= xlim[1]\n",
    "    ax.hist(data)\n",
    "    ax.set_ylabel(\"Number of puzzles\")\n",
    "    ax.set_xlabel(\"Fraction of missing values filled correctly\")\n",
    "    ax.set_xlim(*xlim)\n",
    "    #     ax.set_ylim(0, 5)\n",
    "    ax.set_title(\"Validation - Oneshot\")\n",
    "    ax.text(0.04, 0.95, textstr, transform=ax.transAxes, fontsize=\"medium\", verticalalignment=\"top\", bbox=props)\n",
    "fg.savefig(NOTEBOOK_PATH / f\"{UNIQUE_ID}-validation-oneshot.svg\")"
   ]
  },
  {
   "cell_type": "markdown",
   "metadata": {},
   "source": [
    "### Incremental"
   ]
  },
  {
   "cell_type": "code",
   "execution_count": 33,
   "metadata": {},
   "outputs": [],
   "source": [
    "@torch.no_grad()\n",
    "def design_sudoku(net, x, edge_index, edge_attr):\n",
    "    mask = (x == 9)\n",
    "    if not mask.any():\n",
    "        return x\n",
    "    output = net(x, edge_index, edge_attr)\n",
    "    output = torch.softmax(output, dim=1)\n",
    "    max_pred, max_index = output.max(dim=1)\n",
    "    max_pred[~mask] = -1\n",
    "    _, max_residue = max_pred.max(dim=0)\n",
    "    x[max_residue] = max_index[max_residue]\n",
    "    return design_sudoku(net, x, edge_index, edge_attr)"
   ]
  },
  {
   "cell_type": "code",
   "execution_count": null,
   "metadata": {},
   "outputs": [
    {
     "name": "stderr",
     "output_type": "stream",
     "text": [
      "/home/ubuntu/anaconda3/envs/defaults-v009/lib/python3.7/site-packages/ipykernel_launcher.py:13: TqdmDeprecationWarning: This function will be removed in tqdm==5.0.0\n",
      "Please use `tqdm.notebook.tqdm` instead of `tqdm.tqdm_notebook`\n",
      "  del sys.path[0]\n"
     ]
    },
    {
     "data": {
      "application/vnd.jupyter.widget-view+json": {
       "model_id": "ef7c8fecfb7145ea970533ea311d9e5b",
       "version_major": 2,
       "version_minor": 0
      },
      "text/plain": [
       "HBox(children=(IntProgress(value=0, max=1000), HTML(value='')))"
      ]
     },
     "metadata": {},
     "output_type": "display_data"
    }
   ],
   "source": [
    "results = []\n",
    "\n",
    "for i, data in tqdm.tqdm_notebook(\n",
    "    enumerate(\n",
    "        DataLoader(\n",
    "            datasets[\"sudoku_valid_0\"],\n",
    "            shuffle=False,\n",
    "            num_workers=1,\n",
    "            batch_size=1,\n",
    "            drop_last=False,\n",
    "        )\n",
    "    ),\n",
    "    total=1000,\n",
    "):\n",
    "    if i >= 1000:\n",
    "        break\n",
    "    data = data.to(device)\n",
    "    x_in = data.x.clone()\n",
    "    is_missing = x_in == 9\n",
    "    predicted = design_sudoku(net, x_in, data.edge_index, data.edge_attr)\n",
    "    num_correct = float((predicted[is_missing] == data.y[is_missing]).sum())\n",
    "    num_total = float(is_missing.sum())\n",
    "    results.append({\"fraction_correct\": num_correct / num_total, \"num_correct\": num_correct, \"num_total\": num_total})\n",
    "val_results_df = pd.DataFrame(results)"
   ]
  },
  {
   "cell_type": "code",
   "execution_count": null,
   "metadata": {},
   "outputs": [],
   "source": [
    "xlim = (0.0, 1.03)\n",
    "textstr = \"\"\"\\\n",
    "Fraction correct overall: {:.4f}\n",
    "\"\"\".format(\n",
    "    (val_results_df[\"num_correct\"] / val_results_df[\"num_total\"]).mean()\n",
    ").strip()\n",
    "props = dict(facecolor=\"white\", alpha=0.3)\n",
    "\n",
    "with plt.rc_context(rc={\"font.size\": 12}):\n",
    "    fg, ax = plt.subplots(figsize=(6, 4))\n",
    "    data = val_results_df[\"fraction_correct\"]\n",
    "    assert data.min() >= xlim[0] and data.max() <= xlim[1]\n",
    "    ax.hist(data, bins=20)\n",
    "    ax.set_ylabel(\"Number of puzzles\")\n",
    "    ax.set_xlabel(\"Fraction of missing values filled correctly\")\n",
    "    ax.set_xlim(*xlim)\n",
    "#     ax.set_ylim(0, 5)\n",
    "    ax.set_title(\"Validation - Incremental\")\n",
    "    ax.text(0.04, 0.95, textstr, transform=ax.transAxes, fontsize=\"medium\", verticalalignment=\"top\", bbox=props)\n",
    "fg.savefig(NOTEBOOK_PATH / f\"{UNIQUE_ID}-validation-incremental.svg\")"
   ]
  },
  {
   "cell_type": "code",
   "execution_count": null,
   "metadata": {},
   "outputs": [],
   "source": [
    "fraction_correct_oneshot = (val_oneshot_results_df[\"num_correct\"] / val_oneshot_results_df[\"num_total\"]).mean()\n",
    "fraction_correct_incremental = (val_results_df[\"num_correct\"] / val_results_df[\"num_total\"]).mean()\n",
    "\n",
    "fg, ax = plt.subplots(figsize=(5, 4))\n",
    "\n",
    "data = val_oneshot_results_df[\"fraction_correct\"]\n",
    "assert data.min() >= xlim[0] and data.max() <= xlim[1]\n",
    "ax.hist(data, bins=30, range=xlim, alpha=1, density=False, label=f\"oneshot (accuracy: {fraction_correct_oneshot:.2%})\", color=cm.get_cmap(\"Set1\")(1))\n",
    "\n",
    "data = val_results_df[\"fraction_correct\"]\n",
    "assert data.min() >= xlim[0] and data.max() <= xlim[1]\n",
    "ax.hist(data, bins=30, range=xlim, alpha=0.6, density=False, label=f\"incremental (accuracy: {fraction_correct_incremental:.2%})\", color=cm.get_cmap(\"Set1\")(0))\n",
    "\n",
    "ax.set_ylabel(\"Number of puzzles\")\n",
    "ax.set_xlabel(\"Fraction of missing values filled correctly\")\n",
    "ax.set_xlim(*xlim)\n",
    "ax.legend(loc=\"upper left\")\n",
    "fg.tight_layout()\n",
    "fg.savefig(NOTEBOOK_PATH / f\"{UNIQUE_ID}-validation-oneshot-incremental.svg\", bbox_inches=\"tight\")"
   ]
  },
  {
   "cell_type": "code",
   "execution_count": null,
   "metadata": {},
   "outputs": [],
   "source": []
  }
 ],
 "metadata": {
  "accelerator": "GPU",
  "colab": {
   "collapsed_sections": [
    "1fXJz1l9HvhW",
    "u9q4iTifHvhl"
   ],
   "name": "Copy of 2019-03-30-sudoku-4xEdgeConv-09862+.ipynb",
   "provenance": [],
   "toc_visible": true,
   "version": "0.3.2"
  },
  "kernelspec": {
   "display_name": "defaults-v009",
   "language": "python",
   "name": "defaults-v009"
  },
  "language_info": {
   "codemirror_mode": {
    "name": "ipython",
    "version": 3
   },
   "file_extension": ".py",
   "mimetype": "text/x-python",
   "name": "python",
   "nbconvert_exporter": "python",
   "pygments_lexer": "ipython3",
   "version": "3.7.3"
  }
 },
 "nbformat": 4,
 "nbformat_minor": 4
}
