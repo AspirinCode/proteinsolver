{
 "cells": [
  {
   "cell_type": "markdown",
   "metadata": {},
   "source": [
    "## Summary\n",
    "\n",
    "----"
   ]
  },
  {
   "cell_type": "markdown",
   "metadata": {
    "colab_type": "text",
    "id": "eoBMUoW2Hvhp",
    "toc-hr-collapsed": true
   },
   "source": [
    "## Imports"
   ]
  },
  {
   "cell_type": "code",
   "execution_count": 1,
   "metadata": {
    "colab": {},
    "colab_type": "code",
    "id": "TbKxMUZWHvhq"
   },
   "outputs": [],
   "source": [
    "import os\n",
    "import sys\n",
    "import tempfile\n",
    "import time\n",
    "from collections import deque\n",
    "from pathlib import Path\n",
    "\n",
    "import matplotlib as mpl\n",
    "import matplotlib.pyplot as plt\n",
    "import numpy as np\n",
    "import pandas as pd\n",
    "import pyarrow\n",
    "import torch\n",
    "import torch.nn as nn\n",
    "import tqdm\n",
    "from matplotlib import cm\n",
    "from torch_geometric.data import DataLoader"
   ]
  },
  {
   "cell_type": "code",
   "execution_count": 2,
   "metadata": {
    "colab": {
     "base_uri": "https://localhost:8080/",
     "height": 334
    },
    "colab_type": "code",
    "id": "rczy7pPiHvhs",
    "outputId": "8e4673d7-4cc7-4f8e-ffc4-de94302e5fab"
   },
   "outputs": [
    {
     "name": "stderr",
     "output_type": "stream",
     "text": [
      "/dev/shm/env/lib/python3.7/site-packages/Bio/KDTree/__init__.py:25: BiopythonDeprecationWarning: Bio.KDTree has been deprecated, and we intend to remove it in a future release of Biopython. Please use Bio.PDB.kdtrees instead, which is functionally very similar.\n",
      "  BiopythonDeprecationWarning)\n"
     ]
    }
   ],
   "source": [
    "import proteinsolver\n",
    "import proteinsolver.datasets"
   ]
  },
  {
   "cell_type": "code",
   "execution_count": 3,
   "metadata": {},
   "outputs": [],
   "source": [
    "%matplotlib inline\n",
    "\n",
    "try:\n",
    "    inline_rc\n",
    "except NameError:\n",
    "    inline_rc = mpl.rcParams.copy()\n",
    "    \n",
    "mpl.rcParams.update({\"font.size\": 12})"
   ]
  },
  {
   "cell_type": "markdown",
   "metadata": {
    "colab_type": "text",
    "id": "dsEY3dtLHvhy",
    "toc-hr-collapsed": true
   },
   "source": [
    "## Parameters"
   ]
  },
  {
   "cell_type": "code",
   "execution_count": 4,
   "metadata": {},
   "outputs": [],
   "source": [
    "UNIQUE_ID = \"94adb904\"\n",
    "UNIQUE_ID = \"9236f2b7\"\n",
    "UNIQUE_ID = \"4182ca3e\""
   ]
  },
  {
   "cell_type": "code",
   "execution_count": 5,
   "metadata": {},
   "outputs": [
    {
     "data": {
      "text/plain": [
       "PosixPath('/tmp')"
      ]
     },
     "execution_count": 5,
     "metadata": {},
     "output_type": "execute_result"
    }
   ],
   "source": [
    "DATA_ROOT = Path(tempfile.gettempdir())\n",
    "DATA_ROOT.mkdir(exist_ok=True)\n",
    "DATA_ROOT"
   ]
  },
  {
   "cell_type": "code",
   "execution_count": 6,
   "metadata": {},
   "outputs": [
    {
     "data": {
      "text/plain": [
       "PosixPath('sudoku_analysis')"
      ]
     },
     "execution_count": 6,
     "metadata": {},
     "output_type": "execute_result"
    }
   ],
   "source": [
    "NOTEBOOK_NAME = \"sudoku_analysis\"\n",
    "NOTEBOOK_PATH = Path(NOTEBOOK_NAME)\n",
    "NOTEBOOK_PATH.mkdir(exist_ok=True)\n",
    "NOTEBOOK_PATH"
   ]
  },
  {
   "cell_type": "code",
   "execution_count": 7,
   "metadata": {},
   "outputs": [
    {
     "data": {
      "text/plain": [
       "PosixPath('/scratch/strokach/datapkg_output_dir')"
      ]
     },
     "execution_count": 7,
     "metadata": {},
     "output_type": "execute_result"
    }
   ],
   "source": [
    "DATAPKG_DATA_DIR = Path(f\"~/datapkg_output_dir\").expanduser().resolve()\n",
    "DATAPKG_DATA_DIR"
   ]
  },
  {
   "cell_type": "code",
   "execution_count": 8,
   "metadata": {},
   "outputs": [
    {
     "data": {
      "text/plain": [
       "'/scratch/strokach/datapkg_output_dir'"
      ]
     },
     "execution_count": 8,
     "metadata": {},
     "output_type": "execute_result"
    }
   ],
   "source": [
    "proteinsolver.settings.data_url = DATAPKG_DATA_DIR.as_posix()\n",
    "proteinsolver.settings.data_url"
   ]
  },
  {
   "cell_type": "markdown",
   "metadata": {},
   "source": [
    "## Load data"
   ]
  },
  {
   "cell_type": "code",
   "execution_count": 9,
   "metadata": {},
   "outputs": [],
   "source": [
    "datasets = {}"
   ]
  },
  {
   "cell_type": "code",
   "execution_count": 10,
   "metadata": {
    "colab": {},
    "colab_type": "code",
    "id": "ZP3bLDO9PgT9"
   },
   "outputs": [],
   "source": [
    "# sudoku_dataset_train = proteinsolver.datasets.SudokuDataset3(root=DATA_ROOT.joinpath(\"sudoku_train\"))"
   ]
  },
  {
   "cell_type": "code",
   "execution_count": 11,
   "metadata": {},
   "outputs": [],
   "source": [
    "datasets[\"sudoku_valid_0\"] = proteinsolver.datasets.SudokuDataset4(\n",
    "    root=DATA_ROOT.joinpath(\"sudoku_valid_0\"), subset=f\"valid_0\"\n",
    ")"
   ]
  },
  {
   "cell_type": "code",
   "execution_count": 12,
   "metadata": {},
   "outputs": [],
   "source": [
    "datasets[\"sudoku_valid_old\"] = proteinsolver.datasets.SudokuDataset2(\n",
    "    root=DATA_ROOT.joinpath(\"sudoku_valid\"),\n",
    "    data_url=DATAPKG_DATA_DIR.joinpath(\n",
    "        \"deep-protein-gen\", \"sudoku\", \"sudoku_valid.csv.gz\"\n",
    "    ).as_posix(),\n",
    ")"
   ]
  },
  {
   "cell_type": "code",
   "execution_count": 13,
   "metadata": {},
   "outputs": [],
   "source": [
    "datasets[\"sudoku_test\"] = proteinsolver.datasets.SudokuDataset2(\n",
    "    root=DATA_ROOT.joinpath(\"sudoku_test\"),\n",
    "    data_url=DATAPKG_DATA_DIR.joinpath(\n",
    "        \"deep-protein-gen\", \"sudoku\", \"sudoku_test.csv.gz\"\n",
    "    ).as_posix(),\n",
    ")"
   ]
  },
  {
   "cell_type": "markdown",
   "metadata": {},
   "source": [
    "## Training plots"
   ]
  },
  {
   "cell_type": "code",
   "execution_count": 14,
   "metadata": {},
   "outputs": [],
   "source": [
    "training_logs = {}"
   ]
  },
  {
   "cell_type": "code",
   "execution_count": 15,
   "metadata": {},
   "outputs": [
    {
     "data": {
      "text/html": [
       "<div>\n",
       "<style scoped>\n",
       "    .dataframe tbody tr th:only-of-type {\n",
       "        vertical-align: middle;\n",
       "    }\n",
       "\n",
       "    .dataframe tbody tr th {\n",
       "        vertical-align: top;\n",
       "    }\n",
       "\n",
       "    .dataframe thead th {\n",
       "        text-align: right;\n",
       "    }\n",
       "</style>\n",
       "<table border=\"1\" class=\"dataframe\">\n",
       "  <thead>\n",
       "    <tr style=\"text-align: right;\">\n",
       "      <th></th>\n",
       "      <th>epoch</th>\n",
       "      <th>step</th>\n",
       "      <th>datapoint</th>\n",
       "      <th>avg_loss</th>\n",
       "      <th>accuracy</th>\n",
       "      <th>accuracy_m</th>\n",
       "      <th>accuracy_mv</th>\n",
       "      <th>accuracy_mv_old</th>\n",
       "      <th>time_elapsed</th>\n",
       "    </tr>\n",
       "  </thead>\n",
       "  <tbody>\n",
       "    <tr>\n",
       "      <td>0</td>\n",
       "      <td>0</td>\n",
       "      <td>200034</td>\n",
       "      <td>1200204</td>\n",
       "      <td>0.404338</td>\n",
       "      <td>0.824498</td>\n",
       "      <td>0.734189</td>\n",
       "      <td>0.750156</td>\n",
       "      <td>1.0</td>\n",
       "      <td>43.436008</td>\n",
       "    </tr>\n",
       "    <tr>\n",
       "      <td>1</td>\n",
       "      <td>0</td>\n",
       "      <td>200067</td>\n",
       "      <td>1200402</td>\n",
       "      <td>0.374772</td>\n",
       "      <td>0.838696</td>\n",
       "      <td>0.755874</td>\n",
       "      <td>0.752894</td>\n",
       "      <td>1.0</td>\n",
       "      <td>29.395647</td>\n",
       "    </tr>\n",
       "  </tbody>\n",
       "</table>\n",
       "</div>"
      ],
      "text/plain": [
       "   epoch    step  datapoint  avg_loss  accuracy  accuracy_m  accuracy_mv  \\\n",
       "0      0  200034    1200204  0.404338  0.824498    0.734189     0.750156   \n",
       "1      0  200067    1200402  0.374772  0.838696    0.755874     0.752894   \n",
       "\n",
       "   accuracy_mv_old  time_elapsed  \n",
       "0              1.0     43.436008  \n",
       "1              1.0     29.395647  "
      ]
     },
     "execution_count": 15,
     "metadata": {},
     "output_type": "execute_result"
    }
   ],
   "source": [
    "df = pd.read_csv(f\"sudoku_train/{UNIQUE_ID}/training.log\")\n",
    "df.head(2)"
   ]
  },
  {
   "cell_type": "code",
   "execution_count": 16,
   "metadata": {},
   "outputs": [
    {
     "data": {
      "text/plain": [
       "Text(0, 0.5, 'Accuracy on missing numbers')"
      ]
     },
     "execution_count": 16,
     "metadata": {},
     "output_type": "execute_result"
    },
    {
     "data": {
      "image/png": "[encoded data removed]",
      "text/plain": [
       "<Figure size 864x288 with 1 Axes>"
      ]
     },
     "metadata": {
      "needs_background": "light"
     },
     "output_type": "display_data"
    }
   ],
   "source": [
    "fg, ax = plt.subplots(figsize=(12, 4))\n",
    "ax.plot(df[\"datapoint\"], df[\"accuracy_mv\"], label=UNIQUE_ID)\n",
    "ax.hlines(0.7, 0, df[\"datapoint\"].max(), linestyle='--')\n",
    "ax.legend(loc=\"lower right\")\n",
    "ax.set_xlabel(\"Number of training data points\")\n",
    "ax.set_ylabel(\"Accuracy on missing numbers\")"
   ]
  },
  {
   "cell_type": "markdown",
   "metadata": {},
   "source": [
    "## Load model"
   ]
  },
  {
   "cell_type": "code",
   "execution_count": 17,
   "metadata": {},
   "outputs": [
    {
     "data": {
      "text/plain": [
       "<Figure size 432x288 with 0 Axes>"
      ]
     },
     "metadata": {},
     "output_type": "display_data"
    }
   ],
   "source": [
    "%run sudoku_train/{UNIQUE_ID}/model.py"
   ]
  },
  {
   "cell_type": "code",
   "execution_count": 18,
   "metadata": {},
   "outputs": [
    {
     "data": {
      "text/plain": [
       "device(type='cuda', index=0)"
      ]
     },
     "execution_count": 18,
     "metadata": {},
     "output_type": "execute_result"
    }
   ],
   "source": [
    "device = torch.device(\"cuda:0\" if torch.cuda.is_available() else \"cpu\")\n",
    "device"
   ]
  },
  {
   "cell_type": "code",
   "execution_count": 19,
   "metadata": {},
   "outputs": [
    {
     "data": {
      "text/plain": [
       "[PosixPath('sudoku_train/4182ca3e/e0-s16667-d100002-amv06422.state'),\n",
       " PosixPath('sudoku_train/4182ca3e/e0-s33334-d200004-amv06579.state'),\n",
       " PosixPath('sudoku_train/4182ca3e/e0-s50000-d300000-amv06785.state'),\n",
       " PosixPath('sudoku_train/4182ca3e/e0-s66667-d400002-amv07025.state'),\n",
       " PosixPath('sudoku_train/4182ca3e/e0-s83334-d500004-amv07019.state'),\n",
       " PosixPath('sudoku_train/4182ca3e/e0-s100000-d600000-amv07148.state'),\n",
       " PosixPath('sudoku_train/4182ca3e/e0-s116667-d700002-amv07266.state'),\n",
       " PosixPath('sudoku_train/4182ca3e/e0-s133334-d800004-amv07228.state'),\n",
       " PosixPath('sudoku_train/4182ca3e/e0-s150000-d900000-amv07303.state'),\n",
       " PosixPath('sudoku_train/4182ca3e/e0-s166667-d1000002-amv07268.state'),\n",
       " PosixPath('sudoku_train/4182ca3e/e0-s183334-d1100004-amv07353.state'),\n",
       " PosixPath('sudoku_train/4182ca3e/e0-s200000-d1200000-amv07444.state'),\n",
       " PosixPath('sudoku_train/4182ca3e/e0-s216667-d1300002-amv07436.state'),\n",
       " PosixPath('sudoku_train/4182ca3e/e0-s233334-d1400004-amv07604.state'),\n",
       " PosixPath('sudoku_train/4182ca3e/e0-s250000-d1500000-amv07525.state'),\n",
       " PosixPath('sudoku_train/4182ca3e/e0-s266667-d1600002-amv07574.state'),\n",
       " PosixPath('sudoku_train/4182ca3e/e0-s283334-d1700004-amv07615.state')]"
      ]
     },
     "execution_count": 19,
     "metadata": {},
     "output_type": "execute_result"
    }
   ],
   "source": [
    "state_files = sorted(\n",
    "    Path(\"sudoku_train\").joinpath(UNIQUE_ID).glob(\"*.state\"),\n",
    "    key=lambda s: int(s.name.split(\"-\")[2].strip(\"d\")),\n",
    ")\n",
    "\n",
    "state_files"
   ]
  },
  {
   "cell_type": "code",
   "execution_count": 20,
   "metadata": {},
   "outputs": [
    {
     "data": {
      "text/plain": [
       "PosixPath('sudoku_train/4182ca3e/e0-s283334-d1700004-amv07615.state')"
      ]
     },
     "execution_count": 20,
     "metadata": {},
     "output_type": "execute_result"
    }
   ],
   "source": [
    "state_file = state_files[-1]\n",
    "state_file"
   ]
  },
  {
   "cell_type": "code",
   "execution_count": 21,
   "metadata": {},
   "outputs": [],
   "source": [
    "net = Net(\n",
    "    x_input_size=13, adj_input_size=3, hidden_size=162, output_size=9, batch_size=8\n",
    ").to(device)\n",
    "\n",
    "net.load_state_dict(torch.load(state_file))\n",
    "net.eval()\n",
    "net = net.to(device)"
   ]
  },
  {
   "cell_type": "markdown",
   "metadata": {},
   "source": [
    "## Test plots"
   ]
  },
  {
   "cell_type": "markdown",
   "metadata": {},
   "source": [
    "### Oneshot"
   ]
  },
  {
   "cell_type": "code",
   "execution_count": 22,
   "metadata": {},
   "outputs": [],
   "source": [
    "datasets[\"sudoku_valid_0\"].reset()\n",
    "edge_attr = datasets[\"sudoku_valid_0\"][0].edge_attr.to(device)"
   ]
  },
  {
   "cell_type": "code",
   "execution_count": 23,
   "metadata": {},
   "outputs": [],
   "source": [
    "results = []\n",
    "for data in datasets[\"sudoku_test\"]:\n",
    "    data = data.to(device)\n",
    "    is_missing = data.x == 9\n",
    "    output = net(data.x, data.edge_index, edge_attr)\n",
    "    output = torch.softmax(output, dim=1)\n",
    "    _, predicted = output.max(dim=1)\n",
    "    num_correct = float((predicted[is_missing] == data.y[is_missing]).sum())\n",
    "    num_total = float(is_missing.sum())\n",
    "    results.append({\"fraction_correct\": num_correct / num_total, \"num_correct\": num_correct, \"num_total\": num_total})\n",
    "oneshot_results_df = pd.DataFrame(results)"
   ]
  },
  {
   "cell_type": "code",
   "execution_count": 24,
   "metadata": {},
   "outputs": [
    {
     "data": {
      "image/png": "[encoded data removed]",
      "text/plain": [
       "<Figure size 360x288 with 1 Axes>"
      ]
     },
     "metadata": {
      "needs_background": "light"
     },
     "output_type": "display_data"
    }
   ],
   "source": [
    "xlim = (0, 1.03)\n",
    "textstr = \"\"\"\\\n",
    "Fraction correct overall: {:.4f}\n",
    "\"\"\".format(\n",
    "    oneshot_results_df[\"num_correct\"].sum() / oneshot_results_df[\"num_total\"].sum()\n",
    ").strip()\n",
    "props = dict(facecolor=\"white\", alpha=0.3)\n",
    "\n",
    "fg, ax = plt.subplots(figsize=(5, 4))\n",
    "data = oneshot_results_df[\"fraction_correct\"]\n",
    "assert data.min() >= xlim[0] and data.max() <= xlim[1]\n",
    "ax.hist(data, bins=20)\n",
    "ax.set_ylabel(\"Number of puzzles\")\n",
    "ax.set_xlabel(\"Fraction of missing values filled correctly\")\n",
    "ax.set_xlim(*xlim)\n",
    "#     ax.set_ylim(0, 5)\n",
    "# ax.set_title(\"Test - Oneshot\")\n",
    "ax.text(0.04, 0.95, textstr, transform=ax.transAxes, fontsize=\"medium\", verticalalignment=\"top\", bbox=props)\n",
    "fg.tight_layout()\n",
    "fg.savefig(NOTEBOOK_PATH / \"test-oneshot.svg\")\n",
    "fg.savefig(NOTEBOOK_PATH / \"test-oneshot.pdf\")\n",
    "fg.savefig(NOTEBOOK_PATH / \"test-oneshot.png\", dpi=300)"
   ]
  },
  {
   "cell_type": "code",
   "execution_count": 25,
   "metadata": {},
   "outputs": [],
   "source": [
    "# 0.8546 (94adb904)"
   ]
  },
  {
   "cell_type": "markdown",
   "metadata": {},
   "source": [
    "### Incremental"
   ]
  },
  {
   "cell_type": "code",
   "execution_count": 26,
   "metadata": {},
   "outputs": [],
   "source": [
    "@torch.no_grad()\n",
    "def design_sudoku(net, x, edge_index, edge_attr, log_conf_lst=None):\n",
    "    mask = (x == 9)\n",
    "    if not mask.any():\n",
    "        return x\n",
    "    \n",
    "    index_array = torch.arange(x.size(0))\n",
    "    \n",
    "    output = net(x, edge_index, edge_attr)\n",
    "    output = output[mask]\n",
    "    index_array = index_array[mask]\n",
    "\n",
    "    max_pred, max_index = torch.softmax(output, dim=1).max(dim=1)\n",
    "\n",
    "    _, max_residue = max_pred.max(dim=0)\n",
    "    if log_conf_lst is not None:\n",
    "        log_conf_lst.append(torch.log(max_pred[max_residue]).data.cpu())\n",
    "\n",
    "    assert x[index_array[max_residue]] == 9\n",
    "    x[index_array[max_residue]] = max_index[max_residue]\n",
    "    return design_sudoku(net, x, edge_index, edge_attr, log_conf_lst)"
   ]
  },
  {
   "cell_type": "code",
   "execution_count": 27,
   "metadata": {},
   "outputs": [
    {
     "data": {
      "application/vnd.jupyter.widget-view+json": {
       "model_id": "3aae68030b134e4ab36218befc53c4bf",
       "version_major": 2,
       "version_minor": 0
      },
      "text/plain": [
       "HBox(children=(IntProgress(value=0, max=30), HTML(value='')))"
      ]
     },
     "metadata": {},
     "output_type": "display_data"
    },
    {
     "name": "stdout",
     "output_type": "stream",
     "text": [
      "\n",
      "0.9381377551020408\n"
     ]
    }
   ],
   "source": [
    "wrong_preds = []\n",
    "results = []\n",
    "for data in tqdm.tqdm_notebook(datasets[\"sudoku_test\"], total=len(datasets[\"sudoku_test\"])):\n",
    "    data = data.to(device)\n",
    "    x_in = data.x.clone()\n",
    "    is_missing = x_in == 9\n",
    "    log_conf_lst = []\n",
    "    predicted = design_sudoku(net, x_in, data.edge_index, edge_attr, log_conf_lst)\n",
    "    num_correct = float((predicted[is_missing] == data.y[is_missing]).sum())\n",
    "    num_total = float(is_missing.sum())\n",
    "    results.append(\n",
    "        {\n",
    "            \"fraction_correct\": num_correct / num_total,\n",
    "            \"num_correct\": num_correct,\n",
    "            \"num_total\": num_total,\n",
    "            \"sum_log_prob\": np.sum(log_conf_lst),\n",
    "        }\n",
    "    )\n",
    "    if num_correct < num_total:\n",
    "        wrong_preds.append(\n",
    "            (\n",
    "                data.x.data.cpu().numpy(),\n",
    "                data.edge_index.data.cpu().numpy(),\n",
    "                data.y.data.cpu().numpy(),\n",
    "                predicted.data.cpu().numpy(),\n",
    "            )\n",
    "        )\n",
    "results_df = pd.DataFrame(results)\n",
    "print(results_df[\"num_correct\"].sum() / results_df[\"num_total\"].sum())"
   ]
  },
  {
   "cell_type": "code",
   "execution_count": 28,
   "metadata": {},
   "outputs": [
    {
     "data": {
      "image/png": "[encoded data removed]",
      "text/plain": [
       "<Figure size 360x288 with 1 Axes>"
      ]
     },
     "metadata": {
      "needs_background": "light"
     },
     "output_type": "display_data"
    }
   ],
   "source": [
    "xlim = (0, 1.03)\n",
    "textstr = \"\"\"\\\n",
    "Fraction correct overall: {:.4f}\n",
    "\"\"\".format(\n",
    "    results_df[\"num_correct\"].sum() / results_df[\"num_total\"].sum()\n",
    ").strip()\n",
    "props = dict(facecolor=\"white\", alpha=0.3)\n",
    "\n",
    "fg, ax = plt.subplots(figsize=(5, 4))\n",
    "data = results_df[\"fraction_correct\"]\n",
    "assert data.min() >= xlim[0] and data.max() <= xlim[1]\n",
    "ax.hist(data, bins=20)\n",
    "ax.set_ylabel(\"Number of puzzles\")\n",
    "ax.set_xlabel(\"Fraction of missing values filled correctly\")\n",
    "ax.set_xlim(*xlim)\n",
    "#     ax.set_ylim(0, 5)\n",
    "# ax.set_title(\"Test - Incremental\")\n",
    "ax.text(0.04, 0.95, textstr, transform=ax.transAxes, fontsize=\"medium\", verticalalignment=\"top\", bbox=props)\n",
    "fg.tight_layout()\n",
    "fg.savefig(NOTEBOOK_PATH / \"test-incremental.svg\", bbox_inches=\"tight\")\n",
    "fg.savefig(NOTEBOOK_PATH / \"test-incremental.pdf\", bbox_inches=\"tight\")\n",
    "fg.savefig(NOTEBOOK_PATH / \"test-incremental.png\", dpi=300, bbox_inches=\"tight\")"
   ]
  },
  {
   "cell_type": "code",
   "execution_count": 29,
   "metadata": {},
   "outputs": [],
   "source": [
    "# 0.9534 (94adb904)"
   ]
  },
  {
   "cell_type": "code",
   "execution_count": 30,
   "metadata": {},
   "outputs": [
    {
     "data": {
      "image/png": "[encoded data removed]",
      "text/plain": [
       "<Figure size 360x288 with 1 Axes>"
      ]
     },
     "metadata": {
      "needs_background": "light"
     },
     "output_type": "display_data"
    }
   ],
   "source": [
    "xlim = (0, 1.03)\n",
    "textstr = \"\"\"\\\n",
    "Fraction correct overall: {:.4f}\n",
    "\"\"\".format(\n",
    "    results_df[\"num_correct\"].sum() / results_df[\"num_total\"].sum()\n",
    ").strip()\n",
    "props = dict(facecolor=\"white\", alpha=0.3)\n",
    "\n",
    "\n",
    "fg, ax = plt.subplots(figsize=(5, 4))\n",
    "\n",
    "data = oneshot_results_df[\"fraction_correct\"]\n",
    "assert data.min() >= xlim[0] and data.max() <= xlim[1]\n",
    "ax.hist(data, bins=30, range=xlim, alpha=0.8, label=\"oneshot\", color=cm.get_cmap(\"Set1\")(1))\n",
    "\n",
    "data = results_df[\"fraction_correct\"]\n",
    "assert data.min() >= xlim[0] and data.max() <= xlim[1]\n",
    "ax.hist(data, bins=30, range=xlim, alpha=0.8, label=\"incremental\", color=cm.get_cmap(\"Set1\")(0))\n",
    "\n",
    "ax.set_ylabel(\"Number of puzzles\")\n",
    "ax.set_xlabel(\"Fraction of missing values filled correctly\")\n",
    "ax.set_xlim(*xlim)\n",
    "ax.legend(loc=\"center left\")\n",
    "#     ax.set_ylim(0, 5)\n",
    "# ax.set_title(\"Test - Incremental\")\n",
    "ax.text(0.04, 0.95, textstr, transform=ax.transAxes, fontsize=\"medium\", verticalalignment=\"top\", bbox=props)\n",
    "fg.tight_layout()\n",
    "fg.savefig(NOTEBOOK_PATH / \"test-oneshot_incremental.svg\", bbox_inches=\"tight\")\n",
    "fg.savefig(NOTEBOOK_PATH / \"test-oneshot_incremental.pdf\", bbox_inches=\"tight\")\n",
    "fg.savefig(NOTEBOOK_PATH / \"test-oneshot_incremental.png\", dpi=300, bbox_inches=\"tight\")"
   ]
  },
  {
   "cell_type": "code",
   "execution_count": 31,
   "metadata": {},
   "outputs": [
    {
     "ename": "Exception",
     "evalue": "4182ca3e",
     "output_type": "error",
     "traceback": [
      "\u001b[0;31m---------------------------------------------------------------------------\u001b[0m",
      "\u001b[0;31mException\u001b[0m                                 Traceback (most recent call last)",
      "\u001b[0;32m<ipython-input-31-120725f71014>\u001b[0m in \u001b[0;36m<module>\u001b[0;34m\u001b[0m\n\u001b[0;32m----> 1\u001b[0;31m \u001b[0;32mraise\u001b[0m \u001b[0mException\u001b[0m\u001b[0;34m(\u001b[0m\u001b[0mUNIQUE_ID\u001b[0m\u001b[0;34m)\u001b[0m\u001b[0;34m\u001b[0m\u001b[0;34m\u001b[0m\u001b[0m\n\u001b[0m",
      "\u001b[0;31mException\u001b[0m: 4182ca3e"
     ]
    }
   ],
   "source": [
    "raise Exception(UNIQUE_ID)"
   ]
  },
  {
   "cell_type": "markdown",
   "metadata": {},
   "source": [
    "## Validation plots"
   ]
  },
  {
   "cell_type": "markdown",
   "metadata": {},
   "source": [
    "### Oneshot"
   ]
  },
  {
   "cell_type": "code",
   "execution_count": null,
   "metadata": {},
   "outputs": [],
   "source": [
    "results = []\n",
    "\n",
    "datasets[\"sudoku_valid_0\"].reset()\n",
    "for i, data in tqdm.tqdm_notebook(\n",
    "    enumerate(\n",
    "        DataLoader(\n",
    "            datasets[\"sudoku_valid_0\"],\n",
    "            shuffle=False,\n",
    "            num_workers=1,\n",
    "            batch_size=1,\n",
    "            drop_last=False,\n",
    "        )\n",
    "    ),\n",
    "    total=1001,\n",
    "):\n",
    "    if i >= 1000:\n",
    "        break\n",
    "    data = data.to(device)\n",
    "    is_missing = data.x == 9\n",
    "    output = net(data.x, data.edge_index, data.edge_attr)\n",
    "    output = torch.softmax(output, dim=1)\n",
    "    _, predicted = output.max(dim=1)\n",
    "    num_correct = float((predicted[is_missing] == data.y[is_missing]).sum())\n",
    "    num_total = float(is_missing.sum())\n",
    "    results.append(\n",
    "        {\n",
    "            \"fraction_correct\": num_correct / num_total,\n",
    "            \"num_correct\": num_correct,\n",
    "            \"num_total\": num_total,\n",
    "        }\n",
    "    )\n",
    "results_df = pd.DataFrame(results)"
   ]
  },
  {
   "cell_type": "code",
   "execution_count": null,
   "metadata": {},
   "outputs": [],
   "source": [
    "xlim = (0.0, 1.03)\n",
    "textstr = \"\"\"\\\n",
    "Fraction correct overall: {:.4f}\n",
    "\"\"\".format(\n",
    "    results_df[\"num_correct\"].sum() / results_df[\"num_total\"].sum()\n",
    ").strip()\n",
    "props = dict(facecolor=\"white\", alpha=0.3)\n",
    "\n",
    "with plt.rc_context(rc={\"font.size\": 12}):\n",
    "    fg, ax = plt.subplots(figsize=(6, 4))\n",
    "    data = results_df[\"fraction_correct\"]\n",
    "    assert data.min() >= xlim[0] and data.max() <= xlim[1]\n",
    "    ax.hist(data)\n",
    "    ax.set_ylabel(\"Number of puzzles\")\n",
    "    ax.set_xlabel(\"Fraction of missing values filled correctly\")\n",
    "    ax.set_xlim(*xlim)\n",
    "    #     ax.set_ylim(0, 5)\n",
    "    ax.set_title(\"Validation - Oneshot\")\n",
    "    ax.text(0.04, 0.95, textstr, transform=ax.transAxes, fontsize=\"medium\", verticalalignment=\"top\", bbox=props)\n",
    "fg.savefig(NOTEBOOK_PATH / \"validation-oneshot.svg\")\n",
    "fg.savefig(NOTEBOOK_PATH / \"validation-oneshot.pdf\")\n",
    "fg.savefig(NOTEBOOK_PATH / \"validation-oneshot.png\", dpi=300)"
   ]
  },
  {
   "cell_type": "markdown",
   "metadata": {},
   "source": [
    "### Incremental"
   ]
  },
  {
   "cell_type": "code",
   "execution_count": null,
   "metadata": {},
   "outputs": [],
   "source": [
    "@torch.no_grad()\n",
    "def design_sudoku(net, x, edge_index, edge_attr):\n",
    "    mask = (x == 9)\n",
    "    if not mask.any():\n",
    "        return x\n",
    "    output = net(x, edge_index, edge_attr)\n",
    "    output = torch.softmax(output, dim=1)\n",
    "    max_pred, max_index = output.max(dim=1)\n",
    "    max_pred[~mask] = -1\n",
    "    _, max_residue = max_pred.max(dim=0)\n",
    "    x[max_residue] = max_index[max_residue]\n",
    "    return design_sudoku(net, x, edge_index, edge_attr)"
   ]
  },
  {
   "cell_type": "code",
   "execution_count": null,
   "metadata": {},
   "outputs": [],
   "source": [
    "results = []\n",
    "\n",
    "datasets[\"sudoku_valid_0\"].reset()\n",
    "for i, data in tqdm.tqdm_notebook(\n",
    "    enumerate(\n",
    "        DataLoader(\n",
    "            datasets[\"sudoku_valid_0\"],\n",
    "            shuffle=False,\n",
    "            num_workers=1,\n",
    "            batch_size=1,\n",
    "            drop_last=False,\n",
    "        )\n",
    "    ),\n",
    "    total=10,\n",
    "):\n",
    "    if i >= 10:\n",
    "        break\n",
    "    data = data.to(device)\n",
    "    x_in = data.x.clone()\n",
    "    is_missing = x_in == 9\n",
    "    predicted = design_sudoku(net, x_in, data.edge_index, data.edge_attr)\n",
    "    num_correct = float((predicted[is_missing] == data.y[is_missing]).sum())\n",
    "    num_total = float(is_missing.sum())\n",
    "    results.append({\"fraction_correct\": num_correct / num_total, \"num_correct\": num_correct, \"num_total\": num_total})\n",
    "results_df = pd.DataFrame(results)"
   ]
  },
  {
   "cell_type": "code",
   "execution_count": null,
   "metadata": {},
   "outputs": [],
   "source": [
    "xlim = (0.0, 1.03)\n",
    "textstr = \"\"\"\\\n",
    "Fraction correct overall: {:.4f}\n",
    "\"\"\".format(\n",
    "    results_df[\"num_correct\"].sum() / results_df[\"num_total\"].sum()\n",
    ").strip()\n",
    "props = dict(facecolor=\"white\", alpha=0.3)\n",
    "\n",
    "with plt.rc_context(rc={\"font.size\": 12}):\n",
    "    fg, ax = plt.subplots(figsize=(6, 4))\n",
    "    data = results_df[\"fraction_correct\"]\n",
    "    assert data.min() >= xlim[0] and data.max() <= xlim[1]\n",
    "    ax.hist(data, bins=20)\n",
    "    ax.set_ylabel(\"Number of puzzles\")\n",
    "    ax.set_xlabel(\"Fraction of missing values filled correctly\")\n",
    "    ax.set_xlim(*xlim)\n",
    "#     ax.set_ylim(0, 5)\n",
    "    ax.set_title(\"Validation - Incremental\")\n",
    "    ax.text(0.04, 0.95, textstr, transform=ax.transAxes, fontsize=\"medium\", verticalalignment=\"top\", bbox=props)\n",
    "fg.savefig(NOTEBOOK_PATH / \"validation-incremental.svg\")\n",
    "fg.savefig(NOTEBOOK_PATH / \"validation-incremental.pdf\")\n",
    "fg.savefig(NOTEBOOK_PATH / \"validation-incremental.png\", dpi=300)"
   ]
  },
  {
   "cell_type": "code",
   "execution_count": null,
   "metadata": {},
   "outputs": [],
   "source": [
    "raise Exception(\"Done!\")"
   ]
  },
  {
   "cell_type": "code",
   "execution_count": null,
   "metadata": {},
   "outputs": [],
   "source": [
    "sdf"
   ]
  },
  {
   "cell_type": "code",
   "execution_count": null,
   "metadata": {},
   "outputs": [],
   "source": [
    "import torch_geometric\n",
    "torch_geometric.utils.sparse_to_dense(torch.tensor(wrong_preds[0][1]))"
   ]
  },
  {
   "cell_type": "code",
   "execution_count": null,
   "metadata": {},
   "outputs": [],
   "source": [
    "mpl.rcParams.update({\"font.size\": 12})\n",
    "\n",
    "fg, ax = plt.subplots(figsize=(5.5, 4))\n",
    "ax.imshow(torch_geometric.utils.sparse_to_dense(torch.tensor(wrong_preds[0][1])), cmap=\"Greys\")\n",
    "# ax.colorbar()\n",
    "ax.set_xlabel(\"Number position\")\n",
    "ax.set_ylabel(\"Number position\")\n",
    "fg.tight_layout()\n",
    "fg.savefig(NOTEBOOK_PATH.joinpath(\"sudoku_adjacency.svg\"), bbox_inches=\"tight\")\n",
    "fg.savefig(NOTEBOOK_PATH.joinpath(\"sudoku_adjacency.pdf\"), bbox_inches=\"tight\")\n",
    "fg.savefig(NOTEBOOK_PATH.joinpath(\"sudoku_adjacency.png\"), bbox_inches=\"tight\", dpi=300)"
   ]
  },
  {
   "cell_type": "code",
   "execution_count": null,
   "metadata": {},
   "outputs": [],
   "source": [
    "def plot_sudoku(puzzle, solved=None, pred=None, ax=None):\n",
    "    # Simple plotting statement that ingests a 9x9 array (n), and plots a sudoku-style grid around it.\n",
    "    if ax is None:\n",
    "        _, ax = plt.subplots()\n",
    "\n",
    "    for y in range(10):\n",
    "        ax.plot([-0.05, 9.05], [y, y], color=\"black\", linewidth=1)\n",
    "\n",
    "    for y in range(0, 10, 3):\n",
    "        ax.plot([-0.05, 9.05], [y, y], color=\"black\", linewidth=3)\n",
    "\n",
    "    for x in range(10):\n",
    "        ax.plot([x, x], [-0.05, 9.05], color=\"black\", linewidth=1)\n",
    "\n",
    "    for x in range(0, 10, 3):\n",
    "        ax.plot([x, x], [-0.05, 9.05], color=\"black\", linewidth=3)\n",
    "\n",
    "    ax.axis(\"image\")\n",
    "    ax.axis(\"off\")  # drop the axes, they're not important here\n",
    "\n",
    "    for x in range(9):\n",
    "        for y in range(9):\n",
    "            puzzle_element = puzzle[8 - y][x]  # need to reverse the y-direction for plotting\n",
    "            if puzzle_element > 0:  # ignore the zeros\n",
    "                T = f\"{puzzle_element}\"\n",
    "                ax.text(x + 0.3, y + 0.2, T, fontsize=20)\n",
    "            elif solved is not None and pred is not None:\n",
    "                solved_element = solved[8 - y][x]\n",
    "                pred_element = pred[8 - y][x]\n",
    "                if solved_element == pred_element:\n",
    "                    T = f\"{solved_element}\"\n",
    "                    ax.text(x + 0.3, y + 0.2, T, fontsize=20, color=\"b\")\n",
    "                else:\n",
    "                    ax.text(x + 0.1, y + 0.3, f\"{pred_element}\", fontsize=13, color=\"r\")\n",
    "                    ax.text(x + 0.55, y + 0.3, f\"{solved_element}\", fontsize=13, color=\"g\")"
   ]
  },
  {
   "cell_type": "code",
   "execution_count": null,
   "metadata": {},
   "outputs": [],
   "source": [
    "error_index = 0\n",
    "\n",
    "mpl.rcParams.update({\"font.size\": 12})\n",
    "\n",
    "fg, ax = plt.subplots(figsize=(5.5, 4))\n",
    "row = wrong_preds[error_index]\n",
    "puzzle = np.where(row[0] < 9, row[0] + 1, 0).reshape(9, 9)\n",
    "solution = np.where(row[2] < 9, row[2] + 1, 0).reshape(9, 9)\n",
    "pred = np.where(row[3] < 9, row[3] + 1, 0).reshape(9, 9)\n",
    "plot_sudoku(puzzle, solution, pred, ax=ax)\n",
    "fg.tight_layout()\n",
    "fg.savefig(NOTEBOOK_PATH.joinpath(f\"sudoku_error_{error_index}.svg\"), bbox_inches=\"tight\")\n",
    "fg.savefig(NOTEBOOK_PATH.joinpath(f\"sudoku_error_{error_index}.svg\"), bbox_inches=\"tight\")\n",
    "fg.savefig(NOTEBOOK_PATH.joinpath(f\"sudoku_error_{error_index}.png\"), bbox_inches=\"tight\", dpi=300)"
   ]
  },
  {
   "cell_type": "code",
   "execution_count": null,
   "metadata": {},
   "outputs": [],
   "source": []
  },
  {
   "cell_type": "code",
   "execution_count": null,
   "metadata": {},
   "outputs": [],
   "source": [
    "xlim = (0, 1.03)\n",
    "\n",
    "fg, ax = plt.subplots(figsize=(6, 4))\n",
    "ax.plot(results_df[\"fraction_correct\"], results_df[\"sum_log_prob\"], 'r.')\n",
    "ax.set_xlabel(\"Fraction of residues correct\")\n",
    "ax.set_ylabel(\"Sum of log-probabilities\")\n",
    "ax.set_xlim(*xlim)\n",
    "fg.savefig(NOTEBOOK_PATH / \"test-incremental-probas.svg\")\n",
    "fg.savefig(NOTEBOOK_PATH / \"test-incremental-probas.pdf\")\n",
    "fg.savefig(NOTEBOOK_PATH / \"test-incremental-probas.png\", dpi=300)"
   ]
  },
  {
   "cell_type": "code",
   "execution_count": null,
   "metadata": {},
   "outputs": [],
   "source": [
    "for file in sorted(Path(\"sudoku_4xEdgeConv_stretch\").glob(\"*.state\")):\n",
    "    print(file)\n",
    "    net = Net(x_input_size=10, adj_input_size=None, hidden_size=128, output_size=9)\n",
    "    # net.load_state_dict(torch.load(\"sudoku_4xEdgeConv_stretch/e0-s7812-d999936-amv09791666666666666.state\"))\n",
    "    net.load_state_dict(torch.load(file))\n",
    "\n",
    "    net.eval()\n",
    "    net = net.to(device)\n",
    "\n",
    "    results = []\n",
    "    for data in sudoku_dataset_test:\n",
    "        data = data.to(device)\n",
    "        x_in = data.x.clone()\n",
    "        is_missing = x_in == 9\n",
    "        log_conf_lst = []\n",
    "        predicted = design_sudoku(net, x_in, data.edge_index, log_conf_lst)\n",
    "        num_correct = float((predicted[is_missing] == data.y[is_missing]).sum())\n",
    "        num_total = float(is_missing.sum())\n",
    "        results.append(\n",
    "            {\n",
    "                \"fraction_correct\": num_correct / num_total,\n",
    "                \"num_correct\": num_correct,\n",
    "                \"num_total\": num_total,\n",
    "                \"sum_log_prob\": np.sum(log_conf_lst),\n",
    "            }\n",
    "        )\n",
    "    results_df = pd.DataFrame(results)\n",
    "    print(results_df[\"num_correct\"].sum() / results_df[\"num_total\"].sum())"
   ]
  },
  {
   "cell_type": "code",
   "execution_count": null,
   "metadata": {},
   "outputs": [],
   "source": [
    "raise Exception"
   ]
  },
  {
   "cell_type": "code",
   "execution_count": null,
   "metadata": {},
   "outputs": [],
   "source": [
    "@torch.no_grad()\n",
    "def design_sudoku_2(net, x, x_proba, edge_index, cutoff=-1):\n",
    "    if x_proba is None:\n",
    "        x_proba = torch.zeros_like(x).to(torch.float)\n",
    "\n",
    "    mask = (x == 9)\n",
    "    if not mask.any():\n",
    "        return [(x, x_proba)]\n",
    "\n",
    "    index_array = torch.arange(x.size(0))\n",
    "    \n",
    "    output = net(x, edge_index)\n",
    "    output = torch.softmax(output, dim=1)\n",
    "    output = output[mask]\n",
    "    index_array = index_array[mask]\n",
    "\n",
    "    max_index = output.max(dim=1)[0].max(dim=0)[1]\n",
    "    max_pred_row = output[max_index]\n",
    "\n",
    "    sum_log_prob = x_proba.sum()\n",
    "    assert sum_log_prob.item() <= 0, x_proba\n",
    "\n",
    "    p_cutoff = min(torch.exp(cutoff - sum_log_prob), max_pred_row.max()).item()\n",
    "    results = []\n",
    "    for i, p in enumerate(max_pred_row):\n",
    "        if p < p_cutoff:\n",
    "            continue\n",
    "        x_clone = x.clone()\n",
    "        x_proba_clone = x_proba.clone()\n",
    "        assert x_clone[index_array[max_index]] == 9\n",
    "        x_clone[index_array[max_index]] = i\n",
    "        x_proba_clone[index_array[max_index]] = torch.log(p)\n",
    "        result = design_sudoku_2(net, x_clone, x_proba_clone, edge_index)\n",
    "        results.extend(result)\n",
    "    return results"
   ]
  },
  {
   "cell_type": "code",
   "execution_count": null,
   "metadata": {},
   "outputs": [],
   "source": [
    "data = sudoku_dataset_test[0].to(device)"
   ]
  },
  {
   "cell_type": "code",
   "execution_count": null,
   "metadata": {},
   "outputs": [],
   "source": [
    "results = design_sudoku_2(net, data.x.clone(), None, data.edge_index)"
   ]
  },
  {
   "cell_type": "code",
   "execution_count": null,
   "metadata": {},
   "outputs": [],
   "source": [
    "results = sorted(((a.data.cpu(), b.data.cpu()) for a, b in results), reverse=True)"
   ]
  },
  {
   "cell_type": "code",
   "execution_count": null,
   "metadata": {},
   "outputs": [],
   "source": [
    "results = []\n",
    "for data in sudoku_dataset_test:\n",
    "    data = data.to(device)\n",
    "    is_missing = data.x == 9\n",
    "    outputs = design_sudoku_2(net, data.x.clone(), None, data.edge_index, -20)\n",
    "    outputs = sorted((t for t in outputs), key=lambda t: t[1].sum().item(), reverse=True)\n",
    "#     results = sorted(((a.data.cpu(), b.data.cpu()) for a, b in results), reverse=True)\n",
    "    y, y_proba = outputs[0]\n",
    "    num_correct = float((y[is_missing] == data.y[is_missing]).sum())\n",
    "    num_total = float(is_missing.sum())\n",
    "    results.append(\n",
    "        {\n",
    "            \"fraction_correct\": num_correct / num_total,\n",
    "            \"num_correct\": num_correct,\n",
    "            \"num_total\": num_total,\n",
    "            \"sum_log_prob\": torch.sum(y_proba).cpu().item(),\n",
    "        }\n",
    "    )\n",
    "results_df = pd.DataFrame(results)"
   ]
  },
  {
   "cell_type": "code",
   "execution_count": null,
   "metadata": {},
   "outputs": [],
   "source": [
    "xlim = (0, 1.03)\n",
    "\n",
    "with plt.rc_context(rc={\"font.size\": 12}):\n",
    "    fg, ax = plt.subplots(figsize=(6, 4))\n",
    "    ax.plot(results_df[\"fraction_correct\"], results_df[\"sum_log_prob\"], 'r.')\n",
    "    ax.set_xlabel(\"Fraction of residues correct\")\n",
    "    ax.set_ylabel(\"Sum of log-probabilities\")\n",
    "    ax.set_xlim(*xlim)"
   ]
  },
  {
   "cell_type": "code",
   "execution_count": null,
   "metadata": {},
   "outputs": [],
   "source": [
    "xlim = (0, 1.03)\n",
    "textstr = \"\"\"\\\n",
    "Fraction correct overall: {:.4f}\n",
    "\"\"\".format(\n",
    "    results_df[\"num_correct\"].sum() / results_df[\"num_total\"].sum()\n",
    ").strip()\n",
    "props = dict(facecolor=\"white\", alpha=0.3)\n",
    "\n",
    "with plt.rc_context(rc={\"font.size\": 12}):\n",
    "    fg, ax = plt.subplots(figsize=(6, 4))\n",
    "    data = results_df[\"fraction_correct\"]\n",
    "    assert data.min() >= xlim[0] and data.max() <= xlim[1]\n",
    "    ax.hist(data, bins=20)\n",
    "    ax.set_ylabel(\"Number of puzzles\")\n",
    "    ax.set_xlabel(\"Fraction of missing values filled correctly\")\n",
    "    ax.set_xlim(*xlim)\n",
    "#     ax.set_ylim(0, 5)\n",
    "    ax.set_title(\"Test - Incremental\")\n",
    "    ax.text(0.04, 0.95, textstr, transform=ax.transAxes, fontsize=\"medium\", verticalalignment=\"top\", bbox=props)"
   ]
  },
  {
   "cell_type": "code",
   "execution_count": null,
   "metadata": {},
   "outputs": [],
   "source": []
  },
  {
   "cell_type": "code",
   "execution_count": null,
   "metadata": {},
   "outputs": [],
   "source": []
  },
  {
   "cell_type": "code",
   "execution_count": null,
   "metadata": {},
   "outputs": [],
   "source": []
  },
  {
   "cell_type": "code",
   "execution_count": null,
   "metadata": {},
   "outputs": [],
   "source": []
  },
  {
   "cell_type": "code",
   "execution_count": null,
   "metadata": {},
   "outputs": [],
   "source": []
  },
  {
   "cell_type": "code",
   "execution_count": null,
   "metadata": {},
   "outputs": [],
   "source": []
  },
  {
   "cell_type": "code",
   "execution_count": null,
   "metadata": {},
   "outputs": [],
   "source": [
    "@torch.no_grad()\n",
    "def design_sudoku_3(net, x, x_proba, edge_index, cutoff=-1):\n",
    "    if x_proba is None:\n",
    "        x_proba = torch.zeros_like(x).to(torch.float)\n",
    "    sum_log_prob = x_proba.sum()\n",
    "\n",
    "    mask = (x == 9)\n",
    "    if not mask.any():\n",
    "        return [(x, x_proba)]\n",
    "\n",
    "    index_array = torch.arange(x.size(0))\n",
    "    \n",
    "    output = net(x, edge_index)\n",
    "    output = output[mask]\n",
    "    index_array = index_array[mask]\n",
    "\n",
    "    # Select rows to examine\n",
    "    output_sum = output.sum(dim=1)\n",
    "    row_probas = torch.softmax(output_sum, dim=0)\n",
    "    row_proba_cutoff = min(0.1, row_probas.max())\n",
    "    index_array_2 = torch.arange(len(row_probas))[row_probas >= row_proba_cutoff][:3]\n",
    "    \n",
    "    output = output[index_array_2]\n",
    "    index_array = index_array[index_array_2]\n",
    "    \n",
    "    # Select columns to examine\n",
    "    output = torch.softmax(output, dim=1)\n",
    "    \n",
    "    results = []\n",
    "    for i, row in enumerate(output):\n",
    "        p_cutoff = min(torch.exp(cutoff - sum_log_prob), row.max()).item()\n",
    "        for j, p in enumerate(row):\n",
    "            if p < p_cutoff:\n",
    "                continue\n",
    "            x_clone = x.clone()\n",
    "            x_proba_clone = x_proba.clone()\n",
    "            assert x_clone[index_array[i]] == 9\n",
    "            x_clone[index_array[i]] = i\n",
    "            x_proba_clone[index_array[i]] = torch.log(p)\n",
    "            result = design_sudoku_3(net, x_clone, x_proba_clone, edge_index)\n",
    "            results.extend(result)\n",
    "    return results"
   ]
  },
  {
   "cell_type": "code",
   "execution_count": null,
   "metadata": {},
   "outputs": [],
   "source": [
    "data = sudoku_dataset_test[0].to(device)"
   ]
  },
  {
   "cell_type": "code",
   "execution_count": null,
   "metadata": {},
   "outputs": [],
   "source": [
    "# results = design_sudoku_3(net, data.x.clone(), None, data.edge_index, -5)"
   ]
  },
  {
   "cell_type": "code",
   "execution_count": null,
   "metadata": {},
   "outputs": [],
   "source": [
    "# results = sorted(((a.data.cpu(), b.data.cpu()) for a, b in results), reverse=True)"
   ]
  },
  {
   "cell_type": "code",
   "execution_count": null,
   "metadata": {},
   "outputs": [],
   "source": [
    "x = torch.arange(4)\n",
    "x[torch.tensor([0, 0, 0, 1], dtype=torch.uint8)] = 10\n",
    "x"
   ]
  },
  {
   "cell_type": "code",
   "execution_count": null,
   "metadata": {},
   "outputs": [],
   "source": [
    "torch.tensor([1,2,3], dtype=torch)"
   ]
  }
 ],
 "metadata": {
  "accelerator": "GPU",
  "colab": {
   "collapsed_sections": [
    "1fXJz1l9HvhW",
    "u9q4iTifHvhl"
   ],
   "name": "Copy of 2019-03-30-sudoku-4xEdgeConv-09862+.ipynb",
   "provenance": [],
   "toc_visible": true,
   "version": "0.3.2"
  },
  "kernelspec": {
   "display_name": "Python 3",
   "language": "python",
   "name": "python3"
  },
  "language_info": {
   "codemirror_mode": {
    "name": "ipython",
    "version": 3
   },
   "file_extension": ".py",
   "mimetype": "text/x-python",
   "name": "python",
   "nbconvert_exporter": "python",
   "pygments_lexer": "ipython3",
   "version": "3.7.3"
  }
 },
 "nbformat": 4,
 "nbformat_minor": 4
}
