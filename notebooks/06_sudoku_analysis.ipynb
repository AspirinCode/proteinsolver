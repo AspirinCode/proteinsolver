{
 "cells": [
  {
   "cell_type": "markdown",
   "metadata": {},
   "source": [
    "## Summary\n",
    "\n",
    "----"
   ]
  },
  {
   "cell_type": "markdown",
   "metadata": {
    "colab_type": "text",
    "id": "eoBMUoW2Hvhp",
    "toc-hr-collapsed": true
   },
   "source": [
    "## Imports"
   ]
  },
  {
   "cell_type": "code",
   "execution_count": 1,
   "metadata": {
    "colab": {},
    "colab_type": "code",
    "id": "TbKxMUZWHvhq"
   },
   "outputs": [],
   "source": [
    "import os\n",
    "import sys\n",
    "import tempfile\n",
    "import time\n",
    "from collections import deque\n",
    "from pathlib import Path\n",
    "\n",
    "import tqdm\n",
    "from torch_geometric.data import DataLoader\n",
    "\n",
    "import matplotlib as mpl\n",
    "import matplotlib.pyplot as plt\n",
    "import numpy as np\n",
    "import pandas as pd\n",
    "import pyarrow\n",
    "import torch\n",
    "import torch.nn as nn\n",
    "from matplotlib import cm\n",
    "from tensorflow.python.summary.summary_iterator import summary_iterator"
   ]
  },
  {
   "cell_type": "code",
   "execution_count": 2,
   "metadata": {
    "colab": {
     "base_uri": "https://localhost:8080/",
     "height": 334
    },
    "colab_type": "code",
    "id": "rczy7pPiHvhs",
    "outputId": "8e4673d7-4cc7-4f8e-ffc4-de94302e5fab"
   },
   "outputs": [
    {
     "name": "stderr",
     "output_type": "stream",
     "text": [
      "/dev/shm/env/lib/python3.7/site-packages/Bio/KDTree/__init__.py:25: BiopythonDeprecationWarning: Bio.KDTree has been deprecated, and we intend to remove it in a future release of Biopython. Please use Bio.PDB.kdtrees instead, which is functionally very similar.\n",
      "  BiopythonDeprecationWarning)\n"
     ]
    }
   ],
   "source": [
    "import proteinsolver\n",
    "import proteinsolver.datasets"
   ]
  },
  {
   "cell_type": "code",
   "execution_count": 3,
   "metadata": {},
   "outputs": [],
   "source": [
    "%matplotlib inline\n",
    "\n",
    "try:\n",
    "    inline_rc\n",
    "except NameError:\n",
    "    inline_rc = mpl.rcParams.copy()\n",
    "    \n",
    "mpl.rcParams.update({\"font.size\": 12})"
   ]
  },
  {
   "cell_type": "markdown",
   "metadata": {
    "colab_type": "text",
    "id": "dsEY3dtLHvhy",
    "toc-hr-collapsed": true
   },
   "source": [
    "## Parameters"
   ]
  },
  {
   "cell_type": "code",
   "execution_count": 4,
   "metadata": {},
   "outputs": [],
   "source": [
    "# UNIQUE_ID = \"94adb904\"\n",
    "# UNIQUE_ID = \"9236f2b7\"\n",
    "# UNIQUE_ID = \"4182ca3e\"\n",
    "UNIQUE_ID = \"0a0fcd1d\""
   ]
  },
  {
   "cell_type": "code",
   "execution_count": 5,
   "metadata": {},
   "outputs": [
    {
     "data": {
      "text/plain": [
       "PosixPath('/tmp')"
      ]
     },
     "execution_count": 5,
     "metadata": {},
     "output_type": "execute_result"
    }
   ],
   "source": [
    "DATA_ROOT = Path(tempfile.gettempdir())\n",
    "DATA_ROOT.mkdir(exist_ok=True)\n",
    "DATA_ROOT"
   ]
  },
  {
   "cell_type": "code",
   "execution_count": 6,
   "metadata": {},
   "outputs": [
    {
     "data": {
      "text/plain": [
       "PosixPath('sudoku_analysis')"
      ]
     },
     "execution_count": 6,
     "metadata": {},
     "output_type": "execute_result"
    }
   ],
   "source": [
    "NOTEBOOK_NAME = \"sudoku_analysis\"\n",
    "NOTEBOOK_PATH = Path(NOTEBOOK_NAME)\n",
    "NOTEBOOK_PATH.mkdir(exist_ok=True)\n",
    "NOTEBOOK_PATH"
   ]
  },
  {
   "cell_type": "code",
   "execution_count": 7,
   "metadata": {},
   "outputs": [
    {
     "data": {
      "text/plain": [
       "PosixPath('/scratch/strokach/datapkg_output_dir')"
      ]
     },
     "execution_count": 7,
     "metadata": {},
     "output_type": "execute_result"
    }
   ],
   "source": [
    "DATAPKG_DATA_DIR = Path(f\"~/datapkg_output_dir\").expanduser().resolve()\n",
    "DATAPKG_DATA_DIR"
   ]
  },
  {
   "cell_type": "code",
   "execution_count": 8,
   "metadata": {},
   "outputs": [
    {
     "data": {
      "text/plain": [
       "'/scratch/strokach/datapkg_output_dir'"
      ]
     },
     "execution_count": 8,
     "metadata": {},
     "output_type": "execute_result"
    }
   ],
   "source": [
    "proteinsolver.settings.data_url = DATAPKG_DATA_DIR.as_posix()\n",
    "proteinsolver.settings.data_url"
   ]
  },
  {
   "cell_type": "markdown",
   "metadata": {},
   "source": [
    "## Load data"
   ]
  },
  {
   "cell_type": "code",
   "execution_count": 9,
   "metadata": {},
   "outputs": [],
   "source": [
    "datasets = {}"
   ]
  },
  {
   "cell_type": "code",
   "execution_count": 10,
   "metadata": {
    "colab": {},
    "colab_type": "code",
    "id": "ZP3bLDO9PgT9"
   },
   "outputs": [],
   "source": [
    "# sudoku_dataset_train = proteinsolver.datasets.SudokuDataset3(root=DATA_ROOT.joinpath(\"sudoku_train\"))"
   ]
  },
  {
   "cell_type": "code",
   "execution_count": 11,
   "metadata": {},
   "outputs": [],
   "source": [
    "datasets[\"sudoku_valid_0\"] = proteinsolver.datasets.SudokuDataset4(\n",
    "    root=DATA_ROOT.joinpath(\"sudoku_valid_0\"), subset=f\"valid_0\"\n",
    ")"
   ]
  },
  {
   "cell_type": "code",
   "execution_count": 12,
   "metadata": {},
   "outputs": [],
   "source": [
    "datasets[\"sudoku_valid_old\"] = proteinsolver.datasets.SudokuDataset2(\n",
    "    root=DATA_ROOT.joinpath(\"sudoku_valid\"),\n",
    "    data_url=DATAPKG_DATA_DIR.joinpath(\n",
    "        \"deep-protein-gen\", \"sudoku\", \"sudoku_valid.csv.gz\"\n",
    "    ).as_posix(),\n",
    ")"
   ]
  },
  {
   "cell_type": "code",
   "execution_count": 13,
   "metadata": {},
   "outputs": [],
   "source": [
    "datasets[\"sudoku_test\"] = proteinsolver.datasets.SudokuDataset2(\n",
    "    root=DATA_ROOT.joinpath(\"sudoku_test\"),\n",
    "    data_url=DATAPKG_DATA_DIR.joinpath(\n",
    "        \"deep-protein-gen\", \"sudoku\", \"sudoku_test.csv.gz\"\n",
    "    ).as_posix(),\n",
    ")"
   ]
  },
  {
   "cell_type": "markdown",
   "metadata": {},
   "source": [
    "## Training plots"
   ]
  },
  {
   "cell_type": "code",
   "execution_count": 14,
   "metadata": {},
   "outputs": [
    {
     "name": "stdout",
     "output_type": "stream",
     "text": [
      "events.out.tfevents.1570743489.blg4706.int.ets1.calculquebec.ca.363533.0\n",
      "events.out.tfevents.1571686284.blg5201.int.ets1.calculquebec.ca.149196.0\n",
      "events.out.tfevents.1571686422.blg5201.int.ets1.calculquebec.ca.149196.1\n",
      "events.out.tfevents.1571686559.blg5201.int.ets1.calculquebec.ca.149196.2\n",
      "events.out.tfevents.1571686706.blg5201.int.ets1.calculquebec.ca.149196.3\n",
      "events.out.tfevents.1571769250.blg5608.int.ets1.calculquebec.ca.122579.0\n",
      "events.out.tfevents.1571858397.blg5308.int.ets1.calculquebec.ca.143271.0\n",
      "events.out.tfevents.1572302740.blg4303.int.ets1.calculquebec.ca.379381.0\n"
     ]
    }
   ],
   "source": [
    "!ls sudoku_train/runs/94adb904.xxx"
   ]
  },
  {
   "cell_type": "code",
   "execution_count": 15,
   "metadata": {},
   "outputs": [
    {
     "name": "stdout",
     "output_type": "stream",
     "text": [
      "WARNING:tensorflow:From /dev/shm/env/lib/python3.7/site-packages/tensorflow_core/python/summary/summary_iterator.py:68: tf_record_iterator (from tensorflow.python.lib.io.tf_record) is deprecated and will be removed in a future version.\n",
      "Instructions for updating:\n",
      "Use eager execution and: \n",
      "`tf.data.TFRecordDataset(path)`\n"
     ]
    }
   ],
   "source": [
    "dfs = []\n",
    "\n",
    "for tb_file in Path(f\"sudoku_train/runs/{UNIQUE_ID}.xxx/\").glob(\"*\"):\n",
    "    data = []\n",
    "    for e in summary_iterator(tb_file.as_posix()):\n",
    "        for v in e.summary.value:\n",
    "            row = (e.step, v.tag, v.simple_value)\n",
    "            data.append(row)\n",
    "            if v.tag == \"accuracy_mv\":\n",
    "                row = (e.step, \"wall_time\", e.wall_time)\n",
    "                data.append(row)\n",
    "    df = (\n",
    "        pd.DataFrame(data, columns=[\"datapoint\", \"tag\", \"simple_value\"])\n",
    "        .pivot(index=\"datapoint\", columns=\"tag\", values=\"simple_value\")\n",
    "        .reset_index()\n",
    "    )\n",
    "    dfs.append(df)"
   ]
  },
  {
   "cell_type": "code",
   "execution_count": 16,
   "metadata": {},
   "outputs": [
    {
     "name": "stdout",
     "output_type": "stream",
     "text": [
      "2178\n"
     ]
    }
   ],
   "source": [
    "df = pd.concat(dfs, sort=False)\n",
    "print(len(df))"
   ]
  },
  {
   "cell_type": "code",
   "execution_count": 17,
   "metadata": {},
   "outputs": [
    {
     "name": "stdout",
     "output_type": "stream",
     "text": [
      "2103\n"
     ]
    }
   ],
   "source": [
    "df = df.sort_values(\"wall_time\", ascending=False).drop_duplicates(subset=[\"datapoint\"], keep=\"first\").sort_values(\"wall_time\", ascending=True)\n",
    "print(len(df))"
   ]
  },
  {
   "cell_type": "code",
   "execution_count": 18,
   "metadata": {},
   "outputs": [],
   "source": [
    "assert len(df) == len(df[\"datapoint\"].drop_duplicates())"
   ]
  },
  {
   "cell_type": "code",
   "execution_count": 19,
   "metadata": {},
   "outputs": [
    {
     "data": {
      "image/png": "[encoded data removed]",
      "text/plain": [
       "<Figure size 720x288 with 1 Axes>"
      ]
     },
     "metadata": {
      "needs_background": "light"
     },
     "output_type": "display_data"
    }
   ],
   "source": [
    "fg, ax = plt.subplots(figsize=(10, 4))\n",
    "ax.plot(df[\"datapoint\"], df[\"accuracy_m\"], color=cm.get_cmap(\"tab10\")(0), alpha=1, label=\"training\")\n",
    "ax.plot(df[\"datapoint\"], df[\"accuracy_mv\"], color=cm.get_cmap(\"tab10\")(1), alpha=0.8, label=\"validation\")\n",
    "# ax.hlines(0.7, 0, df[\"datapoint\"].max(), linestyle='--')\n",
    "ax.legend(loc=\"lower right\")\n",
    "ax.set_xlabel(\"Number of training data points\")\n",
    "ax.set_ylabel(\"Accuracy on missing numbers\")\n",
    "# ax.set_ylim(0, 0.82)\n",
    "fg.savefig(NOTEBOOK_PATH / \"training-curve.svg\")"
   ]
  },
  {
   "cell_type": "markdown",
   "metadata": {},
   "source": [
    "## Load model"
   ]
  },
  {
   "cell_type": "code",
   "execution_count": 20,
   "metadata": {},
   "outputs": [
    {
     "data": {
      "text/plain": [
       "<Figure size 432x288 with 0 Axes>"
      ]
     },
     "metadata": {},
     "output_type": "display_data"
    }
   ],
   "source": [
    "%run sudoku_train/{UNIQUE_ID}/model.py"
   ]
  },
  {
   "cell_type": "code",
   "execution_count": 21,
   "metadata": {},
   "outputs": [
    {
     "data": {
      "text/plain": [
       "device(type='cuda', index=0)"
      ]
     },
     "execution_count": 21,
     "metadata": {},
     "output_type": "execute_result"
    }
   ],
   "source": [
    "device = torch.device(\"cuda:0\" if torch.cuda.is_available() else \"cpu\")\n",
    "device"
   ]
  },
  {
   "cell_type": "code",
   "execution_count": 22,
   "metadata": {},
   "outputs": [
    {
     "data": {
      "text/plain": [
       "[PosixPath('sudoku_train/0a0fcd1d/e0-s16667-d100002-amv06646.state'),\n",
       " PosixPath('sudoku_train/0a0fcd1d/e0-s33334-d200004-amv06833.state'),\n",
       " PosixPath('sudoku_train/0a0fcd1d/e0-s50000-d300000-amv06994.state'),\n",
       " PosixPath('sudoku_train/0a0fcd1d/e0-s66667-d400002-amv07035.state')]"
      ]
     },
     "execution_count": 22,
     "metadata": {},
     "output_type": "execute_result"
    }
   ],
   "source": [
    "state_files = sorted(\n",
    "    Path(\"sudoku_train\").joinpath(UNIQUE_ID).glob(\"*.state\"),\n",
    "    key=lambda s: int(s.name.split(\"-\")[2].strip(\"d\")),\n",
    ")\n",
    "\n",
    "state_files"
   ]
  },
  {
   "cell_type": "code",
   "execution_count": 23,
   "metadata": {},
   "outputs": [
    {
     "data": {
      "text/plain": [
       "PosixPath('sudoku_train/0a0fcd1d/e0-s66667-d400002-amv07035.state')"
      ]
     },
     "execution_count": 23,
     "metadata": {},
     "output_type": "execute_result"
    }
   ],
   "source": [
    "state_file = state_files[-1]\n",
    "state_file"
   ]
  },
  {
   "cell_type": "code",
   "execution_count": 24,
   "metadata": {},
   "outputs": [],
   "source": [
    "net = Net(\n",
    "    x_input_size=13, adj_input_size=3, hidden_size=162, output_size=9, batch_size=8\n",
    ").to(device)\n",
    "\n",
    "net.load_state_dict(torch.load(state_file))\n",
    "net.eval()\n",
    "net = net.to(device)"
   ]
  },
  {
   "cell_type": "markdown",
   "metadata": {},
   "source": [
    "## Test plots"
   ]
  },
  {
   "cell_type": "markdown",
   "metadata": {},
   "source": [
    "### Oneshot"
   ]
  },
  {
   "cell_type": "code",
   "execution_count": 25,
   "metadata": {},
   "outputs": [],
   "source": [
    "datasets[\"sudoku_valid_0\"].reset()\n",
    "edge_attr = datasets[\"sudoku_valid_0\"][0].edge_attr.to(device)"
   ]
  },
  {
   "cell_type": "code",
   "execution_count": 26,
   "metadata": {},
   "outputs": [],
   "source": [
    "results = []\n",
    "for data in datasets[\"sudoku_test\"]:\n",
    "    data = data.to(device)\n",
    "    is_missing = data.x == 9\n",
    "    output = net(data.x, data.edge_index, edge_attr)\n",
    "    output = torch.softmax(output, dim=1)\n",
    "    _, predicted = output.max(dim=1)\n",
    "    num_correct = float((predicted[is_missing] == data.y[is_missing]).sum())\n",
    "    num_total = float(is_missing.sum())\n",
    "    results.append({\"fraction_correct\": num_correct / num_total, \"num_correct\": num_correct, \"num_total\": num_total})\n",
    "oneshot_results_df = pd.DataFrame(results)"
   ]
  },
  {
   "cell_type": "code",
   "execution_count": 27,
   "metadata": {},
   "outputs": [
    {
     "data": {
      "image/png": "[encoded data removed]",
      "text/plain": [
       "<Figure size 360x288 with 1 Axes>"
      ]
     },
     "metadata": {
      "needs_background": "light"
     },
     "output_type": "display_data"
    }
   ],
   "source": [
    "xlim = (0, 1.03)\n",
    "textstr = \"\"\"\\\n",
    "Fraction correct overall: {:.4f}\n",
    "\"\"\".format(\n",
    "    oneshot_results_df[\"num_correct\"].sum() / oneshot_results_df[\"num_total\"].sum()\n",
    ").strip()\n",
    "props = dict(facecolor=\"white\", alpha=0.3)\n",
    "\n",
    "fg, ax = plt.subplots(figsize=(5, 4))\n",
    "data = oneshot_results_df[\"fraction_correct\"]\n",
    "assert data.min() >= xlim[0] and data.max() <= xlim[1]\n",
    "ax.hist(data, bins=20)\n",
    "ax.set_ylabel(\"Number of puzzles\")\n",
    "ax.set_xlabel(\"Fraction of missing values filled correctly\")\n",
    "ax.set_xlim(*xlim)\n",
    "#     ax.set_ylim(0, 5)\n",
    "# ax.set_title(\"Test - Oneshot\")\n",
    "ax.text(0.04, 0.95, textstr, transform=ax.transAxes, fontsize=\"medium\", verticalalignment=\"top\", bbox=props)\n",
    "fg.tight_layout()\n",
    "fg.savefig(NOTEBOOK_PATH / \"test-oneshot.svg\")"
   ]
  },
  {
   "cell_type": "code",
   "execution_count": 28,
   "metadata": {},
   "outputs": [],
   "source": [
    "# 0.8724 (94adb904-d2300004)"
   ]
  },
  {
   "cell_type": "markdown",
   "metadata": {},
   "source": [
    "### Incremental"
   ]
  },
  {
   "cell_type": "code",
   "execution_count": 29,
   "metadata": {},
   "outputs": [],
   "source": [
    "@torch.no_grad()\n",
    "def design_sudoku(net, x, edge_index, edge_attr, log_conf_lst=None):\n",
    "    mask = (x == 9)\n",
    "    if not mask.any():\n",
    "        return x\n",
    "    \n",
    "    index_array = torch.arange(x.size(0))\n",
    "    \n",
    "    output = net(x, edge_index, edge_attr)\n",
    "    output = output[mask]\n",
    "    index_array = index_array[mask]\n",
    "\n",
    "    max_pred, max_index = torch.softmax(output, dim=1).max(dim=1)\n",
    "\n",
    "    _, max_residue = max_pred.max(dim=0)\n",
    "    if log_conf_lst is not None:\n",
    "        log_conf_lst.append(torch.log(max_pred[max_residue]).data.cpu())\n",
    "\n",
    "    assert x[index_array[max_residue]] == 9\n",
    "    x[index_array[max_residue]] = max_index[max_residue]\n",
    "    return design_sudoku(net, x, edge_index, edge_attr, log_conf_lst)"
   ]
  },
  {
   "cell_type": "code",
   "execution_count": 30,
   "metadata": {},
   "outputs": [
    {
     "data": {
      "application/vnd.jupyter.widget-view+json": {
       "model_id": "ff2d54e7c8fe4ee1bdb2e9559622dbde",
       "version_major": 2,
       "version_minor": 0
      },
      "text/plain": [
       "HBox(children=(IntProgress(value=0, max=30), HTML(value='')))"
      ]
     },
     "metadata": {},
     "output_type": "display_data"
    },
    {
     "name": "stdout",
     "output_type": "stream",
     "text": [
      "\n",
      "0.9349489795918368\n"
     ]
    }
   ],
   "source": [
    "wrong_preds = []\n",
    "results = []\n",
    "for data in tqdm.tqdm_notebook(datasets[\"sudoku_test\"], total=len(datasets[\"sudoku_test\"])):\n",
    "    data = data.to(device)\n",
    "    x_in = data.x.clone()\n",
    "    is_missing = x_in == 9\n",
    "    log_conf_lst = []\n",
    "    predicted = design_sudoku(net, x_in, data.edge_index, edge_attr, log_conf_lst)\n",
    "    num_correct = float((predicted[is_missing] == data.y[is_missing]).sum())\n",
    "    num_total = float(is_missing.sum())\n",
    "    results.append(\n",
    "        {\n",
    "            \"fraction_correct\": num_correct / num_total,\n",
    "            \"num_correct\": num_correct,\n",
    "            \"num_total\": num_total,\n",
    "            \"sum_log_prob\": np.sum(log_conf_lst),\n",
    "        }\n",
    "    )\n",
    "    if num_correct < num_total:\n",
    "        wrong_preds.append(\n",
    "            (\n",
    "                data.x.data.cpu().numpy(),\n",
    "                data.edge_index.data.cpu().numpy(),\n",
    "                data.y.data.cpu().numpy(),\n",
    "                predicted.data.cpu().numpy(),\n",
    "            )\n",
    "        )\n",
    "results_df = pd.DataFrame(results)\n",
    "print(results_df[\"num_correct\"].sum() / results_df[\"num_total\"].sum())"
   ]
  },
  {
   "cell_type": "code",
   "execution_count": 31,
   "metadata": {},
   "outputs": [
    {
     "data": {
      "image/png": "[encoded data removed]",
      "text/plain": [
       "<Figure size 360x288 with 1 Axes>"
      ]
     },
     "metadata": {
      "needs_background": "light"
     },
     "output_type": "display_data"
    }
   ],
   "source": [
    "xlim = (0, 1.03)\n",
    "textstr = \"\"\"\\\n",
    "Fraction correct overall: {:.4f}\n",
    "\"\"\".format(\n",
    "    results_df[\"num_correct\"].sum() / results_df[\"num_total\"].sum()\n",
    ").strip()\n",
    "props = dict(facecolor=\"white\", alpha=0.3)\n",
    "\n",
    "fg, ax = plt.subplots(figsize=(5, 4))\n",
    "data = results_df[\"fraction_correct\"]\n",
    "assert data.min() >= xlim[0] and data.max() <= xlim[1]\n",
    "ax.hist(data, bins=20)\n",
    "ax.set_ylabel(\"Number of puzzles\")\n",
    "ax.set_xlabel(\"Fraction of missing values filled correctly\")\n",
    "ax.set_xlim(*xlim)\n",
    "#     ax.set_ylim(0, 5)\n",
    "# ax.set_title(\"Test - Incremental\")\n",
    "ax.text(0.04, 0.95, textstr, transform=ax.transAxes, fontsize=\"medium\", verticalalignment=\"top\", bbox=props)\n",
    "fg.tight_layout()\n",
    "fg.savefig(NOTEBOOK_PATH / \"test-incremental.svg\", bbox_inches=\"tight\")\n",
    "fg.savefig(NOTEBOOK_PATH / \"test-incremental.pdf\", bbox_inches=\"tight\")\n",
    "fg.savefig(NOTEBOOK_PATH / \"test-incremental.png\", dpi=300, bbox_inches=\"tight\")"
   ]
  },
  {
   "cell_type": "code",
   "execution_count": 32,
   "metadata": {},
   "outputs": [],
   "source": [
    "# 0.9636 (94adb904-d1900002)"
   ]
  },
  {
   "cell_type": "code",
   "execution_count": 33,
   "metadata": {},
   "outputs": [
    {
     "data": {
      "image/png": "[encoded data removed]",
      "text/plain": [
       "<Figure size 360x288 with 1 Axes>"
      ]
     },
     "metadata": {
      "needs_background": "light"
     },
     "output_type": "display_data"
    }
   ],
   "source": [
    "fraction_correct_oneshot = oneshot_results_df[\"num_correct\"].sum() / oneshot_results_df[\"num_total\"].sum()\n",
    "fraction_correct_incremental = results_df[\"num_correct\"].sum() / results_df[\"num_total\"].sum()\n",
    "\n",
    "fg, ax = plt.subplots(figsize=(5, 4))\n",
    "\n",
    "data = oneshot_results_df[\"fraction_correct\"]\n",
    "assert data.min() >= xlim[0] and data.max() <= xlim[1]\n",
    "ax.hist(data, bins=30, range=xlim, alpha=1, label=f\"oneshot (accuracy: {fraction_correct_oneshot:.2%})\", color=cm.get_cmap(\"Set1\")(1))\n",
    "\n",
    "data = results_df[\"fraction_correct\"]\n",
    "assert data.min() >= xlim[0] and data.max() <= xlim[1]\n",
    "ax.hist(data, bins=30, range=xlim, alpha=0.6, label=f\"incremental (accuracy: {fraction_correct_incremental:.2%})\", color=cm.get_cmap(\"Set1\")(0))\n",
    "\n",
    "ax.set_ylabel(\"Number of puzzles\")\n",
    "ax.set_xlabel(\"Fraction of missing values filled correctly\")\n",
    "ax.set_xlim(*xlim)\n",
    "ax.legend(loc=\"upper left\")\n",
    "fg.tight_layout()\n",
    "fg.savefig(NOTEBOOK_PATH / \"test-oneshot-incremental.svg\", bbox_inches=\"tight\")"
   ]
  },
  {
   "cell_type": "markdown",
   "metadata": {},
   "source": [
    "## Validation plots"
   ]
  },
  {
   "cell_type": "markdown",
   "metadata": {},
   "source": [
    "### Oneshot"
   ]
  },
  {
   "cell_type": "code",
   "execution_count": 34,
   "metadata": {},
   "outputs": [
    {
     "data": {
      "application/vnd.jupyter.widget-view+json": {
       "model_id": "b4eadf89a9144189a9fc5422af125908",
       "version_major": 2,
       "version_minor": 0
      },
      "text/plain": [
       "HBox(children=(IntProgress(value=0, max=1000), HTML(value='')))"
      ]
     },
     "metadata": {},
     "output_type": "display_data"
    },
    {
     "name": "stdout",
     "output_type": "stream",
     "text": [
      "\n"
     ]
    }
   ],
   "source": [
    "results = []\n",
    "\n",
    "datasets[\"sudoku_valid_0\"].reset()\n",
    "for i, data in tqdm.tqdm_notebook(\n",
    "    enumerate(\n",
    "        DataLoader(\n",
    "            datasets[\"sudoku_valid_0\"],\n",
    "            shuffle=False,\n",
    "            num_workers=1,\n",
    "            batch_size=1,\n",
    "            drop_last=False,\n",
    "        )\n",
    "    ),\n",
    "    total=1000,\n",
    "):\n",
    "    if i >= 1000:\n",
    "        break\n",
    "    data = data.to(device)\n",
    "    is_missing = data.x == 9\n",
    "    output = net(data.x, data.edge_index, data.edge_attr)\n",
    "    output = torch.softmax(output, dim=1)\n",
    "    _, predicted = output.max(dim=1)\n",
    "    num_correct = float((predicted[is_missing] == data.y[is_missing]).sum())\n",
    "    num_total = float(is_missing.sum())\n",
    "    results.append(\n",
    "        {\n",
    "            \"fraction_correct\": num_correct / num_total,\n",
    "            \"num_correct\": num_correct,\n",
    "            \"num_total\": num_total,\n",
    "        }\n",
    "    )\n",
    "val_oneshot_results_df = pd.DataFrame(results)"
   ]
  },
  {
   "cell_type": "code",
   "execution_count": 35,
   "metadata": {},
   "outputs": [
    {
     "data": {
      "image/png": "[encoded data removed]",
      "text/plain": [
       "<Figure size 432x288 with 1 Axes>"
      ]
     },
     "metadata": {
      "needs_background": "light"
     },
     "output_type": "display_data"
    }
   ],
   "source": [
    "xlim = (0.0, 1.03)\n",
    "textstr = \"\"\"\\\n",
    "Fraction correct overall: {:.4f}\n",
    "\"\"\".format(\n",
    "    val_oneshot_results_df[\"num_correct\"].sum() / val_oneshot_results_df[\"num_total\"].sum()\n",
    ").strip()\n",
    "props = dict(facecolor=\"white\", alpha=0.3)\n",
    "\n",
    "with plt.rc_context(rc={\"font.size\": 12}):\n",
    "    fg, ax = plt.subplots(figsize=(6, 4))\n",
    "    data = val_oneshot_results_df[\"fraction_correct\"]\n",
    "    assert data.min() >= xlim[0] and data.max() <= xlim[1]\n",
    "    ax.hist(data)\n",
    "    ax.set_ylabel(\"Number of puzzles\")\n",
    "    ax.set_xlabel(\"Fraction of missing values filled correctly\")\n",
    "    ax.set_xlim(*xlim)\n",
    "    #     ax.set_ylim(0, 5)\n",
    "    ax.set_title(\"Validation - Oneshot\")\n",
    "    ax.text(0.04, 0.95, textstr, transform=ax.transAxes, fontsize=\"medium\", verticalalignment=\"top\", bbox=props)\n",
    "fg.savefig(NOTEBOOK_PATH / \"validation-oneshot.svg\")"
   ]
  },
  {
   "cell_type": "code",
   "execution_count": 36,
   "metadata": {},
   "outputs": [],
   "source": [
    "# 0.7797 (94adb904-d2300004)"
   ]
  },
  {
   "cell_type": "markdown",
   "metadata": {},
   "source": [
    "### Incremental"
   ]
  },
  {
   "cell_type": "code",
   "execution_count": 37,
   "metadata": {},
   "outputs": [],
   "source": [
    "@torch.no_grad()\n",
    "def design_sudoku(net, x, edge_index, edge_attr):\n",
    "    mask = (x == 9)\n",
    "    if not mask.any():\n",
    "        return x\n",
    "    output = net(x, edge_index, edge_attr)\n",
    "    output = torch.softmax(output, dim=1)\n",
    "    max_pred, max_index = output.max(dim=1)\n",
    "    max_pred[~mask] = -1\n",
    "    _, max_residue = max_pred.max(dim=0)\n",
    "    x[max_residue] = max_index[max_residue]\n",
    "    return design_sudoku(net, x, edge_index, edge_attr)"
   ]
  },
  {
   "cell_type": "code",
   "execution_count": 38,
   "metadata": {},
   "outputs": [
    {
     "data": {
      "application/vnd.jupyter.widget-view+json": {
       "model_id": "daf5e2f347424263bc9e590493afb08c",
       "version_major": 2,
       "version_minor": 0
      },
      "text/plain": [
       "HBox(children=(IntProgress(value=0, max=1000), HTML(value='')))"
      ]
     },
     "metadata": {},
     "output_type": "display_data"
    },
    {
     "name": "stdout",
     "output_type": "stream",
     "text": [
      "\n"
     ]
    }
   ],
   "source": [
    "results = []\n",
    "\n",
    "datasets[\"sudoku_valid_0\"].reset()\n",
    "for i, data in tqdm.tqdm_notebook(\n",
    "    enumerate(\n",
    "        DataLoader(\n",
    "            datasets[\"sudoku_valid_0\"],\n",
    "            shuffle=False,\n",
    "            num_workers=1,\n",
    "            batch_size=1,\n",
    "            drop_last=False,\n",
    "        )\n",
    "    ),\n",
    "    total=1000,\n",
    "):\n",
    "    if i >= 1000:\n",
    "        break\n",
    "    data = data.to(device)\n",
    "    x_in = data.x.clone()\n",
    "    is_missing = x_in == 9\n",
    "    predicted = design_sudoku(net, x_in, data.edge_index, data.edge_attr)\n",
    "    num_correct = float((predicted[is_missing] == data.y[is_missing]).sum())\n",
    "    num_total = float(is_missing.sum())\n",
    "    results.append({\"fraction_correct\": num_correct / num_total, \"num_correct\": num_correct, \"num_total\": num_total})\n",
    "val_results_df = pd.DataFrame(results)"
   ]
  },
  {
   "cell_type": "code",
   "execution_count": 39,
   "metadata": {},
   "outputs": [
    {
     "data": {
      "image/png": "[encoded data removed]",
      "text/plain": [
       "<Figure size 432x288 with 1 Axes>"
      ]
     },
     "metadata": {
      "needs_background": "light"
     },
     "output_type": "display_data"
    }
   ],
   "source": [
    "xlim = (0.0, 1.03)\n",
    "textstr = \"\"\"\\\n",
    "Fraction correct overall: {:.4f}\n",
    "\"\"\".format(\n",
    "    results_df[\"num_correct\"].sum() / results_df[\"num_total\"].sum()\n",
    ").strip()\n",
    "props = dict(facecolor=\"white\", alpha=0.3)\n",
    "\n",
    "with plt.rc_context(rc={\"font.size\": 12}):\n",
    "    fg, ax = plt.subplots(figsize=(6, 4))\n",
    "    data = val_results_df[\"fraction_correct\"]\n",
    "    assert data.min() >= xlim[0] and data.max() <= xlim[1]\n",
    "    ax.hist(data, bins=20)\n",
    "    ax.set_ylabel(\"Number of puzzles\")\n",
    "    ax.set_xlabel(\"Fraction of missing values filled correctly\")\n",
    "    ax.set_xlim(*xlim)\n",
    "#     ax.set_ylim(0, 5)\n",
    "    ax.set_title(\"Validation - Incremental\")\n",
    "    ax.text(0.04, 0.95, textstr, transform=ax.transAxes, fontsize=\"medium\", verticalalignment=\"top\", bbox=props)\n",
    "fg.savefig(NOTEBOOK_PATH / \"validation-incremental.svg\")"
   ]
  },
  {
   "cell_type": "code",
   "execution_count": 40,
   "metadata": {},
   "outputs": [
    {
     "data": {
      "image/png": "[encoded data removed]",
      "text/plain": [
       "<Figure size 360x288 with 1 Axes>"
      ]
     },
     "metadata": {
      "needs_background": "light"
     },
     "output_type": "display_data"
    }
   ],
   "source": [
    "fraction_correct_oneshot = val_oneshot_results_df[\"num_correct\"].sum() / val_oneshot_results_df[\"num_total\"].sum()\n",
    "fraction_correct_incremental = val_results_df[\"num_correct\"].sum() / val_results_df[\"num_total\"].sum()\n",
    "\n",
    "fg, ax = plt.subplots(figsize=(5, 4))\n",
    "\n",
    "data = val_oneshot_results_df[\"fraction_correct\"]\n",
    "assert data.min() >= xlim[0] and data.max() <= xlim[1]\n",
    "ax.hist(data, bins=30, range=xlim, alpha=1, density=False, label=f\"oneshot (accuracy: {fraction_correct_oneshot:.2%})\", color=cm.get_cmap(\"Set1\")(1))\n",
    "\n",
    "data = val_results_df[\"fraction_correct\"]\n",
    "assert data.min() >= xlim[0] and data.max() <= xlim[1]\n",
    "ax.hist(data, bins=30, range=xlim, alpha=0.6, density=False, label=f\"incremental (accuracy: {fraction_correct_incremental:.2%})\", color=cm.get_cmap(\"Set1\")(0))\n",
    "\n",
    "ax.set_ylabel(\"Number of puzzles\")\n",
    "ax.set_xlabel(\"Fraction of missing values filled correctly\")\n",
    "ax.set_xlim(*xlim)\n",
    "ax.legend(loc=\"upper left\")\n",
    "fg.tight_layout()\n",
    "fg.savefig(NOTEBOOK_PATH / \"test-oneshot-incremental.svg\", bbox_inches=\"tight\")"
   ]
  },
  {
   "cell_type": "code",
   "execution_count": null,
   "metadata": {},
   "outputs": [],
   "source": []
  },
  {
   "cell_type": "code",
   "execution_count": null,
   "metadata": {},
   "outputs": [],
   "source": []
  },
  {
   "cell_type": "code",
   "execution_count": null,
   "metadata": {},
   "outputs": [],
   "source": []
  },
  {
   "cell_type": "code",
   "execution_count": null,
   "metadata": {},
   "outputs": [],
   "source": []
  },
  {
   "cell_type": "code",
   "execution_count": 41,
   "metadata": {},
   "outputs": [
    {
     "ename": "Exception",
     "evalue": "Done!",
     "output_type": "error",
     "traceback": [
      "\u001b[0;31m---------------------------------------------------------------------------\u001b[0m",
      "\u001b[0;31mException\u001b[0m                                 Traceback (most recent call last)",
      "\u001b[0;32m<ipython-input-41-2300d1589a50>\u001b[0m in \u001b[0;36m<module>\u001b[0;34m\u001b[0m\n\u001b[0;32m----> 1\u001b[0;31m \u001b[0;32mraise\u001b[0m \u001b[0mException\u001b[0m\u001b[0;34m(\u001b[0m\u001b[0;34m\"Done!\"\u001b[0m\u001b[0;34m)\u001b[0m\u001b[0;34m\u001b[0m\u001b[0;34m\u001b[0m\u001b[0m\n\u001b[0m",
      "\u001b[0;31mException\u001b[0m: Done!"
     ]
    }
   ],
   "source": [
    "raise Exception(\"Done!\")"
   ]
  },
  {
   "cell_type": "code",
   "execution_count": null,
   "metadata": {},
   "outputs": [],
   "source": [
    "sdf"
   ]
  },
  {
   "cell_type": "code",
   "execution_count": null,
   "metadata": {},
   "outputs": [],
   "source": [
    "import torch_geometric\n",
    "torch_geometric.utils.sparse_to_dense(torch.tensor(wrong_preds[0][1]))"
   ]
  },
  {
   "cell_type": "code",
   "execution_count": null,
   "metadata": {},
   "outputs": [],
   "source": [
    "mpl.rcParams.update({\"font.size\": 12})\n",
    "\n",
    "fg, ax = plt.subplots(figsize=(5.5, 4))\n",
    "ax.imshow(torch_geometric.utils.sparse_to_dense(torch.tensor(wrong_preds[0][1])), cmap=\"Greys\")\n",
    "# ax.colorbar()\n",
    "ax.set_xlabel(\"Number position\")\n",
    "ax.set_ylabel(\"Number position\")\n",
    "fg.tight_layout()\n",
    "fg.savefig(NOTEBOOK_PATH.joinpath(\"sudoku_adjacency.svg\"), bbox_inches=\"tight\")\n",
    "fg.savefig(NOTEBOOK_PATH.joinpath(\"sudoku_adjacency.pdf\"), bbox_inches=\"tight\")\n",
    "fg.savefig(NOTEBOOK_PATH.joinpath(\"sudoku_adjacency.png\"), bbox_inches=\"tight\", dpi=300)"
   ]
  },
  {
   "cell_type": "code",
   "execution_count": null,
   "metadata": {},
   "outputs": [],
   "source": [
    "def plot_sudoku(puzzle, solved=None, pred=None, ax=None):\n",
    "    # Simple plotting statement that ingests a 9x9 array (n), and plots a sudoku-style grid around it.\n",
    "    if ax is None:\n",
    "        _, ax = plt.subplots()\n",
    "\n",
    "    for y in range(10):\n",
    "        ax.plot([-0.05, 9.05], [y, y], color=\"black\", linewidth=1)\n",
    "\n",
    "    for y in range(0, 10, 3):\n",
    "        ax.plot([-0.05, 9.05], [y, y], color=\"black\", linewidth=3)\n",
    "\n",
    "    for x in range(10):\n",
    "        ax.plot([x, x], [-0.05, 9.05], color=\"black\", linewidth=1)\n",
    "\n",
    "    for x in range(0, 10, 3):\n",
    "        ax.plot([x, x], [-0.05, 9.05], color=\"black\", linewidth=3)\n",
    "\n",
    "    ax.axis(\"image\")\n",
    "    ax.axis(\"off\")  # drop the axes, they're not important here\n",
    "\n",
    "    for x in range(9):\n",
    "        for y in range(9):\n",
    "            puzzle_element = puzzle[8 - y][x]  # need to reverse the y-direction for plotting\n",
    "            if puzzle_element > 0:  # ignore the zeros\n",
    "                T = f\"{puzzle_element}\"\n",
    "                ax.text(x + 0.3, y + 0.2, T, fontsize=20)\n",
    "            elif solved is not None and pred is not None:\n",
    "                solved_element = solved[8 - y][x]\n",
    "                pred_element = pred[8 - y][x]\n",
    "                if solved_element == pred_element:\n",
    "                    T = f\"{solved_element}\"\n",
    "                    ax.text(x + 0.3, y + 0.2, T, fontsize=20, color=\"b\")\n",
    "                else:\n",
    "                    ax.text(x + 0.1, y + 0.3, f\"{pred_element}\", fontsize=13, color=\"r\")\n",
    "                    ax.text(x + 0.55, y + 0.3, f\"{solved_element}\", fontsize=13, color=\"g\")"
   ]
  },
  {
   "cell_type": "code",
   "execution_count": null,
   "metadata": {},
   "outputs": [],
   "source": [
    "error_index = 0\n",
    "\n",
    "mpl.rcParams.update({\"font.size\": 12})\n",
    "\n",
    "fg, ax = plt.subplots(figsize=(5.5, 4))\n",
    "row = wrong_preds[error_index]\n",
    "puzzle = np.where(row[0] < 9, row[0] + 1, 0).reshape(9, 9)\n",
    "solution = np.where(row[2] < 9, row[2] + 1, 0).reshape(9, 9)\n",
    "pred = np.where(row[3] < 9, row[3] + 1, 0).reshape(9, 9)\n",
    "plot_sudoku(puzzle, solution, pred, ax=ax)\n",
    "fg.tight_layout()\n",
    "fg.savefig(NOTEBOOK_PATH.joinpath(f\"sudoku_error_{error_index}.svg\"), bbox_inches=\"tight\")\n",
    "fg.savefig(NOTEBOOK_PATH.joinpath(f\"sudoku_error_{error_index}.svg\"), bbox_inches=\"tight\")\n",
    "fg.savefig(NOTEBOOK_PATH.joinpath(f\"sudoku_error_{error_index}.png\"), bbox_inches=\"tight\", dpi=300)"
   ]
  },
  {
   "cell_type": "code",
   "execution_count": null,
   "metadata": {},
   "outputs": [],
   "source": []
  },
  {
   "cell_type": "code",
   "execution_count": null,
   "metadata": {},
   "outputs": [],
   "source": [
    "xlim = (0, 1.03)\n",
    "\n",
    "fg, ax = plt.subplots(figsize=(6, 4))\n",
    "ax.plot(results_df[\"fraction_correct\"], results_df[\"sum_log_prob\"], 'r.')\n",
    "ax.set_xlabel(\"Fraction of residues correct\")\n",
    "ax.set_ylabel(\"Sum of log-probabilities\")\n",
    "ax.set_xlim(*xlim)\n",
    "fg.savefig(NOTEBOOK_PATH / \"test-incremental-probas.svg\")\n",
    "fg.savefig(NOTEBOOK_PATH / \"test-incremental-probas.pdf\")\n",
    "fg.savefig(NOTEBOOK_PATH / \"test-incremental-probas.png\", dpi=300)"
   ]
  },
  {
   "cell_type": "code",
   "execution_count": null,
   "metadata": {},
   "outputs": [],
   "source": [
    "for file in sorted(Path(\"sudoku_4xEdgeConv_stretch\").glob(\"*.state\")):\n",
    "    print(file)\n",
    "    net = Net(x_input_size=10, adj_input_size=None, hidden_size=128, output_size=9)\n",
    "    # net.load_state_dict(torch.load(\"sudoku_4xEdgeConv_stretch/e0-s7812-d999936-amv09791666666666666.state\"))\n",
    "    net.load_state_dict(torch.load(file))\n",
    "\n",
    "    net.eval()\n",
    "    net = net.to(device)\n",
    "\n",
    "    results = []\n",
    "    for data in sudoku_dataset_test:\n",
    "        data = data.to(device)\n",
    "        x_in = data.x.clone()\n",
    "        is_missing = x_in == 9\n",
    "        log_conf_lst = []\n",
    "        predicted = design_sudoku(net, x_in, data.edge_index, log_conf_lst)\n",
    "        num_correct = float((predicted[is_missing] == data.y[is_missing]).sum())\n",
    "        num_total = float(is_missing.sum())\n",
    "        results.append(\n",
    "            {\n",
    "                \"fraction_correct\": num_correct / num_total,\n",
    "                \"num_correct\": num_correct,\n",
    "                \"num_total\": num_total,\n",
    "                \"sum_log_prob\": np.sum(log_conf_lst),\n",
    "            }\n",
    "        )\n",
    "    results_df = pd.DataFrame(results)\n",
    "    print(results_df[\"num_correct\"].sum() / results_df[\"num_total\"].sum())"
   ]
  },
  {
   "cell_type": "code",
   "execution_count": null,
   "metadata": {},
   "outputs": [],
   "source": [
    "raise Exception"
   ]
  },
  {
   "cell_type": "code",
   "execution_count": null,
   "metadata": {},
   "outputs": [],
   "source": [
    "@torch.no_grad()\n",
    "def design_sudoku_2(net, x, x_proba, edge_index, cutoff=-1):\n",
    "    if x_proba is None:\n",
    "        x_proba = torch.zeros_like(x).to(torch.float)\n",
    "\n",
    "    mask = (x == 9)\n",
    "    if not mask.any():\n",
    "        return [(x, x_proba)]\n",
    "\n",
    "    index_array = torch.arange(x.size(0))\n",
    "    \n",
    "    output = net(x, edge_index)\n",
    "    output = torch.softmax(output, dim=1)\n",
    "    output = output[mask]\n",
    "    index_array = index_array[mask]\n",
    "\n",
    "    max_index = output.max(dim=1)[0].max(dim=0)[1]\n",
    "    max_pred_row = output[max_index]\n",
    "\n",
    "    sum_log_prob = x_proba.sum()\n",
    "    assert sum_log_prob.item() <= 0, x_proba\n",
    "\n",
    "    p_cutoff = min(torch.exp(cutoff - sum_log_prob), max_pred_row.max()).item()\n",
    "    results = []\n",
    "    for i, p in enumerate(max_pred_row):\n",
    "        if p < p_cutoff:\n",
    "            continue\n",
    "        x_clone = x.clone()\n",
    "        x_proba_clone = x_proba.clone()\n",
    "        assert x_clone[index_array[max_index]] == 9\n",
    "        x_clone[index_array[max_index]] = i\n",
    "        x_proba_clone[index_array[max_index]] = torch.log(p)\n",
    "        result = design_sudoku_2(net, x_clone, x_proba_clone, edge_index)\n",
    "        results.extend(result)\n",
    "    return results"
   ]
  },
  {
   "cell_type": "code",
   "execution_count": null,
   "metadata": {},
   "outputs": [],
   "source": [
    "data = sudoku_dataset_test[0].to(device)"
   ]
  },
  {
   "cell_type": "code",
   "execution_count": null,
   "metadata": {},
   "outputs": [],
   "source": [
    "results = design_sudoku_2(net, data.x.clone(), None, data.edge_index)"
   ]
  },
  {
   "cell_type": "code",
   "execution_count": null,
   "metadata": {},
   "outputs": [],
   "source": [
    "results = sorted(((a.data.cpu(), b.data.cpu()) for a, b in results), reverse=True)"
   ]
  },
  {
   "cell_type": "code",
   "execution_count": null,
   "metadata": {},
   "outputs": [],
   "source": [
    "results = []\n",
    "for data in sudoku_dataset_test:\n",
    "    data = data.to(device)\n",
    "    is_missing = data.x == 9\n",
    "    outputs = design_sudoku_2(net, data.x.clone(), None, data.edge_index, -20)\n",
    "    outputs = sorted((t for t in outputs), key=lambda t: t[1].sum().item(), reverse=True)\n",
    "#     results = sorted(((a.data.cpu(), b.data.cpu()) for a, b in results), reverse=True)\n",
    "    y, y_proba = outputs[0]\n",
    "    num_correct = float((y[is_missing] == data.y[is_missing]).sum())\n",
    "    num_total = float(is_missing.sum())\n",
    "    results.append(\n",
    "        {\n",
    "            \"fraction_correct\": num_correct / num_total,\n",
    "            \"num_correct\": num_correct,\n",
    "            \"num_total\": num_total,\n",
    "            \"sum_log_prob\": torch.sum(y_proba).cpu().item(),\n",
    "        }\n",
    "    )\n",
    "results_df = pd.DataFrame(results)"
   ]
  },
  {
   "cell_type": "code",
   "execution_count": null,
   "metadata": {},
   "outputs": [],
   "source": [
    "xlim = (0, 1.03)\n",
    "\n",
    "with plt.rc_context(rc={\"font.size\": 12}):\n",
    "    fg, ax = plt.subplots(figsize=(6, 4))\n",
    "    ax.plot(results_df[\"fraction_correct\"], results_df[\"sum_log_prob\"], 'r.')\n",
    "    ax.set_xlabel(\"Fraction of residues correct\")\n",
    "    ax.set_ylabel(\"Sum of log-probabilities\")\n",
    "    ax.set_xlim(*xlim)"
   ]
  },
  {
   "cell_type": "code",
   "execution_count": null,
   "metadata": {},
   "outputs": [],
   "source": [
    "xlim = (0, 1.03)\n",
    "textstr = \"\"\"\\\n",
    "Fraction correct overall: {:.4f}\n",
    "\"\"\".format(\n",
    "    results_df[\"num_correct\"].sum() / results_df[\"num_total\"].sum()\n",
    ").strip()\n",
    "props = dict(facecolor=\"white\", alpha=0.3)\n",
    "\n",
    "with plt.rc_context(rc={\"font.size\": 12}):\n",
    "    fg, ax = plt.subplots(figsize=(6, 4))\n",
    "    data = results_df[\"fraction_correct\"]\n",
    "    assert data.min() >= xlim[0] and data.max() <= xlim[1]\n",
    "    ax.hist(data, bins=20)\n",
    "    ax.set_ylabel(\"Number of puzzles\")\n",
    "    ax.set_xlabel(\"Fraction of missing values filled correctly\")\n",
    "    ax.set_xlim(*xlim)\n",
    "#     ax.set_ylim(0, 5)\n",
    "    ax.set_title(\"Test - Incremental\")\n",
    "    ax.text(0.04, 0.95, textstr, transform=ax.transAxes, fontsize=\"medium\", verticalalignment=\"top\", bbox=props)"
   ]
  },
  {
   "cell_type": "code",
   "execution_count": null,
   "metadata": {},
   "outputs": [],
   "source": []
  },
  {
   "cell_type": "code",
   "execution_count": null,
   "metadata": {},
   "outputs": [],
   "source": []
  },
  {
   "cell_type": "code",
   "execution_count": null,
   "metadata": {},
   "outputs": [],
   "source": []
  },
  {
   "cell_type": "code",
   "execution_count": null,
   "metadata": {},
   "outputs": [],
   "source": []
  },
  {
   "cell_type": "code",
   "execution_count": null,
   "metadata": {},
   "outputs": [],
   "source": []
  },
  {
   "cell_type": "code",
   "execution_count": null,
   "metadata": {},
   "outputs": [],
   "source": []
  },
  {
   "cell_type": "code",
   "execution_count": null,
   "metadata": {},
   "outputs": [],
   "source": [
    "@torch.no_grad()\n",
    "def design_sudoku_3(net, x, x_proba, edge_index, cutoff=-1):\n",
    "    if x_proba is None:\n",
    "        x_proba = torch.zeros_like(x).to(torch.float)\n",
    "    sum_log_prob = x_proba.sum()\n",
    "\n",
    "    mask = (x == 9)\n",
    "    if not mask.any():\n",
    "        return [(x, x_proba)]\n",
    "\n",
    "    index_array = torch.arange(x.size(0))\n",
    "    \n",
    "    output = net(x, edge_index)\n",
    "    output = output[mask]\n",
    "    index_array = index_array[mask]\n",
    "\n",
    "    # Select rows to examine\n",
    "    output_sum = output.sum(dim=1)\n",
    "    row_probas = torch.softmax(output_sum, dim=0)\n",
    "    row_proba_cutoff = min(0.1, row_probas.max())\n",
    "    index_array_2 = torch.arange(len(row_probas))[row_probas >= row_proba_cutoff][:3]\n",
    "    \n",
    "    output = output[index_array_2]\n",
    "    index_array = index_array[index_array_2]\n",
    "    \n",
    "    # Select columns to examine\n",
    "    output = torch.softmax(output, dim=1)\n",
    "    \n",
    "    results = []\n",
    "    for i, row in enumerate(output):\n",
    "        p_cutoff = min(torch.exp(cutoff - sum_log_prob), row.max()).item()\n",
    "        for j, p in enumerate(row):\n",
    "            if p < p_cutoff:\n",
    "                continue\n",
    "            x_clone = x.clone()\n",
    "            x_proba_clone = x_proba.clone()\n",
    "            assert x_clone[index_array[i]] == 9\n",
    "            x_clone[index_array[i]] = i\n",
    "            x_proba_clone[index_array[i]] = torch.log(p)\n",
    "            result = design_sudoku_3(net, x_clone, x_proba_clone, edge_index)\n",
    "            results.extend(result)\n",
    "    return results"
   ]
  },
  {
   "cell_type": "code",
   "execution_count": null,
   "metadata": {},
   "outputs": [],
   "source": [
    "data = sudoku_dataset_test[0].to(device)"
   ]
  },
  {
   "cell_type": "code",
   "execution_count": null,
   "metadata": {},
   "outputs": [],
   "source": [
    "# results = design_sudoku_3(net, data.x.clone(), None, data.edge_index, -5)"
   ]
  },
  {
   "cell_type": "code",
   "execution_count": null,
   "metadata": {},
   "outputs": [],
   "source": [
    "# results = sorted(((a.data.cpu(), b.data.cpu()) for a, b in results), reverse=True)"
   ]
  },
  {
   "cell_type": "code",
   "execution_count": null,
   "metadata": {},
   "outputs": [],
   "source": [
    "x = torch.arange(4)\n",
    "x[torch.tensor([0, 0, 0, 1], dtype=torch.uint8)] = 10\n",
    "x"
   ]
  },
  {
   "cell_type": "code",
   "execution_count": null,
   "metadata": {},
   "outputs": [],
   "source": [
    "torch.tensor([1,2,3], dtype=torch)"
   ]
  }
 ],
 "metadata": {
  "accelerator": "GPU",
  "colab": {
   "collapsed_sections": [
    "1fXJz1l9HvhW",
    "u9q4iTifHvhl"
   ],
   "name": "Copy of 2019-03-30-sudoku-4xEdgeConv-09862+.ipynb",
   "provenance": [],
   "toc_visible": true,
   "version": "0.3.2"
  },
  "kernelspec": {
   "display_name": "Python 3",
   "language": "python",
   "name": "python3"
  },
  "language_info": {
   "codemirror_mode": {
    "name": "ipython",
    "version": 3
   },
   "file_extension": ".py",
   "mimetype": "text/x-python",
   "name": "python",
   "nbconvert_exporter": "python",
   "pygments_lexer": "ipython3",
   "version": "3.7.3"
  }
 },
 "nbformat": 4,
 "nbformat_minor": 4
}
