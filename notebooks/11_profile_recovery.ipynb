{
 "cells": [
  {
   "cell_type": "markdown",
   "metadata": {},
   "source": [
    "## Summary\n",
    "\n",
    "----"
   ]
  },
  {
   "cell_type": "markdown",
   "metadata": {},
   "source": [
    "## Imports"
   ]
  },
  {
   "cell_type": "code",
   "execution_count": 1,
   "metadata": {},
   "outputs": [],
   "source": [
    "import os\n",
    "from pathlib import Path"
   ]
  },
  {
   "cell_type": "markdown",
   "metadata": {},
   "source": [
    "## Parameters"
   ]
  },
  {
   "cell_type": "code",
   "execution_count": 10,
   "metadata": {},
   "outputs": [
    {
     "data": {
      "text/plain": [
       "PosixPath('/home/kimlab1/strokach/workspace/proteinsolver/notebooks/11_profile_recovery')"
      ]
     },
     "execution_count": 10,
     "metadata": {},
     "output_type": "execute_result"
    }
   ],
   "source": [
    "NOTEBOOK_DIR = Path(\"11_profile_recovery\").resolve()\n",
    "NOTEBOOK_DIR.mkdir(exist_ok =True)\n",
    "\n",
    "NOTEBOOK_DIR"
   ]
  },
  {
   "cell_type": "markdown",
   "metadata": {},
   "source": [
    "## Workspace"
   ]
  },
  {
   "cell_type": "code",
   "execution_count": 11,
   "metadata": {},
   "outputs": [
    {
     "name": "stdout",
     "output_type": "stream",
     "text": [
      "--2020-06-27 14:21:52--  ftp://orengoftp.biochem.ucl.ac.uk/cath/releases/latest-release/sequence-data/cath-domain-seqs-S100.fa\n",
      "           => ‘cath-domain-seqs-S100.fa’\n",
      "Resolving orengoftp.biochem.ucl.ac.uk (orengoftp.biochem.ucl.ac.uk)... 128.40.46.87\n",
      "Connecting to orengoftp.biochem.ucl.ac.uk (orengoftp.biochem.ucl.ac.uk)|128.40.46.87|:21... connected.\n",
      "Logging in as anonymous ... Logged in!\n",
      "==> SYST ... done.    ==> PWD ... done.\n",
      "==> TYPE I ... done.  ==> CWD (1) /cath/releases/latest-release/sequence-data ... done.\n",
      "==> SIZE cath-domain-seqs-S100.fa ... 22637389\n",
      "==> PASV ... done.    ==> RETR cath-domain-seqs-S100.fa ... done.\n",
      "Length: 22637389 (22M) (unauthoritative)\n",
      "\n",
      "cath-domain-seqs-S1 100%[===================>]  21.59M  6.10MB/s    in 3.5s    \n",
      "\n",
      "2020-06-27 14:21:57 (6.10 MB/s) - ‘cath-domain-seqs-S100.fa’ saved [22637389]\n",
      "\n"
     ]
    }
   ],
   "source": [
    "!(cd {NOTEBOOK_DIR} && wget -c ftp://orengoftp.biochem.ucl.ac.uk/cath/releases/latest-release/sequence-data/cath-domain-seqs-S100.fa)"
   ]
  },
  {
   "cell_type": "code",
   "execution_count": 12,
   "metadata": {},
   "outputs": [
    {
     "name": "stdout",
     "output_type": "stream",
     "text": [
      "--2020-06-27 14:22:37--  ftp://orengoftp.biochem.ucl.ac.uk/cath/releases/latest-release/sequence-data/cath-domain-seqs-S95.fa\n",
      "           => ‘cath-domain-seqs-S95.fa’\n",
      "Resolving orengoftp.biochem.ucl.ac.uk (orengoftp.biochem.ucl.ac.uk)... 128.40.46.87\n",
      "Connecting to orengoftp.biochem.ucl.ac.uk (orengoftp.biochem.ucl.ac.uk)|128.40.46.87|:21... connected.\n",
      "Logging in as anonymous ... Logged in!\n",
      "==> SYST ... done.    ==> PWD ... done.\n",
      "==> TYPE I ... done.  ==> CWD (1) /cath/releases/latest-release/sequence-data ... done.\n",
      "==> SIZE cath-domain-seqs-S95.fa ... 10864391\n",
      "==> PASV ... done.    ==> RETR cath-domain-seqs-S95.fa ... done.\n",
      "Length: 10864391 (10M) (unauthoritative)\n",
      "\n",
      "cath-domain-seqs-S9 100%[===================>]  10.36M  3.73MB/s    in 2.8s    \n",
      "\n",
      "2020-06-27 14:22:42 (3.73 MB/s) - ‘cath-domain-seqs-S95.fa’ saved [10864391]\n",
      "\n"
     ]
    }
   ],
   "source": [
    "!(cd {NOTEBOOK_DIR} && wget -c ftp://orengoftp.biochem.ucl.ac.uk/cath/releases/latest-release/sequence-data/cath-domain-seqs-S95.fa)"
   ]
  },
  {
   "cell_type": "code",
   "execution_count": 13,
   "metadata": {},
   "outputs": [
    {
     "name": "stdout",
     "output_type": "stream",
     "text": [
      "--2020-06-27 14:22:42--  ftp://orengoftp.biochem.ucl.ac.uk/cath/releases/latest-release/sequence-data/cath-domain-seqs-S60.fa\n",
      "           => ‘cath-domain-seqs-S60.fa’\n",
      "Resolving orengoftp.biochem.ucl.ac.uk (orengoftp.biochem.ucl.ac.uk)... 128.40.46.87\n",
      "Connecting to orengoftp.biochem.ucl.ac.uk (orengoftp.biochem.ucl.ac.uk)|128.40.46.87|:21... connected.\n",
      "Logging in as anonymous ... Logged in!\n",
      "==> SYST ... done.    ==> PWD ... done.\n",
      "==> TYPE I ... done.  ==> CWD (1) /cath/releases/latest-release/sequence-data ... done.\n",
      "==> SIZE cath-domain-seqs-S60.fa ... 8179739\n",
      "==> PASV ... done.    ==> RETR cath-domain-seqs-S60.fa ... done.\n",
      "Length: 8179739 (7.8M) (unauthoritative)\n",
      "\n",
      "cath-domain-seqs-S6 100%[===================>]   7.80M  3.37MB/s    in 2.3s    \n",
      "\n",
      "2020-06-27 14:22:45 (3.37 MB/s) - ‘cath-domain-seqs-S60.fa’ saved [8179739]\n",
      "\n"
     ]
    }
   ],
   "source": [
    "!(cd {NOTEBOOK_DIR} && wget -c ftp://orengoftp.biochem.ucl.ac.uk/cath/releases/latest-release/sequence-data/cath-domain-seqs-S60.fa)"
   ]
  },
  {
   "cell_type": "code",
   "execution_count": 14,
   "metadata": {},
   "outputs": [
    {
     "name": "stdout",
     "output_type": "stream",
     "text": [
      "--2020-06-27 14:22:46--  ftp://orengoftp.biochem.ucl.ac.uk/cath/releases/latest-release/sequence-data/cath-domain-seqs-S35.fa\n",
      "           => ‘cath-domain-seqs-S35.fa’\n",
      "Resolving orengoftp.biochem.ucl.ac.uk (orengoftp.biochem.ucl.ac.uk)... 128.40.46.87\n",
      "Connecting to orengoftp.biochem.ucl.ac.uk (orengoftp.biochem.ucl.ac.uk)|128.40.46.87|:21... connected.\n",
      "Logging in as anonymous ... Logged in!\n",
      "==> SYST ... done.    ==> PWD ... done.\n",
      "==> TYPE I ... done.  ==> CWD (1) /cath/releases/latest-release/sequence-data ... done.\n",
      "==> SIZE cath-domain-seqs-S35.fa ... 5785184\n",
      "==> PASV ... done.    ==> RETR cath-domain-seqs-S35.fa ... done.\n",
      "Length: 5785184 (5.5M) (unauthoritative)\n",
      "\n",
      "cath-domain-seqs-S3 100%[===================>]   5.52M  2.48MB/s    in 2.2s    \n",
      "\n",
      "2020-06-27 14:22:49 (2.48 MB/s) - ‘cath-domain-seqs-S35.fa’ saved [5785184]\n",
      "\n"
     ]
    }
   ],
   "source": [
    "!(cd {NOTEBOOK_DIR} && wget -c ftp://orengoftp.biochem.ucl.ac.uk/cath/releases/latest-release/sequence-data/cath-domain-seqs-S35.fa)"
   ]
  },
  {
   "cell_type": "code",
   "execution_count": null,
   "metadata": {},
   "outputs": [],
   "source": []
  }
 ],
 "metadata": {
  "kernelspec": {
   "display_name": "Python 3",
   "language": "python",
   "name": "python3"
  },
  "language_info": {
   "codemirror_mode": {
    "name": "ipython",
    "version": 3
   },
   "file_extension": ".py",
   "mimetype": "text/x-python",
   "name": "python",
   "nbconvert_exporter": "python",
   "pygments_lexer": "ipython3",
   "version": "3.7.6"
  }
 },
 "nbformat": 4,
 "nbformat_minor": 4
}
