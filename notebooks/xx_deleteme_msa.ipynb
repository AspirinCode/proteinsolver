{
 "cells": [
  {
   "cell_type": "markdown",
   "metadata": {
    "tags": [
     "hide"
    ]
   },
   "source": [
    "## Summary\n",
    "\n",
    "---"
   ]
  },
  {
   "cell_type": "markdown",
   "metadata": {
    "tags": [
     "hide"
    ]
   },
   "source": [
    "## Imports"
   ]
  },
  {
   "cell_type": "code",
   "execution_count": 1,
   "metadata": {},
   "outputs": [],
   "source": [
    "import gzip\n",
    "import subprocess\n",
    "import threading\n",
    "import time\n",
    "import uuid\n",
    "from enum import Enum\n",
    "from pathlib import Path\n",
    "\n",
    "import ipywidgets as widgets\n",
    "import numpy as np\n",
    "from IPython.display import HTML, Javascript, display"
   ]
  },
  {
   "cell_type": "markdown",
   "metadata": {
    "tags": [
     "hide"
    ]
   },
   "source": [
    "## Parameters"
   ]
  },
  {
   "cell_type": "code",
   "execution_count": 2,
   "metadata": {},
   "outputs": [],
   "source": [
    "JUPYTER_DATA_DIR = Path(subprocess.check_output([\"jupyter\", \"--data-dir\"], universal_newlines=True).strip()).resolve(strict=True)"
   ]
  },
  {
   "cell_type": "code",
   "execution_count": 3,
   "metadata": {
    "tags": [
     "hide"
    ]
   },
   "outputs": [
    {
     "data": {
      "text/plain": [
       "PosixPath('/home/kimlab1/strokach/.jupyter/data')"
      ]
     },
     "execution_count": 3,
     "metadata": {},
     "output_type": "execute_result"
    }
   ],
   "source": [
    "JUPYTER_DATA_DIR"
   ]
  },
  {
   "cell_type": "code",
   "execution_count": 4,
   "metadata": {},
   "outputs": [],
   "source": [
    "STATIC_DATA_DIR = JUPYTER_DATA_DIR.joinpath(\"voila\", \"templates\", \"mytemplate\", \"static\").resolve(strict=True)"
   ]
  },
  {
   "cell_type": "code",
   "execution_count": 5,
   "metadata": {
    "tags": [
     "hide"
    ]
   },
   "outputs": [
    {
     "data": {
      "text/plain": [
       "PosixPath('/home/kimlab1/strokach/.jupyter/data/voila/templates/mytemplate/static')"
      ]
     },
     "execution_count": 5,
     "metadata": {},
     "output_type": "execute_result"
    }
   ],
   "source": [
    "STATIC_DATA_DIR"
   ]
  },
  {
   "cell_type": "markdown",
   "metadata": {
    "tags": [
     "hide"
    ]
   },
   "source": [
    "## Define global variables"
   ]
  },
  {
   "cell_type": "code",
   "execution_count": 6,
   "metadata": {},
   "outputs": [],
   "source": [
    "sequences = []\n",
    "proteinsolver_thread = None"
   ]
  },
  {
   "cell_type": "markdown",
   "metadata": {
    "tags": [
     "hide"
    ]
   },
   "source": [
    "## Helper functions"
   ]
  },
  {
   "cell_type": "code",
   "execution_count": 7,
   "metadata": {},
   "outputs": [],
   "source": [
    "class ProteinSolverThread(threading.Thread):\n",
    "    def __init__(self, value, msa_view, progress_bar, download_button):\n",
    "        super().__init__(daemon=True)\n",
    "        self.value = value\n",
    "        self.msa_view = msa_view\n",
    "        self.msa_view.clear_output()\n",
    "        self.progress_bar = progress_bar\n",
    "        self.download_button = download_button\n",
    "        self._stop_event = threading.Event()\n",
    "\n",
    "    def run(self):\n",
    "        self.progress_bar.value = 0\n",
    "        self.progress_bar.bar_style = \"\"\n",
    "        for i in range(self.progress_bar.max):\n",
    "            if self.stopped():\n",
    "                self.progress_bar.bar_style = \"danger\"\n",
    "                return\n",
    "            time.sleep(1)\n",
    "            self.msa_view.append_stdout(self.value + \"\\n\")\n",
    "            self.progress_bar.value += 1\n",
    "        self.progress_bar.bar_style = \"success\"\n",
    "        enable_download_button(self.download_button)\n",
    "\n",
    "    def stop(self):\n",
    "        self._stop_event.set()\n",
    "\n",
    "    def stopped(self):\n",
    "        return self._stop_event.is_set()"
   ]
  },
  {
   "cell_type": "code",
   "execution_count": 8,
   "metadata": {},
   "outputs": [],
   "source": [
    "def generate_random_sequence(length=80, seed=None):\n",
    "    amino_acids = np.array(list(\"GVALICMFWPDESTYQNKRH\"))\n",
    "    if seed is None:\n",
    "        choice = np.random.choice\n",
    "    else:\n",
    "        choice = np.random.RandomState(seed).choice\n",
    "    return \"\".join(choice(amino_acids, length))"
   ]
  },
  {
   "cell_type": "code",
   "execution_count": 9,
   "metadata": {
    "tags": [
     "hide"
    ]
   },
   "outputs": [
    {
     "data": {
      "text/plain": [
       "'MHYDFMRDDLFAVECVGEENPQYYREHAIRMWMKLTKWVHYMEFYATNLKFLVCPLKEVPLTQYFTFQSKYSWYSGMWGE'"
      ]
     },
     "execution_count": 9,
     "metadata": {},
     "output_type": "execute_result"
    }
   ],
   "source": [
    "generate_random_sequence(80, 42)"
   ]
  },
  {
   "cell_type": "code",
   "execution_count": 10,
   "metadata": {},
   "outputs": [],
   "source": [
    "def sequences_to_fasta(sequences, line_width=80):\n",
    "    sequence_string = \"\"\n",
    "    for sequence in sequences:\n",
    "        sequence_string += f\">{sequence['id']}|{sequence['name']}|{sequence['proba']}\\n\"\n",
    "        for start in range(0, len(sequence[\"seq\"]), line_width):\n",
    "            sequence_string += sequence[\"seq\"][start : start + line_width] + \"\\n\"\n",
    "    return sequence_string"
   ]
  },
  {
   "cell_type": "code",
   "execution_count": 11,
   "metadata": {
    "tags": [
     "hide"
    ]
   },
   "outputs": [
    {
     "name": "stdout",
     "output_type": "stream",
     "text": [
      ">1|reference|1.0\n",
      "MHYDFMRDDLFAVECVGEENPQYYREHAIRMWMKLTKWVHYMEFYATNLKFLVCPLKEVPLTQYFTFQSKYSWYSGMWGE\n",
      "FDRNFAAGIPMWMWFEVGQIAEFAGAIYTAGITMWYYPSRMNHLIMSYDLSMRVPSCEEHDMGGHSWAMCFWIGRPEYWH\n",
      "\n"
     ]
    }
   ],
   "source": [
    "print(sequences_to_fasta([{\"id\": 1, \"name\": \"reference\", \"proba\": 1.0, \"seq\": generate_random_sequence(160, 42)}]))"
   ]
  },
  {
   "cell_type": "code",
   "execution_count": 12,
   "metadata": {},
   "outputs": [],
   "source": [
    "def populate_sequences_list():\n",
    "    global sequences\n",
    "    \n",
    "    sequences = []\n",
    "    for i in range(20_000):\n",
    "        sequence = {\"id\": i + 1, \"name\": f\"gen-{i:05d}\", \"proba\": 1.0, \"seq\": generate_random_sequence(162)}\n",
    "        sequences.append(sequence)"
   ]
  },
  {
   "cell_type": "code",
   "execution_count": 13,
   "metadata": {},
   "outputs": [],
   "source": [
    "populate_sequences_list()"
   ]
  },
  {
   "cell_type": "code",
   "execution_count": 14,
   "metadata": {},
   "outputs": [],
   "source": [
    "def save_sequences():\n",
    "    sequences_fasta = sequences_to_fasta(sequences)\n",
    "    sequences_fasta_gz = gzip.compress(sequences_fasta.encode(\"utf-8\"))\n",
    "\n",
    "    output_file = STATIC_DATA_DIR.joinpath(f\"{uuid.uuid4()}.fasta.gz\")\n",
    "    with output_file.open(\"wb\") as fout:\n",
    "        fout.write(sequences_fasta_gz)\n",
    "\n",
    "    return output_file"
   ]
  },
  {
   "cell_type": "code",
   "execution_count": 15,
   "metadata": {},
   "outputs": [],
   "source": [
    "def show_uploader():\n",
    "    uploader = widgets.FileUpload(accept='.gpx', multiple=False)\n",
    "\n",
    "    def handle_upload(change):\n",
    "        # keep only the last file\n",
    "        # TODO: check if this should be fixed in FileUpload widget\n",
    "        # when multiple=False\n",
    "        *_, (_, f) = change['new'].items()\n",
    "        gpx_content = f['content'].decode('utf-8')\n",
    "        out.clear_output()\n",
    "        with StringIO(gpx_content) as gpx_file:\n",
    "            with out:\n",
    "                plot_gpx(gpx_file)\n",
    "\n",
    "    uploader.observe(handle_upload, names='value')\n",
    "\n",
    "    display(uploader)"
   ]
  },
  {
   "cell_type": "code",
   "execution_count": 16,
   "metadata": {},
   "outputs": [],
   "source": [
    "def show_examples():\n",
    "    example_folder = \"./examples\"\n",
    "    examples = [f for f in os.listdir(example_folder) if f.endswith('.gpx')]\n",
    "    \n",
    "    def create_example(name):\n",
    "        filename = os.path.join(example_folder, name)\n",
    "        \n",
    "        @out.capture()\n",
    "        def on_example_clicked(change):\n",
    "            out.clear_output()\n",
    "            with open(filename) as f:\n",
    "                with out:\n",
    "                    plot_gpx(f)\n",
    "    \n",
    "        button = Button(description=os.path.splitext(name)[0])\n",
    "        button.on_click(on_example_clicked)\n",
    "        return button\n",
    "\n",
    "    \n",
    "    buttons = [create_example(example) for example in examples]\n",
    "    line = HBox(buttons, layout=Layout(flex_flow='row', align_items='center'))\n",
    "    display(line)"
   ]
  },
  {
   "cell_type": "markdown",
   "metadata": {
    "tags": [
     "hide"
    ]
   },
   "source": [
    "## Widgets"
   ]
  },
  {
   "cell_type": "code",
   "execution_count": 17,
   "metadata": {},
   "outputs": [],
   "source": [
    "progress_bar = widgets.IntProgress(\n",
    "    value=0,\n",
    "    min=0,\n",
    "    max=100,\n",
    "    step=1,\n",
    "    bar_style=\"\",  # 'success', 'info', 'warning', 'danger' or ''\n",
    "    orientation=\"horizontal\",\n",
    "    layout=widgets.Layout(width=\"auto\", height=\"20px\"),\n",
    ")"
   ]
  },
  {
   "cell_type": "code",
   "execution_count": null,
   "metadata": {},
   "outputs": [],
   "source": []
  },
  {
   "cell_type": "code",
   "execution_count": 18,
   "metadata": {},
   "outputs": [],
   "source": [
    "msa_alignment_view = widgets.Output()"
   ]
  },
  {
   "cell_type": "code",
   "execution_count": null,
   "metadata": {},
   "outputs": [],
   "source": []
  },
  {
   "cell_type": "code",
   "execution_count": 19,
   "metadata": {},
   "outputs": [],
   "source": [
    "number_of_sequences_input = widgets.BoundedIntText(\n",
    "    value=100,\n",
    "    min=1,\n",
    "    max=20_000,\n",
    "    step=1,\n",
    "    description=\"Number of sequences:\",\n",
    "    disabled=False,\n",
    "    style={\"description_width\": \"initial\"},\n",
    "    layout=widgets.Layout(width=\"200px\"),\n",
    ")"
   ]
  },
  {
   "cell_type": "code",
   "execution_count": 20,
   "metadata": {},
   "outputs": [],
   "source": [
    "class State(Enum):\n",
    "    GENERATE: str = \"Run ProteinSolver!\"\n",
    "    CANCEL: str = \"Cancel\"\n",
    "\n",
    "\n",
    "button_meta = {\n",
    "    State.GENERATE: {\"icon\": \"check\", \"button_style\": \"\", \"tooltip\": \"Generate new sequences!\"},\n",
    "    State.CANCEL: {\"icon\": \"ban\", \"button_style\": \"danger\", \"tooltip\": \"Cancel!\"},\n",
    "}\n",
    "\n",
    "\n",
    "def disable_download_button(b):\n",
    "    b.description = State.CANCEL.value\n",
    "    b.icon = button_meta[State.CANCEL][\"icon\"]\n",
    "    b.button_style = button_meta[State.CANCEL][\"button_style\"]\n",
    "    b.tooltip = button_meta[State.CANCEL][\"tooltip\"]\n",
    "\n",
    "\n",
    "def enable_download_button(b):\n",
    "    b.description = State.GENERATE.value\n",
    "    b.icon = button_meta[State.GENERATE][\"icon\"]\n",
    "    b.button_style = button_meta[State.GENERATE][\"button_style\"]\n",
    "    b.tooltip = button_meta[State.GENERATE][\"tooltip\"]\n",
    "\n",
    "\n",
    "def on_button_clicked(b):\n",
    "    global proteinsolver_thread\n",
    "\n",
    "    if b.description == State.GENERATE.value:\n",
    "        disable_download_button(b)\n",
    "\n",
    "        if proteinsolver_thread is not None and not proteinsolver_thread.stopped():\n",
    "            proteinsolver_thread.stop()\n",
    "        progress_bar.max = number_of_sequences_input.value\n",
    "        proteinsolver_thread = ProteinSolverThread(\"hello world\", msa_alignment_view, progress_bar, b)\n",
    "        proteinsolver_thread.start()\n",
    "    elif b.description == State.CANCEL.value:\n",
    "        enable_download_button(b)\n",
    "\n",
    "        proteinsolver_thread.stop()\n",
    "    else:\n",
    "        raise Exception\n",
    "\n",
    "\n",
    "run_proteinsolver_button = widgets.Button(\n",
    "    description=State.GENERATE.value,\n",
    "    icon=button_meta[State.GENERATE][\"icon\"],\n",
    "    button_style=button_meta[State.GENERATE][\"button_style\"],  # 'success', 'info', 'warning', 'danger' or ''\n",
    "    tooltip=button_meta[State.GENERATE][\"tooltip\"],\n",
    "    disabled=False,\n",
    "    layout=widgets.Layout(width=\"200px\"),\n",
    ")\n",
    "run_proteinsolver_button.on_click(on_button_clicked)"
   ]
  },
  {
   "cell_type": "code",
   "execution_count": 21,
   "metadata": {
    "tags": [
     "hide"
    ]
   },
   "outputs": [
    {
     "data": {
      "application/vnd.jupyter.widget-view+json": {
       "model_id": "a7e57a6a81074e46ae24974d53f33ad3",
       "version_major": 2,
       "version_minor": 0
      },
      "text/plain": [
       "VBox(children=(BoundedIntText(value=100, description='Number of sequences:', layout=Layout(width='200px'), max…"
      ]
     },
     "metadata": {},
     "output_type": "display_data"
    }
   ],
   "source": [
    "widgets.VBox([number_of_sequences_input, run_proteinsolver_button])"
   ]
  },
  {
   "cell_type": "code",
   "execution_count": null,
   "metadata": {},
   "outputs": [],
   "source": []
  },
  {
   "cell_type": "code",
   "execution_count": 22,
   "metadata": {},
   "outputs": [],
   "source": [
    "generate_download_link_output = widgets.Output(layout=widgets.Layout(width=\"200px\"))"
   ]
  },
  {
   "cell_type": "code",
   "execution_count": 23,
   "metadata": {},
   "outputs": [],
   "source": [
    "def generate_download_link(b):\n",
    "    b.description = \"Generating...\"\n",
    "    b.icon = \"running\"\n",
    "    b.button_style = \"info\"  # 'success', 'info', 'warning', 'danger' or ''\n",
    "    b.disabled = True\n",
    "\n",
    "    generate_download_link_output.clear_output()\n",
    "    output_file = save_sequences()\n",
    "    with generate_download_link_output:\n",
    "        display(\n",
    "            HTML(\n",
    "                f'<a href=\"./voila/static/{output_file.name}\" download={output_file.stem[:8]}{output_file.suffix}><i class=\"fa fa-download\"></i> Download sequences</a>'\n",
    "            )\n",
    "        )\n",
    "\n",
    "    b.description = \"Update download link\"\n",
    "    b.icon = \"\"  # check\n",
    "    b.button_style = \"\"\n",
    "    b.disabled = False\n",
    "\n",
    "\n",
    "generate_download_link_button = widgets.Button(\n",
    "    description=\"Generate download link\",\n",
    "    tooltip=\"Generate download link\",\n",
    "    disabled=False,\n",
    "    layout=widgets.Layout(width=\"200px\"),\n",
    ")\n",
    "\n",
    "generate_download_link_button.on_click(generate_download_link)"
   ]
  },
  {
   "cell_type": "code",
   "execution_count": 24,
   "metadata": {
    "tags": [
     "hide"
    ]
   },
   "outputs": [
    {
     "data": {
      "application/vnd.jupyter.widget-view+json": {
       "model_id": "872109fc2e8a4755b14fff4549f4d877",
       "version_major": 2,
       "version_minor": 0
      },
      "text/plain": [
       "VBox(children=(Button(description='Generate download link', layout=Layout(width='200px'), style=ButtonStyle(),…"
      ]
     },
     "metadata": {},
     "output_type": "display_data"
    }
   ],
   "source": [
    "widgets.VBox([generate_download_link_button, generate_download_link_output])"
   ]
  },
  {
   "cell_type": "markdown",
   "metadata": {
    "tags": [
     "hide"
    ]
   },
   "source": [
    "## Final dashboard"
   ]
  },
  {
   "cell_type": "code",
   "execution_count": 25,
   "metadata": {},
   "outputs": [
    {
     "data": {
      "application/vnd.jupyter.widget-view+json": {
       "model_id": "cd10efa2d3b44b70a1f8a21414b2615f",
       "version_major": 2,
       "version_minor": 0
      },
      "text/plain": [
       "GridspecLayout(children=(IntProgress(value=0, layout=Layout(grid_area='widget001', height='20px', width='auto'…"
      ]
     },
     "metadata": {},
     "output_type": "display_data"
    }
   ],
   "source": [
    "grid = widgets.GridspecLayout(5, 3, height='400px')\n",
    "\n",
    "grid[0, :] = progress_bar\n",
    "grid[1, 0] = widgets.VBox([number_of_sequences_input, run_proteinsolver_button])\n",
    "grid[2, 0] = widgets.VBox([generate_download_link_button, generate_download_link_output])\n",
    "grid[1:, 1:] = msa_alignment_view\n",
    "\n",
    "grid"
   ]
  },
  {
   "cell_type": "code",
   "execution_count": 26,
   "metadata": {},
   "outputs": [],
   "source": [
    "on_button_clicked(run_proteinsolver_button)"
   ]
  },
  {
   "cell_type": "code",
   "execution_count": null,
   "metadata": {},
   "outputs": [],
   "source": []
  },
  {
   "cell_type": "code",
   "execution_count": null,
   "metadata": {},
   "outputs": [],
   "source": []
  }
 ],
 "metadata": {
  "kernelspec": {
   "display_name": "Python 3",
   "language": "python",
   "name": "python3"
  },
  "language_info": {
   "codemirror_mode": {
    "name": "ipython",
    "version": 3
   },
   "file_extension": ".py",
   "mimetype": "text/x-python",
   "name": "python",
   "nbconvert_exporter": "python",
   "pygments_lexer": "ipython3",
   "version": "3.7.6"
  }
 },
 "nbformat": 4,
 "nbformat_minor": 4
}
