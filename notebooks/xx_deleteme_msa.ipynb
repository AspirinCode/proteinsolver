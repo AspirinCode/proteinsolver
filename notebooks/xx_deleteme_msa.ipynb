{
 "cells": [
  {
   "cell_type": "markdown",
   "metadata": {
    "tags": [
     "hide"
    ]
   },
   "source": [
    "## Summary\n",
    "\n",
    "---"
   ]
  },
  {
   "cell_type": "markdown",
   "metadata": {
    "tags": [
     "hide"
    ]
   },
   "source": [
    "## Imports"
   ]
  },
  {
   "cell_type": "code",
   "execution_count": null,
   "metadata": {},
   "outputs": [],
   "source": [
    "import codecs\n",
    "import gzip\n",
    "import io\n",
    "import subprocess\n",
    "import threading\n",
    "import time\n",
    "import uuid\n",
    "from enum import Enum\n",
    "from pathlib import Path\n",
    "\n",
    "import ipywidgets as widgets\n",
    "import numpy as np\n",
    "from IPython.display import HTML, Javascript, display\n",
    "from ipywidgets import Layout\n",
    "\n",
    "from kmbio import PDB"
   ]
  },
  {
   "cell_type": "markdown",
   "metadata": {
    "tags": [
     "hide"
    ]
   },
   "source": [
    "## Parameters"
   ]
  },
  {
   "cell_type": "code",
   "execution_count": null,
   "metadata": {},
   "outputs": [],
   "source": [
    "JUPYTER_DATA_DIR = Path(subprocess.check_output([\"jupyter\", \"--data-dir\"], universal_newlines=True).strip()).resolve(strict=True)"
   ]
  },
  {
   "cell_type": "code",
   "execution_count": null,
   "metadata": {
    "tags": [
     "hide"
    ]
   },
   "outputs": [],
   "source": [
    "JUPYTER_DATA_DIR"
   ]
  },
  {
   "cell_type": "code",
   "execution_count": null,
   "metadata": {},
   "outputs": [],
   "source": [
    "STATIC_DATA_DIR = JUPYTER_DATA_DIR.joinpath(\"voila\", \"templates\", \"mytemplate\", \"static\").resolve(strict=True)"
   ]
  },
  {
   "cell_type": "code",
   "execution_count": null,
   "metadata": {
    "tags": [
     "hide"
    ]
   },
   "outputs": [],
   "source": [
    "STATIC_DATA_DIR"
   ]
  },
  {
   "cell_type": "markdown",
   "metadata": {
    "tags": [
     "hide"
    ]
   },
   "source": [
    "## Global variables"
   ]
  },
  {
   "cell_type": "code",
   "execution_count": null,
   "metadata": {},
   "outputs": [],
   "source": [
    "reference_sequence = []\n",
    "target_sequence = []\n",
    "generated_sequences = []\n",
    "proteinsolver_thread = None"
   ]
  },
  {
   "cell_type": "markdown",
   "metadata": {
    "tags": [
     "hide"
    ]
   },
   "source": [
    "## Helper functions"
   ]
  },
  {
   "cell_type": "code",
   "execution_count": null,
   "metadata": {},
   "outputs": [],
   "source": [
    "AMINO_ACIDS = [\n",
    "    \"-\",\n",
    "    \"A\",\n",
    "    \"B\",\n",
    "    \"C\",\n",
    "    \"D\",\n",
    "    \"E\",\n",
    "    \"F\",\n",
    "    \"G\",\n",
    "    \"H\",\n",
    "    \"I\",\n",
    "    \"J\",\n",
    "    \"K\",\n",
    "    \"L\",\n",
    "    \"M\",\n",
    "    \"N\",\n",
    "    \"O\",\n",
    "    \"P\",\n",
    "    \"Q\",\n",
    "    \"R\",\n",
    "    \"S\",\n",
    "    \"T\",\n",
    "    \"U\",\n",
    "    \"V\",\n",
    "    \"W\",\n",
    "    \"X\",\n",
    "    \"Y\",\n",
    "    \"Z\",\n",
    "]"
   ]
  },
  {
   "cell_type": "code",
   "execution_count": null,
   "metadata": {},
   "outputs": [],
   "source": [
    "class ProteinSolverThread(threading.Thread):\n",
    "    def __init__(self, value, msa_view, progress_bar, download_button):\n",
    "        super().__init__(daemon=True)\n",
    "        self.value = value\n",
    "        self.msa_view = msa_view\n",
    "        self.msa_view.clear_output()\n",
    "        self.progress_bar = progress_bar\n",
    "        self.download_button = download_button\n",
    "        self._stop_event = threading.Event()\n",
    "\n",
    "    def run(self):\n",
    "        self.progress_bar.value = 0\n",
    "        self.progress_bar.bar_style = \"\"\n",
    "        for i in range(self.progress_bar.max):\n",
    "            if self.stopped():\n",
    "                self.progress_bar.bar_style = \"danger\"\n",
    "                return\n",
    "            time.sleep(1)\n",
    "            self.msa_view.append_stdout(self.value + \"\\n\")\n",
    "            self.progress_bar.value += 1\n",
    "        self.progress_bar.bar_style = \"success\"\n",
    "        enable_download_button(self.download_button)\n",
    "\n",
    "    def stop(self):\n",
    "        self._stop_event.set()\n",
    "\n",
    "    def stopped(self):\n",
    "        return self._stop_event.is_set()"
   ]
  },
  {
   "cell_type": "code",
   "execution_count": null,
   "metadata": {},
   "outputs": [],
   "source": [
    "def generate_random_sequence(length=80, seed=None):\n",
    "    amino_acids = np.array(list(\"GVALICMFWPDESTYQNKRH\"))\n",
    "    if seed is None:\n",
    "        choice = np.random.choice\n",
    "    else:\n",
    "        choice = np.random.RandomState(seed).choice\n",
    "    return \"\".join(choice(amino_acids, length))"
   ]
  },
  {
   "cell_type": "code",
   "execution_count": null,
   "metadata": {
    "tags": [
     "hide"
    ]
   },
   "outputs": [],
   "source": [
    "generate_random_sequence(80, 42)"
   ]
  },
  {
   "cell_type": "code",
   "execution_count": null,
   "metadata": {},
   "outputs": [],
   "source": [
    "def sequences_to_fasta(sequences, line_width=80):\n",
    "    sequence_string = \"\"\n",
    "    for sequence in sequences:\n",
    "        sequence_string += f\">{sequence['id']}|{sequence['name']}|{sequence['proba']}\\n\"\n",
    "        for start in range(0, len(sequence[\"seq\"]), line_width):\n",
    "            sequence_string += sequence[\"seq\"][start : start + line_width] + \"\\n\"\n",
    "    return sequence_string"
   ]
  },
  {
   "cell_type": "code",
   "execution_count": null,
   "metadata": {
    "tags": [
     "hide"
    ]
   },
   "outputs": [],
   "source": [
    "print(sequences_to_fasta([{\"id\": 1, \"name\": \"reference\", \"proba\": 1.0, \"seq\": generate_random_sequence(160, 42)}]))"
   ]
  },
  {
   "cell_type": "code",
   "execution_count": null,
   "metadata": {},
   "outputs": [],
   "source": [
    "def populate_generated_sequences():\n",
    "    global generated_sequences\n",
    "    \n",
    "    sequences = []\n",
    "    for i in range(20_000):\n",
    "        sequence = {\"id\": i + 1, \"name\": f\"gen-{i:05d}\", \"proba\": 1.0, \"seq\": generate_random_sequence(162)}\n",
    "        sequences.append(sequence)"
   ]
  },
  {
   "cell_type": "code",
   "execution_count": null,
   "metadata": {},
   "outputs": [],
   "source": [
    "populate_generated_sequences()"
   ]
  },
  {
   "cell_type": "code",
   "execution_count": null,
   "metadata": {},
   "outputs": [],
   "source": [
    "def save_sequences():\n",
    "    sequences = [\n",
    "        {\"id\": 1, \"name\": \"reference\", \"proba\": None, \"seq\": \"\".join(reference_sequence)},\n",
    "        {\"id\": 2, \"name\": \"target\", \"proba\": None, \"seq\": \"\".join(target_sequence)},\n",
    "        *generated_sequences,\n",
    "    ]\n",
    "    sequences_fasta = sequences_to_fasta(sequences)\n",
    "    sequences_fasta_gz = gzip.compress(sequences_fasta.encode(\"utf-8\"))\n",
    "\n",
    "    output_file = STATIC_DATA_DIR.joinpath(f\"{uuid.uuid4()}.fasta.gz\")\n",
    "    with output_file.open(\"wb\") as fout:\n",
    "        fout.write(sequences_fasta_gz)\n",
    "\n",
    "    return output_file"
   ]
  },
  {
   "cell_type": "code",
   "execution_count": null,
   "metadata": {},
   "outputs": [],
   "source": []
  },
  {
   "cell_type": "code",
   "execution_count": null,
   "metadata": {},
   "outputs": [],
   "source": [
    "out = widgets.Output()"
   ]
  },
  {
   "cell_type": "code",
   "execution_count": null,
   "metadata": {},
   "outputs": [],
   "source": [
    "out"
   ]
  },
  {
   "cell_type": "code",
   "execution_count": null,
   "metadata": {},
   "outputs": [],
   "source": [
    "structure = None\n",
    "\n",
    "\n",
    "def handle_upload(change):\n",
    "    with out:\n",
    "        # keep only the last file\n",
    "        # TODO: check if this should be fixed in FileUpload widget\n",
    "        # when multiple=False\n",
    "        last_item = list(change[\"new\"].values())[-1]\n",
    "\n",
    "        filename = last_item[\"metadata\"][\"name\"]\n",
    "        structure_id = filename.split(\".\")[0]\n",
    "        suffix = filename.split(\".\")[-1]\n",
    "\n",
    "        data = codecs.decode(last_item[\"content\"], encoding=\"utf-8\")\n",
    "        buf = io.StringIO()\n",
    "        buf.write(data)\n",
    "        buf.seek(0)\n",
    "        parser = PDB.get_parser(suffix)\n",
    "        structure = parser.get_structure(buf, structure_id=structure_id)\n",
    "\n",
    "\n",
    "uploader = widgets.FileUpload(accept=\".pdb,.cif,.mmcif\", multiple=False)\n",
    "uploader.observe(handle_upload, names=\"value\")"
   ]
  },
  {
   "cell_type": "code",
   "execution_count": null,
   "metadata": {},
   "outputs": [],
   "source": [
    "uploader"
   ]
  },
  {
   "cell_type": "code",
   "execution_count": null,
   "metadata": {},
   "outputs": [],
   "source": [
    "show_uploader()"
   ]
  },
  {
   "cell_type": "code",
   "execution_count": null,
   "metadata": {},
   "outputs": [],
   "source": []
  },
  {
   "cell_type": "code",
   "execution_count": null,
   "metadata": {},
   "outputs": [],
   "source": []
  },
  {
   "cell_type": "code",
   "execution_count": null,
   "metadata": {},
   "outputs": [],
   "source": [
    "def show_examples():\n",
    "    example_folder = \"./examples\"\n",
    "    examples = [f for f in os.listdir(example_folder) if f.endswith('.gpx')]\n",
    "    \n",
    "    def create_example(name):\n",
    "        filename = os.path.join(example_folder, name)\n",
    "        \n",
    "        @out.capture()\n",
    "        def on_example_clicked(change):\n",
    "            out.clear_output()\n",
    "            with open(filename) as f:\n",
    "                with out:\n",
    "                    plot_gpx(f)\n",
    "    \n",
    "        button = Button(description=os.path.splitext(name)[0])\n",
    "        button.on_click(on_example_clicked)\n",
    "        return button\n",
    "\n",
    "    \n",
    "    buttons = [create_example(example) for example in examples]\n",
    "    line = HBox(buttons, layout=Layout(flex_flow='row', align_items='center'))\n",
    "    display(line)"
   ]
  },
  {
   "cell_type": "code",
   "execution_count": null,
   "metadata": {},
   "outputs": [],
   "source": []
  },
  {
   "cell_type": "code",
   "execution_count": null,
   "metadata": {},
   "outputs": [],
   "source": [
    "reference_sequence = list(generate_random_sequence(120))\n",
    "target_sequence = [\"-\"] * len(reference_sequence)"
   ]
  },
  {
   "cell_type": "markdown",
   "metadata": {
    "tags": [
     "hide"
    ]
   },
   "source": [
    "## CSS"
   ]
  },
  {
   "cell_type": "code",
   "execution_count": null,
   "metadata": {},
   "outputs": [],
   "source": [
    "%%html\n",
    "<style>\n",
    ".myheading {\n",
    "    font-size: large;\n",
    "    margin-bottom: 1rem\n",
    "}\n",
    "\n",
    ".mytext > .widget-label {\n",
    "    font-family: monospace;\n",
    "    font-size: small;\n",
    "    width: 60px;\n",
    "}\n",
    "\n",
    ".mysequence > .widget-label {\n",
    "    line-height: 1rem;\n",
    "}\n",
    "</style>"
   ]
  },
  {
   "cell_type": "markdown",
   "metadata": {
    "tags": [
     "hide"
    ]
   },
   "source": [
    "## Widgets"
   ]
  },
  {
   "cell_type": "markdown",
   "metadata": {
    "tags": [
     "hide"
    ]
   },
   "source": [
    "### Target sequence preference"
   ]
  },
  {
   "cell_type": "code",
   "execution_count": null,
   "metadata": {},
   "outputs": [],
   "source": [
    "reference_sequence_ta = widgets.Textarea(\n",
    "    value=\"\".join(reference_sequence),\n",
    "    placeholder=\"AAAAA...\",\n",
    "    description=\"<em>Reference</em><br>sequence:\",\n",
    "    disabled=True,\n",
    "    layout=widgets.Layout(width=\"auto\"),\n",
    ")\n",
    "_ = reference_sequence_ta.add_class(\"mysequence\")"
   ]
  },
  {
   "cell_type": "code",
   "execution_count": null,
   "metadata": {},
   "outputs": [],
   "source": [
    "target_sequence_ta = widgets.Textarea(\n",
    "    value=\"\".join(target_sequence),\n",
    "    placeholder=\"AAAAA...\",\n",
    "    description=\"<em>Target</em><br>sequence:\",\n",
    "    disabled=True,\n",
    "    layout=widgets.Layout(width=\"auto\"),\n",
    ")\n",
    "_ = target_sequence_ta.add_class(\"mysequence\")"
   ]
  },
  {
   "cell_type": "code",
   "execution_count": null,
   "metadata": {},
   "outputs": [],
   "source": [
    "def update_target_sequence(change):\n",
    "    residue_idx = int(change[\"owner\"].description.split(\" \")[0])\n",
    "    target_sequence[residue_idx] = change[\"new\"]\n",
    "    target_sequence_ta.value = \"\".join(target_sequence)\n",
    "\n",
    "\n",
    "target_sequence_selections = [\n",
    "    widgets.Dropdown(\n",
    "        options=AMINO_ACIDS,\n",
    "        value=aa_target,\n",
    "        description=f\"{i} ({aa_ref})\",\n",
    "#                 style={},\n",
    "        layout=widgets.Layout(width=\"120px\"),\n",
    "        style={\"font_family\": \"monospace\", \"font_weight\": \"bold\"},\n",
    "    )\n",
    "    for i, (aa_ref, aa_target) in enumerate(zip(reference_sequence, target_sequence))\n",
    "]\n",
    "for button in target_sequence_selections:\n",
    "    button.observe(update_target_sequence, names=\"value\")\n",
    "    button.add_class(\"mytext\")"
   ]
  },
  {
   "cell_type": "code",
   "execution_count": null,
   "metadata": {},
   "outputs": [],
   "source": [
    "target_sequence_selection_box = widgets.HBox(\n",
    "    target_sequence_selections,\n",
    "    layout=widgets.Layout(width=\"100%\", flex_direction=\"row\", flex_wrap=\"wrap\", flex_flow=\"row wrap\"),\n",
    ")"
   ]
  },
  {
   "cell_type": "code",
   "execution_count": null,
   "metadata": {
    "tags": [
     "hide"
    ]
   },
   "outputs": [],
   "source": [
    "widgets.VBox(\n",
    "    [\n",
    "        target_sequence_selection_box,\n",
    "        widgets.VBox([reference_sequence_ta, target_sequence_ta], layout=widgets.Layout(margin=\"20px 0px 0px 0px\")),\n",
    "    ]\n",
    ")"
   ]
  },
  {
   "cell_type": "markdown",
   "metadata": {
    "tags": [
     "hide"
    ]
   },
   "source": [
    "### MSA view"
   ]
  },
  {
   "cell_type": "code",
   "execution_count": null,
   "metadata": {},
   "outputs": [],
   "source": [
    "progress_bar = widgets.IntProgress(\n",
    "    value=0,\n",
    "    min=0,\n",
    "    max=100,\n",
    "    step=1,\n",
    "    bar_style=\"\",  # 'success', 'info', 'warning', 'danger' or ''\n",
    "    orientation=\"horizontal\",\n",
    "    layout=widgets.Layout(width=\"auto\", height=\"10px\"),\n",
    ")"
   ]
  },
  {
   "cell_type": "code",
   "execution_count": null,
   "metadata": {},
   "outputs": [],
   "source": [
    "msa_alignment_view = widgets.Output(layout=Layout(width=\"auto\"))"
   ]
  },
  {
   "cell_type": "code",
   "execution_count": null,
   "metadata": {
    "tags": [
     "hide"
    ]
   },
   "outputs": [],
   "source": [
    "widgets.VBox([progress_bar, msa_alignment_view])"
   ]
  },
  {
   "cell_type": "markdown",
   "metadata": {
    "tags": [
     "hide"
    ]
   },
   "source": [
    "### Run ProteinSolver"
   ]
  },
  {
   "cell_type": "code",
   "execution_count": null,
   "metadata": {},
   "outputs": [],
   "source": [
    "number_of_sequences_input = widgets.BoundedIntText(\n",
    "    value=100,\n",
    "    min=1,\n",
    "    max=20_000,\n",
    "    step=1,\n",
    "    description=\"Number of sequences:\",\n",
    "    disabled=False,\n",
    "    style={\"description_width\": \"initial\"},\n",
    "    layout=widgets.Layout(width=\"200px\"),\n",
    ")"
   ]
  },
  {
   "cell_type": "code",
   "execution_count": null,
   "metadata": {},
   "outputs": [],
   "source": [
    "class State(Enum):\n",
    "    GENERATE: str = \"Run ProteinSolver!\"\n",
    "    CANCEL: str = \"Cancel\"\n",
    "\n",
    "\n",
    "button_meta = {\n",
    "    State.GENERATE: {\"icon\": \"check\", \"button_style\": \"\", \"tooltip\": \"Generate new sequences!\"},\n",
    "    State.CANCEL: {\"icon\": \"ban\", \"button_style\": \"danger\", \"tooltip\": \"Cancel!\"},\n",
    "}\n",
    "\n",
    "\n",
    "def disable_download_button(b):\n",
    "    b.description = State.CANCEL.value\n",
    "    b.icon = button_meta[State.CANCEL][\"icon\"]\n",
    "    b.button_style = button_meta[State.CANCEL][\"button_style\"]\n",
    "    b.tooltip = button_meta[State.CANCEL][\"tooltip\"]\n",
    "\n",
    "    # Change value before changing max to prevent jitter in progress bar\n",
    "    progress_bar.value = 0\n",
    "    progress_bar.max = number_of_sequences_input.value\n",
    "    number_of_sequences_input.disabled = True\n",
    "\n",
    "\n",
    "def enable_download_button(b):\n",
    "    b.description = State.GENERATE.value\n",
    "    b.icon = button_meta[State.GENERATE][\"icon\"]\n",
    "    b.button_style = button_meta[State.GENERATE][\"button_style\"]\n",
    "    b.tooltip = button_meta[State.GENERATE][\"tooltip\"]\n",
    "\n",
    "    number_of_sequences_input.disabled = False\n",
    "\n",
    "def on_button_clicked(b):\n",
    "    global proteinsolver_thread\n",
    "\n",
    "    if b.description == State.GENERATE.value:\n",
    "        disable_download_button(b)\n",
    "\n",
    "        if proteinsolver_thread is not None and not proteinsolver_thread.stopped():\n",
    "            proteinsolver_thread.stop()\n",
    "        proteinsolver_thread = ProteinSolverThread(\"hello world\", msa_alignment_view, progress_bar, b)\n",
    "        proteinsolver_thread.start()\n",
    "    elif b.description == State.CANCEL.value:\n",
    "        enable_download_button(b)\n",
    "\n",
    "        proteinsolver_thread.stop()\n",
    "    else:\n",
    "        raise Exception\n",
    "\n",
    "\n",
    "run_proteinsolver_button = widgets.Button(\n",
    "    description=State.GENERATE.value,\n",
    "    icon=button_meta[State.GENERATE][\"icon\"],\n",
    "    button_style=button_meta[State.GENERATE][\"button_style\"],  # 'success', 'info', 'warning', 'danger' or ''\n",
    "    tooltip=button_meta[State.GENERATE][\"tooltip\"],\n",
    "    disabled=False,\n",
    "    layout=widgets.Layout(width=\"200px\"),\n",
    ")\n",
    "run_proteinsolver_button.on_click(on_button_clicked)"
   ]
  },
  {
   "cell_type": "code",
   "execution_count": null,
   "metadata": {
    "tags": [
     "hide"
    ]
   },
   "outputs": [],
   "source": [
    "widgets.VBox([number_of_sequences_input, run_proteinsolver_button])"
   ]
  },
  {
   "cell_type": "markdown",
   "metadata": {
    "tags": [
     "hide"
    ]
   },
   "source": [
    "### Generate download link"
   ]
  },
  {
   "cell_type": "code",
   "execution_count": null,
   "metadata": {},
   "outputs": [],
   "source": [
    "generate_download_link_output = widgets.Output(layout=widgets.Layout(width=\"200px\"))"
   ]
  },
  {
   "cell_type": "code",
   "execution_count": null,
   "metadata": {},
   "outputs": [],
   "source": [
    "def generate_download_link(b):\n",
    "    b.description = \"Generating...\"\n",
    "    b.icon = \"running\"\n",
    "    b.button_style = \"info\"  # 'success', 'info', 'warning', 'danger' or ''\n",
    "    b.disabled = True\n",
    "\n",
    "    generate_download_link_output.clear_output()\n",
    "    output_file = save_sequences()\n",
    "    with generate_download_link_output:\n",
    "        display(\n",
    "            HTML(\n",
    "                f'<a href=\"./voila/static/{output_file.name}\" download={output_file.stem[:8]}{output_file.suffix}><i class=\"fa fa-download\"></i> Download sequences</a>'\n",
    "            )\n",
    "        )\n",
    "\n",
    "    b.description = \"Update download link\"\n",
    "    b.icon = \"\"  # check\n",
    "    b.button_style = \"success\"\n",
    "    b.disabled = False\n",
    "\n",
    "\n",
    "generate_download_link_button = widgets.Button(\n",
    "    description=\"Generate download link\",\n",
    "    tooltip=\"Generate download link\",\n",
    "    button_style=\"success\",\n",
    "    disabled=False,\n",
    "    layout=widgets.Layout(width=\"200px\"),\n",
    ")\n",
    "\n",
    "generate_download_link_button.on_click(generate_download_link)"
   ]
  },
  {
   "cell_type": "code",
   "execution_count": null,
   "metadata": {
    "tags": [
     "hide"
    ]
   },
   "outputs": [],
   "source": [
    "widgets.VBox([generate_download_link_button, generate_download_link_output])"
   ]
  },
  {
   "cell_type": "markdown",
   "metadata": {
    "tags": [
     "hide"
    ]
   },
   "source": [
    "## Final dashboard"
   ]
  },
  {
   "cell_type": "code",
   "execution_count": null,
   "metadata": {},
   "outputs": [],
   "source": [
    "section1_heading = \"\"\"\n",
    "<p class=myheading>\n",
    "1. Load a reference protein structure, or use one of the provided examples.\n",
    "</p>\n",
    "\"\"\"\n",
    "\n",
    "display(HTML(section1_heading))"
   ]
  },
  {
   "cell_type": "code",
   "execution_count": null,
   "metadata": {},
   "outputs": [],
   "source": [
    "display(\n",
    "    HTML(\n",
    "        \"\"\"\n",
    "<p class=\"myheading\">\n",
    "2. (Optional) Specify target amino acids at specific positions (or enter '-' to leave the position open for design).\n",
    "</p>\n",
    "\"\"\"\n",
    "    )\n",
    ")\n",
    "display(\n",
    "    widgets.VBox(\n",
    "        [\n",
    "            target_sequence_selection_box,\n",
    "            widgets.VBox([reference_sequence_ta, target_sequence_ta], layout=widgets.Layout(margin=\"20px 0px 0px 0px\")),\n",
    "        ]\n",
    "    )\n",
    ")"
   ]
  },
  {
   "cell_type": "code",
   "execution_count": null,
   "metadata": {},
   "outputs": [],
   "source": [
    "display(\n",
    "    HTML(\n",
    "        \"\"\"\n",
    "<p class=\"myheading\">\n",
    "3. Run ProteinSolver to generate new designs.\n",
    "</p>\n",
    "\"\"\"\n",
    "    )\n",
    ")\n",
    "display(\n",
    "    widgets.HBox(\n",
    "        [\n",
    "            widgets.VBox(\n",
    "                [\n",
    "                    widgets.VBox([number_of_sequences_input, run_proteinsolver_button]),\n",
    "                    widgets.VBox(\n",
    "                        [generate_download_link_button, generate_download_link_output],\n",
    "                        layout=Layout(margin=\"30px 0px 0px 0px\"),\n",
    "                    ),\n",
    "                ],\n",
    "                layout=Layout(width=\"230px\", flex=\"0 0 auto\"),\n",
    "            ),\n",
    "            widgets.VBox([progress_bar, msa_alignment_view], layout=Layout(align_items=\"stretch\", flex=\"1 1 auto\")),\n",
    "        ],\n",
    "        layout=Layout(align_items=\"stretch\", flex=\"flex-grow\"),\n",
    "    )\n",
    ")"
   ]
  },
  {
   "cell_type": "code",
   "execution_count": null,
   "metadata": {},
   "outputs": [],
   "source": []
  }
 ],
 "metadata": {
  "kernelspec": {
   "display_name": "Python 3",
   "language": "python",
   "name": "python3"
  },
  "language_info": {
   "codemirror_mode": {
    "name": "ipython",
    "version": 3
   },
   "file_extension": ".py",
   "mimetype": "text/x-python",
   "name": "python",
   "nbconvert_exporter": "python",
   "pygments_lexer": "ipython3",
   "version": "3.7.6"
  }
 },
 "nbformat": 4,
 "nbformat_minor": 4
}
