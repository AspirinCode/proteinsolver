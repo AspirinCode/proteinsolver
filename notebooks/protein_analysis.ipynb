{
 "cells": [
  {
   "cell_type": "markdown",
   "metadata": {
    "colab_type": "text",
    "id": "t_gnhLD0HvhU",
    "toc-hr-collapsed": true
   },
   "source": [
    "# Installation"
   ]
  },
  {
   "cell_type": "markdown",
   "metadata": {
    "colab_type": "text",
    "id": "eoBMUoW2Hvhp",
    "toc-hr-collapsed": true
   },
   "source": [
    "# Imports"
   ]
  },
  {
   "cell_type": "code",
   "execution_count": 61,
   "metadata": {
    "colab": {},
    "colab_type": "code",
    "id": "TbKxMUZWHvhq"
   },
   "outputs": [],
   "source": [
    "import atexit\n",
    "import csv\n",
    "import tempfile\n",
    "import time\n",
    "import warnings\n",
    "from collections import deque\n",
    "from contextlib import contextmanager\n",
    "from pathlib import Path\n",
    "\n",
    "import matplotlib as mpl\n",
    "import matplotlib.cm as cm\n",
    "import matplotlib.pyplot as plt\n",
    "import numpy as np\n",
    "import pandas as pd\n",
    "import pyarrow\n",
    "import pyarrow.parquet as pq\n",
    "import seaborn as sns\n",
    "import torch\n",
    "import torch.nn as nn\n",
    "import torch.nn.functional as F\n",
    "import tqdm\n",
    "from scipy import stats\n",
    "from torch import optim\n",
    "from torch.utils.data import DataLoader\n",
    "from torch_geometric.data import DataLoader\n",
    "from torch_geometric.nn import ChebConv, EdgeConv, GATConv, GCNConv\n",
    "from torch_geometric.nn.inits import reset\n",
    "from torch_geometric.utils import add_self_loops, remove_self_loops, scatter_"
   ]
  },
  {
   "cell_type": "code",
   "execution_count": 16,
   "metadata": {
    "colab": {
     "base_uri": "https://localhost:8080/",
     "height": 334
    },
    "colab_type": "code",
    "id": "rczy7pPiHvhs",
    "outputId": "8e4673d7-4cc7-4f8e-ffc4-de94302e5fab"
   },
   "outputs": [],
   "source": [
    "import proteinsolver\n",
    "import proteinsolver.datasets"
   ]
  },
  {
   "cell_type": "code",
   "execution_count": 17,
   "metadata": {
    "colab": {},
    "colab_type": "code",
    "id": "4fFnAyUOHvhv"
   },
   "outputs": [
    {
     "name": "stdout",
     "output_type": "stream",
     "text": [
      "The autoreload extension is already loaded. To reload it, use:\n",
      "  %reload_ext autoreload\n"
     ]
    }
   ],
   "source": [
    "%load_ext autoreload\n",
    "%autoreload 2"
   ]
  },
  {
   "cell_type": "code",
   "execution_count": 18,
   "metadata": {},
   "outputs": [],
   "source": [
    "%matplotlib inline\n",
    "\n",
    "try:\n",
    "    inline_rc\n",
    "except NameError:\n",
    "    inline_rc = mpl.rcParams.copy()\n",
    "    \n",
    "mpl.rcParams.update({\"font.size\": 12})"
   ]
  },
  {
   "cell_type": "markdown",
   "metadata": {},
   "source": [
    "# Properties"
   ]
  },
  {
   "cell_type": "code",
   "execution_count": 184,
   "metadata": {},
   "outputs": [],
   "source": [
    "UNIQUE_ID = \"oldxxx\""
   ]
  },
  {
   "cell_type": "code",
   "execution_count": 19,
   "metadata": {},
   "outputs": [],
   "source": [
    "NOTEBOOK_NAME = \"protein_analysis\""
   ]
  },
  {
   "cell_type": "code",
   "execution_count": 20,
   "metadata": {},
   "outputs": [
    {
     "data": {
      "text/plain": [
       "PosixPath('/home/kimlab1/strokach/workspace/proteinsolver/notebooks/protein_analysis')"
      ]
     },
     "execution_count": 20,
     "metadata": {},
     "output_type": "execute_result"
    }
   ],
   "source": [
    "NOTEBOOK_PATH = Path(NOTEBOOK_NAME).resolve()\n",
    "NOTEBOOK_PATH.mkdir(exist_ok=True)\n",
    "NOTEBOOK_PATH"
   ]
  },
  {
   "cell_type": "markdown",
   "metadata": {
    "colab_type": "text",
    "id": "dsEY3dtLHvhy",
    "toc-hr-collapsed": true
   },
   "source": [
    "# Datasets"
   ]
  },
  {
   "cell_type": "code",
   "execution_count": 21,
   "metadata": {},
   "outputs": [
    {
     "data": {
      "text/plain": [
       "PosixPath('/home/strokach/ml_data')"
      ]
     },
     "execution_count": 21,
     "metadata": {},
     "output_type": "execute_result"
    }
   ],
   "source": [
    "DATA_ROOT = Path(tempfile.gettempdir())\n",
    "DATA_ROOT = Path(\"/home/strokach/ml_data\")\n",
    "DATA_ROOT.mkdir(exist_ok=True)\n",
    "DATA_ROOT"
   ]
  },
  {
   "cell_type": "markdown",
   "metadata": {},
   "source": [
    "## Protein"
   ]
  },
  {
   "cell_type": "code",
   "execution_count": 22,
   "metadata": {},
   "outputs": [],
   "source": [
    "protein_dataset_train_0 = proteinsolver.datasets.ProteinDataset(root=DATA_ROOT / \"protein_train_0\", subset=\"train_0\")"
   ]
  },
  {
   "cell_type": "code",
   "execution_count": 23,
   "metadata": {},
   "outputs": [],
   "source": [
    "protein_dataset_train_1 = proteinsolver.datasets.ProteinDataset(root=DATA_ROOT / \"protein_train_1\", subset=\"train_1\")"
   ]
  },
  {
   "cell_type": "code",
   "execution_count": 24,
   "metadata": {},
   "outputs": [],
   "source": [
    "# protein_dataset_train_2 = proteinsolver.datasets.ProteinDataset(root=DATA_ROOT / \"protein_train_2\", subset=\"train_2\")"
   ]
  },
  {
   "cell_type": "code",
   "execution_count": 25,
   "metadata": {},
   "outputs": [],
   "source": [
    "protein_dataset_valid = proteinsolver.datasets.ProteinInMemoryDataset(root=DATA_ROOT / \"protein_valid\", subset=\"valid\")"
   ]
  },
  {
   "cell_type": "code",
   "execution_count": 26,
   "metadata": {},
   "outputs": [],
   "source": [
    "protein_dataset_test = proteinsolver.datasets.ProteinInMemoryDataset(root=DATA_ROOT / \"protein_test\", subset=\"test\")"
   ]
  },
  {
   "cell_type": "code",
   "execution_count": 27,
   "metadata": {},
   "outputs": [],
   "source": [
    "file = \"/home/kimlab1/database_data/datapkg_output_dir/adjacency-net-v2/master/validation_dataset_wdistances/adjacency_matrix.parquet/database_id=G3DSA%3A2.40.155.10/part-00000-d5e89475-69dd-45c6-9a80-5bf751fce422-c000.snappy.parquet\"\n",
    "protein_dataset_gfp = proteinsolver.datasets.ProteinInMemoryDataset(root=DATA_ROOT / \"protein_gfp\", subset=\"gfp\", data_url=file)"
   ]
  },
  {
   "cell_type": "markdown",
   "metadata": {},
   "source": [
    "## Protherm"
   ]
  },
  {
   "cell_type": "code",
   "execution_count": 28,
   "metadata": {},
   "outputs": [],
   "source": [
    "file = \"/home/kimlab1/database_data/datapkg_output_dir/adjacency-net-v2/master/protherm_dataset/protherm_validaton_dataset.parquet\"\n",
    "extra_columns = [\"qseq\", \"residue_idx_1_corrected\", \"residue_idx_2_corrected\", \"distances\"]\n",
    "extra_column_renames = {\n",
    "    \"qseq\": \"sequence\",\n",
    "    \"residue_idx_1_corrected\": \"row_index\",\n",
    "    \"residue_idx_2_corrected\": \"col_index\",\n",
    "}\n",
    "protherm_dataset = proteinsolver.datasets.ProteinInMemoryDataset(\n",
    "    root=DATA_ROOT / \"protherm\",\n",
    "    subset=\"\",\n",
    "    data_url=file,\n",
    "    extra_columns=extra_columns,\n",
    "    extra_column_renames=extra_column_renames,\n",
    ")\n",
    "protherm_df = pq.read_table(file).to_pandas()"
   ]
  },
  {
   "cell_type": "code",
   "execution_count": 29,
   "metadata": {},
   "outputs": [
    {
     "data": {
      "text/plain": [
       "Data(Index=[1], edge_attr=[7356, 2], edge_index=[2, 7356], x=[162])"
      ]
     },
     "execution_count": 29,
     "metadata": {},
     "output_type": "execute_result"
    }
   ],
   "source": [
    "protherm_dataset[0]"
   ]
  },
  {
   "cell_type": "code",
   "execution_count": 30,
   "metadata": {},
   "outputs": [
    {
     "data": {
      "text/html": [
       "<div>\n",
       "<style scoped>\n",
       "    .dataframe tbody tr th:only-of-type {\n",
       "        vertical-align: middle;\n",
       "    }\n",
       "\n",
       "    .dataframe tbody tr th {\n",
       "        vertical-align: top;\n",
       "    }\n",
       "\n",
       "    .dataframe thead th {\n",
       "        text-align: right;\n",
       "    }\n",
       "</style>\n",
       "<table border=\"1\" class=\"dataframe\">\n",
       "  <thead>\n",
       "    <tr style=\"text-align: right;\">\n",
       "      <th></th>\n",
       "      <th>filename_wt</th>\n",
       "      <th>chain_id</th>\n",
       "      <th>mutation</th>\n",
       "      <th>cartesian_ddg_beta_nov15_cart_1</th>\n",
       "      <th>ddg_exp</th>\n",
       "      <th>cartesian_ddg_beta_nov16_cart_1</th>\n",
       "      <th>cartesian_ddg_score12_cart_1</th>\n",
       "      <th>cartesian_ddg_talaris2013_cart_1</th>\n",
       "      <th>cartesian_ddg_talaris2014_cart_1</th>\n",
       "      <th>ddg_monomer_soft_rep_design_1</th>\n",
       "      <th>local_filename_wt</th>\n",
       "      <th>structure_id</th>\n",
       "      <th>model_id</th>\n",
       "      <th>qseq</th>\n",
       "      <th>residue_idx_1_corrected</th>\n",
       "      <th>residue_idx_2_corrected</th>\n",
       "      <th>distances</th>\n",
       "      <th>mutation_matches_sequence</th>\n",
       "      <th>qseq_mutation</th>\n",
       "    </tr>\n",
       "  </thead>\n",
       "  <tbody>\n",
       "    <tr>\n",
       "      <td>0</td>\n",
       "      <td>/home/kimlab2/database_data/biological-data-wa...</td>\n",
       "      <td>A</td>\n",
       "      <td>G44S</td>\n",
       "      <td>-1.808667</td>\n",
       "      <td>-0.53</td>\n",
       "      <td>-0.701</td>\n",
       "      <td>0.088</td>\n",
       "      <td>-0.289667</td>\n",
       "      <td>-0.633667</td>\n",
       "      <td>-2.384</td>\n",
       "      <td>/home/kimlab1/database_data/datapkg/adjacency-...</td>\n",
       "      <td>107l</td>\n",
       "      <td>0</td>\n",
       "      <td>MNIFEMLRIDEGLRLKIYKDTEGYYTIGIGHLLTKSPSLNAAKGEL...</td>\n",
       "      <td>[0, 0, 0, 0, 0, 0, 0, 0, 0, 0, 0, 0, 0, 0, 0, ...</td>\n",
       "      <td>[1, 2, 3, 4, 5, 6, 7, 8, 9, 10, 11, 66, 70, 91...</td>\n",
       "      <td>[1.3463744749991646, 4.7287436401778065, 6.389...</td>\n",
       "      <td>True</td>\n",
       "      <td>MNIFEMLRIDEGLRLKIYKDTEGYYTIGIGHLLTKSPSLNAAKSEL...</td>\n",
       "    </tr>\n",
       "    <tr>\n",
       "      <td>1</td>\n",
       "      <td>/home/kimlab2/database_data/biological-data-wa...</td>\n",
       "      <td>A</td>\n",
       "      <td>A120M</td>\n",
       "      <td>2.617667</td>\n",
       "      <td>-0.20</td>\n",
       "      <td>0.354</td>\n",
       "      <td>0.560</td>\n",
       "      <td>-0.069000</td>\n",
       "      <td>-0.188000</td>\n",
       "      <td>2.472</td>\n",
       "      <td>/home/kimlab1/database_data/datapkg/adjacency-...</td>\n",
       "      <td>160l</td>\n",
       "      <td>0</td>\n",
       "      <td>MNIFEMLRIDEGLRLKIYKDTEGYYTIGIGHLLTKSPSLNAAKSEL...</td>\n",
       "      <td>[0, 0, 0, 0, 0, 0, 0, 0, 0, 0, 0, 0, 0, 0, 0, ...</td>\n",
       "      <td>[1, 2, 3, 4, 5, 6, 7, 8, 9, 10, 66, 70, 91, 92...</td>\n",
       "      <td>[1.345760255620924, 4.727237880524551, 6.42311...</td>\n",
       "      <td>True</td>\n",
       "      <td>MNIFEMLRIDEGLRLKIYKDTEGYYTIGIGHLLTKSPSLNAAKSEL...</td>\n",
       "    </tr>\n",
       "  </tbody>\n",
       "</table>\n",
       "</div>"
      ],
      "text/plain": [
       "                                         filename_wt chain_id mutation  \\\n",
       "0  /home/kimlab2/database_data/biological-data-wa...        A     G44S   \n",
       "1  /home/kimlab2/database_data/biological-data-wa...        A    A120M   \n",
       "\n",
       "   cartesian_ddg_beta_nov15_cart_1  ddg_exp  cartesian_ddg_beta_nov16_cart_1  \\\n",
       "0                        -1.808667    -0.53                           -0.701   \n",
       "1                         2.617667    -0.20                            0.354   \n",
       "\n",
       "   cartesian_ddg_score12_cart_1  cartesian_ddg_talaris2013_cart_1  \\\n",
       "0                         0.088                         -0.289667   \n",
       "1                         0.560                         -0.069000   \n",
       "\n",
       "   cartesian_ddg_talaris2014_cart_1  ddg_monomer_soft_rep_design_1  \\\n",
       "0                         -0.633667                         -2.384   \n",
       "1                         -0.188000                          2.472   \n",
       "\n",
       "                                   local_filename_wt structure_id  model_id  \\\n",
       "0  /home/kimlab1/database_data/datapkg/adjacency-...         107l         0   \n",
       "1  /home/kimlab1/database_data/datapkg/adjacency-...         160l         0   \n",
       "\n",
       "                                                qseq  \\\n",
       "0  MNIFEMLRIDEGLRLKIYKDTEGYYTIGIGHLLTKSPSLNAAKGEL...   \n",
       "1  MNIFEMLRIDEGLRLKIYKDTEGYYTIGIGHLLTKSPSLNAAKSEL...   \n",
       "\n",
       "                             residue_idx_1_corrected  \\\n",
       "0  [0, 0, 0, 0, 0, 0, 0, 0, 0, 0, 0, 0, 0, 0, 0, ...   \n",
       "1  [0, 0, 0, 0, 0, 0, 0, 0, 0, 0, 0, 0, 0, 0, 0, ...   \n",
       "\n",
       "                             residue_idx_2_corrected  \\\n",
       "0  [1, 2, 3, 4, 5, 6, 7, 8, 9, 10, 11, 66, 70, 91...   \n",
       "1  [1, 2, 3, 4, 5, 6, 7, 8, 9, 10, 66, 70, 91, 92...   \n",
       "\n",
       "                                           distances  \\\n",
       "0  [1.3463744749991646, 4.7287436401778065, 6.389...   \n",
       "1  [1.345760255620924, 4.727237880524551, 6.42311...   \n",
       "\n",
       "   mutation_matches_sequence  \\\n",
       "0                       True   \n",
       "1                       True   \n",
       "\n",
       "                                       qseq_mutation  \n",
       "0  MNIFEMLRIDEGLRLKIYKDTEGYYTIGIGHLLTKSPSLNAAKSEL...  \n",
       "1  MNIFEMLRIDEGLRLKIYKDTEGYYTIGIGHLLTKSPSLNAAKSEL...  "
      ]
     },
     "execution_count": 30,
     "metadata": {},
     "output_type": "execute_result"
    }
   ],
   "source": [
    "protherm_df.head(2)"
   ]
  },
  {
   "cell_type": "markdown",
   "metadata": {},
   "source": [
    "## Sudoku"
   ]
  },
  {
   "cell_type": "code",
   "execution_count": 31,
   "metadata": {
    "colab": {},
    "colab_type": "code",
    "id": "ZP3bLDO9PgT9"
   },
   "outputs": [],
   "source": [
    "# sudoku_dataset_train = proteinsolver.datasets.SudokuDataset2(root=DATA_ROOT.joinpath(\"sudoku_train\"), subset=\"train\")"
   ]
  },
  {
   "cell_type": "code",
   "execution_count": 32,
   "metadata": {},
   "outputs": [],
   "source": [
    "# sudoku_dataset_valid = proteinsolver.datasets.SudokuDataset2(root=DATA_ROOT.joinpath(\"sudoku_valid\"), subset=\"valid\")"
   ]
  },
  {
   "cell_type": "markdown",
   "metadata": {
    "colab_type": "text",
    "id": "e3kWuRaxr89h"
   },
   "source": [
    "# Models"
   ]
  },
  {
   "cell_type": "code",
   "execution_count": 33,
   "metadata": {
    "colab": {},
    "colab_type": "code",
    "id": "72WWaQOXJDdr"
   },
   "outputs": [],
   "source": [
    "class EdgeConvMod(torch.nn.Module):\n",
    "    def __init__(self, nn, aggr=\"max\"):\n",
    "        super().__init__()\n",
    "        self.nn = nn\n",
    "        self.aggr = aggr\n",
    "        self.reset_parameters()\n",
    "\n",
    "    def reset_parameters(self):\n",
    "        reset(self.nn)\n",
    "\n",
    "    def forward(self, x, edge_index, edge_attr=None):\n",
    "        \"\"\"\"\"\"\n",
    "        row, col = edge_index\n",
    "        x = x.unsqueeze(-1) if x.dim() == 1 else x\n",
    "\n",
    "        # TODO: Try -x[col] instead of x[col] - x[row]\n",
    "        if edge_attr is None:\n",
    "            out = torch.cat([x[row], x[col]], dim=-1)\n",
    "        else:\n",
    "            out = torch.cat([x[row], x[col], edge_attr], dim=-1)\n",
    "        out = self.nn(out)\n",
    "        x = scatter_(self.aggr, out, row, dim_size=x.size(0))\n",
    "\n",
    "        return x, out\n",
    "\n",
    "    def __repr__(self):\n",
    "        return \"{}(nn={})\".format(self.__class__.__name__, self.nn)"
   ]
  },
  {
   "cell_type": "code",
   "execution_count": 34,
   "metadata": {
    "colab": {},
    "colab_type": "code",
    "id": "VDrlxheizsKg"
   },
   "outputs": [],
   "source": [
    "class EdgeConvBatch(nn.Module):\n",
    "    def __init__(self, gnn, hidden_size, batch_norm=True, dropout=0.2):\n",
    "        super().__init__()\n",
    "\n",
    "        self.gnn = gnn\n",
    "\n",
    "        x_post_modules = []\n",
    "        edge_attr_post_modules = []\n",
    "\n",
    "        if batch_norm is not None:\n",
    "            x_post_modules.append(nn.LayerNorm(hidden_size))\n",
    "            edge_attr_post_modules.append(nn.LayerNorm(hidden_size))\n",
    "\n",
    "        if dropout:\n",
    "            x_post_modules.append(nn.Dropout(dropout))\n",
    "            edge_attr_post_modules.append(nn.Dropout(dropout))\n",
    "\n",
    "        self.x_postprocess = nn.Sequential(*x_post_modules)\n",
    "        self.edge_attr_postprocess = nn.Sequential(*edge_attr_post_modules)\n",
    "\n",
    "    def forward(self, x, edge_index, edge_attr=None):\n",
    "        x, edge_attr = self.gnn(x, edge_index, edge_attr)\n",
    "        x = self.x_postprocess(x)\n",
    "        edge_attr = self.edge_attr_postprocess(edge_attr)\n",
    "        return x, edge_attr"
   ]
  },
  {
   "cell_type": "code",
   "execution_count": 35,
   "metadata": {
    "colab": {},
    "colab_type": "code",
    "id": "tNCaSlrFDGA6"
   },
   "outputs": [],
   "source": [
    "def get_graph_conv_layer(input_size, hidden_size, output_size):\n",
    "    mlp = nn.Sequential(\n",
    "        #\n",
    "        nn.Linear(input_size, hidden_size),\n",
    "        nn.ReLU(),\n",
    "        nn.Linear(hidden_size, output_size),\n",
    "    )\n",
    "    gnn = EdgeConvMod(nn=mlp, aggr=\"add\")\n",
    "    graph_conv = EdgeConvBatch(gnn, output_size, batch_norm=True, dropout=0.2)\n",
    "    return graph_conv"
   ]
  },
  {
   "cell_type": "code",
   "execution_count": 36,
   "metadata": {
    "colab": {},
    "colab_type": "code",
    "id": "tNCaSlrFDGA6"
   },
   "outputs": [],
   "source": [
    "class Net(nn.Module):\n",
    "    def __init__(self, x_input_size, adj_input_size, hidden_size, output_size):\n",
    "        super().__init__()\n",
    "\n",
    "        self.embed_x = nn.Sequential(\n",
    "            nn.Embedding(x_input_size, hidden_size),\n",
    "            nn.ReLU(),\n",
    "            nn.Linear(hidden_size, hidden_size),\n",
    "            nn.LayerNorm(hidden_size),\n",
    "#             nn.ReLU(),\n",
    "        )\n",
    "\n",
    "        if adj_input_size:\n",
    "            self.embed_adj = nn.Sequential(\n",
    "                nn.Linear(adj_input_size, hidden_size),\n",
    "                nn.ReLU(),\n",
    "                nn.Linear(hidden_size, hidden_size),\n",
    "                nn.LayerNorm(hidden_size),\n",
    "#                 nn.ELU(),\n",
    "            )\n",
    "        else:\n",
    "            self.embed_adj = None\n",
    "\n",
    "        self.graph_conv_1 = get_graph_conv_layer((2 + bool(adj_input_size)) * hidden_size, 2 * hidden_size, hidden_size)\n",
    "        self.graph_conv_2 = get_graph_conv_layer(3 * hidden_size, 2 * hidden_size, hidden_size)\n",
    "        self.graph_conv_3 = get_graph_conv_layer(3 * hidden_size, 2 * hidden_size, hidden_size)\n",
    "        self.graph_conv_4 = get_graph_conv_layer(3 * hidden_size, 2 * hidden_size, hidden_size)\n",
    "        self.linear_out = nn.Linear(hidden_size, output_size)\n",
    "\n",
    "    def forward(self, x, edge_index, edge_attr=None):\n",
    "\n",
    "        x = self.embed_x(x)\n",
    "        edge_index, _ = remove_self_loops(edge_index)  # We should remove self loops in this case!\n",
    "        edge_attr = self.embed_adj(edge_attr) if edge_attr is not None else None\n",
    "\n",
    "        x_out, edge_attr_out = self.graph_conv_1(x, edge_index, edge_attr)\n",
    "        x += x_out\n",
    "        edge_attr = (edge_attr + edge_attr_out) if edge_attr is not None else edge_attr_out\n",
    "\n",
    "        x = F.relu(x)\n",
    "        edge_attr = F.relu(edge_attr)\n",
    "        x_out, edge_attr_out = self.graph_conv_2(x, edge_index, edge_attr)\n",
    "        x += x_out\n",
    "        edge_attr += edge_attr_out\n",
    "\n",
    "        x = F.relu(x)\n",
    "        edge_attr = F.relu(edge_attr)\n",
    "        x_out, edge_attr_out = self.graph_conv_3(x, edge_index, edge_attr)\n",
    "        x += x_out\n",
    "        edge_attr += edge_attr_out\n",
    "\n",
    "        x = F.relu(x)\n",
    "        edge_attr = F.relu(edge_attr)\n",
    "        x_out, edge_attr_out = self.graph_conv_4(x, edge_index, edge_attr)\n",
    "        x += x_out\n",
    "        edge_attr += edge_attr_out\n",
    "\n",
    "        x = self.linear_out(x)\n",
    "        return x"
   ]
  },
  {
   "cell_type": "code",
   "execution_count": 37,
   "metadata": {
    "colab": {
     "base_uri": "https://localhost:8080/",
     "height": 6380
    },
    "colab_type": "code",
    "id": "azxPKTSKwcE8",
    "outputId": "09ed9b8b-25b9-49ff-8d02-83a4ec0ecba1"
   },
   "outputs": [],
   "source": [
    "@contextmanager\n",
    "def eval_net(net: nn.Module):\n",
    "    training = net.training\n",
    "    try:\n",
    "        net.train(False)\n",
    "        yield\n",
    "    finally:\n",
    "        net.train(training)\n",
    "\n",
    "\n",
    "def get_stats_on_missing(data, output):\n",
    "    mask = (data.x == num_features).squeeze()\n",
    "    output_missing = output[mask]\n",
    "    _, predicted_missing = torch.max(output_missing.data, 1)\n",
    "    return (predicted_missing == data.y[mask]).sum().item(), len(predicted_missing)\n",
    "\n",
    "\n",
    "def get_data_x(data, frac_present):\n",
    "    x = torch.where(\n",
    "        torch.rand(data.y.size(0), device=data.y.device) < frac_present,\n",
    "        data.y,\n",
    "        torch.ones(1, dtype=torch.long, device=data.y.device) * num_features,\n",
    "    )\n",
    "    return x"
   ]
  },
  {
   "cell_type": "markdown",
   "metadata": {},
   "source": [
    "# Training plots"
   ]
  },
  {
   "cell_type": "code",
   "execution_count": 38,
   "metadata": {},
   "outputs": [],
   "source": [
    "training_logs = {}"
   ]
  },
  {
   "cell_type": "code",
   "execution_count": 40,
   "metadata": {},
   "outputs": [
    {
     "data": {
      "text/html": [
       "<div>\n",
       "<style scoped>\n",
       "    .dataframe tbody tr th:only-of-type {\n",
       "        vertical-align: middle;\n",
       "    }\n",
       "\n",
       "    .dataframe tbody tr th {\n",
       "        vertical-align: top;\n",
       "    }\n",
       "\n",
       "    .dataframe thead th {\n",
       "        text-align: right;\n",
       "    }\n",
       "</style>\n",
       "<table border=\"1\" class=\"dataframe\">\n",
       "  <thead>\n",
       "    <tr style=\"text-align: right;\">\n",
       "      <th></th>\n",
       "      <th>epoch</th>\n",
       "      <th>step</th>\n",
       "      <th>datapoint</th>\n",
       "      <th>avg_loss</th>\n",
       "      <th>accuracy</th>\n",
       "      <th>accuracy_m</th>\n",
       "      <th>accuracy_mv</th>\n",
       "      <th>time_elapsed</th>\n",
       "    </tr>\n",
       "  </thead>\n",
       "  <tbody>\n",
       "    <tr>\n",
       "      <td>0</td>\n",
       "      <td>0</td>\n",
       "      <td>512.0</td>\n",
       "      <td>1024.0</td>\n",
       "      <td>NaN</td>\n",
       "      <td>0.071873</td>\n",
       "      <td>0.071566</td>\n",
       "      <td>0.073593</td>\n",
       "      <td>32.928715</td>\n",
       "    </tr>\n",
       "    <tr>\n",
       "      <td>1</td>\n",
       "      <td>0</td>\n",
       "      <td>1024.0</td>\n",
       "      <td>2048.0</td>\n",
       "      <td>NaN</td>\n",
       "      <td>0.073939</td>\n",
       "      <td>0.074984</td>\n",
       "      <td>0.072040</td>\n",
       "      <td>32.352520</td>\n",
       "    </tr>\n",
       "  </tbody>\n",
       "</table>\n",
       "</div>"
      ],
      "text/plain": [
       "  epoch    step  datapoint  avg_loss  accuracy  accuracy_m  accuracy_mv  \\\n",
       "0     0   512.0     1024.0       NaN  0.071873    0.071566     0.073593   \n",
       "1     0  1024.0     2048.0       NaN  0.073939    0.074984     0.072040   \n",
       "\n",
       "   time_elapsed  \n",
       "0     32.928715  \n",
       "1     32.352520  "
      ]
     },
     "execution_count": 40,
     "metadata": {},
     "output_type": "execute_result"
    }
   ],
   "source": [
    "training_logs[\"protein_4xEdgeConv_bs4\"] = pd.read_csv(\"protein_4xEdgeConv_bs4/training.log\", skiprows=1)\n",
    "training_logs[\"protein_4xEdgeConv_bs4\"].head(2)"
   ]
  },
  {
   "cell_type": "code",
   "execution_count": 41,
   "metadata": {},
   "outputs": [
    {
     "data": {
      "text/plain": [
       "['seaborn',\n",
       " 'bmh',\n",
       " 'dark_background',\n",
       " 'Solarize_Light2',\n",
       " 'fast',\n",
       " 'ggplot',\n",
       " 'seaborn-whitegrid',\n",
       " 'grayscale',\n",
       " 'seaborn-deep',\n",
       " 'seaborn-paper',\n",
       " 'classic',\n",
       " 'seaborn-darkgrid',\n",
       " 'seaborn-white',\n",
       " 'seaborn-dark-palette',\n",
       " 'tableau-colorblind10',\n",
       " 'seaborn-bright',\n",
       " 'seaborn-poster',\n",
       " 'seaborn-ticks',\n",
       " 'fivethirtyeight',\n",
       " 'seaborn-muted',\n",
       " 'seaborn-colorblind',\n",
       " '_classic_test',\n",
       " 'seaborn-pastel',\n",
       " 'seaborn-notebook',\n",
       " 'seaborn-talk',\n",
       " 'seaborn-dark']"
      ]
     },
     "execution_count": 41,
     "metadata": {},
     "output_type": "execute_result"
    }
   ],
   "source": [
    "plt.style.available"
   ]
  },
  {
   "cell_type": "code",
   "execution_count": 29,
   "metadata": {},
   "outputs": [],
   "source": [
    "# plt.style.use('seaborn-notebook')"
   ]
  },
  {
   "cell_type": "code",
   "execution_count": 45,
   "metadata": {},
   "outputs": [],
   "source": [
    "cmap = cm.get_cmap(\"tab10\")"
   ]
  },
  {
   "cell_type": "code",
   "execution_count": 46,
   "metadata": {},
   "outputs": [
    {
     "data": {
      "image/png": "[encoded data removed]",
      "text/plain": [
       "<Figure size 396x288 with 1 Axes>"
      ]
     },
     "metadata": {
      "needs_background": "light"
     },
     "output_type": "display_data"
    }
   ],
   "source": [
    "window = 30\n",
    "df = training_logs[\"protein_4xEdgeConv_bs4\"]\n",
    "\n",
    "# with plt.rc_context(rc={\"font.size\": 12}):\n",
    "fg, ax = plt.subplots(figsize=(5.5, 4))\n",
    "x = df[\"datapoint\"]\n",
    "accuracy_m_mean, accuracy_m_std = df[\"accuracy_m\"].ewm(com=16, min_periods=0).agg(['mean', 'std']).values.T\n",
    "accuracy_mv_mean, accuracy_mv_std = df[\"accuracy_mv\"].ewm(com=16, min_periods=0).agg(['mean', 'std']).values.T\n",
    "ax.plot(x, accuracy_m_mean, label=\"training\", color=cmap(0))\n",
    "ax.fill_between(x, accuracy_m_mean - accuracy_m_std * 2, accuracy_m_mean + accuracy_m_std * 2, alpha=0.25, color=cmap(0))\n",
    "ax.plot(x, accuracy_mv_mean, label=\"validation\", color=cmap(1))\n",
    "ax.fill_between(x, accuracy_mv_mean - accuracy_mv_std * 2, accuracy_mv_mean + accuracy_mv_std * 2, alpha=0.25, color=cmap(1))\n",
    "#     ax.set_ylim(0.05, 0.45)\n",
    "ax.set_xlabel(\"Number of training examples processed\")\n",
    "ax.set_ylabel(\"Reconstruction accuracy\")\n",
    "ax.ticklabel_format(axis=\"x\", style=\"scientific\", scilimits=(0, 0))\n",
    "ax.legend(framealpha=0.3)\n",
    "fg.tight_layout()\n",
    "fg.savefig(NOTEBOOK_PATH.joinpath(\"training_curve.svg\"))\n",
    "fg.savefig(NOTEBOOK_PATH.joinpath(\"training_curve.pdf\"))\n",
    "fg.savefig(NOTEBOOK_PATH.joinpath(\"training_curve.png\"), dpi=300)"
   ]
  },
  {
   "cell_type": "markdown",
   "metadata": {},
   "source": [
    "# Test set sequence identity"
   ]
  },
  {
   "cell_type": "code",
   "execution_count": 47,
   "metadata": {},
   "outputs": [
    {
     "name": "stdout",
     "output_type": "stream",
     "text": [
      "cuda:0\n"
     ]
    }
   ],
   "source": [
    "# Parameters\n",
    "device = torch.device(\"cuda:0\")\n",
    "# device = \"cpu\"\n",
    "batch_size = 4\n",
    "num_features = 20\n",
    "adj_input_size = 2\n",
    "hidden_size = 128\n",
    "frac_present = 0.5\n",
    "frac_present_valid = frac_present\n",
    "info_size= 1024\n",
    "\n",
    "dataloaders = {\n",
    "    \"train_0\": DataLoader(protein_dataset_train_0, shuffle=True, num_workers=4, batch_size=batch_size, drop_last=True),\n",
    "    \"train_1\": DataLoader(protein_dataset_train_1, shuffle=True, num_workers=4, batch_size=batch_size, drop_last=True),\n",
    "    \"train_2\": None,\n",
    "    \"valid\": DataLoader(protein_dataset_valid[:128], shuffle=False, num_workers=4, batch_size=1, drop_last=False),\n",
    "    \"test\": DataLoader(protein_dataset_test, shuffle=False, num_workers=4, batch_size=1, drop_last=False),\n",
    "\n",
    "    \"gfp_train\": DataLoader(protein_dataset_test[:928], shuffle=True, num_workers=4, batch_size=batch_size, drop_last=True),\n",
    "    \"gfp_valid\": DataLoader(protein_dataset_test[928:], shuffle=False, num_workers=4, batch_size=1, drop_last=False),\n",
    "}\n",
    "\n",
    "print(device)"
   ]
  },
  {
   "cell_type": "code",
   "execution_count": 70,
   "metadata": {},
   "outputs": [],
   "source": [
    "net = Net(\n",
    "    x_input_size=num_features + 1, adj_input_size=adj_input_size, hidden_size=hidden_size, output_size=num_features\n",
    ")\n",
    "net.load_state_dict(torch.load(\"protein_4xEdgeConv_bs4/e12-s1652709-d6610836.state\", map_location=device))\n",
    "net.eval()\n",
    "net = net.to(device)"
   ]
  },
  {
   "cell_type": "markdown",
   "metadata": {},
   "source": [
    "### Oneshot"
   ]
  },
  {
   "cell_type": "code",
   "execution_count": 54,
   "metadata": {},
   "outputs": [
    {
     "name": "stdout",
     "output_type": "stream",
     "text": [
      "1000\n"
     ]
    }
   ],
   "source": [
    "results = []\n",
    "for i, data in enumerate(DataLoader(protein_dataset_test, shuffle=False, num_workers=4, batch_size=1, drop_last=False)):\n",
    "    if (i + 1) % 1000 == 0:\n",
    "        print(i + 1)\n",
    "    data = data.to(device)\n",
    "    data.y = data.x\n",
    "    x_in = torch.ones_like(data.y) * 20\n",
    "    is_missing = torch.ones(data.y.size(0), dtype=torch.bool)\n",
    "    output = net(x_in, data.edge_index, data.edge_attr)\n",
    "    output = torch.softmax(output, dim=1)\n",
    "    _, predicted = output.max(dim=1)\n",
    "    num_correct = float((predicted[is_missing] == data.y[is_missing]).sum())\n",
    "    num_total = float(is_missing.sum())\n",
    "    results.append({\"fraction_correct\": num_correct / num_total, \"num_correct\": num_correct, \"num_total\": num_total})\n",
    "oneshot_results_df = pd.DataFrame(results)"
   ]
  },
  {
   "cell_type": "markdown",
   "metadata": {},
   "source": [
    "### Incremental"
   ]
  },
  {
   "cell_type": "code",
   "execution_count": 55,
   "metadata": {},
   "outputs": [],
   "source": [
    "@torch.no_grad()\n",
    "def design_protein(net, x, edge_index, edge_attr):\n",
    "    mask = x == 20\n",
    "    if not mask.any():\n",
    "        return x, entropy\n",
    "    output = net(x, edge_index, edge_attr)\n",
    "    output = torch.softmax(output, dim=1)\n",
    "    max_pred, max_index = output.max(dim=1)\n",
    "    max_pred[~mask] = -1\n",
    "    _, max_residue = max_pred.max(dim=0)\n",
    "    x[max_residue] = max_index[max_residue]\n",
    "    return design_protein(net, x, edge_index, edge_attr)"
   ]
  },
  {
   "cell_type": "code",
   "execution_count": 56,
   "metadata": {},
   "outputs": [],
   "source": [
    "test_sequence_identity = {}"
   ]
  },
  {
   "cell_type": "code",
   "execution_count": 63,
   "metadata": {},
   "outputs": [
    {
     "data": {
      "application/vnd.jupyter.widget-view+json": {
       "model_id": "76603d40340c4220a8d692ccdfb832dc",
       "version_major": 2,
       "version_minor": 0
      },
      "text/plain": [
       "HBox(children=(IntProgress(value=0, max=1420), HTML(value='')))"
      ]
     },
     "metadata": {},
     "output_type": "display_data"
    },
    {
     "name": "stdout",
     "output_type": "stream",
     "text": [
      "\n"
     ]
    }
   ],
   "source": [
    "frac_present = 0.8\n",
    "\n",
    "results = []\n",
    "for i, data in enumerate(tqdm.tqdm_notebook(protein_dataset_test, total=len(protein_dataset_test))):\n",
    "    data.to(device)\n",
    "    if frac_present == 0:\n",
    "        is_present = torch.zeros(data.x.size(0), dtype=torch.bool, device=data.x.device)\n",
    "        x_in = torch.ones_like(data.x) * 20\n",
    "    else:\n",
    "        is_present = torch.rand(data.x.size(0), device=data.x.device) < frac_present\n",
    "        x_in = torch.where(is_present, data.x, torch.tensor(20, device=data.x.device))\n",
    "    x_pred = design_protein(net, x_in, data.edge_index, data.edge_attr)\n",
    "    identity_all = float((x_pred == data.x).sum()) / data.x.size(0)\n",
    "    identity_missing = float((x_pred[~is_present] == data.x[~is_present]).sum()) / (~is_present).sum().item()\n",
    "    result = {\"identity_all\": identity_all, \"identity_missing\": identity_missing}\n",
    "    results.append(result)\n",
    "\n",
    "test_sequence_identity[frac_present] = pd.DataFrame(results)"
   ]
  },
  {
   "cell_type": "code",
   "execution_count": 190,
   "metadata": {},
   "outputs": [
    {
     "data": {
      "image/png": "[encoded data removed]",
      "text/plain": [
       "<Figure size 360x288 with 1 Axes>"
      ]
     },
     "metadata": {
      "needs_background": "light"
     },
     "output_type": "display_data"
    }
   ],
   "source": [
    "xlim = -0.025, 0.625\n",
    "\n",
    "fg, ax = plt.subplots(figsize=(5, 4))\n",
    "for frac, df in sorted(test_sequence_identity.items()):\n",
    "    data = df[\"identity_missing\"]\n",
    "    data = np.clip(data, *xlim)\n",
    "#         ax.hist(data, bins=30, range=xlim, histtype=\"step\", label=f\"{frac:.0%} missing residues\", linewidth=1.5)\n",
    "    sns.kdeplot(data, gridsize=35, label=f\"{frac:.0%} residues present\")\n",
    "ax.set_ylabel(\"Number of sequences (normalized)\")\n",
    "ax.set_xlabel(\"Sequence identity to reference\")\n",
    "ax.set_xlim(*xlim)\n",
    "ax.set_ylim(0, 4.2)\n",
    "ax.legend(loc=\"upper left\", framealpha=0.3)\n",
    "fg.tight_layout()\n",
    "fg.savefig(NOTEBOOK_PATH.joinpath(f\"{UNIQUE_ID}-test-incremental_kde.svg\"))"
   ]
  },
  {
   "cell_type": "code",
   "execution_count": 189,
   "metadata": {},
   "outputs": [
    {
     "data": {
      "image/png": "[encoded data removed]",
      "text/plain": [
       "<Figure size 360x288 with 1 Axes>"
      ]
     },
     "metadata": {
      "needs_background": "light"
     },
     "output_type": "display_data"
    }
   ],
   "source": [
    "results_df = test_sequence_identity[0]\n",
    "\n",
    "fg, ax = plt.subplots(figsize=(5, 4))\n",
    "\n",
    "xlim = -0.025, 0.625\n",
    "\n",
    "data = oneshot_results_df['fraction_correct']\n",
    "data = np.clip(data, *xlim)\n",
    "ax.hist(data, bins=100, range=xlim, alpha=0.9, label=\"oneshot\", histtype='stepfilled', linewidth=2, color=cm.get_cmap(\"Set1\")(1))\n",
    "# sns.kdeplot(data, gridsize=200, label=\"oneshot\")\n",
    "\n",
    "data = results_df['identity_missing']\n",
    "data = np.clip(data, *xlim)\n",
    "ax.hist(data, bins=100, range=xlim, alpha=0.6, label=\"incremental\", histtype='stepfilled', linewidth=2, color=cm.get_cmap(\"Set1\")(0))\n",
    "# sns.kdeplot(data, gridsize=100, label=\"incremental\")\n",
    "\n",
    "ax.set_ylabel(\"Number of sequences\")\n",
    "ax.set_xlabel(\"Sequence identity to reference\")\n",
    "ax.set_xlim(xlim)\n",
    "# ax.set_ylim(0, 165)\n",
    "\n",
    "ax.legend(framealpha=0.5)\n",
    "\n",
    "fg.tight_layout()\n",
    "fg.savefig(NOTEBOOK_PATH.joinpath(f\"{UNIQUE_ID}-test-oneshot-incremental.svg\"))"
   ]
  },
  {
   "cell_type": "markdown",
   "metadata": {},
   "source": [
    "### Protherm validation"
   ]
  },
  {
   "cell_type": "code",
   "execution_count": 71,
   "metadata": {},
   "outputs": [
    {
     "name": "stdout",
     "output_type": "stream",
     "text": [
      "199\n",
      "399\n",
      "599\n",
      "799\n",
      "999\n",
      "1199\n",
      "1399\n",
      "1599\n",
      "1799\n",
      "1999\n",
      "2199\n",
      "2399\n",
      "2599\n",
      "2799\n",
      "2999\n",
      "3199\n",
      "3399\n"
     ]
    }
   ],
   "source": [
    "results = []\n",
    "\n",
    "with torch.no_grad():\n",
    "    for i, data in enumerate(protherm_dataset):\n",
    "        if (i + 1) % 200 == 0:\n",
    "            print(i)\n",
    "        data = data.to(device)\n",
    "\n",
    "        row = protherm_df.loc[data.Index.item()]\n",
    "        output = net(data.x, data.edge_index, data.edge_attr)\n",
    "        output_sm = torch.softmax(output, dim=1)\n",
    "\n",
    "        wt_idx = torch.tensor(proteinsolver.utils.seq_to_tensor(row.mutation[0].encode()), dtype=torch.long, device=device)\n",
    "        mut_idx = torch.tensor(proteinsolver.utils.seq_to_tensor(row.mutation[-1].encode()), dtype=torch.long, device=device)\n",
    "        pos = int(row.mutation[1:-1])\n",
    "        x_mut = data.x.clone()\n",
    "        assert x_mut[pos - 1] == wt_idx\n",
    "        x_mut[pos - 1] = mut_idx\n",
    "        output_mut = net(x_mut, data.edge_index, data.edge_attr)\n",
    "        output_mut_sm = torch.softmax(output_mut, dim=1)\n",
    "\n",
    "        x_blank = data.x.clone()\n",
    "        assert x_blank[pos - 1] == wt_idx\n",
    "        x_blank[pos - 1] = 20\n",
    "        output_blank = net(x_blank, data.edge_index, data.edge_attr)\n",
    "        output_blank_sm = torch.softmax(output_blank, dim=1)\n",
    "\n",
    "        result = {\n",
    "            'wt_wt': output[pos - 1, wt_idx].item(),\n",
    "            'wt_mut': output[pos - 1, mut_idx].item(),\n",
    "            'wt_sm_wt': output_sm[pos - 1, wt_idx].item(),\n",
    "            'wt_sm_mut': output_sm[pos - 1, mut_idx].item(),\n",
    "\n",
    "            'mut_wt': output_mut[pos - 1, wt_idx].item(),\n",
    "            'mut_mut': output_mut[pos - 1, mut_idx].item(),\n",
    "            'mut_sm_wt': output_mut_sm[pos - 1, wt_idx].item(),\n",
    "            'mut_sm_mut': output_mut_sm[pos - 1, mut_idx].item(),\n",
    "\n",
    "            'blank_wt': output_blank[pos - 1, wt_idx].item(),\n",
    "            'blank_mut': output_blank[pos - 1, mut_idx].item(),\n",
    "            'blank_sm_wt': output_blank_sm[pos - 1, wt_idx].item(),\n",
    "            'blank_sm_mut': output_blank_sm[pos - 1, mut_idx].item(),\n",
    "\n",
    "            'ddg_exp': row.ddg_exp,\n",
    "        }\n",
    "        results.append(result)\n",
    "\n",
    "results_df = pd.DataFrame(results)"
   ]
  },
  {
   "cell_type": "code",
   "execution_count": 72,
   "metadata": {},
   "outputs": [],
   "source": [
    "results_df[\"blank_change\"] = results_df[\"blank_mut\"] - results_df[\"blank_wt\"]\n",
    "results_df[\"blank_sm_change\"] = results_df[\"blank_sm_mut\"] - results_df[\"blank_sm_wt\"]\n",
    "\n",
    "results_df[\"wt_mut_change\"] = results_df[\"mut_mut\"] - results_df[\"wt_wt\"]\n",
    "results_df[\"wt_mut_sm_change\"] = results_df[\"mut_sm_mut\"] - results_df[\"wt_sm_wt\"]"
   ]
  },
  {
   "cell_type": "code",
   "execution_count": 188,
   "metadata": {},
   "outputs": [
    {
     "data": {
      "image/png": "[encoded data removed]",
      "text/plain": [
       "<Figure size 432x324 with 1 Axes>"
      ]
     },
     "metadata": {
      "needs_background": "light"
     },
     "output_type": "display_data"
    }
   ],
   "source": [
    "column = \"blank_change\"\n",
    "ddg_change = results_df[column].values\n",
    "ddg_exp = results_df[\"ddg_exp\"].values\n",
    "textstr = \"\"\"\\\n",
    "Pearson R: {:.3f} (p={:.0e})\n",
    "Spearman R: {:.3f} (p={:.0e})\n",
    "\"\"\".format(\n",
    "    *stats.pearsonr(-ddg_change, ddg_exp), *stats.spearmanr(-ddg_change, ddg_exp)\n",
    ").strip()\n",
    "props = dict(facecolor=\"white\", alpha=0.3)\n",
    "\n",
    "with plt.rc_context(rc={\"font.size\": 12}):\n",
    "    fg, ax = plt.subplots(figsize=(6, 4.5))\n",
    "    ax.plot(-ddg_change, ddg_exp, \"r.\", alpha=0.5)\n",
    "    ax.set_xlabel(\"Difference in network outputs\")\n",
    "    ax.set_ylabel(\"ΔΔG (kcal / mol)\")\n",
    "    ax.set_xlim(-8, 16)\n",
    "    ax.set_ylim(-8, 16)\n",
    "    ax.text(0.04, 0.95, textstr, transform=ax.transAxes, fontsize=\"medium\", verticalalignment=\"top\", bbox=props)\n",
    "fg.tight_layout()\n",
    "fg.savefig(NOTEBOOK_PATH.joinpath(f\"{UNIQUE_ID}-protherm-all.svg\"))"
   ]
  },
  {
   "cell_type": "markdown",
   "metadata": {},
   "source": [
    "### Perplexities"
   ]
  },
  {
   "cell_type": "code",
   "execution_count": 158,
   "metadata": {},
   "outputs": [],
   "source": [
    "def calculate_perplexity(net, x, edge_index, edge_attr, x_in=None):\n",
    "    if x_in is None:\n",
    "        x_in = torch.ones_like(x) * 20\n",
    "\n",
    "    mask = x_in == 20\n",
    "\n",
    "    if not mask.any().item():\n",
    "        return []\n",
    "\n",
    "    output = net(x_in, edge_index, edge_attr)\n",
    "    output = torch.softmax(output, dim=1)\n",
    "\n",
    "    probas = output.gather(1, x.view(-1, 1))\n",
    "    probas[~mask] = -1\n",
    "\n",
    "    max_proba, max_residue = probas.max(dim=0)\n",
    "    x_in[max_residue] = x[max_residue]\n",
    "\n",
    "    return [max_proba.item()] + calculate_perplexity(net, x, edge_index, edge_attr, x_in=x_in)"
   ]
  },
  {
   "cell_type": "code",
   "execution_count": 164,
   "metadata": {},
   "outputs": [
    {
     "data": {
      "application/vnd.jupyter.widget-view+json": {
       "model_id": "",
       "version_major": 2,
       "version_minor": 0
      },
      "text/plain": [
       "HBox(children=(IntProgress(value=0, max=1420), HTML(value='')))"
      ]
     },
     "metadata": {},
     "output_type": "display_data"
    },
    {
     "name": "stdout",
     "output_type": "stream",
     "text": [
      "\n"
     ]
    }
   ],
   "source": [
    "proba_lists = []\n",
    "for i, data in enumerate(tqdm.tqdm_notebook(protein_dataset_test, total=len(protein_dataset_test))):\n",
    "    data = data.to(device)\n",
    "    with torch.no_grad():\n",
    "        proba_lst = calculate_perplexity(net, data.x, data.edge_index, data.edge_attr)\n",
    "    assert len(proba_lst) == data.x.size(0)\n",
    "    proba_lists.append(proba_lst)"
   ]
  },
  {
   "cell_type": "code",
   "execution_count": 179,
   "metadata": {},
   "outputs": [
    {
     "name": "stdout",
     "output_type": "stream",
     "text": [
      "9.980654072504002\n"
     ]
    }
   ],
   "source": [
    "perplexities = [2 ** -(np.log2(proba_lst).mean()) for proba_lst in proba_lists]\n",
    "print(np.mean(perplexities))"
   ]
  },
  {
   "cell_type": "code",
   "execution_count": 186,
   "metadata": {},
   "outputs": [
    {
     "data": {
      "image/png": "[encoded data removed]",
      "text/plain": [
       "<Figure size 360x288 with 1 Axes>"
      ]
     },
     "metadata": {
      "needs_background": "light"
     },
     "output_type": "display_data"
    }
   ],
   "source": [
    "fg, ax = plt.subplots(figsize=(5, 4))\n",
    "ax.hist(np.clip(perplexities, 3, 22), bins=30, range=(3, 22))\n",
    "ax.set_xlabel(\"Perplexity score\")\n",
    "ax.set_ylabel(\"Number of sequences\")\n",
    "fg.savefig(NOTEBOOK_PATH.joinpath(f\"{UNIQUE_ID}-perplexity.svg\"))"
   ]
  },
  {
   "cell_type": "code",
   "execution_count": null,
   "metadata": {},
   "outputs": [],
   "source": [
    "raise Exception(\"Done!\")"
   ]
  },
  {
   "cell_type": "code",
   "execution_count": null,
   "metadata": {},
   "outputs": [],
   "source": []
  },
  {
   "cell_type": "code",
   "execution_count": 49,
   "metadata": {},
   "outputs": [
    {
     "name": "stdout",
     "output_type": "stream",
     "text": [
      "199\n",
      "399\n",
      "599\n",
      "799\n",
      "999\n",
      "1199\n",
      "1399\n",
      "1599\n",
      "1799\n",
      "1999\n",
      "2199\n",
      "2399\n",
      "2599\n",
      "2799\n",
      "2999\n",
      "3199\n",
      "3399\n"
     ]
    }
   ],
   "source": [
    "results = []\n",
    "\n",
    "for i, data in enumerate(protherm_dataset):\n",
    "    if (i + 1) % 200 == 0:\n",
    "        print(i)\n",
    "    row = protherm_df.loc[data.Index.item()]\n",
    "    data = data.to(device)\n",
    "\n",
    "    with torch.no_grad():\n",
    "        log_prob_wt = proteinsolver.utils.get_node_proba(net, data.x, data.edge_index, data.edge_attr, 20)\n",
    "\n",
    "    wt_idx = torch.tensor(proteinsolver.utils.seq_to_tensor(row.mutation[0].encode()), dtype=torch.long, device=device)\n",
    "    mut_idx = torch.tensor(proteinsolver.utils.seq_to_tensor(row.mutation[-1].encode()), dtype=torch.long, device=device)\n",
    "    pos = int(row.mutation[1:-1])\n",
    "    x_mut = data.x.clone()\n",
    "    assert x_mut[pos - 1] == wt_idx\n",
    "    x_mut[pos - 1] = mut_idx\n",
    "    with torch.no_grad():\n",
    "        log_prob_mut = proteinsolver.utils.get_node_proba(net, x_mut, data.edge_index, data.edge_attr, 20)\n",
    "        \n",
    "    results.append(log_prob_mut.sum().item() - log_prob_wt.sum().item())\n",
    "        \n",
    "results_df[\"sum_log_prob_change\"] = results"
   ]
  },
  {
   "cell_type": "code",
   "execution_count": 50,
   "metadata": {},
   "outputs": [
    {
     "data": {
      "image/png": "[encoded data removed]",
      "text/plain": [
       "<Figure size 432x324 with 1 Axes>"
      ]
     },
     "metadata": {
      "needs_background": "light"
     },
     "output_type": "display_data"
    }
   ],
   "source": [
    "column = \"sum_log_prob_change\"\n",
    "ddg_change = results_df[column].values\n",
    "ddg_exp = results_df[\"ddg_exp\"].values\n",
    "textstr = \"\"\"\\\n",
    "Pearson R: {:.3f} (p={:.0e})\n",
    "Spearman R: {:.3f} (p={:.0e})\n",
    "\"\"\".format(\n",
    "    *stats.pearsonr(-ddg_change, ddg_exp), *stats.spearmanr(-ddg_change, ddg_exp)\n",
    ").strip()\n",
    "props = dict(facecolor=\"white\", alpha=0.3)\n",
    "\n",
    "with plt.rc_context(rc={\"font.size\": 12}):\n",
    "    fg, ax = plt.subplots(figsize=(6, 4.5))\n",
    "    ax.plot(-ddg_change, ddg_exp, \"r.\", alpha=0.5)\n",
    "    ax.set_xlabel(\"Difference in network outputs\")\n",
    "    ax.set_ylabel(\"ΔΔG (kcal / mol)\")\n",
    "    ax.set_xlim(-8, 16)\n",
    "    ax.set_ylim(-8, 16)\n",
    "    ax.text(0.04, 0.95, textstr, transform=ax.transAxes, fontsize=\"medium\", verticalalignment=\"top\", bbox=props)\n",
    "fg.tight_layout()\n",
    "# fg.savefig(NOTEBOOK_PATH.joinpath(\"protherm_all.svg\"))\n",
    "# fg.savefig(NOTEBOOK_PATH.joinpath(\"protherm_all.pdf\"))\n",
    "# fg.savefig(NOTEBOOK_PATH.joinpath(\"protherm_all.png\"), dpi=300)"
   ]
  },
  {
   "cell_type": "code",
   "execution_count": 51,
   "metadata": {},
   "outputs": [],
   "source": [
    "import pyarrow as pa\n",
    "import pyarrow.parquet as pq"
   ]
  },
  {
   "cell_type": "code",
   "execution_count": 52,
   "metadata": {},
   "outputs": [],
   "source": [
    "# table = pa.Table.from_pandas(results_df)\n",
    "# pq.write_table(table, NOTEBOOK_PATH.joinpath(\"results.parquet\"))"
   ]
  },
  {
   "cell_type": "code",
   "execution_count": null,
   "metadata": {},
   "outputs": [],
   "source": []
  }
 ],
 "metadata": {
  "accelerator": "GPU",
  "colab": {
   "collapsed_sections": [
    "1fXJz1l9HvhW",
    "u9q4iTifHvhl"
   ],
   "name": "Copy of 2019-03-30-sudoku-4xEdgeConv-09862+.ipynb",
   "provenance": [],
   "toc_visible": true,
   "version": "0.3.2"
  },
  "kernelspec": {
   "display_name": "Python [conda env:defaults-v1]",
   "language": "python",
   "name": "conda-env-defaults-v1-py"
  },
  "language_info": {
   "codemirror_mode": {
    "name": "ipython",
    "version": 3
   },
   "file_extension": ".py",
   "mimetype": "text/x-python",
   "name": "python",
   "nbconvert_exporter": "python",
   "pygments_lexer": "ipython3",
   "version": "3.7.0"
  }
 },
 "nbformat": 4,
 "nbformat_minor": 4
}
